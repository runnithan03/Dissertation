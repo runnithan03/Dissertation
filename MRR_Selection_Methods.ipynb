{
  "cells": [
    {
      "cell_type": "markdown",
      "metadata": {
        "id": "view-in-github",
        "colab_type": "text"
      },
      "source": [
        "<a href=\"https://colab.research.google.com/github/runnithan03/Dissertation/blob/main/MRR_Selection_Methods.ipynb\" target=\"_parent\"><img src=\"https://colab.research.google.com/assets/colab-badge.svg\" alt=\"Open In Colab\"/></a>"
      ]
    },
    {
      "cell_type": "code",
      "execution_count": null,
      "metadata": {
        "colab": {
          "base_uri": "https://localhost:8080/",
          "height": 72
        },
        "id": "3AqOHpYceWcK",
        "outputId": "a3f7e2b6-8d07-42bc-805b-5284bba57a7c"
      },
      "outputs": [
        {
          "output_type": "display_data",
          "data": {
            "text/plain": [
              "<IPython.core.display.HTML object>"
            ],
            "text/html": [
              "\n",
              "     <input type=\"file\" id=\"files-76f5b056-90f3-48e1-a168-e7b74f23c33c\" name=\"files[]\" multiple disabled\n",
              "        style=\"border:none\" />\n",
              "     <output id=\"result-76f5b056-90f3-48e1-a168-e7b74f23c33c\">\n",
              "      Upload widget is only available when the cell has been executed in the\n",
              "      current browser session. Please rerun this cell to enable.\n",
              "      </output>\n",
              "      <script>// Copyright 2017 Google LLC\n",
              "//\n",
              "// Licensed under the Apache License, Version 2.0 (the \"License\");\n",
              "// you may not use this file except in compliance with the License.\n",
              "// You may obtain a copy of the License at\n",
              "//\n",
              "//      http://www.apache.org/licenses/LICENSE-2.0\n",
              "//\n",
              "// Unless required by applicable law or agreed to in writing, software\n",
              "// distributed under the License is distributed on an \"AS IS\" BASIS,\n",
              "// WITHOUT WARRANTIES OR CONDITIONS OF ANY KIND, either express or implied.\n",
              "// See the License for the specific language governing permissions and\n",
              "// limitations under the License.\n",
              "\n",
              "/**\n",
              " * @fileoverview Helpers for google.colab Python module.\n",
              " */\n",
              "(function(scope) {\n",
              "function span(text, styleAttributes = {}) {\n",
              "  const element = document.createElement('span');\n",
              "  element.textContent = text;\n",
              "  for (const key of Object.keys(styleAttributes)) {\n",
              "    element.style[key] = styleAttributes[key];\n",
              "  }\n",
              "  return element;\n",
              "}\n",
              "\n",
              "// Max number of bytes which will be uploaded at a time.\n",
              "const MAX_PAYLOAD_SIZE = 100 * 1024;\n",
              "\n",
              "function _uploadFiles(inputId, outputId) {\n",
              "  const steps = uploadFilesStep(inputId, outputId);\n",
              "  const outputElement = document.getElementById(outputId);\n",
              "  // Cache steps on the outputElement to make it available for the next call\n",
              "  // to uploadFilesContinue from Python.\n",
              "  outputElement.steps = steps;\n",
              "\n",
              "  return _uploadFilesContinue(outputId);\n",
              "}\n",
              "\n",
              "// This is roughly an async generator (not supported in the browser yet),\n",
              "// where there are multiple asynchronous steps and the Python side is going\n",
              "// to poll for completion of each step.\n",
              "// This uses a Promise to block the python side on completion of each step,\n",
              "// then passes the result of the previous step as the input to the next step.\n",
              "function _uploadFilesContinue(outputId) {\n",
              "  const outputElement = document.getElementById(outputId);\n",
              "  const steps = outputElement.steps;\n",
              "\n",
              "  const next = steps.next(outputElement.lastPromiseValue);\n",
              "  return Promise.resolve(next.value.promise).then((value) => {\n",
              "    // Cache the last promise value to make it available to the next\n",
              "    // step of the generator.\n",
              "    outputElement.lastPromiseValue = value;\n",
              "    return next.value.response;\n",
              "  });\n",
              "}\n",
              "\n",
              "/**\n",
              " * Generator function which is called between each async step of the upload\n",
              " * process.\n",
              " * @param {string} inputId Element ID of the input file picker element.\n",
              " * @param {string} outputId Element ID of the output display.\n",
              " * @return {!Iterable<!Object>} Iterable of next steps.\n",
              " */\n",
              "function* uploadFilesStep(inputId, outputId) {\n",
              "  const inputElement = document.getElementById(inputId);\n",
              "  inputElement.disabled = false;\n",
              "\n",
              "  const outputElement = document.getElementById(outputId);\n",
              "  outputElement.innerHTML = '';\n",
              "\n",
              "  const pickedPromise = new Promise((resolve) => {\n",
              "    inputElement.addEventListener('change', (e) => {\n",
              "      resolve(e.target.files);\n",
              "    });\n",
              "  });\n",
              "\n",
              "  const cancel = document.createElement('button');\n",
              "  inputElement.parentElement.appendChild(cancel);\n",
              "  cancel.textContent = 'Cancel upload';\n",
              "  const cancelPromise = new Promise((resolve) => {\n",
              "    cancel.onclick = () => {\n",
              "      resolve(null);\n",
              "    };\n",
              "  });\n",
              "\n",
              "  // Wait for the user to pick the files.\n",
              "  const files = yield {\n",
              "    promise: Promise.race([pickedPromise, cancelPromise]),\n",
              "    response: {\n",
              "      action: 'starting',\n",
              "    }\n",
              "  };\n",
              "\n",
              "  cancel.remove();\n",
              "\n",
              "  // Disable the input element since further picks are not allowed.\n",
              "  inputElement.disabled = true;\n",
              "\n",
              "  if (!files) {\n",
              "    return {\n",
              "      response: {\n",
              "        action: 'complete',\n",
              "      }\n",
              "    };\n",
              "  }\n",
              "\n",
              "  for (const file of files) {\n",
              "    const li = document.createElement('li');\n",
              "    li.append(span(file.name, {fontWeight: 'bold'}));\n",
              "    li.append(span(\n",
              "        `(${file.type || 'n/a'}) - ${file.size} bytes, ` +\n",
              "        `last modified: ${\n",
              "            file.lastModifiedDate ? file.lastModifiedDate.toLocaleDateString() :\n",
              "                                    'n/a'} - `));\n",
              "    const percent = span('0% done');\n",
              "    li.appendChild(percent);\n",
              "\n",
              "    outputElement.appendChild(li);\n",
              "\n",
              "    const fileDataPromise = new Promise((resolve) => {\n",
              "      const reader = new FileReader();\n",
              "      reader.onload = (e) => {\n",
              "        resolve(e.target.result);\n",
              "      };\n",
              "      reader.readAsArrayBuffer(file);\n",
              "    });\n",
              "    // Wait for the data to be ready.\n",
              "    let fileData = yield {\n",
              "      promise: fileDataPromise,\n",
              "      response: {\n",
              "        action: 'continue',\n",
              "      }\n",
              "    };\n",
              "\n",
              "    // Use a chunked sending to avoid message size limits. See b/62115660.\n",
              "    let position = 0;\n",
              "    do {\n",
              "      const length = Math.min(fileData.byteLength - position, MAX_PAYLOAD_SIZE);\n",
              "      const chunk = new Uint8Array(fileData, position, length);\n",
              "      position += length;\n",
              "\n",
              "      const base64 = btoa(String.fromCharCode.apply(null, chunk));\n",
              "      yield {\n",
              "        response: {\n",
              "          action: 'append',\n",
              "          file: file.name,\n",
              "          data: base64,\n",
              "        },\n",
              "      };\n",
              "\n",
              "      let percentDone = fileData.byteLength === 0 ?\n",
              "          100 :\n",
              "          Math.round((position / fileData.byteLength) * 100);\n",
              "      percent.textContent = `${percentDone}% done`;\n",
              "\n",
              "    } while (position < fileData.byteLength);\n",
              "  }\n",
              "\n",
              "  // All done.\n",
              "  yield {\n",
              "    response: {\n",
              "      action: 'complete',\n",
              "    }\n",
              "  };\n",
              "}\n",
              "\n",
              "scope.google = scope.google || {};\n",
              "scope.google.colab = scope.google.colab || {};\n",
              "scope.google.colab._files = {\n",
              "  _uploadFiles,\n",
              "  _uploadFilesContinue,\n",
              "};\n",
              "})(self);\n",
              "</script> "
            ]
          },
          "metadata": {}
        },
        {
          "output_type": "stream",
          "name": "stdout",
          "text": [
            "Saving clean.csv to clean.csv\n"
          ]
        }
      ],
      "source": [
        "from google.colab import files\n",
        "import os\n",
        "\n",
        "uploaded = files.upload()\n",
        "\n",
        "uploaded_filename = list(uploaded.keys())[0]\n",
        "os.rename(uploaded_filename, 'clean.csv')"
      ]
    },
    {
      "cell_type": "code",
      "execution_count": null,
      "metadata": {
        "id": "WtK0cZh2ehyU"
      },
      "outputs": [],
      "source": [
        "%reload_ext rpy2.ipython"
      ]
    },
    {
      "cell_type": "code",
      "execution_count": null,
      "metadata": {
        "colab": {
          "base_uri": "https://localhost:8080/"
        },
        "id": "XFOSm6cTekvW",
        "outputId": "19c7e5e1-3297-4bf5-854c-c8dd860e4306"
      },
      "outputs": [
        {
          "output_type": "stream",
          "name": "stdout",
          "text": [
            "[1] 1389   14\n"
          ]
        }
      ],
      "source": [
        "%%R\n",
        "\n",
        "data <- read.csv('clean.csv')\n",
        "\n",
        "# Frequency encode the categorical variables\n",
        "rating_counts <- table(data$rating)\n",
        "data$rating_encoded <- as.numeric(rating_counts[data$rating])\n",
        "\n",
        "risk_rating_counts <- table(data$risk_rating)\n",
        "data$risk_rating_encoded <- as.numeric(risk_rating_counts[data$risk_rating])\n",
        "\n",
        "equity_category_counts <- table(data$equity_category)\n",
        "data$equity_category_encoded <- as.numeric(equity_category_counts[data$equity_category])\n",
        "\n",
        "data <- data[, setdiff(names(data), c(\"rating\", \"risk_rating\", \"equity_category\"))]\n",
        "dim(data)"
      ]
    },
    {
      "cell_type": "code",
      "execution_count": null,
      "metadata": {
        "colab": {
          "base_uri": "https://localhost:8080/"
        },
        "id": "gbpenjGYfE13",
        "outputId": "20851453-7a51-4441-ced6-71761cf5bc0c"
      },
      "outputs": [
        {
          "output_type": "stream",
          "name": "stdout",
          "text": [
            "[1] 0.7751806\n"
          ]
        }
      ],
      "source": [
        "%%R\n",
        "\n",
        "# function to evaluate model fit\n",
        "calculate_nrmse <- function(model, data) {\n",
        "  residuals_matrix <- residuals(model)\n",
        "\n",
        "  if (is.null(residuals_matrix) || ncol(as.matrix(residuals_matrix)) == 0) {\n",
        "    stop(\"Residuals matrix is NULL or has zero dimensions.\")\n",
        "  }\n",
        "\n",
        "  # calculate RMSE for each response\n",
        "  rmse_per_response <- apply(as.matrix(residuals_matrix), 2, function(residuals) {\n",
        "    sqrt(mean(residuals^2))\n",
        "  })\n",
        "\n",
        "  # Normalise RMSE by the standard deviation of each response variable\n",
        "  response_vars <- c(\"roe\", \"sustainability_score\")\n",
        "  std_devs <- apply(data[, response_vars], 2, function(column) {\n",
        "    sd(column, na.rm = TRUE)\n",
        "  })\n",
        "\n",
        "  nrmse <- sum(rmse_per_response / std_devs) / length(std_devs)  # average across responses\n",
        "  return(nrmse)\n",
        "}\n",
        "multi_model <- lm(cbind(roe, sustainability_score)~., data = data)\n",
        "print(calculate_nrmse(multi_model, data))"
      ]
    },
    {
      "cell_type": "markdown",
      "metadata": {
        "id": "WOsOxBFTPZDd"
      },
      "source": [
        "Add Predictors"
      ]
    },
    {
      "cell_type": "code",
      "execution_count": null,
      "metadata": {
        "id": "qyecoZuCPar_"
      },
      "outputs": [],
      "source": [
        "%%R\n",
        "add_predictors <- function(data, response_vars, selected_predictors, remaining_predictors) {\n",
        "  metrics <- c()\n",
        "  candidate_models <- list()\n",
        "\n",
        "  for (predictor in remaining_predictors) {\n",
        "    formula <- as.formula(\n",
        "      paste0(\"cbind(\", paste(response_vars, collapse = \", \"), \") ~ \",\n",
        "             paste(c(selected_predictors, predictor), collapse = \" + \"))\n",
        "    )\n",
        "    tryCatch({\n",
        "      model <- lm(formula, data = data)\n",
        "      metric <- calculate_nrmse(model, data)\n",
        "      metrics <- c(metrics, metric)\n",
        "      candidate_models[[predictor]] <- model\n",
        "    }, error = function(e) {\n",
        "      metrics <- c(metrics, NA)\n",
        "      candidate_models[[predictor]] <- NULL\n",
        "    })\n",
        "  }\n",
        "\n",
        "  return(list(metrics = metrics, candidate_models = candidate_models))\n",
        "}"
      ]
    },
    {
      "cell_type": "markdown",
      "metadata": {
        "id": "szj8G2wUPcFv"
      },
      "source": [
        "Remove Predictors"
      ]
    },
    {
      "cell_type": "code",
      "execution_count": null,
      "metadata": {
        "id": "R6bpTp33Pdqi"
      },
      "outputs": [],
      "source": [
        "%%R\n",
        "remove_predictors <- function(data, response_vars, selected_predictors) {\n",
        "  metrics <- c()\n",
        "  candidate_models <- list()\n",
        "\n",
        "  for (predictor in selected_predictors) {\n",
        "    remaining_predictors <- setdiff(selected_predictors, predictor)\n",
        "\n",
        "    if (length(remaining_predictors) > 0) {\n",
        "      formula <- as.formula(\n",
        "        paste0(\"cbind(\", paste(response_vars, collapse = \", \"), \") ~ \",\n",
        "               paste(remaining_predictors, collapse = \" + \"))\n",
        "      )\n",
        "      tryCatch({\n",
        "        model <- lm(formula, data = data)\n",
        "        metric <- calculate_nrmse(model, data)\n",
        "        metrics <- c(metrics, metric)\n",
        "        candidate_models[[predictor]] <- model\n",
        "      }, error = function(e) {\n",
        "        metrics <- c(metrics, NA)\n",
        "        candidate_models[[predictor]] <- NULL\n",
        "      })\n",
        "    }\n",
        "  }\n",
        "\n",
        "  return(list(metrics = metrics, candidate_models = candidate_models))\n",
        "}\n"
      ]
    },
    {
      "cell_type": "markdown",
      "metadata": {
        "id": "vCK_BA0TPsLX"
      },
      "source": [
        "Multi-variate Stepwise Selection"
      ]
    },
    {
      "cell_type": "code",
      "execution_count": null,
      "metadata": {
        "id": "zZx4lbxKPt2z"
      },
      "outputs": [],
      "source": [
        "%%R\n",
        "\n",
        "stepwise_multivariate <- function(data, method = \"stepwise\") {\n",
        "  response_vars <- c(\"roe\", \"sustainability_score\")\n",
        "  predictors <- setdiff(names(data), response_vars)\n",
        "  selected_predictors <- if (method == \"forward\") c() else predictors\n",
        "  remaining_predictors <- if (method == \"forward\") predictors else c()\n",
        "  best_model <- NULL\n",
        "  best_metric <- Inf  # Initialize best nRMSE (lower is better)\n",
        "\n",
        "  repeat {\n",
        "    metrics <- c()\n",
        "    candidate_models <- list()\n",
        "\n",
        "    # Forward Step: add predictors\n",
        "    if (method == \"forward\" || method == \"stepwise\") {\n",
        "      forward_results <- add_predictors(data, response_vars, selected_predictors, remaining_predictors)\n",
        "      metrics <- c(metrics, forward_results$metrics)\n",
        "      candidate_models <- c(candidate_models, forward_results$candidate_models)\n",
        "    }\n",
        "\n",
        "    # Backward Step: remove predictors\n",
        "    if (method == \"backward\" || method == \"stepwise\") {\n",
        "      backward_results <- remove_predictors(data, response_vars, selected_predictors)\n",
        "      metrics <- c(metrics, backward_results$metrics)\n",
        "      candidate_models <- c(candidate_models, backward_results$candidate_models)\n",
        "    }\n",
        "\n",
        "    # For cases where no valid models are generated\n",
        "    if (length(metrics) == 0 || all(is.na(metrics))) {\n",
        "      cat(\"No valid predictors to add or remove. Stopping selection.\\n\")\n",
        "      break\n",
        "    }\n",
        "\n",
        "    # Select the best candidate model\n",
        "    valid_metrics <- which(!is.na(metrics) & is.finite(metrics))\n",
        "    if (length(valid_metrics) == 0) {\n",
        "      cat(\"No valid models due to NA or Inf values. Stopping selection.\\n\")\n",
        "      break\n",
        "    }\n",
        "\n",
        "    best_candidate_index <- valid_metrics[which.min(metrics[valid_metrics])]\n",
        "    best_candidate_metric <- metrics[best_candidate_index]\n",
        "    best_candidate_predictor <- names(candidate_models)[best_candidate_index]\n",
        "    best_candidate_model <- candidate_models[[best_candidate_predictor]]\n",
        "\n",
        "    # Stop if no improvement\n",
        "    if (best_candidate_metric >= best_metric) {\n",
        "      cat(\"No improvement. Stopping selection.\\n\")\n",
        "      break\n",
        "    }\n",
        "\n",
        "    # Update the best model and metric\n",
        "    best_model <- best_candidate_model\n",
        "    best_metric <- best_candidate_metric\n",
        "\n",
        "    # Update selected/remaining predictors\n",
        "    if (method == \"forward\" || (method == \"stepwise\" && best_candidate_predictor %in% remaining_predictors)) {\n",
        "      selected_predictors <- c(selected_predictors, best_candidate_predictor)\n",
        "      remaining_predictors <- setdiff(remaining_predictors, best_candidate_predictor)\n",
        "    } else if (method == \"backward\" || (method == \"stepwise\" && best_candidate_predictor %in% selected_predictors)) {\n",
        "      selected_predictors <- setdiff(selected_predictors, best_candidate_predictor)\n",
        "      remaining_predictors <- c(remaining_predictors, best_candidate_predictor)\n",
        "    }\n",
        "\n",
        "    # Output for testing:\n",
        "    cat(\"Selected Predictors:\", paste(selected_predictors, collapse = \", \"), \"\\n\")\n",
        "    cat(\"Current nRMSE:\", best_metric, \"\\n\")\n",
        "  }\n",
        "\n",
        "  return(list(model = best_model, metric = best_metric, predictors = selected_predictors))\n",
        "}\n"
      ]
    },
    {
      "cell_type": "code",
      "execution_count": null,
      "metadata": {
        "colab": {
          "base_uri": "https://localhost:8080/"
        },
        "id": "1OBZY_fXP0z7",
        "outputId": "2c6a6eac-dcb6-4040-b858-2ad4ab63540e"
      },
      "outputs": [
        {
          "output_type": "stream",
          "name": "stdout",
          "text": [
            "Selected Predictors: equity_size_score, price_cash_flow_ratio, dividend_yield_factor, historical_earnings_growth, sales_growth, asset_cash, holdings_n_stock, ongoing_cost, fund_size, rating_encoded, equity_category_encoded \n",
            "Current nRMSE: 0.775553 \n",
            "No improvement. Stopping selection.\n",
            "[1] 0.775553\n"
          ]
        }
      ],
      "source": [
        "%%R\n",
        "backward_result <- stepwise_multivariate(data, method = \"backward\")\n",
        "nrmse_values <- calculate_nrmse(backward_result$model, data)\n",
        "print(nrmse_values)"
      ]
    },
    {
      "cell_type": "code",
      "execution_count": null,
      "metadata": {
        "colab": {
          "base_uri": "https://localhost:8080/"
        },
        "id": "nSoKX1tZP4xl",
        "outputId": "801430a9-652f-4769-b38e-cf54f5f5ff7b"
      },
      "outputs": [
        {
          "output_type": "stream",
          "name": "stdout",
          "text": [
            "Selected Predictors: price_cash_flow_ratio \n",
            "Current nRMSE: 0.9165175 \n",
            "Selected Predictors: price_cash_flow_ratio, ongoing_cost \n",
            "Current nRMSE: 0.8797057 \n",
            "Selected Predictors: price_cash_flow_ratio, ongoing_cost, equity_size_score \n",
            "Current nRMSE: 0.8546746 \n",
            "Selected Predictors: price_cash_flow_ratio, ongoing_cost, equity_size_score, historical_earnings_growth \n",
            "Current nRMSE: 0.8291099 \n",
            "Selected Predictors: price_cash_flow_ratio, ongoing_cost, equity_size_score, historical_earnings_growth, equity_category_encoded \n",
            "Current nRMSE: 0.8163122 \n",
            "Selected Predictors: price_cash_flow_ratio, ongoing_cost, equity_size_score, historical_earnings_growth, equity_category_encoded, sales_growth \n",
            "Current nRMSE: 0.804155 \n",
            "Selected Predictors: price_cash_flow_ratio, ongoing_cost, equity_size_score, historical_earnings_growth, equity_category_encoded, sales_growth, dividend_yield_factor \n",
            "Current nRMSE: 0.7959827 \n",
            "Selected Predictors: price_cash_flow_ratio, ongoing_cost, equity_size_score, historical_earnings_growth, equity_category_encoded, sales_growth, dividend_yield_factor, rating_encoded \n",
            "Current nRMSE: 0.7874734 \n",
            "Selected Predictors: price_cash_flow_ratio, ongoing_cost, equity_size_score, historical_earnings_growth, equity_category_encoded, sales_growth, dividend_yield_factor, rating_encoded, holdings_n_stock \n",
            "Current nRMSE: 0.7794325 \n",
            "Selected Predictors: price_cash_flow_ratio, ongoing_cost, equity_size_score, historical_earnings_growth, equity_category_encoded, sales_growth, dividend_yield_factor, rating_encoded, holdings_n_stock, fund_size \n",
            "Current nRMSE: 0.7761062 \n",
            "Selected Predictors: price_cash_flow_ratio, ongoing_cost, equity_size_score, historical_earnings_growth, equity_category_encoded, sales_growth, dividend_yield_factor, rating_encoded, holdings_n_stock, fund_size, asset_cash \n",
            "Current nRMSE: 0.775553 \n",
            "Selected Predictors: price_cash_flow_ratio, ongoing_cost, equity_size_score, historical_earnings_growth, equity_category_encoded, sales_growth, dividend_yield_factor, rating_encoded, holdings_n_stock, fund_size, asset_cash, risk_rating_encoded \n",
            "Current nRMSE: 0.7751806 \n",
            "No valid predictors to add or remove. Stopping selection.\n",
            "Best Metric: 0.7751806 \n"
          ]
        }
      ],
      "source": [
        "%%R\n",
        "null_model <- lm(cbind(roe, sustainability_score) ~ 1, data = data)\n",
        "\n",
        "forward_result <- stepwise_multivariate(data, method = \"forward\")\n",
        "forward_result\n",
        "summary(forward_result$model)\n",
        "cat(\"Best Metric:\", forward_result$metric, \"\\n\")"
      ]
    },
    {
      "cell_type": "code",
      "execution_count": null,
      "metadata": {
        "colab": {
          "base_uri": "https://localhost:8080/"
        },
        "id": "jXiO7CBcQIZn",
        "outputId": "fea0fcff-b426-40f0-bcc7-4019e87081d6"
      },
      "outputs": [
        {
          "output_type": "stream",
          "name": "stdout",
          "text": [
            "Selected Predictors: equity_size_score, price_cash_flow_ratio, dividend_yield_factor, historical_earnings_growth, sales_growth, asset_cash, holdings_n_stock, ongoing_cost, fund_size, rating_encoded, equity_category_encoded \n",
            "Current nRMSE: 0.775553 \n",
            "Selected Predictors: equity_size_score, price_cash_flow_ratio, dividend_yield_factor, historical_earnings_growth, sales_growth, asset_cash, holdings_n_stock, ongoing_cost, fund_size, rating_encoded, equity_category_encoded, risk_rating_encoded \n",
            "Current nRMSE: 0.7751806 \n",
            "No improvement. Stopping selection.\n",
            "[1] 0.7751806\n"
          ]
        }
      ],
      "source": [
        "%%R\n",
        "bidirectional_result <- stepwise_multivariate(data, method = \"stepwise\")\n",
        "nrmse_values <- calculate_nrmse(bidirectional_result$model, data)\n",
        "\n",
        "print(nrmse_values)"
      ]
    },
    {
      "cell_type": "markdown",
      "metadata": {
        "id": "m2DqsoPrcmtA"
      },
      "source": [
        "Including Interaction Terms"
      ]
    },
    {
      "cell_type": "code",
      "execution_count": null,
      "metadata": {
        "id": "V9phJBcFcly6"
      },
      "outputs": [],
      "source": [
        "%%R\n",
        "\n",
        "generate_interaction_terms <- function(data, predictors) {\n",
        "  for (i in 1:(length(predictors) - 1)) {\n",
        "    for (j in (i + 1):length(predictors)) {\n",
        "      interaction_name <- paste0(predictors[i], \"_x_\", predictors[j])\n",
        "      data[[interaction_name]] <- data[[predictors[i]]] * data[[predictors[j]]]\n",
        "    }\n",
        "  }\n",
        "  return(data)\n",
        "}\n",
        "\n",
        "# Add interaction terms to the dataset\n",
        "predictors <- setdiff(names(data), c(\"roe\", \"sustainability_score\"))\n",
        "data_interaction <- generate_interaction_terms(data, predictors)"
      ]
    },
    {
      "cell_type": "code",
      "execution_count": null,
      "metadata": {
        "colab": {
          "base_uri": "https://localhost:8080/"
        },
        "id": "zewm_rL2c2vk",
        "outputId": "a48da335-05ca-4111-ef38-5c0ec8b0124a"
      },
      "outputs": [
        {
          "output_type": "stream",
          "name": "stdout",
          "text": [
            "Selected Predictors: equity_size_score, price_cash_flow_ratio, dividend_yield_factor, historical_earnings_growth, sales_growth, asset_cash, holdings_n_stock, ongoing_cost, rating_encoded, risk_rating_encoded, equity_category_encoded, equity_size_score_x_price_cash_flow_ratio, equity_size_score_x_dividend_yield_factor, equity_size_score_x_historical_earnings_growth, equity_size_score_x_sales_growth, equity_size_score_x_asset_cash, equity_size_score_x_holdings_n_stock, equity_size_score_x_ongoing_cost, equity_size_score_x_fund_size, equity_size_score_x_rating_encoded, equity_size_score_x_risk_rating_encoded, equity_size_score_x_equity_category_encoded, price_cash_flow_ratio_x_dividend_yield_factor, price_cash_flow_ratio_x_historical_earnings_growth, price_cash_flow_ratio_x_sales_growth, price_cash_flow_ratio_x_asset_cash, price_cash_flow_ratio_x_holdings_n_stock, price_cash_flow_ratio_x_ongoing_cost, price_cash_flow_ratio_x_fund_size, price_cash_flow_ratio_x_rating_encoded, price_cash_flow_ratio_x_risk_rating_encoded, price_cash_flow_ratio_x_equity_category_encoded, dividend_yield_factor_x_historical_earnings_growth, dividend_yield_factor_x_sales_growth, dividend_yield_factor_x_asset_cash, dividend_yield_factor_x_holdings_n_stock, dividend_yield_factor_x_ongoing_cost, dividend_yield_factor_x_fund_size, dividend_yield_factor_x_rating_encoded, dividend_yield_factor_x_risk_rating_encoded, dividend_yield_factor_x_equity_category_encoded, historical_earnings_growth_x_sales_growth, historical_earnings_growth_x_asset_cash, historical_earnings_growth_x_holdings_n_stock, historical_earnings_growth_x_ongoing_cost, historical_earnings_growth_x_fund_size, historical_earnings_growth_x_rating_encoded, historical_earnings_growth_x_risk_rating_encoded, historical_earnings_growth_x_equity_category_encoded, sales_growth_x_asset_cash, sales_growth_x_holdings_n_stock, sales_growth_x_ongoing_cost, sales_growth_x_fund_size, sales_growth_x_rating_encoded, sales_growth_x_risk_rating_encoded, sales_growth_x_equity_category_encoded, asset_cash_x_holdings_n_stock, asset_cash_x_ongoing_cost, asset_cash_x_fund_size, asset_cash_x_rating_encoded, asset_cash_x_risk_rating_encoded, asset_cash_x_equity_category_encoded, holdings_n_stock_x_ongoing_cost, holdings_n_stock_x_fund_size, holdings_n_stock_x_rating_encoded, holdings_n_stock_x_risk_rating_encoded, holdings_n_stock_x_equity_category_encoded, ongoing_cost_x_fund_size, ongoing_cost_x_rating_encoded, ongoing_cost_x_risk_rating_encoded, ongoing_cost_x_equity_category_encoded, fund_size_x_rating_encoded, fund_size_x_risk_rating_encoded, fund_size_x_equity_category_encoded, rating_encoded_x_risk_rating_encoded, rating_encoded_x_equity_category_encoded, risk_rating_encoded_x_equity_category_encoded \n",
            "Current nRMSE: 0.589827 \n",
            "Selected Predictors: equity_size_score, price_cash_flow_ratio, dividend_yield_factor, historical_earnings_growth, sales_growth, asset_cash, holdings_n_stock, ongoing_cost, rating_encoded, risk_rating_encoded, equity_category_encoded, equity_size_score_x_price_cash_flow_ratio, equity_size_score_x_dividend_yield_factor, equity_size_score_x_historical_earnings_growth, equity_size_score_x_sales_growth, equity_size_score_x_asset_cash, equity_size_score_x_holdings_n_stock, equity_size_score_x_ongoing_cost, equity_size_score_x_fund_size, equity_size_score_x_rating_encoded, equity_size_score_x_risk_rating_encoded, equity_size_score_x_equity_category_encoded, price_cash_flow_ratio_x_dividend_yield_factor, price_cash_flow_ratio_x_historical_earnings_growth, price_cash_flow_ratio_x_sales_growth, price_cash_flow_ratio_x_asset_cash, price_cash_flow_ratio_x_holdings_n_stock, price_cash_flow_ratio_x_ongoing_cost, price_cash_flow_ratio_x_fund_size, price_cash_flow_ratio_x_rating_encoded, price_cash_flow_ratio_x_risk_rating_encoded, price_cash_flow_ratio_x_equity_category_encoded, dividend_yield_factor_x_historical_earnings_growth, dividend_yield_factor_x_sales_growth, dividend_yield_factor_x_asset_cash, dividend_yield_factor_x_holdings_n_stock, dividend_yield_factor_x_ongoing_cost, dividend_yield_factor_x_fund_size, dividend_yield_factor_x_rating_encoded, dividend_yield_factor_x_risk_rating_encoded, dividend_yield_factor_x_equity_category_encoded, historical_earnings_growth_x_sales_growth, historical_earnings_growth_x_asset_cash, historical_earnings_growth_x_holdings_n_stock, historical_earnings_growth_x_ongoing_cost, historical_earnings_growth_x_fund_size, historical_earnings_growth_x_rating_encoded, historical_earnings_growth_x_risk_rating_encoded, historical_earnings_growth_x_equity_category_encoded, sales_growth_x_asset_cash, sales_growth_x_holdings_n_stock, sales_growth_x_ongoing_cost, sales_growth_x_fund_size, sales_growth_x_rating_encoded, sales_growth_x_risk_rating_encoded, sales_growth_x_equity_category_encoded, asset_cash_x_holdings_n_stock, asset_cash_x_ongoing_cost, asset_cash_x_fund_size, asset_cash_x_rating_encoded, asset_cash_x_risk_rating_encoded, asset_cash_x_equity_category_encoded, holdings_n_stock_x_ongoing_cost, holdings_n_stock_x_fund_size, holdings_n_stock_x_rating_encoded, holdings_n_stock_x_risk_rating_encoded, holdings_n_stock_x_equity_category_encoded, ongoing_cost_x_fund_size, ongoing_cost_x_rating_encoded, ongoing_cost_x_risk_rating_encoded, ongoing_cost_x_equity_category_encoded, fund_size_x_rating_encoded, fund_size_x_risk_rating_encoded, fund_size_x_equity_category_encoded, rating_encoded_x_risk_rating_encoded, rating_encoded_x_equity_category_encoded, risk_rating_encoded_x_equity_category_encoded, fund_size \n",
            "Current nRMSE: 0.5898106 \n",
            "No improvement. Stopping selection.\n",
            "[1] 0.5898106\n"
          ]
        }
      ],
      "source": [
        "%%R\n",
        "\n",
        "bidirectional_result <- stepwise_multivariate(data_interaction, method = \"stepwise\")\n",
        "nrmse_values <- calculate_nrmse(bidirectional_result$model, data_interaction)\n",
        "\n",
        "print(nrmse_values)"
      ]
    },
    {
      "cell_type": "markdown",
      "metadata": {
        "id": "OdROp_eydznP"
      },
      "source": [
        "Non-linear Terms"
      ]
    },
    {
      "cell_type": "code",
      "execution_count": null,
      "metadata": {
        "colab": {
          "base_uri": "https://localhost:8080/"
        },
        "id": "VlqgEOZ1d2Ci",
        "outputId": "28417280-2fdf-4fd8-ac90-d3ad4a4b2322"
      },
      "outputs": [
        {
          "output_type": "stream",
          "name": "stdout",
          "text": [
            "Selected Predictors: equity_size_score, price_cash_flow_ratio, dividend_yield_factor, historical_earnings_growth, sales_growth, asset_cash, holdings_n_stock, ongoing_cost, fund_size, rating_encoded, risk_rating_encoded, equity_category_encoded, equity_size_score_degree_2, equity_size_score_degree_3, price_cash_flow_ratio_degree_2, price_cash_flow_ratio_degree_3, dividend_yield_factor_degree_2, dividend_yield_factor_degree_3, historical_earnings_growth_degree_2, historical_earnings_growth_degree_3, sales_growth_degree_2, sales_growth_degree_3, asset_cash_degree_2, asset_cash_degree_3, holdings_n_stock_degree_2, holdings_n_stock_degree_3, ongoing_cost_degree_2, ongoing_cost_degree_3, fund_size_degree_2, rating_encoded_degree_2, rating_encoded_degree_3, risk_rating_encoded_degree_2, risk_rating_encoded_degree_3, equity_category_encoded_degree_2, equity_category_encoded_degree_3 \n",
            "Current nRMSE: 0.6565547 \n",
            "Selected Predictors: equity_size_score, price_cash_flow_ratio, dividend_yield_factor, historical_earnings_growth, sales_growth, asset_cash, holdings_n_stock, ongoing_cost, fund_size, rating_encoded, risk_rating_encoded, equity_category_encoded, equity_size_score_degree_2, equity_size_score_degree_3, price_cash_flow_ratio_degree_2, price_cash_flow_ratio_degree_3, dividend_yield_factor_degree_2, dividend_yield_factor_degree_3, historical_earnings_growth_degree_2, historical_earnings_growth_degree_3, sales_growth_degree_2, sales_growth_degree_3, asset_cash_degree_2, asset_cash_degree_3, holdings_n_stock_degree_2, holdings_n_stock_degree_3, ongoing_cost_degree_2, ongoing_cost_degree_3, fund_size_degree_2, rating_encoded_degree_2, rating_encoded_degree_3, risk_rating_encoded_degree_2, risk_rating_encoded_degree_3, equity_category_encoded_degree_2, equity_category_encoded_degree_3, fund_size_degree_3 \n",
            "Current nRMSE: 0.6565327 \n",
            "No improvement. Stopping selection.\n",
            "[1] 0.6565327\n",
            "[1] \"Selected Predictors:\"\n",
            " [1] \"equity_size_score\"                   \"price_cash_flow_ratio\"              \n",
            " [3] \"dividend_yield_factor\"               \"historical_earnings_growth\"         \n",
            " [5] \"sales_growth\"                        \"asset_cash\"                         \n",
            " [7] \"holdings_n_stock\"                    \"ongoing_cost\"                       \n",
            " [9] \"fund_size\"                           \"rating_encoded\"                     \n",
            "[11] \"risk_rating_encoded\"                 \"equity_category_encoded\"            \n",
            "[13] \"equity_size_score_degree_2\"          \"equity_size_score_degree_3\"         \n",
            "[15] \"price_cash_flow_ratio_degree_2\"      \"price_cash_flow_ratio_degree_3\"     \n",
            "[17] \"dividend_yield_factor_degree_2\"      \"dividend_yield_factor_degree_3\"     \n",
            "[19] \"historical_earnings_growth_degree_2\" \"historical_earnings_growth_degree_3\"\n",
            "[21] \"sales_growth_degree_2\"               \"sales_growth_degree_3\"              \n",
            "[23] \"asset_cash_degree_2\"                 \"asset_cash_degree_3\"                \n",
            "[25] \"holdings_n_stock_degree_2\"           \"holdings_n_stock_degree_3\"          \n",
            "[27] \"ongoing_cost_degree_2\"               \"ongoing_cost_degree_3\"              \n",
            "[29] \"fund_size_degree_2\"                  \"rating_encoded_degree_2\"            \n",
            "[31] \"rating_encoded_degree_3\"             \"risk_rating_encoded_degree_2\"       \n",
            "[33] \"risk_rating_encoded_degree_3\"        \"equity_category_encoded_degree_2\"   \n",
            "[35] \"equity_category_encoded_degree_3\"    \"fund_size_degree_3\"                 \n"
          ]
        }
      ],
      "source": [
        "%%R\n",
        "\n",
        "generate_polynomial_terms <- function(data, predictors, degree = 2) {\n",
        "  for (predictor in predictors) {\n",
        "    for (d in 2:degree) {\n",
        "      term_name <- paste0(predictor, \"_degree_\", d)\n",
        "      data[[term_name]] <- data[[predictor]]^d\n",
        "    }\n",
        "  }\n",
        "  return(data)\n",
        "}\n",
        "\n",
        "# Add the Polynomial Terms to the dataset\n",
        "predictors <- setdiff(names(data), c(\"roe\", \"sustainability_score\"))\n",
        "data_nonlinear <- generate_polynomial_terms(data, predictors, degree = 3)\n",
        "\n",
        "# Perform Stepwise Selection\n",
        "result <- stepwise_multivariate(data_nonlinear, method = \"stepwise\")\n",
        "nrmse_values <- calculate_nrmse(result$model, data_nonlinear)\n",
        "print(nrmse_values)\n",
        "print(\"Selected Predictors:\")\n",
        "print(result$predictors)"
      ]
    },
    {
      "cell_type": "code",
      "execution_count": null,
      "metadata": {
        "colab": {
          "base_uri": "https://localhost:8080/"
        },
        "id": "QlNLB8hS1nfR",
        "outputId": "a4775852-b736-4e0d-a6ba-8a2fea8fd803"
      },
      "outputs": [
        {
          "output_type": "stream",
          "name": "stdout",
          "text": [
            "\n",
            "Call:\n",
            "lm(formula = formula, data = data)\n",
            "\n",
            "Coefficients:\n",
            "                            roe         sustainability_score\n",
            "(Intercept)                  2.585e+00   2.239e+01          \n",
            "price_cash_flow_ratio        5.513e-01  -2.225e-01          \n",
            "ongoing_cost                -4.723e+00   4.456e+00          \n",
            "equity_size_score            3.535e-02  -4.943e-03          \n",
            "historical_earnings_growth   4.880e-02   1.109e-01          \n",
            "equity_category_encoded      2.187e-02  -1.045e-02          \n",
            "sales_growth                 1.581e-01   1.799e-01          \n",
            "dividend_yield_factor       -1.985e-01   5.301e-01          \n",
            "rating_encoded              -6.288e-03   1.266e-03          \n",
            "holdings_n_stock             1.249e-03   1.057e-03          \n",
            "fund_size                   -2.533e-11   6.086e-12          \n",
            "asset_cash                  -1.846e-01   1.967e-02          \n",
            "risk_rating_encoded          3.762e-04   7.032e-04          \n",
            "\n"
          ]
        }
      ],
      "source": [
        "%%R\n",
        "\n",
        "forward_result$model"
      ]
    },
    {
      "cell_type": "code",
      "execution_count": null,
      "metadata": {
        "id": "MX2krJ8C2ANH"
      },
      "outputs": [],
      "source": [
        "%%R\n",
        "\n",
        "forward_result\n",
        "# Predict values for the same dataset (or a new dataset)\n",
        "predicted_values <- predict(forward_result$model, newdata = data)"
      ]
    }
  ],
  "metadata": {
    "colab": {
      "provenance": [],
      "authorship_tag": "ABX9TyOxUjykskj9HhirZFrcFvls",
      "include_colab_link": true
    },
    "kernelspec": {
      "display_name": "Python 3",
      "name": "python3"
    },
    "language_info": {
      "name": "python"
    }
  },
  "nbformat": 4,
  "nbformat_minor": 0
}