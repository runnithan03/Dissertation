{
  "nbformat": 4,
  "nbformat_minor": 0,
  "metadata": {
    "colab": {
      "provenance": [],
      "authorship_tag": "ABX9TyO3cjxO6qqtc0/MRWg9Ne5P",
      "include_colab_link": true
    },
    "kernelspec": {
      "name": "python3",
      "display_name": "Python 3"
    },
    "language_info": {
      "name": "python"
    }
  },
  "cells": [
    {
      "cell_type": "markdown",
      "metadata": {
        "id": "view-in-github",
        "colab_type": "text"
      },
      "source": [
        "<a href=\"https://colab.research.google.com/github/runnithan03/Dissertation/blob/main/Lasso_Regression.ipynb\" target=\"_parent\"><img src=\"https://colab.research.google.com/assets/colab-badge.svg\" alt=\"Open In Colab\"/></a>"
      ]
    },
    {
      "cell_type": "markdown",
      "source": [
        "Lasso Regression"
      ],
      "metadata": {
        "id": "RVEKc4kI6uM1"
      }
    },
    {
      "cell_type": "code",
      "execution_count": 1,
      "metadata": {
        "colab": {
          "base_uri": "https://localhost:8080/"
        },
        "id": "yu7QC7pp6g8e",
        "outputId": "947622d3-55d7-43ed-89c9-e245f94cd77b"
      },
      "outputs": [
        {
          "output_type": "stream",
          "name": "stdout",
          "text": [
            "Generating sample dataset...\n",
            "Shapes of X_train and y_train:\n",
            "(100, 20)\n",
            "(100,)\n",
            "Fitting Lasso (L1) Regularization model...\n",
            "Lasso model coefficients: [[ 0.          0.          0.          0.          0.28613678  0.\n",
            "  -2.11185444  0.          0.          0.          0.          0.\n",
            "   0.          0.          0.          0.20170223  0.          3.20555137\n",
            "   0.          0.        ]]\n",
            "Lasso model accuracy on training data: 0.99\n",
            "Fitting Ridge (L2) Regularization model...\n",
            "Ridge model coefficients: [[ 0.53796691  0.22762154 -0.56878911 -0.19871216  0.56092924  0.12798941\n",
            "  -1.06670917 -0.07043501  0.15573116 -0.11013136 -0.75531367  0.32347209\n",
            "  -0.83402903 -0.33845405 -0.03755675  0.41659081  0.20915689  0.97093934\n",
            "   0.67589751 -0.84130427]]\n",
            "Ridge model accuracy on training data: 1.0\n",
            "Script completed.\n"
          ]
        }
      ],
      "source": [
        "import numpy as np\n",
        "from sklearn.datasets import make_classification\n",
        "from sklearn.linear_model import LogisticRegression\n",
        "from sklearn.metrics import accuracy_score\n",
        "\n",
        "print(\"Generating sample dataset...\")\n",
        "\n",
        "# Generate a sample dataset\n",
        "X_train, y_train = make_classification(n_samples=100, n_features=20, n_informative=2, n_redundant=10, random_state=42)\n",
        "\n",
        "# Print the shapes of X_train and y_train to verify\n",
        "print(\"Shapes of X_train and y_train:\")\n",
        "print(X_train.shape)  # Should output (100, 20)\n",
        "print(y_train.shape)  # Should output (100,)\n",
        "\n",
        "print(\"Fitting Lasso (L1) Regularization model...\")\n",
        "\n",
        "# Lasso (L1) Regularization\n",
        "model_lasso = LogisticRegression(penalty='l1', solver='saga', max_iter=10000).fit(X_train, y_train)\n",
        "print(\"Lasso model coefficients:\", model_lasso.coef_)\n",
        "print(\"Lasso model accuracy on training data:\", accuracy_score(y_train, model_lasso.predict(X_train)))\n",
        "\n",
        "print(\"Fitting Ridge (L2) Regularization model...\")\n",
        "\n",
        "# Ridge (L2) Regularization\n",
        "model_ridge = LogisticRegression(penalty='l2', solver='lbfgs', max_iter=10000).fit(X_train, y_train)\n",
        "print(\"Ridge model coefficients:\", model_ridge.coef_)\n",
        "print(\"Ridge model accuracy on training data:\", accuracy_score(y_train, model_ridge.predict(X_train)))\n",
        "\n",
        "print(\"Script completed.\")\n",
        "\n"
      ]
    }
  ]
}