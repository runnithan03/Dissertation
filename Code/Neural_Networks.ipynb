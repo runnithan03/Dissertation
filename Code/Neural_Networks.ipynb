{
  "nbformat": 4,
  "nbformat_minor": 0,
  "metadata": {
    "colab": {
      "provenance": [],
      "authorship_tag": "ABX9TyP3afc5v6gG+ZRmsWP0pEmH",
      "include_colab_link": true
    },
    "kernelspec": {
      "name": "python3",
      "display_name": "Python 3"
    },
    "language_info": {
      "name": "python"
    }
  },
  "cells": [
    {
      "cell_type": "markdown",
      "metadata": {
        "id": "view-in-github",
        "colab_type": "text"
      },
      "source": [
        "<a href=\"https://colab.research.google.com/github/runnithan03/Dissertation/blob/main/Neural_Networks.ipynb\" target=\"_parent\"><img src=\"https://colab.research.google.com/assets/colab-badge.svg\" alt=\"Open In Colab\"/></a>"
      ]
    },
    {
      "cell_type": "code",
      "source": [
        "!pip install optuna -i https://pypi.org/simple"
      ],
      "metadata": {
        "colab": {
          "base_uri": "https://localhost:8080/"
        },
        "id": "UANlogNEK-e2",
        "outputId": "234e458b-89c3-4da8-f899-9118b7706259"
      },
      "execution_count": null,
      "outputs": [
        {
          "output_type": "stream",
          "name": "stdout",
          "text": [
            "Requirement already satisfied: optuna in /usr/local/lib/python3.10/dist-packages (4.1.0)\n",
            "Requirement already satisfied: alembic>=1.5.0 in /usr/local/lib/python3.10/dist-packages (from optuna) (1.14.0)\n",
            "Requirement already satisfied: colorlog in /usr/local/lib/python3.10/dist-packages (from optuna) (6.9.0)\n",
            "Requirement already satisfied: numpy in /usr/local/lib/python3.10/dist-packages (from optuna) (1.26.4)\n",
            "Requirement already satisfied: packaging>=20.0 in /usr/local/lib/python3.10/dist-packages (from optuna) (24.2)\n",
            "Requirement already satisfied: sqlalchemy>=1.4.2 in /usr/local/lib/python3.10/dist-packages (from optuna) (2.0.36)\n",
            "Requirement already satisfied: tqdm in /usr/local/lib/python3.10/dist-packages (from optuna) (4.67.1)\n",
            "Requirement already satisfied: PyYAML in /usr/local/lib/python3.10/dist-packages (from optuna) (6.0.2)\n",
            "Requirement already satisfied: Mako in /usr/local/lib/python3.10/dist-packages (from alembic>=1.5.0->optuna) (1.3.8)\n",
            "Requirement already satisfied: typing-extensions>=4 in /usr/local/lib/python3.10/dist-packages (from alembic>=1.5.0->optuna) (4.12.2)\n",
            "Requirement already satisfied: greenlet!=0.4.17 in /usr/local/lib/python3.10/dist-packages (from sqlalchemy>=1.4.2->optuna) (3.1.1)\n",
            "Requirement already satisfied: MarkupSafe>=0.9.2 in /usr/local/lib/python3.10/dist-packages (from Mako->alembic>=1.5.0->optuna) (3.0.2)\n"
          ]
        }
      ]
    },
    {
      "cell_type": "code",
      "source": [
        "import numpy as np\n",
        "import pandas as pd\n",
        "from sklearn.preprocessing import StandardScaler\n",
        "from sklearn.model_selection import train_test_split\n",
        "from sklearn.metrics import mean_squared_error\n",
        "import torch\n",
        "import torch.nn as nn\n",
        "import torch.optim as optim\n",
        "from torch.optim.lr_scheduler import ReduceLROnPlateau\n",
        "import torch.nn.functional as F\n",
        "import optuna\n",
        "\n",
        "np.random.seed(123)\n",
        "torch.manual_seed(123)"
      ],
      "metadata": {
        "colab": {
          "base_uri": "https://localhost:8080/"
        },
        "id": "M59AD0iXIFHL",
        "outputId": "32340bdd-2b8f-40a3-b5c0-d7838b54858d"
      },
      "execution_count": null,
      "outputs": [
        {
          "output_type": "execute_result",
          "data": {
            "text/plain": [
              "<torch._C.Generator at 0x79ed290123f0>"
            ]
          },
          "metadata": {},
          "execution_count": 33
        }
      ]
    },
    {
      "cell_type": "code",
      "execution_count": null,
      "metadata": {
        "colab": {
          "base_uri": "https://localhost:8080/",
          "height": 71
        },
        "id": "2_G6GksMG_C-",
        "outputId": "85b240fc-9232-436d-c0af-14cbbe0cecc6"
      },
      "outputs": [
        {
          "output_type": "display_data",
          "data": {
            "text/plain": [
              "<IPython.core.display.HTML object>"
            ],
            "text/html": [
              "\n",
              "     <input type=\"file\" id=\"files-8ac94840-d06d-4061-b80b-e1dcea9a6c8b\" name=\"files[]\" multiple disabled\n",
              "        style=\"border:none\" />\n",
              "     <output id=\"result-8ac94840-d06d-4061-b80b-e1dcea9a6c8b\">\n",
              "      Upload widget is only available when the cell has been executed in the\n",
              "      current browser session. Please rerun this cell to enable.\n",
              "      </output>\n",
              "      <script>// Copyright 2017 Google LLC\n",
              "//\n",
              "// Licensed under the Apache License, Version 2.0 (the \"License\");\n",
              "// you may not use this file except in compliance with the License.\n",
              "// You may obtain a copy of the License at\n",
              "//\n",
              "//      http://www.apache.org/licenses/LICENSE-2.0\n",
              "//\n",
              "// Unless required by applicable law or agreed to in writing, software\n",
              "// distributed under the License is distributed on an \"AS IS\" BASIS,\n",
              "// WITHOUT WARRANTIES OR CONDITIONS OF ANY KIND, either express or implied.\n",
              "// See the License for the specific language governing permissions and\n",
              "// limitations under the License.\n",
              "\n",
              "/**\n",
              " * @fileoverview Helpers for google.colab Python module.\n",
              " */\n",
              "(function(scope) {\n",
              "function span(text, styleAttributes = {}) {\n",
              "  const element = document.createElement('span');\n",
              "  element.textContent = text;\n",
              "  for (const key of Object.keys(styleAttributes)) {\n",
              "    element.style[key] = styleAttributes[key];\n",
              "  }\n",
              "  return element;\n",
              "}\n",
              "\n",
              "// Max number of bytes which will be uploaded at a time.\n",
              "const MAX_PAYLOAD_SIZE = 100 * 1024;\n",
              "\n",
              "function _uploadFiles(inputId, outputId) {\n",
              "  const steps = uploadFilesStep(inputId, outputId);\n",
              "  const outputElement = document.getElementById(outputId);\n",
              "  // Cache steps on the outputElement to make it available for the next call\n",
              "  // to uploadFilesContinue from Python.\n",
              "  outputElement.steps = steps;\n",
              "\n",
              "  return _uploadFilesContinue(outputId);\n",
              "}\n",
              "\n",
              "// This is roughly an async generator (not supported in the browser yet),\n",
              "// where there are multiple asynchronous steps and the Python side is going\n",
              "// to poll for completion of each step.\n",
              "// This uses a Promise to block the python side on completion of each step,\n",
              "// then passes the result of the previous step as the input to the next step.\n",
              "function _uploadFilesContinue(outputId) {\n",
              "  const outputElement = document.getElementById(outputId);\n",
              "  const steps = outputElement.steps;\n",
              "\n",
              "  const next = steps.next(outputElement.lastPromiseValue);\n",
              "  return Promise.resolve(next.value.promise).then((value) => {\n",
              "    // Cache the last promise value to make it available to the next\n",
              "    // step of the generator.\n",
              "    outputElement.lastPromiseValue = value;\n",
              "    return next.value.response;\n",
              "  });\n",
              "}\n",
              "\n",
              "/**\n",
              " * Generator function which is called between each async step of the upload\n",
              " * process.\n",
              " * @param {string} inputId Element ID of the input file picker element.\n",
              " * @param {string} outputId Element ID of the output display.\n",
              " * @return {!Iterable<!Object>} Iterable of next steps.\n",
              " */\n",
              "function* uploadFilesStep(inputId, outputId) {\n",
              "  const inputElement = document.getElementById(inputId);\n",
              "  inputElement.disabled = false;\n",
              "\n",
              "  const outputElement = document.getElementById(outputId);\n",
              "  outputElement.innerHTML = '';\n",
              "\n",
              "  const pickedPromise = new Promise((resolve) => {\n",
              "    inputElement.addEventListener('change', (e) => {\n",
              "      resolve(e.target.files);\n",
              "    });\n",
              "  });\n",
              "\n",
              "  const cancel = document.createElement('button');\n",
              "  inputElement.parentElement.appendChild(cancel);\n",
              "  cancel.textContent = 'Cancel upload';\n",
              "  const cancelPromise = new Promise((resolve) => {\n",
              "    cancel.onclick = () => {\n",
              "      resolve(null);\n",
              "    };\n",
              "  });\n",
              "\n",
              "  // Wait for the user to pick the files.\n",
              "  const files = yield {\n",
              "    promise: Promise.race([pickedPromise, cancelPromise]),\n",
              "    response: {\n",
              "      action: 'starting',\n",
              "    }\n",
              "  };\n",
              "\n",
              "  cancel.remove();\n",
              "\n",
              "  // Disable the input element since further picks are not allowed.\n",
              "  inputElement.disabled = true;\n",
              "\n",
              "  if (!files) {\n",
              "    return {\n",
              "      response: {\n",
              "        action: 'complete',\n",
              "      }\n",
              "    };\n",
              "  }\n",
              "\n",
              "  for (const file of files) {\n",
              "    const li = document.createElement('li');\n",
              "    li.append(span(file.name, {fontWeight: 'bold'}));\n",
              "    li.append(span(\n",
              "        `(${file.type || 'n/a'}) - ${file.size} bytes, ` +\n",
              "        `last modified: ${\n",
              "            file.lastModifiedDate ? file.lastModifiedDate.toLocaleDateString() :\n",
              "                                    'n/a'} - `));\n",
              "    const percent = span('0% done');\n",
              "    li.appendChild(percent);\n",
              "\n",
              "    outputElement.appendChild(li);\n",
              "\n",
              "    const fileDataPromise = new Promise((resolve) => {\n",
              "      const reader = new FileReader();\n",
              "      reader.onload = (e) => {\n",
              "        resolve(e.target.result);\n",
              "      };\n",
              "      reader.readAsArrayBuffer(file);\n",
              "    });\n",
              "    // Wait for the data to be ready.\n",
              "    let fileData = yield {\n",
              "      promise: fileDataPromise,\n",
              "      response: {\n",
              "        action: 'continue',\n",
              "      }\n",
              "    };\n",
              "\n",
              "    // Use a chunked sending to avoid message size limits. See b/62115660.\n",
              "    let position = 0;\n",
              "    do {\n",
              "      const length = Math.min(fileData.byteLength - position, MAX_PAYLOAD_SIZE);\n",
              "      const chunk = new Uint8Array(fileData, position, length);\n",
              "      position += length;\n",
              "\n",
              "      const base64 = btoa(String.fromCharCode.apply(null, chunk));\n",
              "      yield {\n",
              "        response: {\n",
              "          action: 'append',\n",
              "          file: file.name,\n",
              "          data: base64,\n",
              "        },\n",
              "      };\n",
              "\n",
              "      let percentDone = fileData.byteLength === 0 ?\n",
              "          100 :\n",
              "          Math.round((position / fileData.byteLength) * 100);\n",
              "      percent.textContent = `${percentDone}% done`;\n",
              "\n",
              "    } while (position < fileData.byteLength);\n",
              "  }\n",
              "\n",
              "  // All done.\n",
              "  yield {\n",
              "    response: {\n",
              "      action: 'complete',\n",
              "    }\n",
              "  };\n",
              "}\n",
              "\n",
              "scope.google = scope.google || {};\n",
              "scope.google.colab = scope.google.colab || {};\n",
              "scope.google.colab._files = {\n",
              "  _uploadFiles,\n",
              "  _uploadFilesContinue,\n",
              "};\n",
              "})(self);\n",
              "</script> "
            ]
          },
          "metadata": {}
        },
        {
          "output_type": "stream",
          "name": "stdout",
          "text": [
            "Saving final.csv to final.csv\n"
          ]
        }
      ],
      "source": [
        "from google.colab import files\n",
        "import os\n",
        "\n",
        "uploaded = files.upload()\n",
        "\n",
        "uploaded_filename = list(uploaded.keys())[0]\n",
        "os.rename(uploaded_filename, 'clean.csv')"
      ]
    },
    {
      "cell_type": "code",
      "source": [
        "n_predictors = 12\n",
        "n_responses = 2\n",
        "\n",
        "response_names = ['roe', 'sustainability_score']\n",
        "\n",
        "data = pd.read_csv('clean.csv')\n",
        "\n",
        "categorical_columns = ['category', 'rating', 'risk_rating']\n",
        "\n",
        "# Frequency encoding categorical columns\n",
        "for col in categorical_columns:\n",
        "    freq_encoding = data[col].value_counts().to_dict()\n",
        "    data[col] = data[col].map(freq_encoding)\n",
        "\n",
        "# Split dataset into features (X) and target (Y)\n",
        "X = data.iloc[:, :n_predictors].values\n",
        "Y = data.iloc[:, n_predictors:].values\n",
        "\n",
        "# Normalise predictors and responses\n",
        "scaler_X = StandardScaler()\n",
        "scaler_Y = StandardScaler()\n",
        "X = scaler_X.fit_transform(X)\n",
        "Y = scaler_Y.fit_transform(Y)\n",
        "\n",
        "# Split data into training and testing sets\n",
        "X_train, X_test, Y_train, Y_test = train_test_split(X, Y, test_size=0.2, random_state=42)"
      ],
      "metadata": {
        "id": "1DsXJrCQIO3m"
      },
      "execution_count": null,
      "outputs": []
    },
    {
      "cell_type": "code",
      "source": [
        "class NeuralNetwork(nn.Module):\n",
        "    def __init__(self, n_predictors, n_responses, hidden_units1=128, hidden_units2=64, dropout_rate=0.1):\n",
        "        super(NeuralNetwork, self).__init__()\n",
        "        self.model = nn.Sequential(\n",
        "            nn.Linear(n_predictors, hidden_units1),\n",
        "            nn.ReLU(),\n",
        "            nn.BatchNorm1d(hidden_units1),\n",
        "            nn.Dropout(dropout_rate),\n",
        "            nn.Linear(hidden_units1, hidden_units2),\n",
        "            nn.ReLU(),\n",
        "            nn.Linear(hidden_units2, 32),\n",
        "            nn.ReLU(),\n",
        "            nn.Linear(32, n_responses)\n",
        "        )\n",
        "\n",
        "    def forward(self, x):\n",
        "        return self.model(x)\n",
        "\n",
        "\n",
        "# Initialise model\n",
        "model = NeuralNetwork(n_predictors, n_responses)\n",
        "\n",
        "optimizer = optim.Adam(model.parameters(), lr=0.0003)\n",
        "loss_fn = nn.MSELoss()\n",
        "\n",
        "# Learning Rate Scheduler\n",
        "lr_scheduler = ReduceLROnPlateau(optimizer, mode='min', factor=0.5, patience=7, min_lr=1e-6)\n",
        "\n",
        "# Early stopping (implemented manually during training)\n",
        "early_stopping_patience = 15\n",
        "\n",
        "print(model)"
      ],
      "metadata": {
        "colab": {
          "base_uri": "https://localhost:8080/"
        },
        "id": "x9fhGEMNIVkW",
        "outputId": "707b5e72-c28f-41be-9591-7e8d40db7cf3"
      },
      "execution_count": null,
      "outputs": [
        {
          "output_type": "stream",
          "name": "stdout",
          "text": [
            "NeuralNetwork(\n",
            "  (model): Sequential(\n",
            "    (0): Linear(in_features=12, out_features=128, bias=True)\n",
            "    (1): ReLU()\n",
            "    (2): BatchNorm1d(128, eps=1e-05, momentum=0.1, affine=True, track_running_stats=True)\n",
            "    (3): Dropout(p=0.1, inplace=False)\n",
            "    (4): Linear(in_features=128, out_features=64, bias=True)\n",
            "    (5): ReLU()\n",
            "    (6): Linear(in_features=64, out_features=32, bias=True)\n",
            "    (7): ReLU()\n",
            "    (8): Linear(in_features=32, out_features=2, bias=True)\n",
            "  )\n",
            ")\n"
          ]
        }
      ]
    },
    {
      "cell_type": "code",
      "source": [
        "def calculate_nrmse(y_true, y_pred, response_names=None):\n",
        "    # Calculate MSE and NRMSE\n",
        "    mse = mean_squared_error(y_true, y_pred, multioutput='raw_values')\n",
        "    rsr = np.sqrt(mse) / np.std(y_true, axis=0)  # RSR for each response\n",
        "\n",
        "    # Print RSR for each response\n",
        "    if response_names:\n",
        "        for i, response in enumerate(response_names):\n",
        "            print(f\"RSR for {response}: {rsr[i]:.4f}\")\n",
        "\n",
        "    # Return both individual RSR and the average\n",
        "    return rsr, np.mean(rsr)"
      ],
      "metadata": {
        "id": "kdwwBaxwK2aE"
      },
      "execution_count": null,
      "outputs": []
    },
    {
      "cell_type": "code",
      "source": [
        "from sklearn.model_selection import train_test_split\n",
        "\n",
        "def objective(trial):\n",
        "    # Hyperparameter tuning\n",
        "    hidden_units1 = trial.suggest_int('hidden_units1', 64, 256)\n",
        "    hidden_units2 = trial.suggest_int('hidden_units2', 32, 128)\n",
        "    dropout_rate = trial.suggest_float('dropout_rate', 0.1, 0.5)\n",
        "    lr = trial.suggest_loguniform('lr', 1e-5, 1e-2)\n",
        "    batch_size = trial.suggest_categorical('batch_size', [32, 64, 128])\n",
        "\n",
        "    # Model definition\n",
        "    model = NeuralNetwork(n_predictors, n_responses, hidden_units1, hidden_units2, dropout_rate)\n",
        "    optimizer = optim.Adam(model.parameters(), lr=lr)\n",
        "    scheduler = ReduceLROnPlateau(optimizer, mode='min', factor=0.5, patience=7, min_lr=1e-6)\n",
        "    loss_fn = nn.MSELoss()\n",
        "\n",
        "    # Train-validation split\n",
        "    X_train_split, X_val, Y_train_split, Y_val = train_test_split(\n",
        "        X_train, Y_train, test_size=0.2, random_state=42\n",
        "    )\n",
        "\n",
        "    # Convert data to PyTorch tensors\n",
        "    X_train_tensor = torch.tensor(X_train_split, dtype=torch.float32)\n",
        "    Y_train_tensor = torch.tensor(Y_train_split, dtype=torch.float32)\n",
        "    X_val_tensor = torch.tensor(X_val, dtype=torch.float32)\n",
        "    Y_val_tensor = torch.tensor(Y_val, dtype=torch.float32)\n",
        "\n",
        "    # Training loop\n",
        "    epochs = 100\n",
        "    best_loss = np.inf\n",
        "    patience_counter = 0\n",
        "    early_stopping_patience = 10\n",
        "\n",
        "    for epoch in range(epochs):\n",
        "        model.train()\n",
        "        permutation = torch.randperm(X_train_tensor.size(0))\n",
        "        epoch_loss = 0.0\n",
        "\n",
        "        for i in range(0, X_train_tensor.size(0), batch_size):\n",
        "            indices = permutation[i:i + batch_size]\n",
        "            batch_x, batch_y = X_train_tensor[indices], Y_train_tensor[indices]\n",
        "\n",
        "            optimizer.zero_grad()\n",
        "            outputs = model(batch_x)\n",
        "            loss = loss_fn(outputs, batch_y)\n",
        "            loss.backward()\n",
        "            optimizer.step()\n",
        "\n",
        "            epoch_loss += loss.item()\n",
        "\n",
        "        # Validation\n",
        "        model.eval()\n",
        "        with torch.no_grad():\n",
        "            val_outputs = model(X_val_tensor)\n",
        "            val_loss = loss_fn(val_outputs, Y_val_tensor).item()\n",
        "\n",
        "        scheduler.step(val_loss)\n",
        "\n",
        "        # Early stopping\n",
        "        if val_loss < best_loss:\n",
        "            best_loss = val_loss\n",
        "            patience_counter = 0\n",
        "        else:\n",
        "            patience_counter += 1\n",
        "            if patience_counter >= early_stopping_patience:\n",
        "                break\n",
        "\n",
        "    # Evaluate model\n",
        "    model.eval()\n",
        "    with torch.no_grad():\n",
        "        y_pred = model(X_val_tensor).numpy()\n",
        "\n",
        "    # Calculate RSR for each response and ARSR\n",
        "    rsr, avg_rsr = calculate_nrmse(Y_val, y_pred, response_names)\n",
        "\n",
        "    # Report to Optuna\n",
        "    trial.set_user_attr(\"RSR (roe)\", rsr[0])\n",
        "    trial.set_user_attr(\"RSR (sustainability_score)\", rsr[1])\n",
        "    trial.set_user_attr(\"ARSR\", avg_rsr)\n",
        "\n",
        "    print(f\"ARSR: {avg_rsr:.4f}\")\n",
        "\n",
        "    return avg_rsr  # Minimize average RSR\n"
      ],
      "metadata": {
        "id": "3XJ4jHn8KXuz"
      },
      "execution_count": null,
      "outputs": []
    },
    {
      "cell_type": "code",
      "source": [
        "study = optuna.create_study(direction='minimize')\n",
        "study.optimize(objective, n_trials=200)\n",
        "\n",
        "# Best hyperparameters found by Optuna\n",
        "print(\"Best trial:\", study.best_trial.params)"
      ],
      "metadata": {
        "colab": {
          "base_uri": "https://localhost:8080/"
        },
        "id": "tnhFPgj5Katx",
        "outputId": "683a998e-5b0a-43b2-eb65-87cf0845d637"
      },
      "execution_count": null,
      "outputs": [
        {
          "output_type": "stream",
          "name": "stderr",
          "text": [
            "[I 2025-01-04 20:19:23,588] A new study created in memory with name: no-name-08e37abb-e214-4190-8b6f-8b7cb7d9e4a0\n",
            "<ipython-input-25-9a0f24a738bb>:8: FutureWarning: suggest_loguniform has been deprecated in v3.0.0. This feature will be removed in v6.0.0. See https://github.com/optuna/optuna/releases/tag/v3.0.0. Use suggest_float(..., log=True) instead.\n",
            "  lr = trial.suggest_loguniform('lr', 1e-5, 1e-2)\n",
            "[I 2025-01-04 20:19:30,587] Trial 0 finished with value: 0.7250455933199602 and parameters: {'hidden_units1': 157, 'hidden_units2': 104, 'dropout_rate': 0.42871156326178583, 'lr': 0.00028327958872636773, 'batch_size': 32}. Best is trial 0 with value: 0.7250455933199602.\n"
          ]
        },
        {
          "output_type": "stream",
          "name": "stdout",
          "text": [
            "RSR for roe: 0.7626\n",
            "RSR for sustainability_score: 0.6875\n",
            "ARSR: 0.7250\n"
          ]
        },
        {
          "output_type": "stream",
          "name": "stderr",
          "text": [
            "<ipython-input-25-9a0f24a738bb>:8: FutureWarning: suggest_loguniform has been deprecated in v3.0.0. This feature will be removed in v6.0.0. See https://github.com/optuna/optuna/releases/tag/v3.0.0. Use suggest_float(..., log=True) instead.\n",
            "  lr = trial.suggest_loguniform('lr', 1e-5, 1e-2)\n",
            "[I 2025-01-04 20:19:32,742] Trial 1 finished with value: 0.6477778734708772 and parameters: {'hidden_units1': 177, 'hidden_units2': 91, 'dropout_rate': 0.491516870081228, 'lr': 0.0018303590615805134, 'batch_size': 128}. Best is trial 1 with value: 0.6477778734708772.\n"
          ]
        },
        {
          "output_type": "stream",
          "name": "stdout",
          "text": [
            "RSR for roe: 0.7405\n",
            "RSR for sustainability_score: 0.5550\n",
            "ARSR: 0.6478\n"
          ]
        },
        {
          "output_type": "stream",
          "name": "stderr",
          "text": [
            "<ipython-input-25-9a0f24a738bb>:8: FutureWarning: suggest_loguniform has been deprecated in v3.0.0. This feature will be removed in v6.0.0. See https://github.com/optuna/optuna/releases/tag/v3.0.0. Use suggest_float(..., log=True) instead.\n",
            "  lr = trial.suggest_loguniform('lr', 1e-5, 1e-2)\n",
            "[I 2025-01-04 20:19:36,240] Trial 2 finished with value: 0.6984718829192712 and parameters: {'hidden_units1': 105, 'hidden_units2': 59, 'dropout_rate': 0.3967346008788373, 'lr': 0.0005933116709348984, 'batch_size': 64}. Best is trial 1 with value: 0.6477778734708772.\n"
          ]
        },
        {
          "output_type": "stream",
          "name": "stdout",
          "text": [
            "RSR for roe: 0.7420\n",
            "RSR for sustainability_score: 0.6550\n",
            "ARSR: 0.6985\n"
          ]
        },
        {
          "output_type": "stream",
          "name": "stderr",
          "text": [
            "<ipython-input-25-9a0f24a738bb>:8: FutureWarning: suggest_loguniform has been deprecated in v3.0.0. This feature will be removed in v6.0.0. See https://github.com/optuna/optuna/releases/tag/v3.0.0. Use suggest_float(..., log=True) instead.\n",
            "  lr = trial.suggest_loguniform('lr', 1e-5, 1e-2)\n",
            "[I 2025-01-04 20:19:37,400] Trial 3 finished with value: 0.6540420849832163 and parameters: {'hidden_units1': 181, 'hidden_units2': 64, 'dropout_rate': 0.13853411499251062, 'lr': 0.0017217269043011195, 'batch_size': 128}. Best is trial 1 with value: 0.6477778734708772.\n"
          ]
        },
        {
          "output_type": "stream",
          "name": "stdout",
          "text": [
            "RSR for roe: 0.7451\n",
            "RSR for sustainability_score: 0.5630\n",
            "ARSR: 0.6540\n"
          ]
        },
        {
          "output_type": "stream",
          "name": "stderr",
          "text": [
            "<ipython-input-25-9a0f24a738bb>:8: FutureWarning: suggest_loguniform has been deprecated in v3.0.0. This feature will be removed in v6.0.0. See https://github.com/optuna/optuna/releases/tag/v3.0.0. Use suggest_float(..., log=True) instead.\n",
            "  lr = trial.suggest_loguniform('lr', 1e-5, 1e-2)\n",
            "[I 2025-01-04 20:19:39,333] Trial 4 finished with value: 0.9298589100752351 and parameters: {'hidden_units1': 186, 'hidden_units2': 86, 'dropout_rate': 0.2547972012570814, 'lr': 2.2491931140296614e-05, 'batch_size': 128}. Best is trial 1 with value: 0.6477778734708772.\n"
          ]
        },
        {
          "output_type": "stream",
          "name": "stdout",
          "text": [
            "RSR for roe: 0.8742\n",
            "RSR for sustainability_score: 0.9856\n",
            "ARSR: 0.9299\n"
          ]
        },
        {
          "output_type": "stream",
          "name": "stderr",
          "text": [
            "<ipython-input-25-9a0f24a738bb>:8: FutureWarning: suggest_loguniform has been deprecated in v3.0.0. This feature will be removed in v6.0.0. See https://github.com/optuna/optuna/releases/tag/v3.0.0. Use suggest_float(..., log=True) instead.\n",
            "  lr = trial.suggest_loguniform('lr', 1e-5, 1e-2)\n",
            "[I 2025-01-04 20:19:41,061] Trial 5 finished with value: 0.913980476145644 and parameters: {'hidden_units1': 149, 'hidden_units2': 68, 'dropout_rate': 0.33309963873715875, 'lr': 3.504335525852704e-05, 'batch_size': 128}. Best is trial 1 with value: 0.6477778734708772.\n"
          ]
        },
        {
          "output_type": "stream",
          "name": "stdout",
          "text": [
            "RSR for roe: 0.8621\n",
            "RSR for sustainability_score: 0.9659\n",
            "ARSR: 0.9140\n"
          ]
        },
        {
          "output_type": "stream",
          "name": "stderr",
          "text": [
            "<ipython-input-25-9a0f24a738bb>:8: FutureWarning: suggest_loguniform has been deprecated in v3.0.0. This feature will be removed in v6.0.0. See https://github.com/optuna/optuna/releases/tag/v3.0.0. Use suggest_float(..., log=True) instead.\n",
            "  lr = trial.suggest_loguniform('lr', 1e-5, 1e-2)\n",
            "[I 2025-01-04 20:19:46,689] Trial 6 finished with value: 0.8598507235904163 and parameters: {'hidden_units1': 151, 'hidden_units2': 40, 'dropout_rate': 0.29770032034927885, 'lr': 4.271312547140696e-05, 'batch_size': 32}. Best is trial 1 with value: 0.6477778734708772.\n"
          ]
        },
        {
          "output_type": "stream",
          "name": "stdout",
          "text": [
            "RSR for roe: 0.7985\n",
            "RSR for sustainability_score: 0.9212\n",
            "ARSR: 0.8599\n"
          ]
        },
        {
          "output_type": "stream",
          "name": "stderr",
          "text": [
            "<ipython-input-25-9a0f24a738bb>:8: FutureWarning: suggest_loguniform has been deprecated in v3.0.0. This feature will be removed in v6.0.0. See https://github.com/optuna/optuna/releases/tag/v3.0.0. Use suggest_float(..., log=True) instead.\n",
            "  lr = trial.suggest_loguniform('lr', 1e-5, 1e-2)\n",
            "[I 2025-01-04 20:19:50,893] Trial 7 finished with value: 0.6531500153131882 and parameters: {'hidden_units1': 225, 'hidden_units2': 48, 'dropout_rate': 0.35734971768535617, 'lr': 0.0036776282536025505, 'batch_size': 32}. Best is trial 1 with value: 0.6477778734708772.\n"
          ]
        },
        {
          "output_type": "stream",
          "name": "stdout",
          "text": [
            "RSR for roe: 0.7489\n",
            "RSR for sustainability_score: 0.5574\n",
            "ARSR: 0.6532\n"
          ]
        },
        {
          "output_type": "stream",
          "name": "stderr",
          "text": [
            "<ipython-input-25-9a0f24a738bb>:8: FutureWarning: suggest_loguniform has been deprecated in v3.0.0. This feature will be removed in v6.0.0. See https://github.com/optuna/optuna/releases/tag/v3.0.0. Use suggest_float(..., log=True) instead.\n",
            "  lr = trial.suggest_loguniform('lr', 1e-5, 1e-2)\n",
            "[I 2025-01-04 20:19:56,313] Trial 8 finished with value: 0.9226326622204217 and parameters: {'hidden_units1': 110, 'hidden_units2': 107, 'dropout_rate': 0.3070937431206684, 'lr': 1.2425779613048906e-05, 'batch_size': 32}. Best is trial 1 with value: 0.6477778734708772.\n"
          ]
        },
        {
          "output_type": "stream",
          "name": "stdout",
          "text": [
            "RSR for roe: 0.8726\n",
            "RSR for sustainability_score: 0.9727\n",
            "ARSR: 0.9226\n"
          ]
        },
        {
          "output_type": "stream",
          "name": "stderr",
          "text": [
            "<ipython-input-25-9a0f24a738bb>:8: FutureWarning: suggest_loguniform has been deprecated in v3.0.0. This feature will be removed in v6.0.0. See https://github.com/optuna/optuna/releases/tag/v3.0.0. Use suggest_float(..., log=True) instead.\n",
            "  lr = trial.suggest_loguniform('lr', 1e-5, 1e-2)\n",
            "[I 2025-01-04 20:20:00,561] Trial 9 finished with value: 0.7759167143744622 and parameters: {'hidden_units1': 241, 'hidden_units2': 87, 'dropout_rate': 0.228626207362076, 'lr': 0.00013299755964246238, 'batch_size': 64}. Best is trial 1 with value: 0.6477778734708772.\n"
          ]
        },
        {
          "output_type": "stream",
          "name": "stdout",
          "text": [
            "RSR for roe: 0.7457\n",
            "RSR for sustainability_score: 0.8062\n",
            "ARSR: 0.7759\n"
          ]
        },
        {
          "output_type": "stream",
          "name": "stderr",
          "text": [
            "<ipython-input-25-9a0f24a738bb>:8: FutureWarning: suggest_loguniform has been deprecated in v3.0.0. This feature will be removed in v6.0.0. See https://github.com/optuna/optuna/releases/tag/v3.0.0. Use suggest_float(..., log=True) instead.\n",
            "  lr = trial.suggest_loguniform('lr', 1e-5, 1e-2)\n",
            "[I 2025-01-04 20:20:01,448] Trial 10 finished with value: 0.7536229038361123 and parameters: {'hidden_units1': 66, 'hidden_units2': 127, 'dropout_rate': 0.49952689835367514, 'lr': 0.006675106016578328, 'batch_size': 128}. Best is trial 1 with value: 0.6477778734708772.\n"
          ]
        },
        {
          "output_type": "stream",
          "name": "stdout",
          "text": [
            "RSR for roe: 0.7931\n",
            "RSR for sustainability_score: 0.7142\n",
            "ARSR: 0.7536\n"
          ]
        },
        {
          "output_type": "stream",
          "name": "stderr",
          "text": [
            "<ipython-input-25-9a0f24a738bb>:8: FutureWarning: suggest_loguniform has been deprecated in v3.0.0. This feature will be removed in v6.0.0. See https://github.com/optuna/optuna/releases/tag/v3.0.0. Use suggest_float(..., log=True) instead.\n",
            "  lr = trial.suggest_loguniform('lr', 1e-5, 1e-2)\n",
            "[I 2025-01-04 20:20:05,274] Trial 11 finished with value: 0.6727186931909193 and parameters: {'hidden_units1': 234, 'hidden_units2': 37, 'dropout_rate': 0.49960893063885414, 'lr': 0.008296811257184943, 'batch_size': 32}. Best is trial 1 with value: 0.6477778734708772.\n"
          ]
        },
        {
          "output_type": "stream",
          "name": "stdout",
          "text": [
            "RSR for roe: 0.7532\n",
            "RSR for sustainability_score: 0.5922\n",
            "ARSR: 0.6727\n"
          ]
        },
        {
          "output_type": "stream",
          "name": "stderr",
          "text": [
            "<ipython-input-25-9a0f24a738bb>:8: FutureWarning: suggest_loguniform has been deprecated in v3.0.0. This feature will be removed in v6.0.0. See https://github.com/optuna/optuna/releases/tag/v3.0.0. Use suggest_float(..., log=True) instead.\n",
            "  lr = trial.suggest_loguniform('lr', 1e-5, 1e-2)\n",
            "[I 2025-01-04 20:20:06,393] Trial 12 finished with value: 0.6940938556855736 and parameters: {'hidden_units1': 211, 'hidden_units2': 52, 'dropout_rate': 0.4083905715872512, 'lr': 0.002062760639382726, 'batch_size': 128}. Best is trial 1 with value: 0.6477778734708772.\n"
          ]
        },
        {
          "output_type": "stream",
          "name": "stdout",
          "text": [
            "RSR for roe: 0.7612\n",
            "RSR for sustainability_score: 0.6270\n",
            "ARSR: 0.6941\n"
          ]
        },
        {
          "output_type": "stream",
          "name": "stderr",
          "text": [
            "<ipython-input-25-9a0f24a738bb>:8: FutureWarning: suggest_loguniform has been deprecated in v3.0.0. This feature will be removed in v6.0.0. See https://github.com/optuna/optuna/releases/tag/v3.0.0. Use suggest_float(..., log=True) instead.\n",
            "  lr = trial.suggest_loguniform('lr', 1e-5, 1e-2)\n",
            "[I 2025-01-04 20:20:10,588] Trial 13 finished with value: 0.6478226604285919 and parameters: {'hidden_units1': 212, 'hidden_units2': 76, 'dropout_rate': 0.37184163732810815, 'lr': 0.001596402675906545, 'batch_size': 32}. Best is trial 1 with value: 0.6477778734708772.\n"
          ]
        },
        {
          "output_type": "stream",
          "name": "stdout",
          "text": [
            "RSR for roe: 0.7556\n",
            "RSR for sustainability_score: 0.5400\n",
            "ARSR: 0.6478\n"
          ]
        },
        {
          "output_type": "stream",
          "name": "stderr",
          "text": [
            "<ipython-input-25-9a0f24a738bb>:8: FutureWarning: suggest_loguniform has been deprecated in v3.0.0. This feature will be removed in v6.0.0. See https://github.com/optuna/optuna/releases/tag/v3.0.0. Use suggest_float(..., log=True) instead.\n",
            "  lr = trial.suggest_loguniform('lr', 1e-5, 1e-2)\n",
            "[I 2025-01-04 20:20:14,288] Trial 14 finished with value: 0.6367305553984353 and parameters: {'hidden_units1': 197, 'hidden_units2': 76, 'dropout_rate': 0.45822039702452716, 'lr': 0.0008755382652919536, 'batch_size': 64}. Best is trial 14 with value: 0.6367305553984353.\n"
          ]
        },
        {
          "output_type": "stream",
          "name": "stdout",
          "text": [
            "RSR for roe: 0.7447\n",
            "RSR for sustainability_score: 0.5287\n",
            "ARSR: 0.6367\n"
          ]
        },
        {
          "output_type": "stream",
          "name": "stderr",
          "text": [
            "<ipython-input-25-9a0f24a738bb>:8: FutureWarning: suggest_loguniform has been deprecated in v3.0.0. This feature will be removed in v6.0.0. See https://github.com/optuna/optuna/releases/tag/v3.0.0. Use suggest_float(..., log=True) instead.\n",
            "  lr = trial.suggest_loguniform('lr', 1e-5, 1e-2)\n",
            "[I 2025-01-04 20:20:17,786] Trial 15 finished with value: 0.6452260145391251 and parameters: {'hidden_units1': 191, 'hidden_units2': 99, 'dropout_rate': 0.44557956390343945, 'lr': 0.0006052955254847519, 'batch_size': 64}. Best is trial 14 with value: 0.6367305553984353.\n"
          ]
        },
        {
          "output_type": "stream",
          "name": "stdout",
          "text": [
            "RSR for roe: 0.7283\n",
            "RSR for sustainability_score: 0.5621\n",
            "ARSR: 0.6452\n"
          ]
        },
        {
          "output_type": "stream",
          "name": "stderr",
          "text": [
            "<ipython-input-25-9a0f24a738bb>:8: FutureWarning: suggest_loguniform has been deprecated in v3.0.0. This feature will be removed in v6.0.0. See https://github.com/optuna/optuna/releases/tag/v3.0.0. Use suggest_float(..., log=True) instead.\n",
            "  lr = trial.suggest_loguniform('lr', 1e-5, 1e-2)\n",
            "[I 2025-01-04 20:20:20,898] Trial 16 finished with value: 0.6196388364584334 and parameters: {'hidden_units1': 194, 'hidden_units2': 103, 'dropout_rate': 0.4486831343981736, 'lr': 0.0006369528352294556, 'batch_size': 64}. Best is trial 16 with value: 0.6196388364584334.\n"
          ]
        },
        {
          "output_type": "stream",
          "name": "stdout",
          "text": [
            "RSR for roe: 0.7425\n",
            "RSR for sustainability_score: 0.4968\n",
            "ARSR: 0.6196\n"
          ]
        },
        {
          "output_type": "stream",
          "name": "stderr",
          "text": [
            "<ipython-input-25-9a0f24a738bb>:8: FutureWarning: suggest_loguniform has been deprecated in v3.0.0. This feature will be removed in v6.0.0. See https://github.com/optuna/optuna/releases/tag/v3.0.0. Use suggest_float(..., log=True) instead.\n",
            "  lr = trial.suggest_loguniform('lr', 1e-5, 1e-2)\n",
            "[I 2025-01-04 20:20:23,906] Trial 17 finished with value: 0.7844825545210039 and parameters: {'hidden_units1': 129, 'hidden_units2': 118, 'dropout_rate': 0.4550532181438394, 'lr': 0.0001750482387999839, 'batch_size': 64}. Best is trial 16 with value: 0.6196388364584334.\n"
          ]
        },
        {
          "output_type": "stream",
          "name": "stdout",
          "text": [
            "RSR for roe: 0.7763\n",
            "RSR for sustainability_score: 0.7926\n",
            "ARSR: 0.7845\n"
          ]
        },
        {
          "output_type": "stream",
          "name": "stderr",
          "text": [
            "<ipython-input-25-9a0f24a738bb>:8: FutureWarning: suggest_loguniform has been deprecated in v3.0.0. This feature will be removed in v6.0.0. See https://github.com/optuna/optuna/releases/tag/v3.0.0. Use suggest_float(..., log=True) instead.\n",
            "  lr = trial.suggest_loguniform('lr', 1e-5, 1e-2)\n",
            "[I 2025-01-04 20:20:29,006] Trial 18 finished with value: 0.6404400193258368 and parameters: {'hidden_units1': 255, 'hidden_units2': 75, 'dropout_rate': 0.12077450152962241, 'lr': 0.0005671961811289513, 'batch_size': 64}. Best is trial 16 with value: 0.6196388364584334.\n"
          ]
        },
        {
          "output_type": "stream",
          "name": "stdout",
          "text": [
            "RSR for roe: 0.7447\n",
            "RSR for sustainability_score: 0.5362\n",
            "ARSR: 0.6404\n"
          ]
        },
        {
          "output_type": "stream",
          "name": "stderr",
          "text": [
            "<ipython-input-25-9a0f24a738bb>:8: FutureWarning: suggest_loguniform has been deprecated in v3.0.0. This feature will be removed in v6.0.0. See https://github.com/optuna/optuna/releases/tag/v3.0.0. Use suggest_float(..., log=True) instead.\n",
            "  lr = trial.suggest_loguniform('lr', 1e-5, 1e-2)\n",
            "[I 2025-01-04 20:20:32,312] Trial 19 finished with value: 0.780504551809877 and parameters: {'hidden_units1': 208, 'hidden_units2': 114, 'dropout_rate': 0.19022717775410913, 'lr': 0.00010084605495526496, 'batch_size': 64}. Best is trial 16 with value: 0.6196388364584334.\n"
          ]
        },
        {
          "output_type": "stream",
          "name": "stdout",
          "text": [
            "RSR for roe: 0.7525\n",
            "RSR for sustainability_score: 0.8086\n",
            "ARSR: 0.7805\n"
          ]
        },
        {
          "output_type": "stream",
          "name": "stderr",
          "text": [
            "<ipython-input-25-9a0f24a738bb>:8: FutureWarning: suggest_loguniform has been deprecated in v3.0.0. This feature will be removed in v6.0.0. See https://github.com/optuna/optuna/releases/tag/v3.0.0. Use suggest_float(..., log=True) instead.\n",
            "  lr = trial.suggest_loguniform('lr', 1e-5, 1e-2)\n",
            "[I 2025-01-04 20:20:35,503] Trial 20 finished with value: 0.6260996597197922 and parameters: {'hidden_units1': 170, 'hidden_units2': 97, 'dropout_rate': 0.4597032077458765, 'lr': 0.0009237508452214682, 'batch_size': 64}. Best is trial 16 with value: 0.6196388364584334.\n"
          ]
        },
        {
          "output_type": "stream",
          "name": "stdout",
          "text": [
            "RSR for roe: 0.7339\n",
            "RSR for sustainability_score: 0.5183\n",
            "ARSR: 0.6261\n"
          ]
        },
        {
          "output_type": "stream",
          "name": "stderr",
          "text": [
            "<ipython-input-25-9a0f24a738bb>:8: FutureWarning: suggest_loguniform has been deprecated in v3.0.0. This feature will be removed in v6.0.0. See https://github.com/optuna/optuna/releases/tag/v3.0.0. Use suggest_float(..., log=True) instead.\n",
            "  lr = trial.suggest_loguniform('lr', 1e-5, 1e-2)\n",
            "[I 2025-01-04 20:20:38,611] Trial 21 finished with value: 0.6423649784025476 and parameters: {'hidden_units1': 171, 'hidden_units2': 94, 'dropout_rate': 0.45406434105873117, 'lr': 0.0009170306329740423, 'batch_size': 64}. Best is trial 16 with value: 0.6196388364584334.\n"
          ]
        },
        {
          "output_type": "stream",
          "name": "stdout",
          "text": [
            "RSR for roe: 0.7637\n",
            "RSR for sustainability_score: 0.5210\n",
            "ARSR: 0.6424\n"
          ]
        },
        {
          "output_type": "stream",
          "name": "stderr",
          "text": [
            "<ipython-input-25-9a0f24a738bb>:8: FutureWarning: suggest_loguniform has been deprecated in v3.0.0. This feature will be removed in v6.0.0. See https://github.com/optuna/optuna/releases/tag/v3.0.0. Use suggest_float(..., log=True) instead.\n",
            "  lr = trial.suggest_loguniform('lr', 1e-5, 1e-2)\n",
            "[I 2025-01-04 20:20:42,932] Trial 22 finished with value: 0.7123527501577578 and parameters: {'hidden_units1': 200, 'hidden_units2': 82, 'dropout_rate': 0.39625133393396106, 'lr': 0.00033791175470768007, 'batch_size': 64}. Best is trial 16 with value: 0.6196388364584334.\n"
          ]
        },
        {
          "output_type": "stream",
          "name": "stdout",
          "text": [
            "RSR for roe: 0.7494\n",
            "RSR for sustainability_score: 0.6753\n",
            "ARSR: 0.7124\n"
          ]
        },
        {
          "output_type": "stream",
          "name": "stderr",
          "text": [
            "<ipython-input-25-9a0f24a738bb>:8: FutureWarning: suggest_loguniform has been deprecated in v3.0.0. This feature will be removed in v6.0.0. See https://github.com/optuna/optuna/releases/tag/v3.0.0. Use suggest_float(..., log=True) instead.\n",
            "  lr = trial.suggest_loguniform('lr', 1e-5, 1e-2)\n",
            "[I 2025-01-04 20:20:45,972] Trial 23 finished with value: 0.657691668016785 and parameters: {'hidden_units1': 140, 'hidden_units2': 110, 'dropout_rate': 0.4541114003439719, 'lr': 0.0010928243537605378, 'batch_size': 64}. Best is trial 16 with value: 0.6196388364584334.\n"
          ]
        },
        {
          "output_type": "stream",
          "name": "stdout",
          "text": [
            "RSR for roe: 0.7488\n",
            "RSR for sustainability_score: 0.5666\n",
            "ARSR: 0.6577\n"
          ]
        },
        {
          "output_type": "stream",
          "name": "stderr",
          "text": [
            "<ipython-input-25-9a0f24a738bb>:8: FutureWarning: suggest_loguniform has been deprecated in v3.0.0. This feature will be removed in v6.0.0. See https://github.com/optuna/optuna/releases/tag/v3.0.0. Use suggest_float(..., log=True) instead.\n",
            "  lr = trial.suggest_loguniform('lr', 1e-5, 1e-2)\n",
            "[I 2025-01-04 20:20:47,367] Trial 24 finished with value: 0.6849668205275046 and parameters: {'hidden_units1': 195, 'hidden_units2': 102, 'dropout_rate': 0.4206637791187803, 'lr': 0.003415864724740173, 'batch_size': 64}. Best is trial 16 with value: 0.6196388364584334.\n"
          ]
        },
        {
          "output_type": "stream",
          "name": "stdout",
          "text": [
            "RSR for roe: 0.7619\n",
            "RSR for sustainability_score: 0.6080\n",
            "ARSR: 0.6850\n"
          ]
        },
        {
          "output_type": "stream",
          "name": "stderr",
          "text": [
            "<ipython-input-25-9a0f24a738bb>:8: FutureWarning: suggest_loguniform has been deprecated in v3.0.0. This feature will be removed in v6.0.0. See https://github.com/optuna/optuna/releases/tag/v3.0.0. Use suggest_float(..., log=True) instead.\n",
            "  lr = trial.suggest_loguniform('lr', 1e-5, 1e-2)\n",
            "[I 2025-01-04 20:20:50,447] Trial 25 finished with value: 0.6858103825652035 and parameters: {'hidden_units1': 170, 'hidden_units2': 96, 'dropout_rate': 0.4706888017958825, 'lr': 0.0003913618087869032, 'batch_size': 64}. Best is trial 16 with value: 0.6196388364584334.\n"
          ]
        },
        {
          "output_type": "stream",
          "name": "stdout",
          "text": [
            "RSR for roe: 0.7544\n",
            "RSR for sustainability_score: 0.6173\n",
            "ARSR: 0.6858\n"
          ]
        },
        {
          "output_type": "stream",
          "name": "stderr",
          "text": [
            "<ipython-input-25-9a0f24a738bb>:8: FutureWarning: suggest_loguniform has been deprecated in v3.0.0. This feature will be removed in v6.0.0. See https://github.com/optuna/optuna/releases/tag/v3.0.0. Use suggest_float(..., log=True) instead.\n",
            "  lr = trial.suggest_loguniform('lr', 1e-5, 1e-2)\n",
            "[I 2025-01-04 20:20:52,823] Trial 26 finished with value: 0.6334839496257563 and parameters: {'hidden_units1': 223, 'hidden_units2': 122, 'dropout_rate': 0.37142987386216786, 'lr': 0.003535200762319122, 'batch_size': 64}. Best is trial 16 with value: 0.6196388364584334.\n"
          ]
        },
        {
          "output_type": "stream",
          "name": "stdout",
          "text": [
            "RSR for roe: 0.7334\n",
            "RSR for sustainability_score: 0.5336\n",
            "ARSR: 0.6335\n"
          ]
        },
        {
          "output_type": "stream",
          "name": "stderr",
          "text": [
            "<ipython-input-25-9a0f24a738bb>:8: FutureWarning: suggest_loguniform has been deprecated in v3.0.0. This feature will be removed in v6.0.0. See https://github.com/optuna/optuna/releases/tag/v3.0.0. Use suggest_float(..., log=True) instead.\n",
            "  lr = trial.suggest_loguniform('lr', 1e-5, 1e-2)\n",
            "[I 2025-01-04 20:20:55,095] Trial 27 finished with value: 0.7103599760759501 and parameters: {'hidden_units1': 220, 'hidden_units2': 125, 'dropout_rate': 0.37852990652484375, 'lr': 0.004027629220276609, 'batch_size': 64}. Best is trial 16 with value: 0.6196388364584334.\n"
          ]
        },
        {
          "output_type": "stream",
          "name": "stdout",
          "text": [
            "RSR for roe: 0.7518\n",
            "RSR for sustainability_score: 0.6689\n",
            "ARSR: 0.7104\n"
          ]
        },
        {
          "output_type": "stream",
          "name": "stderr",
          "text": [
            "<ipython-input-25-9a0f24a738bb>:8: FutureWarning: suggest_loguniform has been deprecated in v3.0.0. This feature will be removed in v6.0.0. See https://github.com/optuna/optuna/releases/tag/v3.0.0. Use suggest_float(..., log=True) instead.\n",
            "  lr = trial.suggest_loguniform('lr', 1e-5, 1e-2)\n",
            "[I 2025-01-04 20:20:57,411] Trial 28 finished with value: 0.6630493511475756 and parameters: {'hidden_units1': 249, 'hidden_units2': 114, 'dropout_rate': 0.3295896188982674, 'lr': 0.00487376158493932, 'batch_size': 64}. Best is trial 16 with value: 0.6196388364584334.\n"
          ]
        },
        {
          "output_type": "stream",
          "name": "stdout",
          "text": [
            "RSR for roe: 0.8040\n",
            "RSR for sustainability_score: 0.5221\n",
            "ARSR: 0.6630\n"
          ]
        },
        {
          "output_type": "stream",
          "name": "stderr",
          "text": [
            "<ipython-input-25-9a0f24a738bb>:8: FutureWarning: suggest_loguniform has been deprecated in v3.0.0. This feature will be removed in v6.0.0. See https://github.com/optuna/optuna/releases/tag/v3.0.0. Use suggest_float(..., log=True) instead.\n",
            "  lr = trial.suggest_loguniform('lr', 1e-5, 1e-2)\n",
            "[I 2025-01-04 20:21:00,843] Trial 29 finished with value: 0.7477568947961689 and parameters: {'hidden_units1': 231, 'hidden_units2': 121, 'dropout_rate': 0.42845627446210766, 'lr': 0.00020526880000079715, 'batch_size': 64}. Best is trial 16 with value: 0.6196388364584334.\n"
          ]
        },
        {
          "output_type": "stream",
          "name": "stdout",
          "text": [
            "RSR for roe: 0.7570\n",
            "RSR for sustainability_score: 0.7385\n",
            "ARSR: 0.7478\n"
          ]
        },
        {
          "output_type": "stream",
          "name": "stderr",
          "text": [
            "<ipython-input-25-9a0f24a738bb>:8: FutureWarning: suggest_loguniform has been deprecated in v3.0.0. This feature will be removed in v6.0.0. See https://github.com/optuna/optuna/releases/tag/v3.0.0. Use suggest_float(..., log=True) instead.\n",
            "  lr = trial.suggest_loguniform('lr', 1e-5, 1e-2)\n",
            "[I 2025-01-04 20:21:02,585] Trial 30 finished with value: 0.6422736234389352 and parameters: {'hidden_units1': 164, 'hidden_units2': 104, 'dropout_rate': 0.3498319394439703, 'lr': 0.002639900168948161, 'batch_size': 64}. Best is trial 16 with value: 0.6196388364584334.\n"
          ]
        },
        {
          "output_type": "stream",
          "name": "stdout",
          "text": [
            "RSR for roe: 0.7591\n",
            "RSR for sustainability_score: 0.5254\n",
            "ARSR: 0.6423\n"
          ]
        },
        {
          "output_type": "stream",
          "name": "stderr",
          "text": [
            "<ipython-input-25-9a0f24a738bb>:8: FutureWarning: suggest_loguniform has been deprecated in v3.0.0. This feature will be removed in v6.0.0. See https://github.com/optuna/optuna/releases/tag/v3.0.0. Use suggest_float(..., log=True) instead.\n",
            "  lr = trial.suggest_loguniform('lr', 1e-5, 1e-2)\n",
            "[I 2025-01-04 20:21:05,379] Trial 31 finished with value: 0.6420505250043993 and parameters: {'hidden_units1': 199, 'hidden_units2': 72, 'dropout_rate': 0.47152529359550893, 'lr': 0.0010114606625939505, 'batch_size': 64}. Best is trial 16 with value: 0.6196388364584334.\n"
          ]
        },
        {
          "output_type": "stream",
          "name": "stdout",
          "text": [
            "RSR for roe: 0.7366\n",
            "RSR for sustainability_score: 0.5475\n",
            "ARSR: 0.6421\n"
          ]
        },
        {
          "output_type": "stream",
          "name": "stderr",
          "text": [
            "<ipython-input-25-9a0f24a738bb>:8: FutureWarning: suggest_loguniform has been deprecated in v3.0.0. This feature will be removed in v6.0.0. See https://github.com/optuna/optuna/releases/tag/v3.0.0. Use suggest_float(..., log=True) instead.\n",
            "  lr = trial.suggest_loguniform('lr', 1e-5, 1e-2)\n",
            "[I 2025-01-04 20:21:09,618] Trial 32 finished with value: 0.6580585060443496 and parameters: {'hidden_units1': 181, 'hidden_units2': 91, 'dropout_rate': 0.4308716523214274, 'lr': 0.0011965154388982348, 'batch_size': 64}. Best is trial 16 with value: 0.6196388364584334.\n"
          ]
        },
        {
          "output_type": "stream",
          "name": "stdout",
          "text": [
            "RSR for roe: 0.7652\n",
            "RSR for sustainability_score: 0.5509\n",
            "ARSR: 0.6581\n"
          ]
        },
        {
          "output_type": "stream",
          "name": "stderr",
          "text": [
            "<ipython-input-25-9a0f24a738bb>:8: FutureWarning: suggest_loguniform has been deprecated in v3.0.0. This feature will be removed in v6.0.0. See https://github.com/optuna/optuna/releases/tag/v3.0.0. Use suggest_float(..., log=True) instead.\n",
            "  lr = trial.suggest_loguniform('lr', 1e-5, 1e-2)\n",
            "[I 2025-01-04 20:21:12,753] Trial 33 finished with value: 0.6931075888062139 and parameters: {'hidden_units1': 218, 'hidden_units2': 83, 'dropout_rate': 0.3893308375470937, 'lr': 0.00045268361604315746, 'batch_size': 64}. Best is trial 16 with value: 0.6196388364584334.\n"
          ]
        },
        {
          "output_type": "stream",
          "name": "stdout",
          "text": [
            "RSR for roe: 0.7530\n",
            "RSR for sustainability_score: 0.6332\n",
            "ARSR: 0.6931\n"
          ]
        },
        {
          "output_type": "stream",
          "name": "stderr",
          "text": [
            "<ipython-input-25-9a0f24a738bb>:8: FutureWarning: suggest_loguniform has been deprecated in v3.0.0. This feature will be removed in v6.0.0. See https://github.com/optuna/optuna/releases/tag/v3.0.0. Use suggest_float(..., log=True) instead.\n",
            "  lr = trial.suggest_loguniform('lr', 1e-5, 1e-2)\n",
            "[I 2025-01-04 20:21:15,819] Trial 34 finished with value: 0.6524670070412937 and parameters: {'hidden_units1': 159, 'hidden_units2': 110, 'dropout_rate': 0.4713411647904125, 'lr': 0.0007660859843870458, 'batch_size': 64}. Best is trial 16 with value: 0.6196388364584334.\n"
          ]
        },
        {
          "output_type": "stream",
          "name": "stdout",
          "text": [
            "RSR for roe: 0.7620\n",
            "RSR for sustainability_score: 0.5429\n",
            "ARSR: 0.6525\n"
          ]
        },
        {
          "output_type": "stream",
          "name": "stderr",
          "text": [
            "<ipython-input-25-9a0f24a738bb>:8: FutureWarning: suggest_loguniform has been deprecated in v3.0.0. This feature will be removed in v6.0.0. See https://github.com/optuna/optuna/releases/tag/v3.0.0. Use suggest_float(..., log=True) instead.\n",
            "  lr = trial.suggest_loguniform('lr', 1e-5, 1e-2)\n",
            "[I 2025-01-04 20:21:18,910] Trial 35 finished with value: 0.76410620004738 and parameters: {'hidden_units1': 180, 'hidden_units2': 90, 'dropout_rate': 0.4433813600247756, 'lr': 0.00023769979186007045, 'batch_size': 64}. Best is trial 16 with value: 0.6196388364584334.\n"
          ]
        },
        {
          "output_type": "stream",
          "name": "stdout",
          "text": [
            "RSR for roe: 0.7737\n",
            "RSR for sustainability_score: 0.7545\n",
            "ARSR: 0.7641\n"
          ]
        },
        {
          "output_type": "stream",
          "name": "stderr",
          "text": [
            "<ipython-input-25-9a0f24a738bb>:8: FutureWarning: suggest_loguniform has been deprecated in v3.0.0. This feature will be removed in v6.0.0. See https://github.com/optuna/optuna/releases/tag/v3.0.0. Use suggest_float(..., log=True) instead.\n",
            "  lr = trial.suggest_loguniform('lr', 1e-5, 1e-2)\n",
            "[I 2025-01-04 20:21:21,379] Trial 36 finished with value: 0.6585311410204329 and parameters: {'hidden_units1': 203, 'hidden_units2': 65, 'dropout_rate': 0.41249197471963384, 'lr': 0.0015858193691530864, 'batch_size': 64}. Best is trial 16 with value: 0.6196388364584334.\n"
          ]
        },
        {
          "output_type": "stream",
          "name": "stdout",
          "text": [
            "RSR for roe: 0.7581\n",
            "RSR for sustainability_score: 0.5589\n",
            "ARSR: 0.6585\n"
          ]
        },
        {
          "output_type": "stream",
          "name": "stderr",
          "text": [
            "<ipython-input-25-9a0f24a738bb>:8: FutureWarning: suggest_loguniform has been deprecated in v3.0.0. This feature will be removed in v6.0.0. See https://github.com/optuna/optuna/releases/tag/v3.0.0. Use suggest_float(..., log=True) instead.\n",
            "  lr = trial.suggest_loguniform('lr', 1e-5, 1e-2)\n",
            "[I 2025-01-04 20:21:23,871] Trial 37 finished with value: 0.6569391350599729 and parameters: {'hidden_units1': 192, 'hidden_units2': 99, 'dropout_rate': 0.4807730885314405, 'lr': 0.0024816404940613446, 'batch_size': 128}. Best is trial 16 with value: 0.6196388364584334.\n"
          ]
        },
        {
          "output_type": "stream",
          "name": "stdout",
          "text": [
            "RSR for roe: 0.7529\n",
            "RSR for sustainability_score: 0.5609\n",
            "ARSR: 0.6569\n"
          ]
        },
        {
          "output_type": "stream",
          "name": "stderr",
          "text": [
            "<ipython-input-25-9a0f24a738bb>:8: FutureWarning: suggest_loguniform has been deprecated in v3.0.0. This feature will be removed in v6.0.0. See https://github.com/optuna/optuna/releases/tag/v3.0.0. Use suggest_float(..., log=True) instead.\n",
            "  lr = trial.suggest_loguniform('lr', 1e-5, 1e-2)\n",
            "[I 2025-01-04 20:21:26,823] Trial 38 finished with value: 0.8321060610715362 and parameters: {'hidden_units1': 147, 'hidden_units2': 79, 'dropout_rate': 0.2787596078309512, 'lr': 8.410742135591506e-05, 'batch_size': 64}. Best is trial 16 with value: 0.6196388364584334.\n"
          ]
        },
        {
          "output_type": "stream",
          "name": "stdout",
          "text": [
            "RSR for roe: 0.7917\n",
            "RSR for sustainability_score: 0.8726\n",
            "ARSR: 0.8321\n"
          ]
        },
        {
          "output_type": "stream",
          "name": "stderr",
          "text": [
            "<ipython-input-25-9a0f24a738bb>:8: FutureWarning: suggest_loguniform has been deprecated in v3.0.0. This feature will be removed in v6.0.0. See https://github.com/optuna/optuna/releases/tag/v3.0.0. Use suggest_float(..., log=True) instead.\n",
            "  lr = trial.suggest_loguniform('lr', 1e-5, 1e-2)\n",
            "[I 2025-01-04 20:21:30,694] Trial 39 finished with value: 0.6471403533171157 and parameters: {'hidden_units1': 123, 'hidden_units2': 118, 'dropout_rate': 0.36441148005379237, 'lr': 0.000675833336601157, 'batch_size': 32}. Best is trial 16 with value: 0.6196388364584334.\n"
          ]
        },
        {
          "output_type": "stream",
          "name": "stdout",
          "text": [
            "RSR for roe: 0.7413\n",
            "RSR for sustainability_score: 0.5530\n",
            "ARSR: 0.6471\n"
          ]
        },
        {
          "output_type": "stream",
          "name": "stderr",
          "text": [
            "<ipython-input-25-9a0f24a738bb>:8: FutureWarning: suggest_loguniform has been deprecated in v3.0.0. This feature will be removed in v6.0.0. See https://github.com/optuna/optuna/releases/tag/v3.0.0. Use suggest_float(..., log=True) instead.\n",
            "  lr = trial.suggest_loguniform('lr', 1e-5, 1e-2)\n",
            "[I 2025-01-04 20:21:32,481] Trial 40 finished with value: 0.6838059972713677 and parameters: {'hidden_units1': 239, 'hidden_units2': 58, 'dropout_rate': 0.32213639775515523, 'lr': 0.0013461802704205124, 'batch_size': 128}. Best is trial 16 with value: 0.6196388364584334.\n"
          ]
        },
        {
          "output_type": "stream",
          "name": "stdout",
          "text": [
            "RSR for roe: 0.8020\n",
            "RSR for sustainability_score: 0.5656\n",
            "ARSR: 0.6838\n"
          ]
        },
        {
          "output_type": "stream",
          "name": "stderr",
          "text": [
            "<ipython-input-25-9a0f24a738bb>:8: FutureWarning: suggest_loguniform has been deprecated in v3.0.0. This feature will be removed in v6.0.0. See https://github.com/optuna/optuna/releases/tag/v3.0.0. Use suggest_float(..., log=True) instead.\n",
            "  lr = trial.suggest_loguniform('lr', 1e-5, 1e-2)\n",
            "[I 2025-01-04 20:21:36,923] Trial 41 finished with value: 0.6090535057618737 and parameters: {'hidden_units1': 254, 'hidden_units2': 75, 'dropout_rate': 0.10383577415946255, 'lr': 0.0005931226400552811, 'batch_size': 64}. Best is trial 41 with value: 0.6090535057618737.\n"
          ]
        },
        {
          "output_type": "stream",
          "name": "stdout",
          "text": [
            "RSR for roe: 0.7248\n",
            "RSR for sustainability_score: 0.4933\n",
            "ARSR: 0.6091\n"
          ]
        },
        {
          "output_type": "stream",
          "name": "stderr",
          "text": [
            "<ipython-input-25-9a0f24a738bb>:8: FutureWarning: suggest_loguniform has been deprecated in v3.0.0. This feature will be removed in v6.0.0. See https://github.com/optuna/optuna/releases/tag/v3.0.0. Use suggest_float(..., log=True) instead.\n",
            "  lr = trial.suggest_loguniform('lr', 1e-5, 1e-2)\n",
            "[I 2025-01-04 20:21:40,096] Trial 42 finished with value: 0.6672362330384988 and parameters: {'hidden_units1': 227, 'hidden_units2': 86, 'dropout_rate': 0.1893891354403951, 'lr': 0.0004346313679341278, 'batch_size': 64}. Best is trial 41 with value: 0.6090535057618737.\n"
          ]
        },
        {
          "output_type": "stream",
          "name": "stdout",
          "text": [
            "RSR for roe: 0.7617\n",
            "RSR for sustainability_score: 0.5727\n",
            "ARSR: 0.6672\n"
          ]
        },
        {
          "output_type": "stream",
          "name": "stderr",
          "text": [
            "<ipython-input-25-9a0f24a738bb>:8: FutureWarning: suggest_loguniform has been deprecated in v3.0.0. This feature will be removed in v6.0.0. See https://github.com/optuna/optuna/releases/tag/v3.0.0. Use suggest_float(..., log=True) instead.\n",
            "  lr = trial.suggest_loguniform('lr', 1e-5, 1e-2)\n",
            "[I 2025-01-04 20:21:43,251] Trial 43 finished with value: 0.6849805792391778 and parameters: {'hidden_units1': 243, 'hidden_units2': 71, 'dropout_rate': 0.14972846529236647, 'lr': 0.0002904398345781848, 'batch_size': 64}. Best is trial 41 with value: 0.6090535057618737.\n"
          ]
        },
        {
          "output_type": "stream",
          "name": "stdout",
          "text": [
            "RSR for roe: 0.7292\n",
            "RSR for sustainability_score: 0.6407\n",
            "ARSR: 0.6850\n"
          ]
        },
        {
          "output_type": "stream",
          "name": "stderr",
          "text": [
            "<ipython-input-25-9a0f24a738bb>:8: FutureWarning: suggest_loguniform has been deprecated in v3.0.0. This feature will be removed in v6.0.0. See https://github.com/optuna/optuna/releases/tag/v3.0.0. Use suggest_float(..., log=True) instead.\n",
            "  lr = trial.suggest_loguniform('lr', 1e-5, 1e-2)\n",
            "[I 2025-01-04 20:21:46,172] Trial 44 finished with value: 0.6111891524397521 and parameters: {'hidden_units1': 219, 'hidden_units2': 61, 'dropout_rate': 0.10113398813726639, 'lr': 0.0008297350410036145, 'batch_size': 64}. Best is trial 41 with value: 0.6090535057618737.\n"
          ]
        },
        {
          "output_type": "stream",
          "name": "stdout",
          "text": [
            "RSR for roe: 0.7376\n",
            "RSR for sustainability_score: 0.4847\n",
            "ARSR: 0.6112\n"
          ]
        },
        {
          "output_type": "stream",
          "name": "stderr",
          "text": [
            "<ipython-input-25-9a0f24a738bb>:8: FutureWarning: suggest_loguniform has been deprecated in v3.0.0. This feature will be removed in v6.0.0. See https://github.com/optuna/optuna/releases/tag/v3.0.0. Use suggest_float(..., log=True) instead.\n",
            "  lr = trial.suggest_loguniform('lr', 1e-5, 1e-2)\n",
            "[I 2025-01-04 20:21:48,642] Trial 45 finished with value: 0.7353239706209301 and parameters: {'hidden_units1': 220, 'hidden_units2': 60, 'dropout_rate': 0.11613426545725919, 'lr': 0.006145724336556131, 'batch_size': 64}. Best is trial 41 with value: 0.6090535057618737.\n"
          ]
        },
        {
          "output_type": "stream",
          "name": "stdout",
          "text": [
            "RSR for roe: 0.7698\n",
            "RSR for sustainability_score: 0.7009\n",
            "ARSR: 0.7353\n"
          ]
        },
        {
          "output_type": "stream",
          "name": "stderr",
          "text": [
            "<ipython-input-25-9a0f24a738bb>:8: FutureWarning: suggest_loguniform has been deprecated in v3.0.0. This feature will be removed in v6.0.0. See https://github.com/optuna/optuna/releases/tag/v3.0.0. Use suggest_float(..., log=True) instead.\n",
            "  lr = trial.suggest_loguniform('lr', 1e-5, 1e-2)\n",
            "[I 2025-01-04 20:21:51,393] Trial 46 finished with value: 0.6745905918831983 and parameters: {'hidden_units1': 69, 'hidden_units2': 50, 'dropout_rate': 0.16298890893585744, 'lr': 0.002300987623366311, 'batch_size': 32}. Best is trial 41 with value: 0.6090535057618737.\n"
          ]
        },
        {
          "output_type": "stream",
          "name": "stdout",
          "text": [
            "RSR for roe: 0.7602\n",
            "RSR for sustainability_score: 0.5890\n",
            "ARSR: 0.6746\n"
          ]
        },
        {
          "output_type": "stream",
          "name": "stderr",
          "text": [
            "<ipython-input-25-9a0f24a738bb>:8: FutureWarning: suggest_loguniform has been deprecated in v3.0.0. This feature will be removed in v6.0.0. See https://github.com/optuna/optuna/releases/tag/v3.0.0. Use suggest_float(..., log=True) instead.\n",
            "  lr = trial.suggest_loguniform('lr', 1e-5, 1e-2)\n",
            "[I 2025-01-04 20:21:54,518] Trial 47 finished with value: 0.6565998889853097 and parameters: {'hidden_units1': 250, 'hidden_units2': 57, 'dropout_rate': 0.10813593996801156, 'lr': 0.00047313525058641226, 'batch_size': 64}. Best is trial 41 with value: 0.6090535057618737.\n"
          ]
        },
        {
          "output_type": "stream",
          "name": "stdout",
          "text": [
            "RSR for roe: 0.7245\n",
            "RSR for sustainability_score: 0.5887\n",
            "ARSR: 0.6566\n"
          ]
        },
        {
          "output_type": "stream",
          "name": "stderr",
          "text": [
            "<ipython-input-25-9a0f24a738bb>:8: FutureWarning: suggest_loguniform has been deprecated in v3.0.0. This feature will be removed in v6.0.0. See https://github.com/optuna/optuna/releases/tag/v3.0.0. Use suggest_float(..., log=True) instead.\n",
            "  lr = trial.suggest_loguniform('lr', 1e-5, 1e-2)\n",
            "[I 2025-01-04 20:21:56,282] Trial 48 finished with value: 0.6253577303210647 and parameters: {'hidden_units1': 234, 'hidden_units2': 66, 'dropout_rate': 0.25186030505439594, 'lr': 0.0017657710894866132, 'batch_size': 128}. Best is trial 41 with value: 0.6090535057618737.\n"
          ]
        },
        {
          "output_type": "stream",
          "name": "stdout",
          "text": [
            "RSR for roe: 0.7497\n",
            "RSR for sustainability_score: 0.5010\n",
            "ARSR: 0.6254\n"
          ]
        },
        {
          "output_type": "stream",
          "name": "stderr",
          "text": [
            "<ipython-input-25-9a0f24a738bb>:8: FutureWarning: suggest_loguniform has been deprecated in v3.0.0. This feature will be removed in v6.0.0. See https://github.com/optuna/optuna/releases/tag/v3.0.0. Use suggest_float(..., log=True) instead.\n",
            "  lr = trial.suggest_loguniform('lr', 1e-5, 1e-2)\n",
            "[I 2025-01-04 20:21:58,342] Trial 49 finished with value: 0.658174334440331 and parameters: {'hidden_units1': 255, 'hidden_units2': 65, 'dropout_rate': 0.24337850994117463, 'lr': 0.0015349057436250945, 'batch_size': 128}. Best is trial 41 with value: 0.6090535057618737.\n"
          ]
        },
        {
          "output_type": "stream",
          "name": "stdout",
          "text": [
            "RSR for roe: 0.7728\n",
            "RSR for sustainability_score: 0.5436\n",
            "ARSR: 0.6582\n"
          ]
        },
        {
          "output_type": "stream",
          "name": "stderr",
          "text": [
            "<ipython-input-25-9a0f24a738bb>:8: FutureWarning: suggest_loguniform has been deprecated in v3.0.0. This feature will be removed in v6.0.0. See https://github.com/optuna/optuna/releases/tag/v3.0.0. Use suggest_float(..., log=True) instead.\n",
            "  lr = trial.suggest_loguniform('lr', 1e-5, 1e-2)\n",
            "[I 2025-01-04 20:22:00,157] Trial 50 finished with value: 0.68269416317101 and parameters: {'hidden_units1': 233, 'hidden_units2': 41, 'dropout_rate': 0.20934256146582275, 'lr': 0.0007096692135215092, 'batch_size': 128}. Best is trial 41 with value: 0.6090535057618737.\n"
          ]
        },
        {
          "output_type": "stream",
          "name": "stdout",
          "text": [
            "RSR for roe: 0.7549\n",
            "RSR for sustainability_score: 0.6105\n",
            "ARSR: 0.6827\n"
          ]
        },
        {
          "output_type": "stream",
          "name": "stderr",
          "text": [
            "<ipython-input-25-9a0f24a738bb>:8: FutureWarning: suggest_loguniform has been deprecated in v3.0.0. This feature will be removed in v6.0.0. See https://github.com/optuna/optuna/releases/tag/v3.0.0. Use suggest_float(..., log=True) instead.\n",
            "  lr = trial.suggest_loguniform('lr', 1e-5, 1e-2)\n",
            "[I 2025-01-04 20:22:01,672] Trial 51 finished with value: 0.662342166799725 and parameters: {'hidden_units1': 240, 'hidden_units2': 68, 'dropout_rate': 0.12961428985156404, 'lr': 0.0031105673643450895, 'batch_size': 128}. Best is trial 41 with value: 0.6090535057618737.\n"
          ]
        },
        {
          "output_type": "stream",
          "name": "stdout",
          "text": [
            "RSR for roe: 0.7740\n",
            "RSR for sustainability_score: 0.5507\n",
            "ARSR: 0.6623\n"
          ]
        },
        {
          "output_type": "stream",
          "name": "stderr",
          "text": [
            "<ipython-input-25-9a0f24a738bb>:8: FutureWarning: suggest_loguniform has been deprecated in v3.0.0. This feature will be removed in v6.0.0. See https://github.com/optuna/optuna/releases/tag/v3.0.0. Use suggest_float(..., log=True) instead.\n",
            "  lr = trial.suggest_loguniform('lr', 1e-5, 1e-2)\n",
            "[I 2025-01-04 20:22:02,833] Trial 52 finished with value: 0.7086064875469951 and parameters: {'hidden_units1': 209, 'hidden_units2': 69, 'dropout_rate': 0.10081075088370908, 'lr': 0.009905927888770935, 'batch_size': 128}. Best is trial 41 with value: 0.6090535057618737.\n"
          ]
        },
        {
          "output_type": "stream",
          "name": "stdout",
          "text": [
            "RSR for roe: 0.8068\n",
            "RSR for sustainability_score: 0.6104\n",
            "ARSR: 0.7086\n"
          ]
        },
        {
          "output_type": "stream",
          "name": "stderr",
          "text": [
            "<ipython-input-25-9a0f24a738bb>:8: FutureWarning: suggest_loguniform has been deprecated in v3.0.0. This feature will be removed in v6.0.0. See https://github.com/optuna/optuna/releases/tag/v3.0.0. Use suggest_float(..., log=True) instead.\n",
            "  lr = trial.suggest_loguniform('lr', 1e-5, 1e-2)\n",
            "[I 2025-01-04 20:22:04,834] Trial 53 finished with value: 0.7417850635013843 and parameters: {'hidden_units1': 187, 'hidden_units2': 54, 'dropout_rate': 0.28675285478458656, 'lr': 0.0005623389507990657, 'batch_size': 128}. Best is trial 41 with value: 0.6090535057618737.\n"
          ]
        },
        {
          "output_type": "stream",
          "name": "stdout",
          "text": [
            "RSR for roe: 0.7751\n",
            "RSR for sustainability_score: 0.7085\n",
            "ARSR: 0.7418\n"
          ]
        },
        {
          "output_type": "stream",
          "name": "stderr",
          "text": [
            "<ipython-input-25-9a0f24a738bb>:8: FutureWarning: suggest_loguniform has been deprecated in v3.0.0. This feature will be removed in v6.0.0. See https://github.com/optuna/optuna/releases/tag/v3.0.0. Use suggest_float(..., log=True) instead.\n",
            "  lr = trial.suggest_loguniform('lr', 1e-5, 1e-2)\n",
            "[I 2025-01-04 20:22:10,142] Trial 54 finished with value: 0.6236486304370468 and parameters: {'hidden_units1': 216, 'hidden_units2': 61, 'dropout_rate': 0.16521363160182695, 'lr': 0.0009123209057876477, 'batch_size': 32}. Best is trial 41 with value: 0.6090535057618737.\n"
          ]
        },
        {
          "output_type": "stream",
          "name": "stdout",
          "text": [
            "RSR for roe: 0.7264\n",
            "RSR for sustainability_score: 0.5209\n",
            "ARSR: 0.6236\n"
          ]
        },
        {
          "output_type": "stream",
          "name": "stderr",
          "text": [
            "<ipython-input-25-9a0f24a738bb>:8: FutureWarning: suggest_loguniform has been deprecated in v3.0.0. This feature will be removed in v6.0.0. See https://github.com/optuna/optuna/releases/tag/v3.0.0. Use suggest_float(..., log=True) instead.\n",
            "  lr = trial.suggest_loguniform('lr', 1e-5, 1e-2)\n",
            "[I 2025-01-04 20:22:13,619] Trial 55 finished with value: 0.6326386558408886 and parameters: {'hidden_units1': 216, 'hidden_units2': 62, 'dropout_rate': 0.16214276594610338, 'lr': 0.001932798956469335, 'batch_size': 32}. Best is trial 41 with value: 0.6090535057618737.\n"
          ]
        },
        {
          "output_type": "stream",
          "name": "stdout",
          "text": [
            "RSR for roe: 0.7772\n",
            "RSR for sustainability_score: 0.4881\n",
            "ARSR: 0.6326\n"
          ]
        },
        {
          "output_type": "stream",
          "name": "stderr",
          "text": [
            "<ipython-input-25-9a0f24a738bb>:8: FutureWarning: suggest_loguniform has been deprecated in v3.0.0. This feature will be removed in v6.0.0. See https://github.com/optuna/optuna/releases/tag/v3.0.0. Use suggest_float(..., log=True) instead.\n",
            "  lr = trial.suggest_loguniform('lr', 1e-5, 1e-2)\n",
            "[I 2025-01-04 20:22:17,357] Trial 56 finished with value: 0.665174513289112 and parameters: {'hidden_units1': 205, 'hidden_units2': 45, 'dropout_rate': 0.14004907687884324, 'lr': 0.001314170664489894, 'batch_size': 32}. Best is trial 41 with value: 0.6090535057618737.\n"
          ]
        },
        {
          "output_type": "stream",
          "name": "stdout",
          "text": [
            "RSR for roe: 0.7491\n",
            "RSR for sustainability_score: 0.5812\n",
            "ARSR: 0.6652\n"
          ]
        },
        {
          "output_type": "stream",
          "name": "stderr",
          "text": [
            "<ipython-input-25-9a0f24a738bb>:8: FutureWarning: suggest_loguniform has been deprecated in v3.0.0. This feature will be removed in v6.0.0. See https://github.com/optuna/optuna/releases/tag/v3.0.0. Use suggest_float(..., log=True) instead.\n",
            "  lr = trial.suggest_loguniform('lr', 1e-5, 1e-2)\n",
            "[I 2025-01-04 20:22:22,442] Trial 57 finished with value: 0.6066166612189993 and parameters: {'hidden_units1': 175, 'hidden_units2': 73, 'dropout_rate': 0.2650463259421376, 'lr': 0.0008698351036376007, 'batch_size': 32}. Best is trial 57 with value: 0.6066166612189993.\n"
          ]
        },
        {
          "output_type": "stream",
          "name": "stdout",
          "text": [
            "RSR for roe: 0.7366\n",
            "RSR for sustainability_score: 0.4766\n",
            "ARSR: 0.6066\n"
          ]
        },
        {
          "output_type": "stream",
          "name": "stderr",
          "text": [
            "<ipython-input-25-9a0f24a738bb>:8: FutureWarning: suggest_loguniform has been deprecated in v3.0.0. This feature will be removed in v6.0.0. See https://github.com/optuna/optuna/releases/tag/v3.0.0. Use suggest_float(..., log=True) instead.\n",
            "  lr = trial.suggest_loguniform('lr', 1e-5, 1e-2)\n",
            "[I 2025-01-04 20:22:28,386] Trial 58 finished with value: 0.6650820905901298 and parameters: {'hidden_units1': 228, 'hidden_units2': 74, 'dropout_rate': 0.26740326450685836, 'lr': 0.00033644156579524755, 'batch_size': 32}. Best is trial 57 with value: 0.6066166612189993.\n"
          ]
        },
        {
          "output_type": "stream",
          "name": "stdout",
          "text": [
            "RSR for roe: 0.7334\n",
            "RSR for sustainability_score: 0.5968\n",
            "ARSR: 0.6651\n"
          ]
        },
        {
          "output_type": "stream",
          "name": "stderr",
          "text": [
            "<ipython-input-25-9a0f24a738bb>:8: FutureWarning: suggest_loguniform has been deprecated in v3.0.0. This feature will be removed in v6.0.0. See https://github.com/optuna/optuna/releases/tag/v3.0.0. Use suggest_float(..., log=True) instead.\n",
            "  lr = trial.suggest_loguniform('lr', 1e-5, 1e-2)\n",
            "[I 2025-01-04 20:22:34,591] Trial 59 finished with value: 0.6144956163157183 and parameters: {'hidden_units1': 248, 'hidden_units2': 78, 'dropout_rate': 0.24324035922460033, 'lr': 0.0008706641076303445, 'batch_size': 32}. Best is trial 57 with value: 0.6066166612189993.\n"
          ]
        },
        {
          "output_type": "stream",
          "name": "stdout",
          "text": [
            "RSR for roe: 0.7169\n",
            "RSR for sustainability_score: 0.5121\n",
            "ARSR: 0.6145\n"
          ]
        },
        {
          "output_type": "stream",
          "name": "stderr",
          "text": [
            "<ipython-input-25-9a0f24a738bb>:8: FutureWarning: suggest_loguniform has been deprecated in v3.0.0. This feature will be removed in v6.0.0. See https://github.com/optuna/optuna/releases/tag/v3.0.0. Use suggest_float(..., log=True) instead.\n",
            "  lr = trial.suggest_loguniform('lr', 1e-5, 1e-2)\n",
            "[I 2025-01-04 20:22:39,825] Trial 60 finished with value: 0.6381074826108879 and parameters: {'hidden_units1': 246, 'hidden_units2': 79, 'dropout_rate': 0.22951347099590041, 'lr': 0.0008242985608275099, 'batch_size': 32}. Best is trial 57 with value: 0.6066166612189993.\n"
          ]
        },
        {
          "output_type": "stream",
          "name": "stdout",
          "text": [
            "RSR for roe: 0.7530\n",
            "RSR for sustainability_score: 0.5232\n",
            "ARSR: 0.6381\n"
          ]
        },
        {
          "output_type": "stream",
          "name": "stderr",
          "text": [
            "<ipython-input-25-9a0f24a738bb>:8: FutureWarning: suggest_loguniform has been deprecated in v3.0.0. This feature will be removed in v6.0.0. See https://github.com/optuna/optuna/releases/tag/v3.0.0. Use suggest_float(..., log=True) instead.\n",
            "  lr = trial.suggest_loguniform('lr', 1e-5, 1e-2)\n",
            "[I 2025-01-04 20:22:46,063] Trial 61 finished with value: 0.6416861001750411 and parameters: {'hidden_units1': 236, 'hidden_units2': 67, 'dropout_rate': 0.2530893463105405, 'lr': 0.0005549887534023956, 'batch_size': 32}. Best is trial 57 with value: 0.6066166612189993.\n"
          ]
        },
        {
          "output_type": "stream",
          "name": "stdout",
          "text": [
            "RSR for roe: 0.7356\n",
            "RSR for sustainability_score: 0.5478\n",
            "ARSR: 0.6417\n"
          ]
        },
        {
          "output_type": "stream",
          "name": "stderr",
          "text": [
            "<ipython-input-25-9a0f24a738bb>:8: FutureWarning: suggest_loguniform has been deprecated in v3.0.0. This feature will be removed in v6.0.0. See https://github.com/optuna/optuna/releases/tag/v3.0.0. Use suggest_float(..., log=True) instead.\n",
            "  lr = trial.suggest_loguniform('lr', 1e-5, 1e-2)\n",
            "[I 2025-01-04 20:22:50,094] Trial 62 finished with value: 0.625681791553331 and parameters: {'hidden_units1': 254, 'hidden_units2': 54, 'dropout_rate': 0.19200362785153394, 'lr': 0.001040310757234737, 'batch_size': 32}. Best is trial 57 with value: 0.6066166612189993.\n"
          ]
        },
        {
          "output_type": "stream",
          "name": "stdout",
          "text": [
            "RSR for roe: 0.7215\n",
            "RSR for sustainability_score: 0.5298\n",
            "ARSR: 0.6257\n"
          ]
        },
        {
          "output_type": "stream",
          "name": "stderr",
          "text": [
            "<ipython-input-25-9a0f24a738bb>:8: FutureWarning: suggest_loguniform has been deprecated in v3.0.0. This feature will be removed in v6.0.0. See https://github.com/optuna/optuna/releases/tag/v3.0.0. Use suggest_float(..., log=True) instead.\n",
            "  lr = trial.suggest_loguniform('lr', 1e-5, 1e-2)\n",
            "[I 2025-01-04 20:22:54,337] Trial 63 finished with value: 0.6028880240592814 and parameters: {'hidden_units1': 213, 'hidden_units2': 63, 'dropout_rate': 0.23672607202923537, 'lr': 0.0018604608413098122, 'batch_size': 32}. Best is trial 63 with value: 0.6028880240592814.\n"
          ]
        },
        {
          "output_type": "stream",
          "name": "stdout",
          "text": [
            "RSR for roe: 0.7236\n",
            "RSR for sustainability_score: 0.4822\n",
            "ARSR: 0.6029\n"
          ]
        },
        {
          "output_type": "stream",
          "name": "stderr",
          "text": [
            "<ipython-input-25-9a0f24a738bb>:8: FutureWarning: suggest_loguniform has been deprecated in v3.0.0. This feature will be removed in v6.0.0. See https://github.com/optuna/optuna/releases/tag/v3.0.0. Use suggest_float(..., log=True) instead.\n",
            "  lr = trial.suggest_loguniform('lr', 1e-5, 1e-2)\n",
            "[I 2025-01-04 20:22:59,853] Trial 64 finished with value: 0.6274537174556182 and parameters: {'hidden_units1': 188, 'hidden_units2': 62, 'dropout_rate': 0.21341288398768266, 'lr': 0.0007795813287236238, 'batch_size': 32}. Best is trial 63 with value: 0.6028880240592814.\n"
          ]
        },
        {
          "output_type": "stream",
          "name": "stdout",
          "text": [
            "RSR for roe: 0.7544\n",
            "RSR for sustainability_score: 0.5005\n",
            "ARSR: 0.6275\n"
          ]
        },
        {
          "output_type": "stream",
          "name": "stderr",
          "text": [
            "<ipython-input-25-9a0f24a738bb>:8: FutureWarning: suggest_loguniform has been deprecated in v3.0.0. This feature will be removed in v6.0.0. See https://github.com/optuna/optuna/releases/tag/v3.0.0. Use suggest_float(..., log=True) instead.\n",
            "  lr = trial.suggest_loguniform('lr', 1e-5, 1e-2)\n",
            "[I 2025-01-04 20:23:03,551] Trial 65 finished with value: 0.6549465727613555 and parameters: {'hidden_units1': 173, 'hidden_units2': 76, 'dropout_rate': 0.29737993540967145, 'lr': 0.0011936021858870824, 'batch_size': 32}. Best is trial 63 with value: 0.6028880240592814.\n"
          ]
        },
        {
          "output_type": "stream",
          "name": "stdout",
          "text": [
            "RSR for roe: 0.7527\n",
            "RSR for sustainability_score: 0.5572\n",
            "ARSR: 0.6549\n"
          ]
        },
        {
          "output_type": "stream",
          "name": "stderr",
          "text": [
            "<ipython-input-25-9a0f24a738bb>:8: FutureWarning: suggest_loguniform has been deprecated in v3.0.0. This feature will be removed in v6.0.0. See https://github.com/optuna/optuna/releases/tag/v3.0.0. Use suggest_float(..., log=True) instead.\n",
            "  lr = trial.suggest_loguniform('lr', 1e-5, 1e-2)\n",
            "[I 2025-01-04 20:23:09,599] Trial 66 finished with value: 0.6188866593864469 and parameters: {'hidden_units1': 215, 'hidden_units2': 71, 'dropout_rate': 0.173852554912441, 'lr': 0.0006145633105018534, 'batch_size': 32}. Best is trial 63 with value: 0.6028880240592814.\n"
          ]
        },
        {
          "output_type": "stream",
          "name": "stdout",
          "text": [
            "RSR for roe: 0.7184\n",
            "RSR for sustainability_score: 0.5194\n",
            "ARSR: 0.6189\n"
          ]
        },
        {
          "output_type": "stream",
          "name": "stderr",
          "text": [
            "<ipython-input-25-9a0f24a738bb>:8: FutureWarning: suggest_loguniform has been deprecated in v3.0.0. This feature will be removed in v6.0.0. See https://github.com/optuna/optuna/releases/tag/v3.0.0. Use suggest_float(..., log=True) instead.\n",
            "  lr = trial.suggest_loguniform('lr', 1e-5, 1e-2)\n",
            "[I 2025-01-04 20:23:15,589] Trial 67 finished with value: 0.6356892714741085 and parameters: {'hidden_units1': 212, 'hidden_units2': 83, 'dropout_rate': 0.23307611911305764, 'lr': 0.0005371811493524437, 'batch_size': 32}. Best is trial 63 with value: 0.6028880240592814.\n"
          ]
        },
        {
          "output_type": "stream",
          "name": "stdout",
          "text": [
            "RSR for roe: 0.7292\n",
            "RSR for sustainability_score: 0.5422\n",
            "ARSR: 0.6357\n"
          ]
        },
        {
          "output_type": "stream",
          "name": "stderr",
          "text": [
            "<ipython-input-25-9a0f24a738bb>:8: FutureWarning: suggest_loguniform has been deprecated in v3.0.0. This feature will be removed in v6.0.0. See https://github.com/optuna/optuna/releases/tag/v3.0.0. Use suggest_float(..., log=True) instead.\n",
            "  lr = trial.suggest_loguniform('lr', 1e-5, 1e-2)\n",
            "[I 2025-01-04 20:23:20,805] Trial 68 finished with value: 0.6549119221920425 and parameters: {'hidden_units1': 200, 'hidden_units2': 71, 'dropout_rate': 0.1787331414322545, 'lr': 0.00036911571317266545, 'batch_size': 32}. Best is trial 63 with value: 0.6028880240592814.\n"
          ]
        },
        {
          "output_type": "stream",
          "name": "stdout",
          "text": [
            "RSR for roe: 0.7649\n",
            "RSR for sustainability_score: 0.5449\n",
            "ARSR: 0.6549\n"
          ]
        },
        {
          "output_type": "stream",
          "name": "stderr",
          "text": [
            "<ipython-input-25-9a0f24a738bb>:8: FutureWarning: suggest_loguniform has been deprecated in v3.0.0. This feature will be removed in v6.0.0. See https://github.com/optuna/optuna/releases/tag/v3.0.0. Use suggest_float(..., log=True) instead.\n",
            "  lr = trial.suggest_loguniform('lr', 1e-5, 1e-2)\n",
            "[I 2025-01-04 20:23:27,506] Trial 69 finished with value: 0.7175310445189125 and parameters: {'hidden_units1': 223, 'hidden_units2': 87, 'dropout_rate': 0.2680052605293673, 'lr': 0.00024478583598697053, 'batch_size': 32}. Best is trial 63 with value: 0.6028880240592814.\n"
          ]
        },
        {
          "output_type": "stream",
          "name": "stdout",
          "text": [
            "RSR for roe: 0.7682\n",
            "RSR for sustainability_score: 0.6669\n",
            "ARSR: 0.7175\n"
          ]
        },
        {
          "output_type": "stream",
          "name": "stderr",
          "text": [
            "<ipython-input-25-9a0f24a738bb>:8: FutureWarning: suggest_loguniform has been deprecated in v3.0.0. This feature will be removed in v6.0.0. See https://github.com/optuna/optuna/releases/tag/v3.0.0. Use suggest_float(..., log=True) instead.\n",
            "  lr = trial.suggest_loguniform('lr', 1e-5, 1e-2)\n",
            "[I 2025-01-04 20:23:31,774] Trial 70 finished with value: 0.7793522711647369 and parameters: {'hidden_units1': 180, 'hidden_units2': 78, 'dropout_rate': 0.20748276501493623, 'lr': 0.00018619776634267316, 'batch_size': 32}. Best is trial 63 with value: 0.6028880240592814.\n"
          ]
        },
        {
          "output_type": "stream",
          "name": "stdout",
          "text": [
            "RSR for roe: 0.7794\n",
            "RSR for sustainability_score: 0.7793\n",
            "ARSR: 0.7794\n"
          ]
        },
        {
          "output_type": "stream",
          "name": "stderr",
          "text": [
            "<ipython-input-25-9a0f24a738bb>:8: FutureWarning: suggest_loguniform has been deprecated in v3.0.0. This feature will be removed in v6.0.0. See https://github.com/optuna/optuna/releases/tag/v3.0.0. Use suggest_float(..., log=True) instead.\n",
            "  lr = trial.suggest_loguniform('lr', 1e-5, 1e-2)\n",
            "[I 2025-01-04 20:23:35,634] Trial 71 finished with value: 0.6481332577484682 and parameters: {'hidden_units1': 212, 'hidden_units2': 62, 'dropout_rate': 0.1339013667973742, 'lr': 0.0008977642088577368, 'batch_size': 32}. Best is trial 63 with value: 0.6028880240592814.\n"
          ]
        },
        {
          "output_type": "stream",
          "name": "stdout",
          "text": [
            "RSR for roe: 0.7448\n",
            "RSR for sustainability_score: 0.5514\n",
            "ARSR: 0.6481\n"
          ]
        },
        {
          "output_type": "stream",
          "name": "stderr",
          "text": [
            "<ipython-input-25-9a0f24a738bb>:8: FutureWarning: suggest_loguniform has been deprecated in v3.0.0. This feature will be removed in v6.0.0. See https://github.com/optuna/optuna/releases/tag/v3.0.0. Use suggest_float(..., log=True) instead.\n",
            "  lr = trial.suggest_loguniform('lr', 1e-5, 1e-2)\n",
            "[I 2025-01-04 20:23:41,884] Trial 72 finished with value: 0.9031645154637669 and parameters: {'hidden_units1': 215, 'hidden_units2': 74, 'dropout_rate': 0.1542507553410227, 'lr': 1.1991356565525941e-05, 'batch_size': 32}. Best is trial 63 with value: 0.6028880240592814.\n"
          ]
        },
        {
          "output_type": "stream",
          "name": "stdout",
          "text": [
            "RSR for roe: 0.8472\n",
            "RSR for sustainability_score: 0.9591\n",
            "ARSR: 0.9032\n"
          ]
        },
        {
          "output_type": "stream",
          "name": "stderr",
          "text": [
            "<ipython-input-25-9a0f24a738bb>:8: FutureWarning: suggest_loguniform has been deprecated in v3.0.0. This feature will be removed in v6.0.0. See https://github.com/optuna/optuna/releases/tag/v3.0.0. Use suggest_float(..., log=True) instead.\n",
            "  lr = trial.suggest_loguniform('lr', 1e-5, 1e-2)\n",
            "[I 2025-01-04 20:23:47,254] Trial 73 finished with value: 0.6312171663339747 and parameters: {'hidden_units1': 196, 'hidden_units2': 69, 'dropout_rate': 0.12096441291935937, 'lr': 0.0006687499618812331, 'batch_size': 32}. Best is trial 63 with value: 0.6028880240592814.\n"
          ]
        },
        {
          "output_type": "stream",
          "name": "stdout",
          "text": [
            "RSR for roe: 0.7352\n",
            "RSR for sustainability_score: 0.5273\n",
            "ARSR: 0.6312\n"
          ]
        },
        {
          "output_type": "stream",
          "name": "stderr",
          "text": [
            "<ipython-input-25-9a0f24a738bb>:8: FutureWarning: suggest_loguniform has been deprecated in v3.0.0. This feature will be removed in v6.0.0. See https://github.com/optuna/optuna/releases/tag/v3.0.0. Use suggest_float(..., log=True) instead.\n",
            "  lr = trial.suggest_loguniform('lr', 1e-5, 1e-2)\n",
            "[I 2025-01-04 20:23:53,824] Trial 74 finished with value: 0.887157151142234 and parameters: {'hidden_units1': 203, 'hidden_units2': 81, 'dropout_rate': 0.17579740732756843, 'lr': 1.8375682045084997e-05, 'batch_size': 32}. Best is trial 63 with value: 0.6028880240592814.\n"
          ]
        },
        {
          "output_type": "stream",
          "name": "stdout",
          "text": [
            "RSR for roe: 0.8122\n",
            "RSR for sustainability_score: 0.9621\n",
            "ARSR: 0.8872\n"
          ]
        },
        {
          "output_type": "stream",
          "name": "stderr",
          "text": [
            "<ipython-input-25-9a0f24a738bb>:8: FutureWarning: suggest_loguniform has been deprecated in v3.0.0. This feature will be removed in v6.0.0. See https://github.com/optuna/optuna/releases/tag/v3.0.0. Use suggest_float(..., log=True) instead.\n",
            "  lr = trial.suggest_loguniform('lr', 1e-5, 1e-2)\n",
            "[I 2025-01-04 20:23:56,716] Trial 75 finished with value: 0.6515860482984696 and parameters: {'hidden_units1': 165, 'hidden_units2': 59, 'dropout_rate': 0.24038270164322084, 'lr': 0.0013980135829711976, 'batch_size': 32}. Best is trial 63 with value: 0.6028880240592814.\n"
          ]
        },
        {
          "output_type": "stream",
          "name": "stdout",
          "text": [
            "RSR for roe: 0.7663\n",
            "RSR for sustainability_score: 0.5368\n",
            "ARSR: 0.6516\n"
          ]
        },
        {
          "output_type": "stream",
          "name": "stderr",
          "text": [
            "<ipython-input-25-9a0f24a738bb>:8: FutureWarning: suggest_loguniform has been deprecated in v3.0.0. This feature will be removed in v6.0.0. See https://github.com/optuna/optuna/releases/tag/v3.0.0. Use suggest_float(..., log=True) instead.\n",
            "  lr = trial.suggest_loguniform('lr', 1e-5, 1e-2)\n",
            "[I 2025-01-04 20:23:59,526] Trial 76 finished with value: 0.682571365500574 and parameters: {'hidden_units1': 228, 'hidden_units2': 72, 'dropout_rate': 0.2662784143157295, 'lr': 0.001080766254302044, 'batch_size': 32}. Best is trial 63 with value: 0.6028880240592814.\n"
          ]
        },
        {
          "output_type": "stream",
          "name": "stdout",
          "text": [
            "RSR for roe: 0.7675\n",
            "RSR for sustainability_score: 0.5977\n",
            "ARSR: 0.6826\n"
          ]
        },
        {
          "output_type": "stream",
          "name": "stderr",
          "text": [
            "<ipython-input-25-9a0f24a738bb>:8: FutureWarning: suggest_loguniform has been deprecated in v3.0.0. This feature will be removed in v6.0.0. See https://github.com/optuna/optuna/releases/tag/v3.0.0. Use suggest_float(..., log=True) instead.\n",
            "  lr = trial.suggest_loguniform('lr', 1e-5, 1e-2)\n",
            "[I 2025-01-04 20:24:05,886] Trial 77 finished with value: 0.6419743831545803 and parameters: {'hidden_units1': 192, 'hidden_units2': 63, 'dropout_rate': 0.22034803830446129, 'lr': 0.0005143336932473563, 'batch_size': 32}. Best is trial 63 with value: 0.6028880240592814.\n"
          ]
        },
        {
          "output_type": "stream",
          "name": "stdout",
          "text": [
            "RSR for roe: 0.7425\n",
            "RSR for sustainability_score: 0.5414\n",
            "ARSR: 0.6420\n"
          ]
        },
        {
          "output_type": "stream",
          "name": "stderr",
          "text": [
            "<ipython-input-25-9a0f24a738bb>:8: FutureWarning: suggest_loguniform has been deprecated in v3.0.0. This feature will be removed in v6.0.0. See https://github.com/optuna/optuna/releases/tag/v3.0.0. Use suggest_float(..., log=True) instead.\n",
            "  lr = trial.suggest_loguniform('lr', 1e-5, 1e-2)\n",
            "[I 2025-01-04 20:24:10,934] Trial 78 finished with value: 0.6784680911820076 and parameters: {'hidden_units1': 208, 'hidden_units2': 33, 'dropout_rate': 0.3111517295389554, 'lr': 0.000407538887878794, 'batch_size': 32}. Best is trial 63 with value: 0.6028880240592814.\n"
          ]
        },
        {
          "output_type": "stream",
          "name": "stdout",
          "text": [
            "RSR for roe: 0.7467\n",
            "RSR for sustainability_score: 0.6103\n",
            "ARSR: 0.6785\n"
          ]
        },
        {
          "output_type": "stream",
          "name": "stderr",
          "text": [
            "<ipython-input-25-9a0f24a738bb>:8: FutureWarning: suggest_loguniform has been deprecated in v3.0.0. This feature will be removed in v6.0.0. See https://github.com/optuna/optuna/releases/tag/v3.0.0. Use suggest_float(..., log=True) instead.\n",
            "  lr = trial.suggest_loguniform('lr', 1e-5, 1e-2)\n",
            "[I 2025-01-04 20:24:15,223] Trial 79 finished with value: 0.6380214247012805 and parameters: {'hidden_units1': 247, 'hidden_units2': 46, 'dropout_rate': 0.10198906450384078, 'lr': 0.0006643995679037294, 'batch_size': 32}. Best is trial 63 with value: 0.6028880240592814.\n"
          ]
        },
        {
          "output_type": "stream",
          "name": "stdout",
          "text": [
            "RSR for roe: 0.7406\n",
            "RSR for sustainability_score: 0.5355\n",
            "ARSR: 0.6380\n"
          ]
        },
        {
          "output_type": "stream",
          "name": "stderr",
          "text": [
            "<ipython-input-25-9a0f24a738bb>:8: FutureWarning: suggest_loguniform has been deprecated in v3.0.0. This feature will be removed in v6.0.0. See https://github.com/optuna/optuna/releases/tag/v3.0.0. Use suggest_float(..., log=True) instead.\n",
            "  lr = trial.suggest_loguniform('lr', 1e-5, 1e-2)\n",
            "[I 2025-01-04 20:24:18,990] Trial 80 finished with value: 0.6500970941458721 and parameters: {'hidden_units1': 223, 'hidden_units2': 56, 'dropout_rate': 0.19424116965581356, 'lr': 0.0021927225822780992, 'batch_size': 32}. Best is trial 63 with value: 0.6028880240592814.\n"
          ]
        },
        {
          "output_type": "stream",
          "name": "stdout",
          "text": [
            "RSR for roe: 0.7464\n",
            "RSR for sustainability_score: 0.5537\n",
            "ARSR: 0.6501\n"
          ]
        },
        {
          "output_type": "stream",
          "name": "stderr",
          "text": [
            "<ipython-input-25-9a0f24a738bb>:8: FutureWarning: suggest_loguniform has been deprecated in v3.0.0. This feature will be removed in v6.0.0. See https://github.com/optuna/optuna/releases/tag/v3.0.0. Use suggest_float(..., log=True) instead.\n",
            "  lr = trial.suggest_loguniform('lr', 1e-5, 1e-2)\n",
            "[I 2025-01-04 20:24:20,945] Trial 81 finished with value: 0.6018680877002899 and parameters: {'hidden_units1': 235, 'hidden_units2': 65, 'dropout_rate': 0.2545420843054248, 'lr': 0.0018290263484599379, 'batch_size': 128}. Best is trial 81 with value: 0.6018680877002899.\n"
          ]
        },
        {
          "output_type": "stream",
          "name": "stdout",
          "text": [
            "RSR for roe: 0.7222\n",
            "RSR for sustainability_score: 0.4815\n",
            "ARSR: 0.6019\n"
          ]
        },
        {
          "output_type": "stream",
          "name": "stderr",
          "text": [
            "<ipython-input-25-9a0f24a738bb>:8: FutureWarning: suggest_loguniform has been deprecated in v3.0.0. This feature will be removed in v6.0.0. See https://github.com/optuna/optuna/releases/tag/v3.0.0. Use suggest_float(..., log=True) instead.\n",
            "  lr = trial.suggest_loguniform('lr', 1e-5, 1e-2)\n",
            "[I 2025-01-04 20:24:24,029] Trial 82 finished with value: 0.6133397653172893 and parameters: {'hidden_units1': 243, 'hidden_units2': 70, 'dropout_rate': 0.2867426745029044, 'lr': 0.0008594092794920842, 'batch_size': 64}. Best is trial 81 with value: 0.6018680877002899.\n"
          ]
        },
        {
          "output_type": "stream",
          "name": "stdout",
          "text": [
            "RSR for roe: 0.7231\n",
            "RSR for sustainability_score: 0.5036\n",
            "ARSR: 0.6133\n"
          ]
        },
        {
          "output_type": "stream",
          "name": "stderr",
          "text": [
            "<ipython-input-25-9a0f24a738bb>:8: FutureWarning: suggest_loguniform has been deprecated in v3.0.0. This feature will be removed in v6.0.0. See https://github.com/optuna/optuna/releases/tag/v3.0.0. Use suggest_float(..., log=True) instead.\n",
            "  lr = trial.suggest_loguniform('lr', 1e-5, 1e-2)\n",
            "[I 2025-01-04 20:24:25,823] Trial 83 finished with value: 0.6172705153764356 and parameters: {'hidden_units1': 243, 'hidden_units2': 73, 'dropout_rate': 0.2789775305857568, 'lr': 0.0017474279685433176, 'batch_size': 64}. Best is trial 81 with value: 0.6018680877002899.\n"
          ]
        },
        {
          "output_type": "stream",
          "name": "stdout",
          "text": [
            "RSR for roe: 0.7349\n",
            "RSR for sustainability_score: 0.4996\n",
            "ARSR: 0.6173\n"
          ]
        },
        {
          "output_type": "stream",
          "name": "stderr",
          "text": [
            "<ipython-input-25-9a0f24a738bb>:8: FutureWarning: suggest_loguniform has been deprecated in v3.0.0. This feature will be removed in v6.0.0. See https://github.com/optuna/optuna/releases/tag/v3.0.0. Use suggest_float(..., log=True) instead.\n",
            "  lr = trial.suggest_loguniform('lr', 1e-5, 1e-2)\n",
            "[I 2025-01-04 20:24:27,906] Trial 84 finished with value: 0.6177082681765835 and parameters: {'hidden_units1': 243, 'hidden_units2': 77, 'dropout_rate': 0.28372750954326953, 'lr': 0.00274907978071508, 'batch_size': 64}. Best is trial 81 with value: 0.6018680877002899.\n"
          ]
        },
        {
          "output_type": "stream",
          "name": "stdout",
          "text": [
            "RSR for roe: 0.7692\n",
            "RSR for sustainability_score: 0.4662\n",
            "ARSR: 0.6177\n"
          ]
        },
        {
          "output_type": "stream",
          "name": "stderr",
          "text": [
            "<ipython-input-25-9a0f24a738bb>:8: FutureWarning: suggest_loguniform has been deprecated in v3.0.0. This feature will be removed in v6.0.0. See https://github.com/optuna/optuna/releases/tag/v3.0.0. Use suggest_float(..., log=True) instead.\n",
            "  lr = trial.suggest_loguniform('lr', 1e-5, 1e-2)\n",
            "[I 2025-01-04 20:24:30,346] Trial 85 finished with value: 0.6231123260347151 and parameters: {'hidden_units1': 243, 'hidden_units2': 77, 'dropout_rate': 0.2802966677162169, 'lr': 0.002915722436519246, 'batch_size': 64}. Best is trial 81 with value: 0.6018680877002899.\n"
          ]
        },
        {
          "output_type": "stream",
          "name": "stdout",
          "text": [
            "RSR for roe: 0.7512\n",
            "RSR for sustainability_score: 0.4950\n",
            "ARSR: 0.6231\n"
          ]
        },
        {
          "output_type": "stream",
          "name": "stderr",
          "text": [
            "<ipython-input-25-9a0f24a738bb>:8: FutureWarning: suggest_loguniform has been deprecated in v3.0.0. This feature will be removed in v6.0.0. See https://github.com/optuna/optuna/releases/tag/v3.0.0. Use suggest_float(..., log=True) instead.\n",
            "  lr = trial.suggest_loguniform('lr', 1e-5, 1e-2)\n",
            "[I 2025-01-04 20:24:32,951] Trial 86 finished with value: 0.6126679086215565 and parameters: {'hidden_units1': 250, 'hidden_units2': 85, 'dropout_rate': 0.30220737726890756, 'lr': 0.004561448159047666, 'batch_size': 64}. Best is trial 81 with value: 0.6018680877002899.\n"
          ]
        },
        {
          "output_type": "stream",
          "name": "stdout",
          "text": [
            "RSR for roe: 0.7490\n",
            "RSR for sustainability_score: 0.4764\n",
            "ARSR: 0.6127\n"
          ]
        },
        {
          "output_type": "stream",
          "name": "stderr",
          "text": [
            "<ipython-input-25-9a0f24a738bb>:8: FutureWarning: suggest_loguniform has been deprecated in v3.0.0. This feature will be removed in v6.0.0. See https://github.com/optuna/optuna/releases/tag/v3.0.0. Use suggest_float(..., log=True) instead.\n",
            "  lr = trial.suggest_loguniform('lr', 1e-5, 1e-2)\n",
            "[I 2025-01-04 20:24:35,165] Trial 87 finished with value: 0.6207994657164755 and parameters: {'hidden_units1': 252, 'hidden_units2': 83, 'dropout_rate': 0.29979737338303003, 'lr': 0.0019214266010754268, 'batch_size': 64}. Best is trial 81 with value: 0.6018680877002899.\n"
          ]
        },
        {
          "output_type": "stream",
          "name": "stdout",
          "text": [
            "RSR for roe: 0.7264\n",
            "RSR for sustainability_score: 0.5152\n",
            "ARSR: 0.6208\n"
          ]
        },
        {
          "output_type": "stream",
          "name": "stderr",
          "text": [
            "<ipython-input-25-9a0f24a738bb>:8: FutureWarning: suggest_loguniform has been deprecated in v3.0.0. This feature will be removed in v6.0.0. See https://github.com/optuna/optuna/releases/tag/v3.0.0. Use suggest_float(..., log=True) instead.\n",
            "  lr = trial.suggest_loguniform('lr', 1e-5, 1e-2)\n",
            "[I 2025-01-04 20:24:36,442] Trial 88 finished with value: 0.8324054255365005 and parameters: {'hidden_units1': 238, 'hidden_units2': 86, 'dropout_rate': 0.3104300582827221, 'lr': 0.005909236545977387, 'batch_size': 64}. Best is trial 81 with value: 0.6018680877002899.\n"
          ]
        },
        {
          "output_type": "stream",
          "name": "stdout",
          "text": [
            "RSR for roe: 0.7681\n",
            "RSR for sustainability_score: 0.8968\n",
            "ARSR: 0.8324\n"
          ]
        },
        {
          "output_type": "stream",
          "name": "stderr",
          "text": [
            "<ipython-input-25-9a0f24a738bb>:8: FutureWarning: suggest_loguniform has been deprecated in v3.0.0. This feature will be removed in v6.0.0. See https://github.com/optuna/optuna/releases/tag/v3.0.0. Use suggest_float(..., log=True) instead.\n",
            "  lr = trial.suggest_loguniform('lr', 1e-5, 1e-2)\n",
            "[I 2025-01-04 20:24:38,238] Trial 89 finished with value: 0.6158544738265411 and parameters: {'hidden_units1': 247, 'hidden_units2': 74, 'dropout_rate': 0.343624546744147, 'lr': 0.004850254345593454, 'batch_size': 64}. Best is trial 81 with value: 0.6018680877002899.\n"
          ]
        },
        {
          "output_type": "stream",
          "name": "stdout",
          "text": [
            "RSR for roe: 0.7682\n",
            "RSR for sustainability_score: 0.4635\n",
            "ARSR: 0.6159\n"
          ]
        },
        {
          "output_type": "stream",
          "name": "stderr",
          "text": [
            "<ipython-input-25-9a0f24a738bb>:8: FutureWarning: suggest_loguniform has been deprecated in v3.0.0. This feature will be removed in v6.0.0. See https://github.com/optuna/optuna/releases/tag/v3.0.0. Use suggest_float(..., log=True) instead.\n",
            "  lr = trial.suggest_loguniform('lr', 1e-5, 1e-2)\n",
            "[I 2025-01-04 20:24:40,368] Trial 90 finished with value: 0.6057717863776446 and parameters: {'hidden_units1': 256, 'hidden_units2': 89, 'dropout_rate': 0.33257230832293816, 'lr': 0.00421658744873636, 'batch_size': 64}. Best is trial 81 with value: 0.6018680877002899.\n"
          ]
        },
        {
          "output_type": "stream",
          "name": "stdout",
          "text": [
            "RSR for roe: 0.7386\n",
            "RSR for sustainability_score: 0.4730\n",
            "ARSR: 0.6058\n"
          ]
        },
        {
          "output_type": "stream",
          "name": "stderr",
          "text": [
            "<ipython-input-25-9a0f24a738bb>:8: FutureWarning: suggest_loguniform has been deprecated in v3.0.0. This feature will be removed in v6.0.0. See https://github.com/optuna/optuna/releases/tag/v3.0.0. Use suggest_float(..., log=True) instead.\n",
            "  lr = trial.suggest_loguniform('lr', 1e-5, 1e-2)\n",
            "[I 2025-01-04 20:24:41,202] Trial 91 finished with value: 0.7373013879319562 and parameters: {'hidden_units1': 250, 'hidden_units2': 92, 'dropout_rate': 0.341953554142863, 'lr': 0.004491801340141252, 'batch_size': 64}. Best is trial 81 with value: 0.6018680877002899.\n"
          ]
        },
        {
          "output_type": "stream",
          "name": "stdout",
          "text": [
            "RSR for roe: 0.7365\n",
            "RSR for sustainability_score: 0.7381\n",
            "ARSR: 0.7373\n"
          ]
        },
        {
          "output_type": "stream",
          "name": "stderr",
          "text": [
            "<ipython-input-25-9a0f24a738bb>:8: FutureWarning: suggest_loguniform has been deprecated in v3.0.0. This feature will be removed in v6.0.0. See https://github.com/optuna/optuna/releases/tag/v3.0.0. Use suggest_float(..., log=True) instead.\n",
            "  lr = trial.suggest_loguniform('lr', 1e-5, 1e-2)\n",
            "[I 2025-01-04 20:24:43,408] Trial 92 finished with value: 0.6670514895844318 and parameters: {'hidden_units1': 255, 'hidden_units2': 89, 'dropout_rate': 0.32601277840335424, 'lr': 0.003894485861540884, 'batch_size': 64}. Best is trial 81 with value: 0.6018680877002899.\n"
          ]
        },
        {
          "output_type": "stream",
          "name": "stdout",
          "text": [
            "RSR for roe: 0.7226\n",
            "RSR for sustainability_score: 0.6115\n",
            "ARSR: 0.6671\n"
          ]
        },
        {
          "output_type": "stream",
          "name": "stderr",
          "text": [
            "<ipython-input-25-9a0f24a738bb>:8: FutureWarning: suggest_loguniform has been deprecated in v3.0.0. This feature will be removed in v6.0.0. See https://github.com/optuna/optuna/releases/tag/v3.0.0. Use suggest_float(..., log=True) instead.\n",
            "  lr = trial.suggest_loguniform('lr', 1e-5, 1e-2)\n",
            "[I 2025-01-04 20:24:45,044] Trial 93 finished with value: 0.7469268617109011 and parameters: {'hidden_units1': 246, 'hidden_units2': 80, 'dropout_rate': 0.34143363441889096, 'lr': 0.00785936172131846, 'batch_size': 64}. Best is trial 81 with value: 0.6018680877002899.\n"
          ]
        },
        {
          "output_type": "stream",
          "name": "stdout",
          "text": [
            "RSR for roe: 0.7751\n",
            "RSR for sustainability_score: 0.7188\n",
            "ARSR: 0.7469\n"
          ]
        },
        {
          "output_type": "stream",
          "name": "stderr",
          "text": [
            "<ipython-input-25-9a0f24a738bb>:8: FutureWarning: suggest_loguniform has been deprecated in v3.0.0. This feature will be removed in v6.0.0. See https://github.com/optuna/optuna/releases/tag/v3.0.0. Use suggest_float(..., log=True) instead.\n",
            "  lr = trial.suggest_loguniform('lr', 1e-5, 1e-2)\n",
            "[I 2025-01-04 20:24:47,810] Trial 94 finished with value: 0.5652099983080655 and parameters: {'hidden_units1': 233, 'hidden_units2': 65, 'dropout_rate': 0.31777562686628213, 'lr': 0.004933608379620676, 'batch_size': 64}. Best is trial 94 with value: 0.5652099983080655.\n"
          ]
        },
        {
          "output_type": "stream",
          "name": "stdout",
          "text": [
            "RSR for roe: 0.7394\n",
            "RSR for sustainability_score: 0.3910\n",
            "ARSR: 0.5652\n"
          ]
        },
        {
          "output_type": "stream",
          "name": "stderr",
          "text": [
            "<ipython-input-25-9a0f24a738bb>:8: FutureWarning: suggest_loguniform has been deprecated in v3.0.0. This feature will be removed in v6.0.0. See https://github.com/optuna/optuna/releases/tag/v3.0.0. Use suggest_float(..., log=True) instead.\n",
            "  lr = trial.suggest_loguniform('lr', 1e-5, 1e-2)\n",
            "[I 2025-01-04 20:24:49,247] Trial 95 finished with value: 0.6829964724565142 and parameters: {'hidden_units1': 231, 'hidden_units2': 64, 'dropout_rate': 0.31675598879903705, 'lr': 0.005562892661861534, 'batch_size': 64}. Best is trial 94 with value: 0.5652099983080655.\n"
          ]
        },
        {
          "output_type": "stream",
          "name": "stdout",
          "text": [
            "RSR for roe: 0.7739\n",
            "RSR for sustainability_score: 0.5921\n",
            "ARSR: 0.6830\n"
          ]
        },
        {
          "output_type": "stream",
          "name": "stderr",
          "text": [
            "<ipython-input-25-9a0f24a738bb>:8: FutureWarning: suggest_loguniform has been deprecated in v3.0.0. This feature will be removed in v6.0.0. See https://github.com/optuna/optuna/releases/tag/v3.0.0. Use suggest_float(..., log=True) instead.\n",
            "  lr = trial.suggest_loguniform('lr', 1e-5, 1e-2)\n",
            "[I 2025-01-04 20:24:50,162] Trial 96 finished with value: 0.7129392997933004 and parameters: {'hidden_units1': 236, 'hidden_units2': 67, 'dropout_rate': 0.29581475585225925, 'lr': 0.007726149448072289, 'batch_size': 64}. Best is trial 94 with value: 0.5652099983080655.\n"
          ]
        },
        {
          "output_type": "stream",
          "name": "stdout",
          "text": [
            "RSR for roe: 0.7516\n",
            "RSR for sustainability_score: 0.6743\n",
            "ARSR: 0.7129\n"
          ]
        },
        {
          "output_type": "stream",
          "name": "stderr",
          "text": [
            "<ipython-input-25-9a0f24a738bb>:8: FutureWarning: suggest_loguniform has been deprecated in v3.0.0. This feature will be removed in v6.0.0. See https://github.com/optuna/optuna/releases/tag/v3.0.0. Use suggest_float(..., log=True) instead.\n",
            "  lr = trial.suggest_loguniform('lr', 1e-5, 1e-2)\n",
            "[I 2025-01-04 20:24:51,430] Trial 97 finished with value: 0.6338968466538781 and parameters: {'hidden_units1': 239, 'hidden_units2': 69, 'dropout_rate': 0.26953602330511683, 'lr': 0.0034671293969856212, 'batch_size': 128}. Best is trial 94 with value: 0.5652099983080655.\n"
          ]
        },
        {
          "output_type": "stream",
          "name": "stdout",
          "text": [
            "RSR for roe: 0.7648\n",
            "RSR for sustainability_score: 0.5030\n",
            "ARSR: 0.6339\n"
          ]
        },
        {
          "output_type": "stream",
          "name": "stderr",
          "text": [
            "<ipython-input-25-9a0f24a738bb>:8: FutureWarning: suggest_loguniform has been deprecated in v3.0.0. This feature will be removed in v6.0.0. See https://github.com/optuna/optuna/releases/tag/v3.0.0. Use suggest_float(..., log=True) instead.\n",
            "  lr = trial.suggest_loguniform('lr', 1e-5, 1e-2)\n",
            "[I 2025-01-04 20:24:52,416] Trial 98 finished with value: 0.7041107459447558 and parameters: {'hidden_units1': 230, 'hidden_units2': 95, 'dropout_rate': 0.2585570522481809, 'lr': 0.006843650935469278, 'batch_size': 64}. Best is trial 94 with value: 0.5652099983080655.\n"
          ]
        },
        {
          "output_type": "stream",
          "name": "stdout",
          "text": [
            "RSR for roe: 0.7518\n",
            "RSR for sustainability_score: 0.6564\n",
            "ARSR: 0.7041\n"
          ]
        },
        {
          "output_type": "stream",
          "name": "stderr",
          "text": [
            "<ipython-input-25-9a0f24a738bb>:8: FutureWarning: suggest_loguniform has been deprecated in v3.0.0. This feature will be removed in v6.0.0. See https://github.com/optuna/optuna/releases/tag/v3.0.0. Use suggest_float(..., log=True) instead.\n",
            "  lr = trial.suggest_loguniform('lr', 1e-5, 1e-2)\n",
            "[I 2025-01-04 20:24:54,819] Trial 99 finished with value: 0.6455398996832721 and parameters: {'hidden_units1': 250, 'hidden_units2': 84, 'dropout_rate': 0.3572531830123242, 'lr': 0.0023274622778476557, 'batch_size': 64}. Best is trial 94 with value: 0.5652099983080655.\n"
          ]
        },
        {
          "output_type": "stream",
          "name": "stdout",
          "text": [
            "RSR for roe: 0.7467\n",
            "RSR for sustainability_score: 0.5444\n",
            "ARSR: 0.6455\n"
          ]
        },
        {
          "output_type": "stream",
          "name": "stderr",
          "text": [
            "<ipython-input-25-9a0f24a738bb>:8: FutureWarning: suggest_loguniform has been deprecated in v3.0.0. This feature will be removed in v6.0.0. See https://github.com/optuna/optuna/releases/tag/v3.0.0. Use suggest_float(..., log=True) instead.\n",
            "  lr = trial.suggest_loguniform('lr', 1e-5, 1e-2)\n",
            "[I 2025-01-04 20:24:57,368] Trial 100 finished with value: 0.6453363652869879 and parameters: {'hidden_units1': 255, 'hidden_units2': 65, 'dropout_rate': 0.243755015447718, 'lr': 0.001568947052149315, 'batch_size': 128}. Best is trial 94 with value: 0.5652099983080655.\n"
          ]
        },
        {
          "output_type": "stream",
          "name": "stdout",
          "text": [
            "RSR for roe: 0.7737\n",
            "RSR for sustainability_score: 0.5169\n",
            "ARSR: 0.6453\n"
          ]
        },
        {
          "output_type": "stream",
          "name": "stderr",
          "text": [
            "<ipython-input-25-9a0f24a738bb>:8: FutureWarning: suggest_loguniform has been deprecated in v3.0.0. This feature will be removed in v6.0.0. See https://github.com/optuna/optuna/releases/tag/v3.0.0. Use suggest_float(..., log=True) instead.\n",
            "  lr = trial.suggest_loguniform('lr', 1e-5, 1e-2)\n",
            "[I 2025-01-04 20:25:00,598] Trial 101 finished with value: 0.64903000526409 and parameters: {'hidden_units1': 247, 'hidden_units2': 75, 'dropout_rate': 0.317704632689618, 'lr': 0.004697223149708229, 'batch_size': 64}. Best is trial 94 with value: 0.5652099983080655.\n"
          ]
        },
        {
          "output_type": "stream",
          "name": "stdout",
          "text": [
            "RSR for roe: 0.7567\n",
            "RSR for sustainability_score: 0.5414\n",
            "ARSR: 0.6490\n"
          ]
        },
        {
          "output_type": "stream",
          "name": "stderr",
          "text": [
            "<ipython-input-25-9a0f24a738bb>:8: FutureWarning: suggest_loguniform has been deprecated in v3.0.0. This feature will be removed in v6.0.0. See https://github.com/optuna/optuna/releases/tag/v3.0.0. Use suggest_float(..., log=True) instead.\n",
            "  lr = trial.suggest_loguniform('lr', 1e-5, 1e-2)\n",
            "[I 2025-01-04 20:25:02,791] Trial 102 finished with value: 0.6461112452656649 and parameters: {'hidden_units1': 154, 'hidden_units2': 69, 'dropout_rate': 0.3330023542359304, 'lr': 0.005131647892588786, 'batch_size': 64}. Best is trial 94 with value: 0.5652099983080655.\n"
          ]
        },
        {
          "output_type": "stream",
          "name": "stdout",
          "text": [
            "RSR for roe: 0.7987\n",
            "RSR for sustainability_score: 0.4936\n",
            "ARSR: 0.6461\n"
          ]
        },
        {
          "output_type": "stream",
          "name": "stderr",
          "text": [
            "<ipython-input-25-9a0f24a738bb>:8: FutureWarning: suggest_loguniform has been deprecated in v3.0.0. This feature will be removed in v6.0.0. See https://github.com/optuna/optuna/releases/tag/v3.0.0. Use suggest_float(..., log=True) instead.\n",
            "  lr = trial.suggest_loguniform('lr', 1e-5, 1e-2)\n",
            "[I 2025-01-04 20:25:04,750] Trial 103 finished with value: 0.6434392666288974 and parameters: {'hidden_units1': 234, 'hidden_units2': 81, 'dropout_rate': 0.2914900762103234, 'lr': 0.004094694082270953, 'batch_size': 64}. Best is trial 94 with value: 0.5652099983080655.\n"
          ]
        },
        {
          "output_type": "stream",
          "name": "stdout",
          "text": [
            "RSR for roe: 0.7474\n",
            "RSR for sustainability_score: 0.5395\n",
            "ARSR: 0.6434\n"
          ]
        },
        {
          "output_type": "stream",
          "name": "stderr",
          "text": [
            "<ipython-input-25-9a0f24a738bb>:8: FutureWarning: suggest_loguniform has been deprecated in v3.0.0. This feature will be removed in v6.0.0. See https://github.com/optuna/optuna/releases/tag/v3.0.0. Use suggest_float(..., log=True) instead.\n",
            "  lr = trial.suggest_loguniform('lr', 1e-5, 1e-2)\n",
            "[I 2025-01-04 20:25:06,034] Trial 104 finished with value: 0.6291828798670236 and parameters: {'hidden_units1': 251, 'hidden_units2': 60, 'dropout_rate': 0.30447472298634226, 'lr': 0.0032506493313990033, 'batch_size': 64}. Best is trial 94 with value: 0.5652099983080655.\n"
          ]
        },
        {
          "output_type": "stream",
          "name": "stdout",
          "text": [
            "RSR for roe: 0.7694\n",
            "RSR for sustainability_score: 0.4889\n",
            "ARSR: 0.6292\n"
          ]
        },
        {
          "output_type": "stream",
          "name": "stderr",
          "text": [
            "<ipython-input-25-9a0f24a738bb>:8: FutureWarning: suggest_loguniform has been deprecated in v3.0.0. This feature will be removed in v6.0.0. See https://github.com/optuna/optuna/releases/tag/v3.0.0. Use suggest_float(..., log=True) instead.\n",
            "  lr = trial.suggest_loguniform('lr', 1e-5, 1e-2)\n",
            "[I 2025-01-04 20:25:08,208] Trial 105 finished with value: 0.6361507028555202 and parameters: {'hidden_units1': 256, 'hidden_units2': 55, 'dropout_rate': 0.3400632913149541, 'lr': 0.001213562081884969, 'batch_size': 64}. Best is trial 94 with value: 0.5652099983080655.\n"
          ]
        },
        {
          "output_type": "stream",
          "name": "stdout",
          "text": [
            "RSR for roe: 0.7391\n",
            "RSR for sustainability_score: 0.5332\n",
            "ARSR: 0.6362\n"
          ]
        },
        {
          "output_type": "stream",
          "name": "stderr",
          "text": [
            "<ipython-input-25-9a0f24a738bb>:8: FutureWarning: suggest_loguniform has been deprecated in v3.0.0. This feature will be removed in v6.0.0. See https://github.com/optuna/optuna/releases/tag/v3.0.0. Use suggest_float(..., log=True) instead.\n",
            "  lr = trial.suggest_loguniform('lr', 1e-5, 1e-2)\n",
            "[I 2025-01-04 20:25:11,661] Trial 106 finished with value: 0.6048935274959317 and parameters: {'hidden_units1': 240, 'hidden_units2': 70, 'dropout_rate': 0.25914466297928657, 'lr': 0.004342505606599478, 'batch_size': 64}. Best is trial 94 with value: 0.5652099983080655.\n"
          ]
        },
        {
          "output_type": "stream",
          "name": "stdout",
          "text": [
            "RSR for roe: 0.7313\n",
            "RSR for sustainability_score: 0.4785\n",
            "ARSR: 0.6049\n"
          ]
        },
        {
          "output_type": "stream",
          "name": "stderr",
          "text": [
            "<ipython-input-25-9a0f24a738bb>:8: FutureWarning: suggest_loguniform has been deprecated in v3.0.0. This feature will be removed in v6.0.0. See https://github.com/optuna/optuna/releases/tag/v3.0.0. Use suggest_float(..., log=True) instead.\n",
            "  lr = trial.suggest_loguniform('lr', 1e-5, 1e-2)\n",
            "[I 2025-01-04 20:25:14,979] Trial 107 finished with value: 0.6374821651523597 and parameters: {'hidden_units1': 226, 'hidden_units2': 85, 'dropout_rate': 0.26064812614978283, 'lr': 0.0007676456169780167, 'batch_size': 64}. Best is trial 94 with value: 0.5652099983080655.\n"
          ]
        },
        {
          "output_type": "stream",
          "name": "stdout",
          "text": [
            "RSR for roe: 0.7134\n",
            "RSR for sustainability_score: 0.5616\n",
            "ARSR: 0.6375\n"
          ]
        },
        {
          "output_type": "stream",
          "name": "stderr",
          "text": [
            "<ipython-input-25-9a0f24a738bb>:8: FutureWarning: suggest_loguniform has been deprecated in v3.0.0. This feature will be removed in v6.0.0. See https://github.com/optuna/optuna/releases/tag/v3.0.0. Use suggest_float(..., log=True) instead.\n",
            "  lr = trial.suggest_loguniform('lr', 1e-5, 1e-2)\n",
            "[I 2025-01-04 20:25:15,950] Trial 108 finished with value: 0.6137212702510378 and parameters: {'hidden_units1': 79, 'hidden_units2': 71, 'dropout_rate': 0.2732253094854735, 'lr': 0.009791283238989005, 'batch_size': 128}. Best is trial 94 with value: 0.5652099983080655.\n"
          ]
        },
        {
          "output_type": "stream",
          "name": "stdout",
          "text": [
            "RSR for roe: 0.7536\n",
            "RSR for sustainability_score: 0.4739\n",
            "ARSR: 0.6137\n"
          ]
        },
        {
          "output_type": "stream",
          "name": "stderr",
          "text": [
            "<ipython-input-25-9a0f24a738bb>:8: FutureWarning: suggest_loguniform has been deprecated in v3.0.0. This feature will be removed in v6.0.0. See https://github.com/optuna/optuna/releases/tag/v3.0.0. Use suggest_float(..., log=True) instead.\n",
            "  lr = trial.suggest_loguniform('lr', 1e-5, 1e-2)\n",
            "[I 2025-01-04 20:25:16,518] Trial 109 finished with value: 0.6919324551023196 and parameters: {'hidden_units1': 87, 'hidden_units2': 51, 'dropout_rate': 0.27551974027375026, 'lr': 0.008752169628652369, 'batch_size': 128}. Best is trial 94 with value: 0.5652099983080655.\n"
          ]
        },
        {
          "output_type": "stream",
          "name": "stdout",
          "text": [
            "RSR for roe: 0.7526\n",
            "RSR for sustainability_score: 0.6313\n",
            "ARSR: 0.6919\n"
          ]
        },
        {
          "output_type": "stream",
          "name": "stderr",
          "text": [
            "<ipython-input-25-9a0f24a738bb>:8: FutureWarning: suggest_loguniform has been deprecated in v3.0.0. This feature will be removed in v6.0.0. See https://github.com/optuna/optuna/releases/tag/v3.0.0. Use suggest_float(..., log=True) instead.\n",
            "  lr = trial.suggest_loguniform('lr', 1e-5, 1e-2)\n",
            "[I 2025-01-04 20:25:17,038] Trial 110 finished with value: 0.7521708788086294 and parameters: {'hidden_units1': 139, 'hidden_units2': 67, 'dropout_rate': 0.2914796082297149, 'lr': 0.009606122311220966, 'batch_size': 128}. Best is trial 94 with value: 0.5652099983080655.\n"
          ]
        },
        {
          "output_type": "stream",
          "name": "stdout",
          "text": [
            "RSR for roe: 0.8109\n",
            "RSR for sustainability_score: 0.6935\n",
            "ARSR: 0.7522\n"
          ]
        },
        {
          "output_type": "stream",
          "name": "stderr",
          "text": [
            "<ipython-input-25-9a0f24a738bb>:8: FutureWarning: suggest_loguniform has been deprecated in v3.0.0. This feature will be removed in v6.0.0. See https://github.com/optuna/optuna/releases/tag/v3.0.0. Use suggest_float(..., log=True) instead.\n",
            "  lr = trial.suggest_loguniform('lr', 1e-5, 1e-2)\n",
            "[I 2025-01-04 20:25:17,707] Trial 111 finished with value: 0.7122442684743343 and parameters: {'hidden_units1': 241, 'hidden_units2': 71, 'dropout_rate': 0.2528667848074886, 'lr': 0.00680375620688127, 'batch_size': 128}. Best is trial 94 with value: 0.5652099983080655.\n"
          ]
        },
        {
          "output_type": "stream",
          "name": "stdout",
          "text": [
            "RSR for roe: 0.7836\n",
            "RSR for sustainability_score: 0.6409\n",
            "ARSR: 0.7122\n"
          ]
        },
        {
          "output_type": "stream",
          "name": "stderr",
          "text": [
            "<ipython-input-25-9a0f24a738bb>:8: FutureWarning: suggest_loguniform has been deprecated in v3.0.0. This feature will be removed in v6.0.0. See https://github.com/optuna/optuna/releases/tag/v3.0.0. Use suggest_float(..., log=True) instead.\n",
            "  lr = trial.suggest_loguniform('lr', 1e-5, 1e-2)\n",
            "[I 2025-01-04 20:25:19,392] Trial 112 finished with value: 0.6531973360066168 and parameters: {'hidden_units1': 114, 'hidden_units2': 64, 'dropout_rate': 0.24342086543278096, 'lr': 0.0009488445976036356, 'batch_size': 128}. Best is trial 94 with value: 0.5652099983080655.\n"
          ]
        },
        {
          "output_type": "stream",
          "name": "stdout",
          "text": [
            "RSR for roe: 0.7646\n",
            "RSR for sustainability_score: 0.5418\n",
            "ARSR: 0.6532\n"
          ]
        },
        {
          "output_type": "stream",
          "name": "stderr",
          "text": [
            "<ipython-input-25-9a0f24a738bb>:8: FutureWarning: suggest_loguniform has been deprecated in v3.0.0. This feature will be removed in v6.0.0. See https://github.com/optuna/optuna/releases/tag/v3.0.0. Use suggest_float(..., log=True) instead.\n",
            "  lr = trial.suggest_loguniform('lr', 1e-5, 1e-2)\n",
            "[I 2025-01-04 20:25:21,533] Trial 113 finished with value: 0.6078080444000167 and parameters: {'hidden_units1': 90, 'hidden_units2': 70, 'dropout_rate': 0.26140043015264164, 'lr': 0.004241496061006013, 'batch_size': 64}. Best is trial 94 with value: 0.5652099983080655.\n"
          ]
        },
        {
          "output_type": "stream",
          "name": "stdout",
          "text": [
            "RSR for roe: 0.7965\n",
            "RSR for sustainability_score: 0.4191\n",
            "ARSR: 0.6078\n"
          ]
        },
        {
          "output_type": "stream",
          "name": "stderr",
          "text": [
            "<ipython-input-25-9a0f24a738bb>:8: FutureWarning: suggest_loguniform has been deprecated in v3.0.0. This feature will be removed in v6.0.0. See https://github.com/optuna/optuna/releases/tag/v3.0.0. Use suggest_float(..., log=True) instead.\n",
            "  lr = trial.suggest_loguniform('lr', 1e-5, 1e-2)\n",
            "[I 2025-01-04 20:25:24,060] Trial 114 finished with value: 0.6134655477824303 and parameters: {'hidden_units1': 80, 'hidden_units2': 69, 'dropout_rate': 0.3059592530133528, 'lr': 0.004392008804707864, 'batch_size': 64}. Best is trial 94 with value: 0.5652099983080655.\n"
          ]
        },
        {
          "output_type": "stream",
          "name": "stdout",
          "text": [
            "RSR for roe: 0.7386\n",
            "RSR for sustainability_score: 0.4884\n",
            "ARSR: 0.6135\n"
          ]
        },
        {
          "output_type": "stream",
          "name": "stderr",
          "text": [
            "<ipython-input-25-9a0f24a738bb>:8: FutureWarning: suggest_loguniform has been deprecated in v3.0.0. This feature will be removed in v6.0.0. See https://github.com/optuna/optuna/releases/tag/v3.0.0. Use suggest_float(..., log=True) instead.\n",
            "  lr = trial.suggest_loguniform('lr', 1e-5, 1e-2)\n",
            "[I 2025-01-04 20:25:26,131] Trial 115 finished with value: 0.6747155833768084 and parameters: {'hidden_units1': 90, 'hidden_units2': 58, 'dropout_rate': 0.3047720576314046, 'lr': 0.0041090483480377225, 'batch_size': 64}. Best is trial 94 with value: 0.5652099983080655.\n"
          ]
        },
        {
          "output_type": "stream",
          "name": "stdout",
          "text": [
            "RSR for roe: 0.7550\n",
            "RSR for sustainability_score: 0.5944\n",
            "ARSR: 0.6747\n"
          ]
        },
        {
          "output_type": "stream",
          "name": "stderr",
          "text": [
            "<ipython-input-25-9a0f24a738bb>:8: FutureWarning: suggest_loguniform has been deprecated in v3.0.0. This feature will be removed in v6.0.0. See https://github.com/optuna/optuna/releases/tag/v3.0.0. Use suggest_float(..., log=True) instead.\n",
            "  lr = trial.suggest_loguniform('lr', 1e-5, 1e-2)\n",
            "[I 2025-01-04 20:25:28,175] Trial 116 finished with value: 0.6400018144272159 and parameters: {'hidden_units1': 219, 'hidden_units2': 66, 'dropout_rate': 0.2889013862884336, 'lr': 0.003635067508356306, 'batch_size': 64}. Best is trial 94 with value: 0.5652099983080655.\n"
          ]
        },
        {
          "output_type": "stream",
          "name": "stdout",
          "text": [
            "RSR for roe: 0.7572\n",
            "RSR for sustainability_score: 0.5228\n",
            "ARSR: 0.6400\n"
          ]
        },
        {
          "output_type": "stream",
          "name": "stderr",
          "text": [
            "<ipython-input-25-9a0f24a738bb>:8: FutureWarning: suggest_loguniform has been deprecated in v3.0.0. This feature will be removed in v6.0.0. See https://github.com/optuna/optuna/releases/tag/v3.0.0. Use suggest_float(..., log=True) instead.\n",
            "  lr = trial.suggest_loguniform('lr', 1e-5, 1e-2)\n",
            "[I 2025-01-04 20:25:30,013] Trial 117 finished with value: 0.6102782771640275 and parameters: {'hidden_units1': 76, 'hidden_units2': 68, 'dropout_rate': 0.3216714782391237, 'lr': 0.0026985867703148013, 'batch_size': 64}. Best is trial 94 with value: 0.5652099983080655.\n"
          ]
        },
        {
          "output_type": "stream",
          "name": "stdout",
          "text": [
            "RSR for roe: 0.7171\n",
            "RSR for sustainability_score: 0.5035\n",
            "ARSR: 0.6103\n"
          ]
        },
        {
          "output_type": "stream",
          "name": "stderr",
          "text": [
            "<ipython-input-25-9a0f24a738bb>:8: FutureWarning: suggest_loguniform has been deprecated in v3.0.0. This feature will be removed in v6.0.0. See https://github.com/optuna/optuna/releases/tag/v3.0.0. Use suggest_float(..., log=True) instead.\n",
            "  lr = trial.suggest_loguniform('lr', 1e-5, 1e-2)\n",
            "[I 2025-01-04 20:25:32,311] Trial 118 finished with value: 0.6199779393194061 and parameters: {'hidden_units1': 64, 'hidden_units2': 62, 'dropout_rate': 0.1150460975971662, 'lr': 0.0029008389753066993, 'batch_size': 64}. Best is trial 94 with value: 0.5652099983080655.\n"
          ]
        },
        {
          "output_type": "stream",
          "name": "stdout",
          "text": [
            "RSR for roe: 0.7696\n",
            "RSR for sustainability_score: 0.4703\n",
            "ARSR: 0.6200\n"
          ]
        },
        {
          "output_type": "stream",
          "name": "stderr",
          "text": [
            "<ipython-input-25-9a0f24a738bb>:8: FutureWarning: suggest_loguniform has been deprecated in v3.0.0. This feature will be removed in v6.0.0. See https://github.com/optuna/optuna/releases/tag/v3.0.0. Use suggest_float(..., log=True) instead.\n",
            "  lr = trial.suggest_loguniform('lr', 1e-5, 1e-2)\n",
            "[I 2025-01-04 20:25:33,931] Trial 119 finished with value: 0.6465364908482123 and parameters: {'hidden_units1': 70, 'hidden_units2': 75, 'dropout_rate': 0.31683870879779363, 'lr': 0.0025227168041437272, 'batch_size': 64}. Best is trial 94 with value: 0.5652099983080655.\n"
          ]
        },
        {
          "output_type": "stream",
          "name": "stdout",
          "text": [
            "RSR for roe: 0.7865\n",
            "RSR for sustainability_score: 0.5066\n",
            "ARSR: 0.6465\n"
          ]
        },
        {
          "output_type": "stream",
          "name": "stderr",
          "text": [
            "<ipython-input-25-9a0f24a738bb>:8: FutureWarning: suggest_loguniform has been deprecated in v3.0.0. This feature will be removed in v6.0.0. See https://github.com/optuna/optuna/releases/tag/v3.0.0. Use suggest_float(..., log=True) instead.\n",
            "  lr = trial.suggest_loguniform('lr', 1e-5, 1e-2)\n",
            "[I 2025-01-04 20:25:35,581] Trial 120 finished with value: 0.6510599235890302 and parameters: {'hidden_units1': 237, 'hidden_units2': 89, 'dropout_rate': 0.22226808645724758, 'lr': 0.005465153385442904, 'batch_size': 64}. Best is trial 94 with value: 0.5652099983080655.\n"
          ]
        },
        {
          "output_type": "stream",
          "name": "stdout",
          "text": [
            "RSR for roe: 0.7710\n",
            "RSR for sustainability_score: 0.5311\n",
            "ARSR: 0.6511\n"
          ]
        },
        {
          "output_type": "stream",
          "name": "stderr",
          "text": [
            "<ipython-input-25-9a0f24a738bb>:8: FutureWarning: suggest_loguniform has been deprecated in v3.0.0. This feature will be removed in v6.0.0. See https://github.com/optuna/optuna/releases/tag/v3.0.0. Use suggest_float(..., log=True) instead.\n",
            "  lr = trial.suggest_loguniform('lr', 1e-5, 1e-2)\n",
            "[I 2025-01-04 20:25:37,854] Trial 121 finished with value: 0.6191490381063789 and parameters: {'hidden_units1': 85, 'hidden_units2': 69, 'dropout_rate': 0.3290845558795867, 'lr': 0.004408242158299638, 'batch_size': 64}. Best is trial 94 with value: 0.5652099983080655.\n"
          ]
        },
        {
          "output_type": "stream",
          "name": "stdout",
          "text": [
            "RSR for roe: 0.7383\n",
            "RSR for sustainability_score: 0.5000\n",
            "ARSR: 0.6191\n"
          ]
        },
        {
          "output_type": "stream",
          "name": "stderr",
          "text": [
            "<ipython-input-25-9a0f24a738bb>:8: FutureWarning: suggest_loguniform has been deprecated in v3.0.0. This feature will be removed in v6.0.0. See https://github.com/optuna/optuna/releases/tag/v3.0.0. Use suggest_float(..., log=True) instead.\n",
            "  lr = trial.suggest_loguniform('lr', 1e-5, 1e-2)\n",
            "[I 2025-01-04 20:25:40,932] Trial 122 finished with value: 0.6181086414670794 and parameters: {'hidden_units1': 102, 'hidden_units2': 73, 'dropout_rate': 0.2608004849493738, 'lr': 0.0021033355733637753, 'batch_size': 64}. Best is trial 94 with value: 0.5652099983080655.\n"
          ]
        },
        {
          "output_type": "stream",
          "name": "stdout",
          "text": [
            "RSR for roe: 0.7836\n",
            "RSR for sustainability_score: 0.4526\n",
            "ARSR: 0.6181\n"
          ]
        },
        {
          "output_type": "stream",
          "name": "stderr",
          "text": [
            "<ipython-input-25-9a0f24a738bb>:8: FutureWarning: suggest_loguniform has been deprecated in v3.0.0. This feature will be removed in v6.0.0. See https://github.com/optuna/optuna/releases/tag/v3.0.0. Use suggest_float(..., log=True) instead.\n",
            "  lr = trial.suggest_loguniform('lr', 1e-5, 1e-2)\n",
            "[I 2025-01-04 20:25:42,780] Trial 123 finished with value: 0.6437413690171172 and parameters: {'hidden_units1': 76, 'hidden_units2': 67, 'dropout_rate': 0.32390763071142586, 'lr': 0.0031150205502808925, 'batch_size': 64}. Best is trial 94 with value: 0.5652099983080655.\n"
          ]
        },
        {
          "output_type": "stream",
          "name": "stdout",
          "text": [
            "RSR for roe: 0.7275\n",
            "RSR for sustainability_score: 0.5600\n",
            "ARSR: 0.6437\n"
          ]
        },
        {
          "output_type": "stream",
          "name": "stderr",
          "text": [
            "<ipython-input-25-9a0f24a738bb>:8: FutureWarning: suggest_loguniform has been deprecated in v3.0.0. This feature will be removed in v6.0.0. See https://github.com/optuna/optuna/releases/tag/v3.0.0. Use suggest_float(..., log=True) instead.\n",
            "  lr = trial.suggest_loguniform('lr', 1e-5, 1e-2)\n",
            "[I 2025-01-04 20:25:44,396] Trial 124 finished with value: 0.7015360213796601 and parameters: {'hidden_units1': 101, 'hidden_units2': 64, 'dropout_rate': 0.35201903643233956, 'lr': 0.006555057809138567, 'batch_size': 64}. Best is trial 94 with value: 0.5652099983080655.\n"
          ]
        },
        {
          "output_type": "stream",
          "name": "stdout",
          "text": [
            "RSR for roe: 0.7634\n",
            "RSR for sustainability_score: 0.6397\n",
            "ARSR: 0.7015\n"
          ]
        },
        {
          "output_type": "stream",
          "name": "stderr",
          "text": [
            "<ipython-input-25-9a0f24a738bb>:8: FutureWarning: suggest_loguniform has been deprecated in v3.0.0. This feature will be removed in v6.0.0. See https://github.com/optuna/optuna/releases/tag/v3.0.0. Use suggest_float(..., log=True) instead.\n",
            "  lr = trial.suggest_loguniform('lr', 1e-5, 1e-2)\n",
            "[I 2025-01-04 20:25:46,665] Trial 125 finished with value: 0.635421258958625 and parameters: {'hidden_units1': 78, 'hidden_units2': 60, 'dropout_rate': 0.30705870586457623, 'lr': 0.003559753742255954, 'batch_size': 64}. Best is trial 94 with value: 0.5652099983080655.\n"
          ]
        },
        {
          "output_type": "stream",
          "name": "stdout",
          "text": [
            "RSR for roe: 0.7666\n",
            "RSR for sustainability_score: 0.5042\n",
            "ARSR: 0.6354\n"
          ]
        },
        {
          "output_type": "stream",
          "name": "stderr",
          "text": [
            "<ipython-input-25-9a0f24a738bb>:8: FutureWarning: suggest_loguniform has been deprecated in v3.0.0. This feature will be removed in v6.0.0. See https://github.com/optuna/optuna/releases/tag/v3.0.0. Use suggest_float(..., log=True) instead.\n",
            "  lr = trial.suggest_loguniform('lr', 1e-5, 1e-2)\n",
            "[I 2025-01-04 20:25:49,084] Trial 126 finished with value: 0.6238279072415754 and parameters: {'hidden_units1': 73, 'hidden_units2': 69, 'dropout_rate': 0.28484061023403207, 'lr': 0.0026343265153480513, 'batch_size': 64}. Best is trial 94 with value: 0.5652099983080655.\n"
          ]
        },
        {
          "output_type": "stream",
          "name": "stdout",
          "text": [
            "RSR for roe: 0.7613\n",
            "RSR for sustainability_score: 0.4863\n",
            "ARSR: 0.6238\n"
          ]
        },
        {
          "output_type": "stream",
          "name": "stderr",
          "text": [
            "<ipython-input-25-9a0f24a738bb>:8: FutureWarning: suggest_loguniform has been deprecated in v3.0.0. This feature will be removed in v6.0.0. See https://github.com/optuna/optuna/releases/tag/v3.0.0. Use suggest_float(..., log=True) instead.\n",
            "  lr = trial.suggest_loguniform('lr', 1e-5, 1e-2)\n",
            "[I 2025-01-04 20:25:51,998] Trial 127 finished with value: 0.652239679868341 and parameters: {'hidden_units1': 243, 'hidden_units2': 72, 'dropout_rate': 0.37306432994326594, 'lr': 0.0014729299840546867, 'batch_size': 64}. Best is trial 94 with value: 0.5652099983080655.\n"
          ]
        },
        {
          "output_type": "stream",
          "name": "stdout",
          "text": [
            "RSR for roe: 0.7446\n",
            "RSR for sustainability_score: 0.5599\n",
            "ARSR: 0.6522\n"
          ]
        },
        {
          "output_type": "stream",
          "name": "stderr",
          "text": [
            "<ipython-input-25-9a0f24a738bb>:8: FutureWarning: suggest_loguniform has been deprecated in v3.0.0. This feature will be removed in v6.0.0. See https://github.com/optuna/optuna/releases/tag/v3.0.0. Use suggest_float(..., log=True) instead.\n",
            "  lr = trial.suggest_loguniform('lr', 1e-5, 1e-2)\n",
            "[I 2025-01-04 20:25:54,569] Trial 128 finished with value: 0.6308733789997366 and parameters: {'hidden_units1': 93, 'hidden_units2': 66, 'dropout_rate': 0.23678727612456268, 'lr': 0.005175715249472995, 'batch_size': 64}. Best is trial 94 with value: 0.5652099983080655.\n"
          ]
        },
        {
          "output_type": "stream",
          "name": "stdout",
          "text": [
            "RSR for roe: 0.7319\n",
            "RSR for sustainability_score: 0.5298\n",
            "ARSR: 0.6309\n"
          ]
        },
        {
          "output_type": "stream",
          "name": "stderr",
          "text": [
            "<ipython-input-25-9a0f24a738bb>:8: FutureWarning: suggest_loguniform has been deprecated in v3.0.0. This feature will be removed in v6.0.0. See https://github.com/optuna/optuna/releases/tag/v3.0.0. Use suggest_float(..., log=True) instead.\n",
            "  lr = trial.suggest_loguniform('lr', 1e-5, 1e-2)\n",
            "[I 2025-01-04 20:25:57,451] Trial 129 finished with value: 0.8575175222029499 and parameters: {'hidden_units1': 144, 'hidden_units2': 76, 'dropout_rate': 0.25073449779570844, 'lr': 5.367677300299042e-05, 'batch_size': 64}. Best is trial 94 with value: 0.5652099983080655.\n"
          ]
        },
        {
          "output_type": "stream",
          "name": "stdout",
          "text": [
            "RSR for roe: 0.8077\n",
            "RSR for sustainability_score: 0.9073\n",
            "ARSR: 0.8575\n"
          ]
        },
        {
          "output_type": "stream",
          "name": "stderr",
          "text": [
            "<ipython-input-25-9a0f24a738bb>:8: FutureWarning: suggest_loguniform has been deprecated in v3.0.0. This feature will be removed in v6.0.0. See https://github.com/optuna/optuna/releases/tag/v3.0.0. Use suggest_float(..., log=True) instead.\n",
            "  lr = trial.suggest_loguniform('lr', 1e-5, 1e-2)\n",
            "[I 2025-01-04 20:25:59,351] Trial 130 finished with value: 0.6216048748910925 and parameters: {'hidden_units1': 233, 'hidden_units2': 70, 'dropout_rate': 0.29920838891723145, 'lr': 0.00401575331682644, 'batch_size': 64}. Best is trial 94 with value: 0.5652099983080655.\n"
          ]
        },
        {
          "output_type": "stream",
          "name": "stdout",
          "text": [
            "RSR for roe: 0.7749\n",
            "RSR for sustainability_score: 0.4683\n",
            "ARSR: 0.6216\n"
          ]
        },
        {
          "output_type": "stream",
          "name": "stderr",
          "text": [
            "<ipython-input-25-9a0f24a738bb>:8: FutureWarning: suggest_loguniform has been deprecated in v3.0.0. This feature will be removed in v6.0.0. See https://github.com/optuna/optuna/releases/tag/v3.0.0. Use suggest_float(..., log=True) instead.\n",
            "  lr = trial.suggest_loguniform('lr', 1e-5, 1e-2)\n",
            "[I 2025-01-04 20:26:00,666] Trial 131 finished with value: 0.6106672270287063 and parameters: {'hidden_units1': 84, 'hidden_units2': 71, 'dropout_rate': 0.2732864990714644, 'lr': 0.005920136171302061, 'batch_size': 128}. Best is trial 94 with value: 0.5652099983080655.\n"
          ]
        },
        {
          "output_type": "stream",
          "name": "stdout",
          "text": [
            "RSR for roe: 0.7246\n",
            "RSR for sustainability_score: 0.4968\n",
            "ARSR: 0.6107\n"
          ]
        },
        {
          "output_type": "stream",
          "name": "stderr",
          "text": [
            "<ipython-input-25-9a0f24a738bb>:8: FutureWarning: suggest_loguniform has been deprecated in v3.0.0. This feature will be removed in v6.0.0. See https://github.com/optuna/optuna/releases/tag/v3.0.0. Use suggest_float(..., log=True) instead.\n",
            "  lr = trial.suggest_loguniform('lr', 1e-5, 1e-2)\n",
            "[I 2025-01-04 20:26:01,717] Trial 132 finished with value: 0.6945248499609469 and parameters: {'hidden_units1': 80, 'hidden_units2': 73, 'dropout_rate': 0.2638590306523969, 'lr': 0.006361321689620181, 'batch_size': 128}. Best is trial 94 with value: 0.5652099983080655.\n"
          ]
        },
        {
          "output_type": "stream",
          "name": "stdout",
          "text": [
            "RSR for roe: 0.7424\n",
            "RSR for sustainability_score: 0.6467\n",
            "ARSR: 0.6945\n"
          ]
        },
        {
          "output_type": "stream",
          "name": "stderr",
          "text": [
            "<ipython-input-25-9a0f24a738bb>:8: FutureWarning: suggest_loguniform has been deprecated in v3.0.0. This feature will be removed in v6.0.0. See https://github.com/optuna/optuna/releases/tag/v3.0.0. Use suggest_float(..., log=True) instead.\n",
            "  lr = trial.suggest_loguniform('lr', 1e-5, 1e-2)\n",
            "[I 2025-01-04 20:26:04,167] Trial 133 finished with value: 0.5864901066714907 and parameters: {'hidden_units1': 87, 'hidden_units2': 63, 'dropout_rate': 0.2820620213747855, 'lr': 0.00475918969000734, 'batch_size': 64}. Best is trial 94 with value: 0.5652099983080655.\n"
          ]
        },
        {
          "output_type": "stream",
          "name": "stdout",
          "text": [
            "RSR for roe: 0.7330\n",
            "RSR for sustainability_score: 0.4400\n",
            "ARSR: 0.5865\n"
          ]
        },
        {
          "output_type": "stream",
          "name": "stderr",
          "text": [
            "<ipython-input-25-9a0f24a738bb>:8: FutureWarning: suggest_loguniform has been deprecated in v3.0.0. This feature will be removed in v6.0.0. See https://github.com/optuna/optuna/releases/tag/v3.0.0. Use suggest_float(..., log=True) instead.\n",
            "  lr = trial.suggest_loguniform('lr', 1e-5, 1e-2)\n",
            "[I 2025-01-04 20:26:05,834] Trial 134 finished with value: 0.6721737889828006 and parameters: {'hidden_units1': 85, 'hidden_units2': 62, 'dropout_rate': 0.2717599402932772, 'lr': 0.00574895582455983, 'batch_size': 64}. Best is trial 94 with value: 0.5652099983080655.\n"
          ]
        },
        {
          "output_type": "stream",
          "name": "stdout",
          "text": [
            "RSR for roe: 0.7369\n",
            "RSR for sustainability_score: 0.6074\n",
            "ARSR: 0.6722\n"
          ]
        },
        {
          "output_type": "stream",
          "name": "stderr",
          "text": [
            "<ipython-input-25-9a0f24a738bb>:8: FutureWarning: suggest_loguniform has been deprecated in v3.0.0. This feature will be removed in v6.0.0. See https://github.com/optuna/optuna/releases/tag/v3.0.0. Use suggest_float(..., log=True) instead.\n",
            "  lr = trial.suggest_loguniform('lr', 1e-5, 1e-2)\n",
            "[I 2025-01-04 20:26:07,992] Trial 135 finished with value: 0.6318070073350583 and parameters: {'hidden_units1': 94, 'hidden_units2': 58, 'dropout_rate': 0.28239284937777503, 'lr': 0.007184976428498818, 'batch_size': 64}. Best is trial 94 with value: 0.5652099983080655.\n"
          ]
        },
        {
          "output_type": "stream",
          "name": "stdout",
          "text": [
            "RSR for roe: 0.7537\n",
            "RSR for sustainability_score: 0.5099\n",
            "ARSR: 0.6318\n"
          ]
        },
        {
          "output_type": "stream",
          "name": "stderr",
          "text": [
            "<ipython-input-25-9a0f24a738bb>:8: FutureWarning: suggest_loguniform has been deprecated in v3.0.0. This feature will be removed in v6.0.0. See https://github.com/optuna/optuna/releases/tag/v3.0.0. Use suggest_float(..., log=True) instead.\n",
            "  lr = trial.suggest_loguniform('lr', 1e-5, 1e-2)\n",
            "[I 2025-01-04 20:26:08,787] Trial 136 finished with value: 0.7717597358239652 and parameters: {'hidden_units1': 224, 'hidden_units2': 65, 'dropout_rate': 0.24988255576440888, 'lr': 0.004900980295654322, 'batch_size': 128}. Best is trial 94 with value: 0.5652099983080655.\n"
          ]
        },
        {
          "output_type": "stream",
          "name": "stdout",
          "text": [
            "RSR for roe: 0.7469\n",
            "RSR for sustainability_score: 0.7966\n",
            "ARSR: 0.7718\n"
          ]
        },
        {
          "output_type": "stream",
          "name": "stderr",
          "text": [
            "<ipython-input-25-9a0f24a738bb>:8: FutureWarning: suggest_loguniform has been deprecated in v3.0.0. This feature will be removed in v6.0.0. See https://github.com/optuna/optuna/releases/tag/v3.0.0. Use suggest_float(..., log=True) instead.\n",
            "  lr = trial.suggest_loguniform('lr', 1e-5, 1e-2)\n",
            "[I 2025-01-04 20:26:09,932] Trial 137 finished with value: 0.6936195285783843 and parameters: {'hidden_units1': 96, 'hidden_units2': 79, 'dropout_rate': 0.27666089014294004, 'lr': 0.0032799101611346716, 'batch_size': 64}. Best is trial 94 with value: 0.5652099983080655.\n"
          ]
        },
        {
          "output_type": "stream",
          "name": "stdout",
          "text": [
            "RSR for roe: 0.7904\n",
            "RSR for sustainability_score: 0.5969\n",
            "ARSR: 0.6936\n"
          ]
        },
        {
          "output_type": "stream",
          "name": "stderr",
          "text": [
            "<ipython-input-25-9a0f24a738bb>:8: FutureWarning: suggest_loguniform has been deprecated in v3.0.0. This feature will be removed in v6.0.0. See https://github.com/optuna/optuna/releases/tag/v3.0.0. Use suggest_float(..., log=True) instead.\n",
            "  lr = trial.suggest_loguniform('lr', 1e-5, 1e-2)\n",
            "[I 2025-01-04 20:26:12,758] Trial 138 finished with value: 0.6123792779318269 and parameters: {'hidden_units1': 114, 'hidden_units2': 63, 'dropout_rate': 0.2949285012700447, 'lr': 0.001898816723597502, 'batch_size': 64}. Best is trial 94 with value: 0.5652099983080655.\n"
          ]
        },
        {
          "output_type": "stream",
          "name": "stdout",
          "text": [
            "RSR for roe: 0.7336\n",
            "RSR for sustainability_score: 0.4912\n",
            "ARSR: 0.6124\n"
          ]
        },
        {
          "output_type": "stream",
          "name": "stderr",
          "text": [
            "<ipython-input-25-9a0f24a738bb>:8: FutureWarning: suggest_loguniform has been deprecated in v3.0.0. This feature will be removed in v6.0.0. See https://github.com/optuna/optuna/releases/tag/v3.0.0. Use suggest_float(..., log=True) instead.\n",
            "  lr = trial.suggest_loguniform('lr', 1e-5, 1e-2)\n",
            "[I 2025-01-04 20:26:15,368] Trial 139 finished with value: 0.6245361880938995 and parameters: {'hidden_units1': 106, 'hidden_units2': 60, 'dropout_rate': 0.3139803144632655, 'lr': 0.0017369942701244828, 'batch_size': 64}. Best is trial 94 with value: 0.5652099983080655.\n"
          ]
        },
        {
          "output_type": "stream",
          "name": "stdout",
          "text": [
            "RSR for roe: 0.7498\n",
            "RSR for sustainability_score: 0.4993\n",
            "ARSR: 0.6245\n"
          ]
        },
        {
          "output_type": "stream",
          "name": "stderr",
          "text": [
            "<ipython-input-25-9a0f24a738bb>:8: FutureWarning: suggest_loguniform has been deprecated in v3.0.0. This feature will be removed in v6.0.0. See https://github.com/optuna/optuna/releases/tag/v3.0.0. Use suggest_float(..., log=True) instead.\n",
            "  lr = trial.suggest_loguniform('lr', 1e-5, 1e-2)\n",
            "[I 2025-01-04 20:26:17,276] Trial 140 finished with value: 0.6665885992400675 and parameters: {'hidden_units1': 117, 'hidden_units2': 53, 'dropout_rate': 0.29485262112080396, 'lr': 0.001881586171835204, 'batch_size': 64}. Best is trial 94 with value: 0.5652099983080655.\n"
          ]
        },
        {
          "output_type": "stream",
          "name": "stdout",
          "text": [
            "RSR for roe: 0.7781\n",
            "RSR for sustainability_score: 0.5551\n",
            "ARSR: 0.6666\n"
          ]
        },
        {
          "output_type": "stream",
          "name": "stderr",
          "text": [
            "<ipython-input-25-9a0f24a738bb>:8: FutureWarning: suggest_loguniform has been deprecated in v3.0.0. This feature will be removed in v6.0.0. See https://github.com/optuna/optuna/releases/tag/v3.0.0. Use suggest_float(..., log=True) instead.\n",
            "  lr = trial.suggest_loguniform('lr', 1e-5, 1e-2)\n",
            "[I 2025-01-04 20:26:20,799] Trial 141 finished with value: 0.6348879316490705 and parameters: {'hidden_units1': 74, 'hidden_units2': 64, 'dropout_rate': 0.2652020253984755, 'lr': 0.002215850851813894, 'batch_size': 64}. Best is trial 94 with value: 0.5652099983080655.\n"
          ]
        },
        {
          "output_type": "stream",
          "name": "stdout",
          "text": [
            "RSR for roe: 0.7785\n",
            "RSR for sustainability_score: 0.4913\n",
            "ARSR: 0.6349\n"
          ]
        },
        {
          "output_type": "stream",
          "name": "stderr",
          "text": [
            "<ipython-input-25-9a0f24a738bb>:8: FutureWarning: suggest_loguniform has been deprecated in v3.0.0. This feature will be removed in v6.0.0. See https://github.com/optuna/optuna/releases/tag/v3.0.0. Use suggest_float(..., log=True) instead.\n",
            "  lr = trial.suggest_loguniform('lr', 1e-5, 1e-2)\n",
            "[I 2025-01-04 20:26:23,523] Trial 142 finished with value: 0.6366721718141252 and parameters: {'hidden_units1': 82, 'hidden_units2': 93, 'dropout_rate': 0.28814186973174155, 'lr': 0.001230577749512509, 'batch_size': 64}. Best is trial 94 with value: 0.5652099983080655.\n"
          ]
        },
        {
          "output_type": "stream",
          "name": "stdout",
          "text": [
            "RSR for roe: 0.7406\n",
            "RSR for sustainability_score: 0.5328\n",
            "ARSR: 0.6367\n"
          ]
        },
        {
          "output_type": "stream",
          "name": "stderr",
          "text": [
            "<ipython-input-25-9a0f24a738bb>:8: FutureWarning: suggest_loguniform has been deprecated in v3.0.0. This feature will be removed in v6.0.0. See https://github.com/optuna/optuna/releases/tag/v3.0.0. Use suggest_float(..., log=True) instead.\n",
            "  lr = trial.suggest_loguniform('lr', 1e-5, 1e-2)\n",
            "[I 2025-01-04 20:26:25,049] Trial 143 finished with value: 0.6951082418989598 and parameters: {'hidden_units1': 252, 'hidden_units2': 67, 'dropout_rate': 0.3225800518722763, 'lr': 0.0026480470204754357, 'batch_size': 64}. Best is trial 94 with value: 0.5652099983080655.\n"
          ]
        },
        {
          "output_type": "stream",
          "name": "stdout",
          "text": [
            "RSR for roe: 0.7823\n",
            "RSR for sustainability_score: 0.6079\n",
            "ARSR: 0.6951\n"
          ]
        },
        {
          "output_type": "stream",
          "name": "stderr",
          "text": [
            "<ipython-input-25-9a0f24a738bb>:8: FutureWarning: suggest_loguniform has been deprecated in v3.0.0. This feature will be removed in v6.0.0. See https://github.com/optuna/optuna/releases/tag/v3.0.0. Use suggest_float(..., log=True) instead.\n",
            "  lr = trial.suggest_loguniform('lr', 1e-5, 1e-2)\n",
            "[I 2025-01-04 20:26:27,810] Trial 144 finished with value: 0.6205148558470546 and parameters: {'hidden_units1': 91, 'hidden_units2': 56, 'dropout_rate': 0.12283149312037445, 'lr': 0.0010291672491982613, 'batch_size': 64}. Best is trial 94 with value: 0.5652099983080655.\n"
          ]
        },
        {
          "output_type": "stream",
          "name": "stdout",
          "text": [
            "RSR for roe: 0.7475\n",
            "RSR for sustainability_score: 0.4935\n",
            "ARSR: 0.6205\n"
          ]
        },
        {
          "output_type": "stream",
          "name": "stderr",
          "text": [
            "<ipython-input-25-9a0f24a738bb>:8: FutureWarning: suggest_loguniform has been deprecated in v3.0.0. This feature will be removed in v6.0.0. See https://github.com/optuna/optuna/releases/tag/v3.0.0. Use suggest_float(..., log=True) instead.\n",
            "  lr = trial.suggest_loguniform('lr', 1e-5, 1e-2)\n",
            "[I 2025-01-04 20:26:30,585] Trial 145 finished with value: 0.6045770835314419 and parameters: {'hidden_units1': 244, 'hidden_units2': 71, 'dropout_rate': 0.3337126037147894, 'lr': 0.0037156802377826615, 'batch_size': 64}. Best is trial 94 with value: 0.5652099983080655.\n"
          ]
        },
        {
          "output_type": "stream",
          "name": "stdout",
          "text": [
            "RSR for roe: 0.7342\n",
            "RSR for sustainability_score: 0.4749\n",
            "ARSR: 0.6046\n"
          ]
        },
        {
          "output_type": "stream",
          "name": "stderr",
          "text": [
            "<ipython-input-25-9a0f24a738bb>:8: FutureWarning: suggest_loguniform has been deprecated in v3.0.0. This feature will be removed in v6.0.0. See https://github.com/optuna/optuna/releases/tag/v3.0.0. Use suggest_float(..., log=True) instead.\n",
            "  lr = trial.suggest_loguniform('lr', 1e-5, 1e-2)\n",
            "[I 2025-01-04 20:26:31,995] Trial 146 finished with value: 0.6201720937676105 and parameters: {'hidden_units1': 132, 'hidden_units2': 63, 'dropout_rate': 0.10896730334695863, 'lr': 0.0035213119209651558, 'batch_size': 128}. Best is trial 94 with value: 0.5652099983080655.\n"
          ]
        },
        {
          "output_type": "stream",
          "name": "stdout",
          "text": [
            "RSR for roe: 0.7691\n",
            "RSR for sustainability_score: 0.4713\n",
            "ARSR: 0.6202\n"
          ]
        },
        {
          "output_type": "stream",
          "name": "stderr",
          "text": [
            "<ipython-input-25-9a0f24a738bb>:8: FutureWarning: suggest_loguniform has been deprecated in v3.0.0. This feature will be removed in v6.0.0. See https://github.com/optuna/optuna/releases/tag/v3.0.0. Use suggest_float(..., log=True) instead.\n",
            "  lr = trial.suggest_loguniform('lr', 1e-5, 1e-2)\n",
            "[I 2025-01-04 20:26:35,725] Trial 147 finished with value: 0.6079444787531478 and parameters: {'hidden_units1': 97, 'hidden_units2': 67, 'dropout_rate': 0.3390808259246217, 'lr': 0.003038335707821149, 'batch_size': 64}. Best is trial 94 with value: 0.5652099983080655.\n"
          ]
        },
        {
          "output_type": "stream",
          "name": "stdout",
          "text": [
            "RSR for roe: 0.7556\n",
            "RSR for sustainability_score: 0.4602\n",
            "ARSR: 0.6079\n"
          ]
        },
        {
          "output_type": "stream",
          "name": "stderr",
          "text": [
            "<ipython-input-25-9a0f24a738bb>:8: FutureWarning: suggest_loguniform has been deprecated in v3.0.0. This feature will be removed in v6.0.0. See https://github.com/optuna/optuna/releases/tag/v3.0.0. Use suggest_float(..., log=True) instead.\n",
            "  lr = trial.suggest_loguniform('lr', 1e-5, 1e-2)\n",
            "[I 2025-01-04 20:26:37,886] Trial 148 finished with value: 0.6233070260700599 and parameters: {'hidden_units1': 97, 'hidden_units2': 67, 'dropout_rate': 0.33273468044453175, 'lr': 0.002952739343000908, 'batch_size': 64}. Best is trial 94 with value: 0.5652099983080655.\n"
          ]
        },
        {
          "output_type": "stream",
          "name": "stdout",
          "text": [
            "RSR for roe: 0.7567\n",
            "RSR for sustainability_score: 0.4900\n",
            "ARSR: 0.6233\n"
          ]
        },
        {
          "output_type": "stream",
          "name": "stderr",
          "text": [
            "<ipython-input-25-9a0f24a738bb>:8: FutureWarning: suggest_loguniform has been deprecated in v3.0.0. This feature will be removed in v6.0.0. See https://github.com/optuna/optuna/releases/tag/v3.0.0. Use suggest_float(..., log=True) instead.\n",
            "  lr = trial.suggest_loguniform('lr', 1e-5, 1e-2)\n",
            "[I 2025-01-04 20:26:39,569] Trial 149 finished with value: 0.6163250882945615 and parameters: {'hidden_units1': 89, 'hidden_units2': 61, 'dropout_rate': 0.35503989444976614, 'lr': 0.0024002284924448743, 'batch_size': 64}. Best is trial 94 with value: 0.5652099983080655.\n"
          ]
        },
        {
          "output_type": "stream",
          "name": "stdout",
          "text": [
            "RSR for roe: 0.7294\n",
            "RSR for sustainability_score: 0.5033\n",
            "ARSR: 0.6163\n"
          ]
        },
        {
          "output_type": "stream",
          "name": "stderr",
          "text": [
            "<ipython-input-25-9a0f24a738bb>:8: FutureWarning: suggest_loguniform has been deprecated in v3.0.0. This feature will be removed in v6.0.0. See https://github.com/optuna/optuna/releases/tag/v3.0.0. Use suggest_float(..., log=True) instead.\n",
            "  lr = trial.suggest_loguniform('lr', 1e-5, 1e-2)\n",
            "[I 2025-01-04 20:26:41,105] Trial 150 finished with value: 0.6302028636424442 and parameters: {'hidden_units1': 84, 'hidden_units2': 71, 'dropout_rate': 0.3650137209679286, 'lr': 0.0037948148739017935, 'batch_size': 128}. Best is trial 94 with value: 0.5652099983080655.\n"
          ]
        },
        {
          "output_type": "stream",
          "name": "stdout",
          "text": [
            "RSR for roe: 0.7421\n",
            "RSR for sustainability_score: 0.5183\n",
            "ARSR: 0.6302\n"
          ]
        },
        {
          "output_type": "stream",
          "name": "stderr",
          "text": [
            "<ipython-input-25-9a0f24a738bb>:8: FutureWarning: suggest_loguniform has been deprecated in v3.0.0. This feature will be removed in v6.0.0. See https://github.com/optuna/optuna/releases/tag/v3.0.0. Use suggest_float(..., log=True) instead.\n",
            "  lr = trial.suggest_loguniform('lr', 1e-5, 1e-2)\n",
            "[I 2025-01-04 20:26:43,256] Trial 151 finished with value: 0.6072836721133577 and parameters: {'hidden_units1': 245, 'hidden_units2': 65, 'dropout_rate': 0.344954840026515, 'lr': 0.004478910040811684, 'batch_size': 64}. Best is trial 94 with value: 0.5652099983080655.\n"
          ]
        },
        {
          "output_type": "stream",
          "name": "stdout",
          "text": [
            "RSR for roe: 0.7366\n",
            "RSR for sustainability_score: 0.4779\n",
            "ARSR: 0.6073\n"
          ]
        },
        {
          "output_type": "stream",
          "name": "stderr",
          "text": [
            "<ipython-input-25-9a0f24a738bb>:8: FutureWarning: suggest_loguniform has been deprecated in v3.0.0. This feature will be removed in v6.0.0. See https://github.com/optuna/optuna/releases/tag/v3.0.0. Use suggest_float(..., log=True) instead.\n",
            "  lr = trial.suggest_loguniform('lr', 1e-5, 1e-2)\n",
            "[I 2025-01-04 20:26:43,952] Trial 152 finished with value: 0.7601782853273265 and parameters: {'hidden_units1': 100, 'hidden_units2': 65, 'dropout_rate': 0.3386217516814581, 'lr': 0.005245031408932119, 'batch_size': 64}. Best is trial 94 with value: 0.5652099983080655.\n"
          ]
        },
        {
          "output_type": "stream",
          "name": "stdout",
          "text": [
            "RSR for roe: 0.7865\n",
            "RSR for sustainability_score: 0.7338\n",
            "ARSR: 0.7602\n"
          ]
        },
        {
          "output_type": "stream",
          "name": "stderr",
          "text": [
            "<ipython-input-25-9a0f24a738bb>:8: FutureWarning: suggest_loguniform has been deprecated in v3.0.0. This feature will be removed in v6.0.0. See https://github.com/optuna/optuna/releases/tag/v3.0.0. Use suggest_float(..., log=True) instead.\n",
            "  lr = trial.suggest_loguniform('lr', 1e-5, 1e-2)\n",
            "[I 2025-01-04 20:26:45,991] Trial 153 finished with value: 0.6578488498958843 and parameters: {'hidden_units1': 106, 'hidden_units2': 63, 'dropout_rate': 0.33589003375552673, 'lr': 0.005929751374378604, 'batch_size': 64}. Best is trial 94 with value: 0.5652099983080655.\n"
          ]
        },
        {
          "output_type": "stream",
          "name": "stdout",
          "text": [
            "RSR for roe: 0.7453\n",
            "RSR for sustainability_score: 0.5704\n",
            "ARSR: 0.6578\n"
          ]
        },
        {
          "output_type": "stream",
          "name": "stderr",
          "text": [
            "<ipython-input-25-9a0f24a738bb>:8: FutureWarning: suggest_loguniform has been deprecated in v3.0.0. This feature will be removed in v6.0.0. See https://github.com/optuna/optuna/releases/tag/v3.0.0. Use suggest_float(..., log=True) instead.\n",
            "  lr = trial.suggest_loguniform('lr', 1e-5, 1e-2)\n",
            "[I 2025-01-04 20:26:49,175] Trial 154 finished with value: 0.6322248770605456 and parameters: {'hidden_units1': 175, 'hidden_units2': 68, 'dropout_rate': 0.3809401157386165, 'lr': 0.00409171113674771, 'batch_size': 64}. Best is trial 94 with value: 0.5652099983080655.\n"
          ]
        },
        {
          "output_type": "stream",
          "name": "stdout",
          "text": [
            "RSR for roe: 0.7844\n",
            "RSR for sustainability_score: 0.4801\n",
            "ARSR: 0.6322\n"
          ]
        },
        {
          "output_type": "stream",
          "name": "stderr",
          "text": [
            "<ipython-input-25-9a0f24a738bb>:8: FutureWarning: suggest_loguniform has been deprecated in v3.0.0. This feature will be removed in v6.0.0. See https://github.com/optuna/optuna/releases/tag/v3.0.0. Use suggest_float(..., log=True) instead.\n",
            "  lr = trial.suggest_loguniform('lr', 1e-5, 1e-2)\n",
            "[I 2025-01-04 20:26:51,685] Trial 155 finished with value: 0.6557030856479853 and parameters: {'hidden_units1': 69, 'hidden_units2': 72, 'dropout_rate': 0.3520550146720095, 'lr': 0.0020161077358661966, 'batch_size': 64}. Best is trial 94 with value: 0.5652099983080655.\n"
          ]
        },
        {
          "output_type": "stream",
          "name": "stdout",
          "text": [
            "RSR for roe: 0.7541\n",
            "RSR for sustainability_score: 0.5573\n",
            "ARSR: 0.6557\n"
          ]
        },
        {
          "output_type": "stream",
          "name": "stderr",
          "text": [
            "<ipython-input-25-9a0f24a738bb>:8: FutureWarning: suggest_loguniform has been deprecated in v3.0.0. This feature will be removed in v6.0.0. See https://github.com/optuna/optuna/releases/tag/v3.0.0. Use suggest_float(..., log=True) instead.\n",
            "  lr = trial.suggest_loguniform('lr', 1e-5, 1e-2)\n",
            "[I 2025-01-04 20:26:53,889] Trial 156 finished with value: 0.604147488088204 and parameters: {'hidden_units1': 245, 'hidden_units2': 75, 'dropout_rate': 0.3486812471172507, 'lr': 0.003182030331664264, 'batch_size': 64}. Best is trial 94 with value: 0.5652099983080655.\n"
          ]
        },
        {
          "output_type": "stream",
          "name": "stdout",
          "text": [
            "RSR for roe: 0.7313\n",
            "RSR for sustainability_score: 0.4770\n",
            "ARSR: 0.6041\n"
          ]
        },
        {
          "output_type": "stream",
          "name": "stderr",
          "text": [
            "<ipython-input-25-9a0f24a738bb>:8: FutureWarning: suggest_loguniform has been deprecated in v3.0.0. This feature will be removed in v6.0.0. See https://github.com/optuna/optuna/releases/tag/v3.0.0. Use suggest_float(..., log=True) instead.\n",
            "  lr = trial.suggest_loguniform('lr', 1e-5, 1e-2)\n",
            "[I 2025-01-04 20:26:56,160] Trial 157 finished with value: 0.6055235493022465 and parameters: {'hidden_units1': 238, 'hidden_units2': 74, 'dropout_rate': 0.34747964390306885, 'lr': 0.0029312322460894823, 'batch_size': 64}. Best is trial 94 with value: 0.5652099983080655.\n"
          ]
        },
        {
          "output_type": "stream",
          "name": "stdout",
          "text": [
            "RSR for roe: 0.7292\n",
            "RSR for sustainability_score: 0.4819\n",
            "ARSR: 0.6055\n"
          ]
        },
        {
          "output_type": "stream",
          "name": "stderr",
          "text": [
            "<ipython-input-25-9a0f24a738bb>:8: FutureWarning: suggest_loguniform has been deprecated in v3.0.0. This feature will be removed in v6.0.0. See https://github.com/optuna/optuna/releases/tag/v3.0.0. Use suggest_float(..., log=True) instead.\n",
            "  lr = trial.suggest_loguniform('lr', 1e-5, 1e-2)\n",
            "[I 2025-01-04 20:26:58,255] Trial 158 finished with value: 0.645636302178082 and parameters: {'hidden_units1': 238, 'hidden_units2': 75, 'dropout_rate': 0.3444472881717043, 'lr': 0.003193503181556089, 'batch_size': 64}. Best is trial 94 with value: 0.5652099983080655.\n"
          ]
        },
        {
          "output_type": "stream",
          "name": "stdout",
          "text": [
            "RSR for roe: 0.7592\n",
            "RSR for sustainability_score: 0.5321\n",
            "ARSR: 0.6456\n"
          ]
        },
        {
          "output_type": "stream",
          "name": "stderr",
          "text": [
            "<ipython-input-25-9a0f24a738bb>:8: FutureWarning: suggest_loguniform has been deprecated in v3.0.0. This feature will be removed in v6.0.0. See https://github.com/optuna/optuna/releases/tag/v3.0.0. Use suggest_float(..., log=True) instead.\n",
            "  lr = trial.suggest_loguniform('lr', 1e-5, 1e-2)\n",
            "[I 2025-01-04 20:27:00,451] Trial 159 finished with value: 0.6308380542363926 and parameters: {'hidden_units1': 244, 'hidden_units2': 77, 'dropout_rate': 0.3469219643398205, 'lr': 0.0027219005031913716, 'batch_size': 64}. Best is trial 94 with value: 0.5652099983080655.\n"
          ]
        },
        {
          "output_type": "stream",
          "name": "stdout",
          "text": [
            "RSR for roe: 0.7551\n",
            "RSR for sustainability_score: 0.5065\n",
            "ARSR: 0.6308\n"
          ]
        },
        {
          "output_type": "stream",
          "name": "stderr",
          "text": [
            "<ipython-input-25-9a0f24a738bb>:8: FutureWarning: suggest_loguniform has been deprecated in v3.0.0. This feature will be removed in v6.0.0. See https://github.com/optuna/optuna/releases/tag/v3.0.0. Use suggest_float(..., log=True) instead.\n",
            "  lr = trial.suggest_loguniform('lr', 1e-5, 1e-2)\n",
            "[I 2025-01-04 20:27:03,163] Trial 160 finished with value: 0.6497852418940543 and parameters: {'hidden_units1': 247, 'hidden_units2': 72, 'dropout_rate': 0.32746911474810253, 'lr': 0.0034796699593885425, 'batch_size': 64}. Best is trial 94 with value: 0.5652099983080655.\n"
          ]
        },
        {
          "output_type": "stream",
          "name": "stdout",
          "text": [
            "RSR for roe: 0.7410\n",
            "RSR for sustainability_score: 0.5586\n",
            "ARSR: 0.6498\n"
          ]
        },
        {
          "output_type": "stream",
          "name": "stderr",
          "text": [
            "<ipython-input-25-9a0f24a738bb>:8: FutureWarning: suggest_loguniform has been deprecated in v3.0.0. This feature will be removed in v6.0.0. See https://github.com/optuna/optuna/releases/tag/v3.0.0. Use suggest_float(..., log=True) instead.\n",
            "  lr = trial.suggest_loguniform('lr', 1e-5, 1e-2)\n",
            "[I 2025-01-04 20:27:05,119] Trial 161 finished with value: 0.6479782946079872 and parameters: {'hidden_units1': 233, 'hidden_units2': 74, 'dropout_rate': 0.3643597935815733, 'lr': 0.004716890859563682, 'batch_size': 64}. Best is trial 94 with value: 0.5652099983080655.\n"
          ]
        },
        {
          "output_type": "stream",
          "name": "stdout",
          "text": [
            "RSR for roe: 0.7516\n",
            "RSR for sustainability_score: 0.5443\n",
            "ARSR: 0.6480\n"
          ]
        },
        {
          "output_type": "stream",
          "name": "stderr",
          "text": [
            "<ipython-input-25-9a0f24a738bb>:8: FutureWarning: suggest_loguniform has been deprecated in v3.0.0. This feature will be removed in v6.0.0. See https://github.com/optuna/optuna/releases/tag/v3.0.0. Use suggest_float(..., log=True) instead.\n",
            "  lr = trial.suggest_loguniform('lr', 1e-5, 1e-2)\n",
            "[I 2025-01-04 20:27:07,479] Trial 162 finished with value: 0.617892894319494 and parameters: {'hidden_units1': 229, 'hidden_units2': 70, 'dropout_rate': 0.36503772990195155, 'lr': 0.004021717402961166, 'batch_size': 64}. Best is trial 94 with value: 0.5652099983080655.\n"
          ]
        },
        {
          "output_type": "stream",
          "name": "stdout",
          "text": [
            "RSR for roe: 0.7626\n",
            "RSR for sustainability_score: 0.4732\n",
            "ARSR: 0.6179\n"
          ]
        },
        {
          "output_type": "stream",
          "name": "stderr",
          "text": [
            "<ipython-input-25-9a0f24a738bb>:8: FutureWarning: suggest_loguniform has been deprecated in v3.0.0. This feature will be removed in v6.0.0. See https://github.com/optuna/optuna/releases/tag/v3.0.0. Use suggest_float(..., log=True) instead.\n",
            "  lr = trial.suggest_loguniform('lr', 1e-5, 1e-2)\n",
            "[I 2025-01-04 20:27:08,928] Trial 163 finished with value: 0.6605672145592136 and parameters: {'hidden_units1': 239, 'hidden_units2': 68, 'dropout_rate': 0.3313760844608552, 'lr': 0.0030573254505356588, 'batch_size': 64}. Best is trial 94 with value: 0.5652099983080655.\n"
          ]
        },
        {
          "output_type": "stream",
          "name": "stdout",
          "text": [
            "RSR for roe: 0.7723\n",
            "RSR for sustainability_score: 0.5488\n",
            "ARSR: 0.6606\n"
          ]
        },
        {
          "output_type": "stream",
          "name": "stderr",
          "text": [
            "<ipython-input-25-9a0f24a738bb>:8: FutureWarning: suggest_loguniform has been deprecated in v3.0.0. This feature will be removed in v6.0.0. See https://github.com/optuna/optuna/releases/tag/v3.0.0. Use suggest_float(..., log=True) instead.\n",
            "  lr = trial.suggest_loguniform('lr', 1e-5, 1e-2)\n",
            "[I 2025-01-04 20:27:11,055] Trial 164 finished with value: 0.635821902220517 and parameters: {'hidden_units1': 252, 'hidden_units2': 74, 'dropout_rate': 0.34941975583581086, 'lr': 0.002417324652751496, 'batch_size': 64}. Best is trial 94 with value: 0.5652099983080655.\n"
          ]
        },
        {
          "output_type": "stream",
          "name": "stdout",
          "text": [
            "RSR for roe: 0.7657\n",
            "RSR for sustainability_score: 0.5060\n",
            "ARSR: 0.6358\n"
          ]
        },
        {
          "output_type": "stream",
          "name": "stderr",
          "text": [
            "<ipython-input-25-9a0f24a738bb>:8: FutureWarning: suggest_loguniform has been deprecated in v3.0.0. This feature will be removed in v6.0.0. See https://github.com/optuna/optuna/releases/tag/v3.0.0. Use suggest_float(..., log=True) instead.\n",
            "  lr = trial.suggest_loguniform('lr', 1e-5, 1e-2)\n",
            "[I 2025-01-04 20:27:12,157] Trial 165 finished with value: 0.6422565387313259 and parameters: {'hidden_units1': 241, 'hidden_units2': 66, 'dropout_rate': 0.3597313408971467, 'lr': 0.0044589850017073395, 'batch_size': 128}. Best is trial 94 with value: 0.5652099983080655.\n"
          ]
        },
        {
          "output_type": "stream",
          "name": "stdout",
          "text": [
            "RSR for roe: 0.7783\n",
            "RSR for sustainability_score: 0.5063\n",
            "ARSR: 0.6423\n"
          ]
        },
        {
          "output_type": "stream",
          "name": "stderr",
          "text": [
            "<ipython-input-25-9a0f24a738bb>:8: FutureWarning: suggest_loguniform has been deprecated in v3.0.0. This feature will be removed in v6.0.0. See https://github.com/optuna/optuna/releases/tag/v3.0.0. Use suggest_float(..., log=True) instead.\n",
            "  lr = trial.suggest_loguniform('lr', 1e-5, 1e-2)\n",
            "[I 2025-01-04 20:27:15,112] Trial 166 finished with value: 0.5735634593215144 and parameters: {'hidden_units1': 256, 'hidden_units2': 99, 'dropout_rate': 0.3202388539147785, 'lr': 0.0035878659316444777, 'batch_size': 64}. Best is trial 94 with value: 0.5652099983080655.\n"
          ]
        },
        {
          "output_type": "stream",
          "name": "stdout",
          "text": [
            "RSR for roe: 0.7029\n",
            "RSR for sustainability_score: 0.4443\n",
            "ARSR: 0.5736\n"
          ]
        },
        {
          "output_type": "stream",
          "name": "stderr",
          "text": [
            "<ipython-input-25-9a0f24a738bb>:8: FutureWarning: suggest_loguniform has been deprecated in v3.0.0. This feature will be removed in v6.0.0. See https://github.com/optuna/optuna/releases/tag/v3.0.0. Use suggest_float(..., log=True) instead.\n",
            "  lr = trial.suggest_loguniform('lr', 1e-5, 1e-2)\n",
            "[I 2025-01-04 20:27:17,608] Trial 167 finished with value: 0.598438982612625 and parameters: {'hidden_units1': 255, 'hidden_units2': 77, 'dropout_rate': 0.32069628026308844, 'lr': 0.003788179405037485, 'batch_size': 64}. Best is trial 94 with value: 0.5652099983080655.\n"
          ]
        },
        {
          "output_type": "stream",
          "name": "stdout",
          "text": [
            "RSR for roe: 0.7584\n",
            "RSR for sustainability_score: 0.4385\n",
            "ARSR: 0.5984\n"
          ]
        },
        {
          "output_type": "stream",
          "name": "stderr",
          "text": [
            "<ipython-input-25-9a0f24a738bb>:8: FutureWarning: suggest_loguniform has been deprecated in v3.0.0. This feature will be removed in v6.0.0. See https://github.com/optuna/optuna/releases/tag/v3.0.0. Use suggest_float(..., log=True) instead.\n",
            "  lr = trial.suggest_loguniform('lr', 1e-5, 1e-2)\n",
            "[I 2025-01-04 20:27:19,451] Trial 168 finished with value: 0.6577118948853083 and parameters: {'hidden_units1': 255, 'hidden_units2': 104, 'dropout_rate': 0.31879215990898835, 'lr': 0.0036845215062478857, 'batch_size': 64}. Best is trial 94 with value: 0.5652099983080655.\n"
          ]
        },
        {
          "output_type": "stream",
          "name": "stdout",
          "text": [
            "RSR for roe: 0.7634\n",
            "RSR for sustainability_score: 0.5520\n",
            "ARSR: 0.6577\n"
          ]
        },
        {
          "output_type": "stream",
          "name": "stderr",
          "text": [
            "<ipython-input-25-9a0f24a738bb>:8: FutureWarning: suggest_loguniform has been deprecated in v3.0.0. This feature will be removed in v6.0.0. See https://github.com/optuna/optuna/releases/tag/v3.0.0. Use suggest_float(..., log=True) instead.\n",
            "  lr = trial.suggest_loguniform('lr', 1e-5, 1e-2)\n",
            "[I 2025-01-04 20:27:21,638] Trial 169 finished with value: 0.6196772116124674 and parameters: {'hidden_units1': 256, 'hidden_units2': 78, 'dropout_rate': 0.33597664299841923, 'lr': 0.0029182145116304022, 'batch_size': 64}. Best is trial 94 with value: 0.5652099983080655.\n"
          ]
        },
        {
          "output_type": "stream",
          "name": "stdout",
          "text": [
            "RSR for roe: 0.7395\n",
            "RSR for sustainability_score: 0.4999\n",
            "ARSR: 0.6197\n"
          ]
        },
        {
          "output_type": "stream",
          "name": "stderr",
          "text": [
            "<ipython-input-25-9a0f24a738bb>:8: FutureWarning: suggest_loguniform has been deprecated in v3.0.0. This feature will be removed in v6.0.0. See https://github.com/optuna/optuna/releases/tag/v3.0.0. Use suggest_float(..., log=True) instead.\n",
            "  lr = trial.suggest_loguniform('lr', 1e-5, 1e-2)\n",
            "[I 2025-01-04 20:27:23,386] Trial 170 finished with value: 0.6322450538783495 and parameters: {'hidden_units1': 248, 'hidden_units2': 100, 'dropout_rate': 0.32315237433175387, 'lr': 0.0032821631846070083, 'batch_size': 64}. Best is trial 94 with value: 0.5652099983080655.\n"
          ]
        },
        {
          "output_type": "stream",
          "name": "stdout",
          "text": [
            "RSR for roe: 0.7807\n",
            "RSR for sustainability_score: 0.4838\n",
            "ARSR: 0.6322\n"
          ]
        },
        {
          "output_type": "stream",
          "name": "stderr",
          "text": [
            "<ipython-input-25-9a0f24a738bb>:8: FutureWarning: suggest_loguniform has been deprecated in v3.0.0. This feature will be removed in v6.0.0. See https://github.com/optuna/optuna/releases/tag/v3.0.0. Use suggest_float(..., log=True) instead.\n",
            "  lr = trial.suggest_loguniform('lr', 1e-5, 1e-2)\n",
            "[I 2025-01-04 20:27:25,416] Trial 171 finished with value: 0.5841774130800887 and parameters: {'hidden_units1': 251, 'hidden_units2': 76, 'dropout_rate': 0.3459146162476248, 'lr': 0.00535391201340574, 'batch_size': 64}. Best is trial 94 with value: 0.5652099983080655.\n"
          ]
        },
        {
          "output_type": "stream",
          "name": "stdout",
          "text": [
            "RSR for roe: 0.7448\n",
            "RSR for sustainability_score: 0.4235\n",
            "ARSR: 0.5842\n"
          ]
        },
        {
          "output_type": "stream",
          "name": "stderr",
          "text": [
            "<ipython-input-25-9a0f24a738bb>:8: FutureWarning: suggest_loguniform has been deprecated in v3.0.0. This feature will be removed in v6.0.0. See https://github.com/optuna/optuna/releases/tag/v3.0.0. Use suggest_float(..., log=True) instead.\n",
            "  lr = trial.suggest_loguniform('lr', 1e-5, 1e-2)\n",
            "[I 2025-01-04 20:27:28,284] Trial 172 finished with value: 0.6195782730217845 and parameters: {'hidden_units1': 250, 'hidden_units2': 81, 'dropout_rate': 0.34772871616165385, 'lr': 0.004991169347500674, 'batch_size': 64}. Best is trial 94 with value: 0.5652099983080655.\n"
          ]
        },
        {
          "output_type": "stream",
          "name": "stdout",
          "text": [
            "RSR for roe: 0.7124\n",
            "RSR for sustainability_score: 0.5268\n",
            "ARSR: 0.6196\n"
          ]
        },
        {
          "output_type": "stream",
          "name": "stderr",
          "text": [
            "<ipython-input-25-9a0f24a738bb>:8: FutureWarning: suggest_loguniform has been deprecated in v3.0.0. This feature will be removed in v6.0.0. See https://github.com/optuna/optuna/releases/tag/v3.0.0. Use suggest_float(..., log=True) instead.\n",
            "  lr = trial.suggest_loguniform('lr', 1e-5, 1e-2)\n",
            "[I 2025-01-04 20:27:31,085] Trial 173 finished with value: 0.6183838101954838 and parameters: {'hidden_units1': 245, 'hidden_units2': 75, 'dropout_rate': 0.3118474306078461, 'lr': 0.003939632722466609, 'batch_size': 64}. Best is trial 94 with value: 0.5652099983080655.\n"
          ]
        },
        {
          "output_type": "stream",
          "name": "stdout",
          "text": [
            "RSR for roe: 0.7324\n",
            "RSR for sustainability_score: 0.5044\n",
            "ARSR: 0.6184\n"
          ]
        },
        {
          "output_type": "stream",
          "name": "stderr",
          "text": [
            "<ipython-input-25-9a0f24a738bb>:8: FutureWarning: suggest_loguniform has been deprecated in v3.0.0. This feature will be removed in v6.0.0. See https://github.com/optuna/optuna/releases/tag/v3.0.0. Use suggest_float(..., log=True) instead.\n",
            "  lr = trial.suggest_loguniform('lr', 1e-5, 1e-2)\n",
            "[I 2025-01-04 20:27:32,031] Trial 174 finished with value: 0.7309420948434489 and parameters: {'hidden_units1': 252, 'hidden_units2': 77, 'dropout_rate': 0.34071204155074397, 'lr': 0.0044811525421968815, 'batch_size': 64}. Best is trial 94 with value: 0.5652099983080655.\n"
          ]
        },
        {
          "output_type": "stream",
          "name": "stdout",
          "text": [
            "RSR for roe: 0.7579\n",
            "RSR for sustainability_score: 0.7040\n",
            "ARSR: 0.7309\n"
          ]
        },
        {
          "output_type": "stream",
          "name": "stderr",
          "text": [
            "<ipython-input-25-9a0f24a738bb>:8: FutureWarning: suggest_loguniform has been deprecated in v3.0.0. This feature will be removed in v6.0.0. See https://github.com/optuna/optuna/releases/tag/v3.0.0. Use suggest_float(..., log=True) instead.\n",
            "  lr = trial.suggest_loguniform('lr', 1e-5, 1e-2)\n",
            "[I 2025-01-04 20:27:33,417] Trial 175 finished with value: 0.6689552858391883 and parameters: {'hidden_units1': 247, 'hidden_units2': 73, 'dropout_rate': 0.33166793900199953, 'lr': 0.00533768383944155, 'batch_size': 64}. Best is trial 94 with value: 0.5652099983080655.\n"
          ]
        },
        {
          "output_type": "stream",
          "name": "stdout",
          "text": [
            "RSR for roe: 0.7704\n",
            "RSR for sustainability_score: 0.5675\n",
            "ARSR: 0.6690\n"
          ]
        },
        {
          "output_type": "stream",
          "name": "stderr",
          "text": [
            "<ipython-input-25-9a0f24a738bb>:8: FutureWarning: suggest_loguniform has been deprecated in v3.0.0. This feature will be removed in v6.0.0. See https://github.com/optuna/optuna/releases/tag/v3.0.0. Use suggest_float(..., log=True) instead.\n",
            "  lr = trial.suggest_loguniform('lr', 1e-5, 1e-2)\n",
            "[I 2025-01-04 20:27:35,144] Trial 176 finished with value: 0.6279150023049382 and parameters: {'hidden_units1': 241, 'hidden_units2': 79, 'dropout_rate': 0.3589320837474703, 'lr': 0.0035083528317635952, 'batch_size': 64}. Best is trial 94 with value: 0.5652099983080655.\n"
          ]
        },
        {
          "output_type": "stream",
          "name": "stdout",
          "text": [
            "RSR for roe: 0.7234\n",
            "RSR for sustainability_score: 0.5324\n",
            "ARSR: 0.6279\n"
          ]
        },
        {
          "output_type": "stream",
          "name": "stderr",
          "text": [
            "<ipython-input-25-9a0f24a738bb>:8: FutureWarning: suggest_loguniform has been deprecated in v3.0.0. This feature will be removed in v6.0.0. See https://github.com/optuna/optuna/releases/tag/v3.0.0. Use suggest_float(..., log=True) instead.\n",
            "  lr = trial.suggest_loguniform('lr', 1e-5, 1e-2)\n",
            "[I 2025-01-04 20:27:37,801] Trial 177 finished with value: 0.6090716817819193 and parameters: {'hidden_units1': 236, 'hidden_units2': 70, 'dropout_rate': 0.32357725866704795, 'lr': 0.0027607937223353336, 'batch_size': 64}. Best is trial 94 with value: 0.5652099983080655.\n"
          ]
        },
        {
          "output_type": "stream",
          "name": "stdout",
          "text": [
            "RSR for roe: 0.7178\n",
            "RSR for sustainability_score: 0.5003\n",
            "ARSR: 0.6091\n"
          ]
        },
        {
          "output_type": "stream",
          "name": "stderr",
          "text": [
            "<ipython-input-25-9a0f24a738bb>:8: FutureWarning: suggest_loguniform has been deprecated in v3.0.0. This feature will be removed in v6.0.0. See https://github.com/optuna/optuna/releases/tag/v3.0.0. Use suggest_float(..., log=True) instead.\n",
            "  lr = trial.suggest_loguniform('lr', 1e-5, 1e-2)\n",
            "[I 2025-01-04 20:27:40,174] Trial 178 finished with value: 0.6054167138168096 and parameters: {'hidden_units1': 236, 'hidden_units2': 76, 'dropout_rate': 0.379064766037099, 'lr': 0.004100441635222364, 'batch_size': 64}. Best is trial 94 with value: 0.5652099983080655.\n"
          ]
        },
        {
          "output_type": "stream",
          "name": "stdout",
          "text": [
            "RSR for roe: 0.7451\n",
            "RSR for sustainability_score: 0.4657\n",
            "ARSR: 0.6054\n"
          ]
        },
        {
          "output_type": "stream",
          "name": "stderr",
          "text": [
            "<ipython-input-25-9a0f24a738bb>:8: FutureWarning: suggest_loguniform has been deprecated in v3.0.0. This feature will be removed in v6.0.0. See https://github.com/optuna/optuna/releases/tag/v3.0.0. Use suggest_float(..., log=True) instead.\n",
            "  lr = trial.suggest_loguniform('lr', 1e-5, 1e-2)\n",
            "[I 2025-01-04 20:27:43,814] Trial 179 finished with value: 0.597885953338429 and parameters: {'hidden_units1': 253, 'hidden_units2': 76, 'dropout_rate': 0.25603862536246724, 'lr': 0.004548032943541393, 'batch_size': 64}. Best is trial 94 with value: 0.5652099983080655.\n"
          ]
        },
        {
          "output_type": "stream",
          "name": "stdout",
          "text": [
            "RSR for roe: 0.7634\n",
            "RSR for sustainability_score: 0.4324\n",
            "ARSR: 0.5979\n"
          ]
        },
        {
          "output_type": "stream",
          "name": "stderr",
          "text": [
            "<ipython-input-25-9a0f24a738bb>:8: FutureWarning: suggest_loguniform has been deprecated in v3.0.0. This feature will be removed in v6.0.0. See https://github.com/optuna/optuna/releases/tag/v3.0.0. Use suggest_float(..., log=True) instead.\n",
            "  lr = trial.suggest_loguniform('lr', 1e-5, 1e-2)\n",
            "[I 2025-01-04 20:27:45,690] Trial 180 finished with value: 0.6531692863843307 and parameters: {'hidden_units1': 244, 'hidden_units2': 97, 'dropout_rate': 0.38618041465810526, 'lr': 0.004145288591204391, 'batch_size': 64}. Best is trial 94 with value: 0.5652099983080655.\n"
          ]
        },
        {
          "output_type": "stream",
          "name": "stdout",
          "text": [
            "RSR for roe: 0.7260\n",
            "RSR for sustainability_score: 0.5804\n",
            "ARSR: 0.6532\n"
          ]
        },
        {
          "output_type": "stream",
          "name": "stderr",
          "text": [
            "<ipython-input-25-9a0f24a738bb>:8: FutureWarning: suggest_loguniform has been deprecated in v3.0.0. This feature will be removed in v6.0.0. See https://github.com/optuna/optuna/releases/tag/v3.0.0. Use suggest_float(..., log=True) instead.\n",
            "  lr = trial.suggest_loguniform('lr', 1e-5, 1e-2)\n",
            "[I 2025-01-04 20:27:47,662] Trial 181 finished with value: 0.5981986593653602 and parameters: {'hidden_units1': 256, 'hidden_units2': 76, 'dropout_rate': 0.2578496751002333, 'lr': 0.004621622339987483, 'batch_size': 64}. Best is trial 94 with value: 0.5652099983080655.\n"
          ]
        },
        {
          "output_type": "stream",
          "name": "stdout",
          "text": [
            "RSR for roe: 0.7267\n",
            "RSR for sustainability_score: 0.4697\n",
            "ARSR: 0.5982\n"
          ]
        },
        {
          "output_type": "stream",
          "name": "stderr",
          "text": [
            "<ipython-input-25-9a0f24a738bb>:8: FutureWarning: suggest_loguniform has been deprecated in v3.0.0. This feature will be removed in v6.0.0. See https://github.com/optuna/optuna/releases/tag/v3.0.0. Use suggest_float(..., log=True) instead.\n",
            "  lr = trial.suggest_loguniform('lr', 1e-5, 1e-2)\n",
            "[I 2025-01-04 20:27:49,114] Trial 182 finished with value: 0.6256361695231565 and parameters: {'hidden_units1': 256, 'hidden_units2': 76, 'dropout_rate': 0.2495360723420769, 'lr': 0.005096571661763889, 'batch_size': 64}. Best is trial 94 with value: 0.5652099983080655.\n"
          ]
        },
        {
          "output_type": "stream",
          "name": "stdout",
          "text": [
            "RSR for roe: 0.7740\n",
            "RSR for sustainability_score: 0.4772\n",
            "ARSR: 0.6256\n"
          ]
        },
        {
          "output_type": "stream",
          "name": "stderr",
          "text": [
            "<ipython-input-25-9a0f24a738bb>:8: FutureWarning: suggest_loguniform has been deprecated in v3.0.0. This feature will be removed in v6.0.0. See https://github.com/optuna/optuna/releases/tag/v3.0.0. Use suggest_float(..., log=True) instead.\n",
            "  lr = trial.suggest_loguniform('lr', 1e-5, 1e-2)\n",
            "[I 2025-01-04 20:27:49,851] Trial 183 finished with value: 0.804906328227725 and parameters: {'hidden_units1': 251, 'hidden_units2': 80, 'dropout_rate': 0.2359034934299544, 'lr': 0.006168520698126899, 'batch_size': 64}. Best is trial 94 with value: 0.5652099983080655.\n"
          ]
        },
        {
          "output_type": "stream",
          "name": "stdout",
          "text": [
            "RSR for roe: 0.7707\n",
            "RSR for sustainability_score: 0.8392\n",
            "ARSR: 0.8049\n"
          ]
        },
        {
          "output_type": "stream",
          "name": "stderr",
          "text": [
            "<ipython-input-25-9a0f24a738bb>:8: FutureWarning: suggest_loguniform has been deprecated in v3.0.0. This feature will be removed in v6.0.0. See https://github.com/optuna/optuna/releases/tag/v3.0.0. Use suggest_float(..., log=True) instead.\n",
            "  lr = trial.suggest_loguniform('lr', 1e-5, 1e-2)\n",
            "[I 2025-01-04 20:27:52,083] Trial 184 finished with value: 0.611859496483398 and parameters: {'hidden_units1': 248, 'hidden_units2': 78, 'dropout_rate': 0.4093447520838068, 'lr': 0.004616400527198929, 'batch_size': 64}. Best is trial 94 with value: 0.5652099983080655.\n"
          ]
        },
        {
          "output_type": "stream",
          "name": "stdout",
          "text": [
            "RSR for roe: 0.7233\n",
            "RSR for sustainability_score: 0.5005\n",
            "ARSR: 0.6119\n"
          ]
        },
        {
          "output_type": "stream",
          "name": "stderr",
          "text": [
            "<ipython-input-25-9a0f24a738bb>:8: FutureWarning: suggest_loguniform has been deprecated in v3.0.0. This feature will be removed in v6.0.0. See https://github.com/optuna/optuna/releases/tag/v3.0.0. Use suggest_float(..., log=True) instead.\n",
            "  lr = trial.suggest_loguniform('lr', 1e-5, 1e-2)\n",
            "[I 2025-01-04 20:27:54,773] Trial 185 finished with value: 0.5701175336984263 and parameters: {'hidden_units1': 256, 'hidden_units2': 74, 'dropout_rate': 0.2476520588099979, 'lr': 0.0038820000312972613, 'batch_size': 64}. Best is trial 94 with value: 0.5652099983080655.\n"
          ]
        },
        {
          "output_type": "stream",
          "name": "stdout",
          "text": [
            "RSR for roe: 0.6982\n",
            "RSR for sustainability_score: 0.4421\n",
            "ARSR: 0.5701\n"
          ]
        },
        {
          "output_type": "stream",
          "name": "stderr",
          "text": [
            "<ipython-input-25-9a0f24a738bb>:8: FutureWarning: suggest_loguniform has been deprecated in v3.0.0. This feature will be removed in v6.0.0. See https://github.com/optuna/optuna/releases/tag/v3.0.0. Use suggest_float(..., log=True) instead.\n",
            "  lr = trial.suggest_loguniform('lr', 1e-5, 1e-2)\n",
            "[I 2025-01-04 20:27:58,000] Trial 186 finished with value: 0.5489688577807781 and parameters: {'hidden_units1': 253, 'hidden_units2': 82, 'dropout_rate': 0.26138782040889064, 'lr': 0.0036975045531674106, 'batch_size': 64}. Best is trial 186 with value: 0.5489688577807781.\n"
          ]
        },
        {
          "output_type": "stream",
          "name": "stdout",
          "text": [
            "RSR for roe: 0.7111\n",
            "RSR for sustainability_score: 0.3868\n",
            "ARSR: 0.5490\n"
          ]
        },
        {
          "output_type": "stream",
          "name": "stderr",
          "text": [
            "<ipython-input-25-9a0f24a738bb>:8: FutureWarning: suggest_loguniform has been deprecated in v3.0.0. This feature will be removed in v6.0.0. See https://github.com/optuna/optuna/releases/tag/v3.0.0. Use suggest_float(..., log=True) instead.\n",
            "  lr = trial.suggest_loguniform('lr', 1e-5, 1e-2)\n",
            "[I 2025-01-04 20:28:00,740] Trial 187 finished with value: 0.6079700435274109 and parameters: {'hidden_units1': 256, 'hidden_units2': 82, 'dropout_rate': 0.23079959289927782, 'lr': 0.003739057338291698, 'batch_size': 32}. Best is trial 186 with value: 0.5489688577807781.\n"
          ]
        },
        {
          "output_type": "stream",
          "name": "stdout",
          "text": [
            "RSR for roe: 0.7207\n",
            "RSR for sustainability_score: 0.4952\n",
            "ARSR: 0.6080\n"
          ]
        },
        {
          "output_type": "stream",
          "name": "stderr",
          "text": [
            "<ipython-input-25-9a0f24a738bb>:8: FutureWarning: suggest_loguniform has been deprecated in v3.0.0. This feature will be removed in v6.0.0. See https://github.com/optuna/optuna/releases/tag/v3.0.0. Use suggest_float(..., log=True) instead.\n",
            "  lr = trial.suggest_loguniform('lr', 1e-5, 1e-2)\n",
            "[I 2025-01-04 20:28:02,032] Trial 188 finished with value: 0.701778828624719 and parameters: {'hidden_units1': 251, 'hidden_units2': 113, 'dropout_rate': 0.2572595846745149, 'lr': 0.007321444094171503, 'batch_size': 64}. Best is trial 186 with value: 0.5489688577807781.\n"
          ]
        },
        {
          "output_type": "stream",
          "name": "stdout",
          "text": [
            "RSR for roe: 0.7428\n",
            "RSR for sustainability_score: 0.6608\n",
            "ARSR: 0.7018\n"
          ]
        },
        {
          "output_type": "stream",
          "name": "stderr",
          "text": [
            "<ipython-input-25-9a0f24a738bb>:8: FutureWarning: suggest_loguniform has been deprecated in v3.0.0. This feature will be removed in v6.0.0. See https://github.com/optuna/optuna/releases/tag/v3.0.0. Use suggest_float(..., log=True) instead.\n",
            "  lr = trial.suggest_loguniform('lr', 1e-5, 1e-2)\n",
            "[I 2025-01-04 20:28:03,204] Trial 189 finished with value: 0.7839759373370732 and parameters: {'hidden_units1': 253, 'hidden_units2': 77, 'dropout_rate': 0.40003951984218744, 'lr': 0.00554490043370102, 'batch_size': 64}. Best is trial 186 with value: 0.5489688577807781.\n"
          ]
        },
        {
          "output_type": "stream",
          "name": "stdout",
          "text": [
            "RSR for roe: 0.7471\n",
            "RSR for sustainability_score: 0.8209\n",
            "ARSR: 0.7840\n"
          ]
        },
        {
          "output_type": "stream",
          "name": "stderr",
          "text": [
            "<ipython-input-25-9a0f24a738bb>:8: FutureWarning: suggest_loguniform has been deprecated in v3.0.0. This feature will be removed in v6.0.0. See https://github.com/optuna/optuna/releases/tag/v3.0.0. Use suggest_float(..., log=True) instead.\n",
            "  lr = trial.suggest_loguniform('lr', 1e-5, 1e-2)\n",
            "[I 2025-01-04 20:28:04,538] Trial 190 finished with value: 0.6713099946963907 and parameters: {'hidden_units1': 247, 'hidden_units2': 76, 'dropout_rate': 0.24374769086676099, 'lr': 0.003744077208879318, 'batch_size': 64}. Best is trial 186 with value: 0.5489688577807781.\n"
          ]
        },
        {
          "output_type": "stream",
          "name": "stdout",
          "text": [
            "RSR for roe: 0.7897\n",
            "RSR for sustainability_score: 0.5529\n",
            "ARSR: 0.6713\n"
          ]
        },
        {
          "output_type": "stream",
          "name": "stderr",
          "text": [
            "<ipython-input-25-9a0f24a738bb>:8: FutureWarning: suggest_loguniform has been deprecated in v3.0.0. This feature will be removed in v6.0.0. See https://github.com/optuna/optuna/releases/tag/v3.0.0. Use suggest_float(..., log=True) instead.\n",
            "  lr = trial.suggest_loguniform('lr', 1e-5, 1e-2)\n",
            "[I 2025-01-04 20:28:05,929] Trial 191 finished with value: 0.6575311681155045 and parameters: {'hidden_units1': 165, 'hidden_units2': 73, 'dropout_rate': 0.2595917289560108, 'lr': 0.004321144868612995, 'batch_size': 64}. Best is trial 186 with value: 0.5489688577807781.\n"
          ]
        },
        {
          "output_type": "stream",
          "name": "stdout",
          "text": [
            "RSR for roe: 0.7625\n",
            "RSR for sustainability_score: 0.5526\n",
            "ARSR: 0.6575\n"
          ]
        },
        {
          "output_type": "stream",
          "name": "stderr",
          "text": [
            "<ipython-input-25-9a0f24a738bb>:8: FutureWarning: suggest_loguniform has been deprecated in v3.0.0. This feature will be removed in v6.0.0. See https://github.com/optuna/optuna/releases/tag/v3.0.0. Use suggest_float(..., log=True) instead.\n",
            "  lr = trial.suggest_loguniform('lr', 1e-5, 1e-2)\n",
            "[I 2025-01-04 20:28:09,512] Trial 192 finished with value: 0.592815144383816 and parameters: {'hidden_units1': 240, 'hidden_units2': 74, 'dropout_rate': 0.2628852788032902, 'lr': 0.004771701381195838, 'batch_size': 64}. Best is trial 186 with value: 0.5489688577807781.\n"
          ]
        },
        {
          "output_type": "stream",
          "name": "stdout",
          "text": [
            "RSR for roe: 0.7285\n",
            "RSR for sustainability_score: 0.4572\n",
            "ARSR: 0.5928\n"
          ]
        },
        {
          "output_type": "stream",
          "name": "stderr",
          "text": [
            "<ipython-input-25-9a0f24a738bb>:8: FutureWarning: suggest_loguniform has been deprecated in v3.0.0. This feature will be removed in v6.0.0. See https://github.com/optuna/optuna/releases/tag/v3.0.0. Use suggest_float(..., log=True) instead.\n",
            "  lr = trial.suggest_loguniform('lr', 1e-5, 1e-2)\n",
            "[I 2025-01-04 20:28:12,190] Trial 193 finished with value: 0.5928711001605149 and parameters: {'hidden_units1': 239, 'hidden_units2': 80, 'dropout_rate': 0.25413070108070546, 'lr': 0.004762768855279893, 'batch_size': 64}. Best is trial 186 with value: 0.5489688577807781.\n"
          ]
        },
        {
          "output_type": "stream",
          "name": "stdout",
          "text": [
            "RSR for roe: 0.7502\n",
            "RSR for sustainability_score: 0.4356\n",
            "ARSR: 0.5929\n"
          ]
        },
        {
          "output_type": "stream",
          "name": "stderr",
          "text": [
            "<ipython-input-25-9a0f24a738bb>:8: FutureWarning: suggest_loguniform has been deprecated in v3.0.0. This feature will be removed in v6.0.0. See https://github.com/optuna/optuna/releases/tag/v3.0.0. Use suggest_float(..., log=True) instead.\n",
            "  lr = trial.suggest_loguniform('lr', 1e-5, 1e-2)\n",
            "[I 2025-01-04 20:28:12,995] Trial 194 finished with value: 0.8390588607943295 and parameters: {'hidden_units1': 240, 'hidden_units2': 80, 'dropout_rate': 0.24945503535230115, 'lr': 0.005109803432976628, 'batch_size': 64}. Best is trial 186 with value: 0.5489688577807781.\n"
          ]
        },
        {
          "output_type": "stream",
          "name": "stdout",
          "text": [
            "RSR for roe: 0.7679\n",
            "RSR for sustainability_score: 0.9102\n",
            "ARSR: 0.8391\n"
          ]
        },
        {
          "output_type": "stream",
          "name": "stderr",
          "text": [
            "<ipython-input-25-9a0f24a738bb>:8: FutureWarning: suggest_loguniform has been deprecated in v3.0.0. This feature will be removed in v6.0.0. See https://github.com/optuna/optuna/releases/tag/v3.0.0. Use suggest_float(..., log=True) instead.\n",
            "  lr = trial.suggest_loguniform('lr', 1e-5, 1e-2)\n",
            "[I 2025-01-04 20:28:13,768] Trial 195 finished with value: 0.740894113261437 and parameters: {'hidden_units1': 235, 'hidden_units2': 107, 'dropout_rate': 0.22212191564852343, 'lr': 0.00647536284860583, 'batch_size': 64}. Best is trial 186 with value: 0.5489688577807781.\n"
          ]
        },
        {
          "output_type": "stream",
          "name": "stdout",
          "text": [
            "RSR for roe: 0.7920\n",
            "RSR for sustainability_score: 0.6898\n",
            "ARSR: 0.7409\n"
          ]
        },
        {
          "output_type": "stream",
          "name": "stderr",
          "text": [
            "<ipython-input-25-9a0f24a738bb>:8: FutureWarning: suggest_loguniform has been deprecated in v3.0.0. This feature will be removed in v6.0.0. See https://github.com/optuna/optuna/releases/tag/v3.0.0. Use suggest_float(..., log=True) instead.\n",
            "  lr = trial.suggest_loguniform('lr', 1e-5, 1e-2)\n",
            "[I 2025-01-04 20:28:16,279] Trial 196 finished with value: 0.6223764643137774 and parameters: {'hidden_units1': 256, 'hidden_units2': 82, 'dropout_rate': 0.2556125080499656, 'lr': 0.0033368430159888083, 'batch_size': 64}. Best is trial 186 with value: 0.5489688577807781.\n"
          ]
        },
        {
          "output_type": "stream",
          "name": "stdout",
          "text": [
            "RSR for roe: 0.7495\n",
            "RSR for sustainability_score: 0.4952\n",
            "ARSR: 0.6224\n"
          ]
        },
        {
          "output_type": "stream",
          "name": "stderr",
          "text": [
            "<ipython-input-25-9a0f24a738bb>:8: FutureWarning: suggest_loguniform has been deprecated in v3.0.0. This feature will be removed in v6.0.0. See https://github.com/optuna/optuna/releases/tag/v3.0.0. Use suggest_float(..., log=True) instead.\n",
            "  lr = trial.suggest_loguniform('lr', 1e-5, 1e-2)\n",
            "[I 2025-01-04 20:28:17,876] Trial 197 finished with value: 0.7431727938392549 and parameters: {'hidden_units1': 232, 'hidden_units2': 79, 'dropout_rate': 0.2670887472036989, 'lr': 0.004901138137978774, 'batch_size': 32}. Best is trial 186 with value: 0.5489688577807781.\n"
          ]
        },
        {
          "output_type": "stream",
          "name": "stdout",
          "text": [
            "RSR for roe: 0.7916\n",
            "RSR for sustainability_score: 0.6948\n",
            "ARSR: 0.7432\n"
          ]
        },
        {
          "output_type": "stream",
          "name": "stderr",
          "text": [
            "<ipython-input-25-9a0f24a738bb>:8: FutureWarning: suggest_loguniform has been deprecated in v3.0.0. This feature will be removed in v6.0.0. See https://github.com/optuna/optuna/releases/tag/v3.0.0. Use suggest_float(..., log=True) instead.\n",
            "  lr = trial.suggest_loguniform('lr', 1e-5, 1e-2)\n",
            "[I 2025-01-04 20:28:21,469] Trial 198 finished with value: 0.7892938928784705 and parameters: {'hidden_units1': 241, 'hidden_units2': 75, 'dropout_rate': 0.24856424534657612, 'lr': 0.00013011588046640257, 'batch_size': 64}. Best is trial 186 with value: 0.5489688577807781.\n"
          ]
        },
        {
          "output_type": "stream",
          "name": "stdout",
          "text": [
            "RSR for roe: 0.7734\n",
            "RSR for sustainability_score: 0.8052\n",
            "ARSR: 0.7893\n"
          ]
        },
        {
          "output_type": "stream",
          "name": "stderr",
          "text": [
            "<ipython-input-25-9a0f24a738bb>:8: FutureWarning: suggest_loguniform has been deprecated in v3.0.0. This feature will be removed in v6.0.0. See https://github.com/optuna/optuna/releases/tag/v3.0.0. Use suggest_float(..., log=True) instead.\n",
            "  lr = trial.suggest_loguniform('lr', 1e-5, 1e-2)\n",
            "[I 2025-01-04 20:28:24,958] Trial 199 finished with value: 0.6117618029545552 and parameters: {'hidden_units1': 250, 'hidden_units2': 77, 'dropout_rate': 0.23957956054638535, 'lr': 0.003932551117063024, 'batch_size': 64}. Best is trial 186 with value: 0.5489688577807781.\n"
          ]
        },
        {
          "output_type": "stream",
          "name": "stdout",
          "text": [
            "RSR for roe: 0.7401\n",
            "RSR for sustainability_score: 0.4834\n",
            "ARSR: 0.6118\n",
            "Best trial: {'hidden_units1': 253, 'hidden_units2': 82, 'dropout_rate': 0.26138782040889064, 'lr': 0.0036975045531674106, 'batch_size': 64}\n"
          ]
        }
      ]
    },
    {
      "cell_type": "code",
      "source": [
        "best_trial = study.best_trial\n",
        "print(\"Best trial hyperparameters:\", best_trial.params)\n",
        "print(\"RSR for roe:\", best_trial.user_attrs[\"RSR (roe)\"])\n",
        "print(\"RSR for sustainability_score:\", best_trial.user_attrs[\"RSR (sustainability_score)\"])\n",
        "print(\"Average RSR (ARSR):\", best_trial.user_attrs[\"ARSR\"])"
      ],
      "metadata": {
        "colab": {
          "base_uri": "https://localhost:8080/"
        },
        "id": "6AQnEhXEOAyf",
        "outputId": "aae59135-73f7-4a0a-eb10-99f14755e83d"
      },
      "execution_count": null,
      "outputs": [
        {
          "output_type": "stream",
          "name": "stdout",
          "text": [
            "Best trial hyperparameters: {'hidden_units1': 253, 'hidden_units2': 82, 'dropout_rate': 0.26138782040889064, 'lr': 0.0036975045531674106, 'batch_size': 64}\n",
            "RSR for roe: 0.7110992282122843\n",
            "RSR for sustainability_score: 0.38683848734927195\n",
            "Average RSR (ARSR): 0.5489688577807781\n"
          ]
        }
      ]
    },
    {
      "cell_type": "code",
      "source": [
        "def adjust_learning_rate(optimizer, epoch, warmup_epochs=10, lr_max=0.001, lr_min=1e-6):\n",
        "    if epoch < warmup_epochs:\n",
        "        # Linear warm-up phase\n",
        "        lr = lr_max * (epoch + 1) / warmup_epochs\n",
        "    else:\n",
        "        # Decay the learning rate after warmup\n",
        "        lr = lr_min + (lr_max - lr_min) * (0.1 ** ((epoch - warmup_epochs) / 100))\n",
        "\n",
        "    # Apply the adjusted learning rate to all param groups\n",
        "    for param_group in optimizer.param_groups:\n",
        "        param_group['lr'] = lr\n",
        "\n",
        "\n",
        "def train_model(model, X_train, Y_train, epochs=500, batch_size=32, validation_split=0.2):\n",
        "    device = torch.device(\"cuda\" if torch.cuda.is_available() else \"cpu\")\n",
        "    model.to(device)\n",
        "\n",
        "    # Convert data to PyTorch tensors\n",
        "    X_train_tensor = torch.tensor(X_train, dtype=torch.float32).to(device)\n",
        "    Y_train_tensor = torch.tensor(Y_train, dtype=torch.float32).to(device)\n",
        "\n",
        "    # Split into training and validation sets\n",
        "    split_idx = int((1 - validation_split) * len(X_train_tensor))\n",
        "    X_train_data, X_val_data = X_train_tensor[:split_idx], X_train_tensor[split_idx:]\n",
        "    Y_train_data, Y_val_data = Y_train_tensor[:split_idx], Y_train_tensor[split_idx:]\n",
        "\n",
        "    # Early stopping variables\n",
        "    best_loss = np.inf\n",
        "    patience_counter = 0\n",
        "\n",
        "    history = {\"train_loss\": [], \"val_loss\": []}\n",
        "\n",
        "    for epoch in range(epochs):\n",
        "        model.train()\n",
        "        optimizer.zero_grad()\n",
        "\n",
        "        # Adjust learning rate (warmup and decay)\n",
        "        adjust_learning_rate(optimizer, epoch, warmup_epochs=10, lr_max=0.001, lr_min=1e-6)\n",
        "\n",
        "        # Batch training\n",
        "        permutation = torch.randperm(X_train_data.size(0))\n",
        "        epoch_loss = 0.0\n",
        "        for i in range(0, X_train_data.size(0), batch_size):\n",
        "            indices = permutation[i:i+batch_size]\n",
        "            batch_x, batch_y = X_train_data[indices], Y_train_data[indices]\n",
        "\n",
        "            # Apply mixup augmentation\n",
        "            batch_x, batch_y = mixup_data(batch_x, batch_y, alpha=0.2)\n",
        "\n",
        "            outputs = model(batch_x)\n",
        "            loss = loss_fn(outputs, batch_y)\n",
        "            loss.backward()\n",
        "\n",
        "            # Gradient clipping\n",
        "            torch.nn.utils.clip_grad_norm_(model.parameters(), max_norm=1.0)\n",
        "\n",
        "            optimizer.step()\n",
        "\n",
        "            epoch_loss += loss.item()\n",
        "\n",
        "        # Validation\n",
        "        model.eval()\n",
        "        with torch.no_grad():\n",
        "            val_outputs = model(X_val_data)\n",
        "            val_loss = loss_fn(val_outputs, Y_val_data).item()\n",
        "\n",
        "        # Scheduler step\n",
        "        lr_scheduler.step(val_loss)\n",
        "\n",
        "        # Track loss\n",
        "        history[\"train_loss\"].append(epoch_loss / len(X_train_data))\n",
        "        history[\"val_loss\"].append(val_loss)\n",
        "\n",
        "        print(f\"Epoch {epoch+1}/{epochs}, Train Loss: {epoch_loss / len(X_train_data):.4f}, Val Loss: {val_loss:.4f}\")\n",
        "\n",
        "        # Early stopping check\n",
        "        if val_loss < best_loss:\n",
        "            best_loss = val_loss\n",
        "            torch.save(model.state_dict(), \"best_model.pth\")\n",
        "            patience_counter = 0\n",
        "        else:\n",
        "            patience_counter += 1\n",
        "\n",
        "        if patience_counter >= early_stopping_patience:\n",
        "            print(\"Early stopping triggered.\")\n",
        "            break\n",
        "\n",
        "    # Load the best model\n",
        "    model.load_state_dict(torch.load(\"best_model.pth\"))\n",
        "    return history\n"
      ],
      "metadata": {
        "id": "nucg713-KqhU"
      },
      "execution_count": null,
      "outputs": []
    },
    {
      "cell_type": "code",
      "source": [
        "def mixup_data(x, y, alpha=1.0):\n",
        "    if alpha > 0:\n",
        "        lam = np.random.beta(alpha, alpha)\n",
        "    else:\n",
        "        lam = 1\n",
        "\n",
        "    # Shuffle the indices for mixing\n",
        "    batch_size = x.size(0)\n",
        "    index = torch.randperm(batch_size)\n",
        "\n",
        "    # Create the mixed data\n",
        "    mixed_x = lam * x + (1 - lam) * x[index, :]\n",
        "    mixed_y = lam * y + (1 - lam) * y[index, :]\n",
        "\n",
        "    return mixed_x, mixed_y\n"
      ],
      "metadata": {
        "id": "D482yR0dVdx1"
      },
      "execution_count": null,
      "outputs": []
    },
    {
      "cell_type": "code",
      "source": [
        "import torch\n",
        "import numpy as np\n",
        "import random\n",
        "\n",
        "seed = 78\n",
        "torch.manual_seed(seed)\n",
        "torch.cuda.manual_seed_all(seed)\n",
        "np.random.seed(seed)\n",
        "random.seed(seed)\n",
        "torch.backends.cudnn.deterministic = True\n",
        "torch.backends.cudnn.benchmark = False\n",
        "\n",
        "best_params = study.best_trial.params\n",
        "\n",
        "best_model = NeuralNetwork(\n",
        "    n_predictors, n_responses,\n",
        "    best_params['hidden_units1'],\n",
        "    best_params['hidden_units2'],\n",
        "    best_params['dropout_rate']\n",
        ")\n",
        "\n",
        "optimizer = optim.Adam(best_model.parameters(), lr=best_params['lr'])\n",
        "\n",
        "history = train_model(best_model, X_train, Y_train, epochs=500, batch_size=best_params['batch_size'])\n"
      ],
      "metadata": {
        "colab": {
          "base_uri": "https://localhost:8080/"
        },
        "id": "WHfl714jKb7Q",
        "outputId": "0913408d-6fa1-4001-a692-cb1b7f252ddb"
      },
      "execution_count": null,
      "outputs": [
        {
          "output_type": "stream",
          "name": "stdout",
          "text": [
            "Epoch 1/500, Train Loss: 0.0167, Val Loss: 1.1284\n",
            "Epoch 2/500, Train Loss: 0.0150, Val Loss: 1.0706\n",
            "Epoch 3/500, Train Loss: 0.0137, Val Loss: 1.0018\n",
            "Epoch 4/500, Train Loss: 0.0132, Val Loss: 0.9619\n",
            "Epoch 5/500, Train Loss: 0.0135, Val Loss: 0.9259\n",
            "Epoch 6/500, Train Loss: 0.0122, Val Loss: 0.9085\n",
            "Epoch 7/500, Train Loss: 0.0133, Val Loss: 0.9081\n",
            "Epoch 8/500, Train Loss: 0.0108, Val Loss: 0.8622\n",
            "Epoch 9/500, Train Loss: 0.0112, Val Loss: 0.8910\n",
            "Epoch 10/500, Train Loss: 0.0102, Val Loss: 0.8652\n",
            "Epoch 11/500, Train Loss: 0.0114, Val Loss: 0.8571\n",
            "Epoch 12/500, Train Loss: 0.0107, Val Loss: 0.8564\n",
            "Epoch 13/500, Train Loss: 0.0094, Val Loss: 0.8856\n",
            "Epoch 14/500, Train Loss: 0.0099, Val Loss: 0.8474\n",
            "Epoch 15/500, Train Loss: 0.0106, Val Loss: 0.8467\n",
            "Epoch 16/500, Train Loss: 0.0081, Val Loss: 0.8527\n",
            "Epoch 17/500, Train Loss: 0.0092, Val Loss: 0.8791\n",
            "Epoch 18/500, Train Loss: 0.0095, Val Loss: 0.8554\n",
            "Epoch 19/500, Train Loss: 0.0087, Val Loss: 0.8452\n",
            "Epoch 20/500, Train Loss: 0.0092, Val Loss: 0.8924\n",
            "Epoch 21/500, Train Loss: 0.0095, Val Loss: 0.8217\n",
            "Epoch 22/500, Train Loss: 0.0093, Val Loss: 0.8340\n",
            "Epoch 23/500, Train Loss: 0.0094, Val Loss: 0.8007\n",
            "Epoch 24/500, Train Loss: 0.0087, Val Loss: 0.8431\n",
            "Epoch 25/500, Train Loss: 0.0098, Val Loss: 0.7846\n",
            "Epoch 26/500, Train Loss: 0.0090, Val Loss: 0.8279\n",
            "Epoch 27/500, Train Loss: 0.0090, Val Loss: 0.8341\n",
            "Epoch 28/500, Train Loss: 0.0079, Val Loss: 0.8065\n",
            "Epoch 29/500, Train Loss: 0.0085, Val Loss: 0.7752\n",
            "Epoch 30/500, Train Loss: 0.0083, Val Loss: 0.7767\n",
            "Epoch 31/500, Train Loss: 0.0074, Val Loss: 0.7710\n",
            "Epoch 32/500, Train Loss: 0.0086, Val Loss: 0.8350\n",
            "Epoch 33/500, Train Loss: 0.0073, Val Loss: 0.8171\n",
            "Epoch 34/500, Train Loss: 0.0065, Val Loss: 0.8025\n",
            "Epoch 35/500, Train Loss: 0.0067, Val Loss: 0.7647\n",
            "Epoch 36/500, Train Loss: 0.0075, Val Loss: 0.7419\n",
            "Epoch 37/500, Train Loss: 0.0069, Val Loss: 0.7207\n",
            "Epoch 38/500, Train Loss: 0.0080, Val Loss: 0.7332\n",
            "Epoch 39/500, Train Loss: 0.0090, Val Loss: 0.7479\n",
            "Epoch 40/500, Train Loss: 0.0062, Val Loss: 0.8191\n",
            "Epoch 41/500, Train Loss: 0.0066, Val Loss: 0.7301\n",
            "Epoch 42/500, Train Loss: 0.0068, Val Loss: 0.7402\n",
            "Epoch 43/500, Train Loss: 0.0064, Val Loss: 0.7483\n",
            "Epoch 44/500, Train Loss: 0.0074, Val Loss: 0.7394\n",
            "Epoch 45/500, Train Loss: 0.0059, Val Loss: 0.7570\n",
            "Epoch 46/500, Train Loss: 0.0063, Val Loss: 0.7405\n",
            "Epoch 47/500, Train Loss: 0.0064, Val Loss: 0.7105\n",
            "Epoch 48/500, Train Loss: 0.0070, Val Loss: 0.7176\n",
            "Epoch 49/500, Train Loss: 0.0072, Val Loss: 0.6874\n",
            "Epoch 50/500, Train Loss: 0.0058, Val Loss: 0.7597\n",
            "Epoch 51/500, Train Loss: 0.0069, Val Loss: 0.8231\n",
            "Epoch 52/500, Train Loss: 0.0065, Val Loss: 0.7408\n",
            "Epoch 53/500, Train Loss: 0.0066, Val Loss: 0.6836\n",
            "Epoch 54/500, Train Loss: 0.0074, Val Loss: 0.6896\n",
            "Epoch 55/500, Train Loss: 0.0072, Val Loss: 0.7132\n",
            "Epoch 56/500, Train Loss: 0.0066, Val Loss: 0.6643\n",
            "Epoch 57/500, Train Loss: 0.0058, Val Loss: 0.6945\n",
            "Epoch 58/500, Train Loss: 0.0055, Val Loss: 0.7866\n",
            "Epoch 59/500, Train Loss: 0.0066, Val Loss: 0.7193\n",
            "Epoch 60/500, Train Loss: 0.0063, Val Loss: 0.7047\n",
            "Epoch 61/500, Train Loss: 0.0062, Val Loss: 0.6785\n",
            "Epoch 62/500, Train Loss: 0.0052, Val Loss: 0.6865\n",
            "Epoch 63/500, Train Loss: 0.0060, Val Loss: 0.6733\n",
            "Epoch 64/500, Train Loss: 0.0052, Val Loss: 0.7391\n",
            "Epoch 65/500, Train Loss: 0.0066, Val Loss: 0.7075\n",
            "Epoch 66/500, Train Loss: 0.0045, Val Loss: 0.7446\n",
            "Epoch 67/500, Train Loss: 0.0065, Val Loss: 0.6818\n",
            "Epoch 68/500, Train Loss: 0.0048, Val Loss: 0.6685\n",
            "Epoch 69/500, Train Loss: 0.0057, Val Loss: 0.6839\n",
            "Epoch 70/500, Train Loss: 0.0053, Val Loss: 0.6925\n",
            "Epoch 71/500, Train Loss: 0.0063, Val Loss: 0.6555\n",
            "Epoch 72/500, Train Loss: 0.0048, Val Loss: 0.6979\n",
            "Epoch 73/500, Train Loss: 0.0052, Val Loss: 0.6918\n",
            "Epoch 74/500, Train Loss: 0.0056, Val Loss: 0.6828\n",
            "Epoch 75/500, Train Loss: 0.0056, Val Loss: 0.6726\n",
            "Epoch 76/500, Train Loss: 0.0055, Val Loss: 0.6826\n",
            "Epoch 77/500, Train Loss: 0.0053, Val Loss: 0.6796\n",
            "Epoch 78/500, Train Loss: 0.0060, Val Loss: 0.6653\n",
            "Epoch 79/500, Train Loss: 0.0058, Val Loss: 0.6613\n",
            "Epoch 80/500, Train Loss: 0.0046, Val Loss: 0.6555\n",
            "Epoch 81/500, Train Loss: 0.0049, Val Loss: 0.6625\n",
            "Epoch 82/500, Train Loss: 0.0048, Val Loss: 0.6617\n",
            "Epoch 83/500, Train Loss: 0.0053, Val Loss: 0.6766\n",
            "Epoch 84/500, Train Loss: 0.0056, Val Loss: 0.6943\n",
            "Epoch 85/500, Train Loss: 0.0058, Val Loss: 0.7057\n",
            "Epoch 86/500, Train Loss: 0.0061, Val Loss: 0.6524\n",
            "Epoch 87/500, Train Loss: 0.0051, Val Loss: 0.6385\n",
            "Epoch 88/500, Train Loss: 0.0061, Val Loss: 0.6599\n",
            "Epoch 89/500, Train Loss: 0.0074, Val Loss: 0.7006\n",
            "Epoch 90/500, Train Loss: 0.0063, Val Loss: 0.6909\n",
            "Epoch 91/500, Train Loss: 0.0058, Val Loss: 0.6872\n",
            "Epoch 92/500, Train Loss: 0.0056, Val Loss: 0.6829\n",
            "Epoch 93/500, Train Loss: 0.0049, Val Loss: 0.6462\n",
            "Epoch 94/500, Train Loss: 0.0054, Val Loss: 0.6503\n",
            "Epoch 95/500, Train Loss: 0.0050, Val Loss: 0.6400\n",
            "Epoch 96/500, Train Loss: 0.0073, Val Loss: 0.6140\n",
            "Epoch 97/500, Train Loss: 0.0059, Val Loss: 0.6112\n",
            "Epoch 98/500, Train Loss: 0.0059, Val Loss: 0.6680\n",
            "Epoch 99/500, Train Loss: 0.0047, Val Loss: 0.6673\n",
            "Epoch 100/500, Train Loss: 0.0050, Val Loss: 0.6484\n",
            "Epoch 101/500, Train Loss: 0.0062, Val Loss: 0.6762\n",
            "Epoch 102/500, Train Loss: 0.0043, Val Loss: 0.6622\n",
            "Epoch 103/500, Train Loss: 0.0065, Val Loss: 0.6451\n",
            "Epoch 104/500, Train Loss: 0.0062, Val Loss: 0.6207\n",
            "Epoch 105/500, Train Loss: 0.0040, Val Loss: 0.6149\n",
            "Epoch 106/500, Train Loss: 0.0064, Val Loss: 0.6073\n",
            "Epoch 107/500, Train Loss: 0.0053, Val Loss: 0.5994\n",
            "Epoch 108/500, Train Loss: 0.0051, Val Loss: 0.5928\n",
            "Epoch 109/500, Train Loss: 0.0056, Val Loss: 0.6127\n",
            "Epoch 110/500, Train Loss: 0.0055, Val Loss: 0.6573\n",
            "Epoch 111/500, Train Loss: 0.0055, Val Loss: 0.6501\n",
            "Epoch 112/500, Train Loss: 0.0046, Val Loss: 0.6557\n",
            "Epoch 113/500, Train Loss: 0.0059, Val Loss: 0.6250\n",
            "Epoch 114/500, Train Loss: 0.0058, Val Loss: 0.6112\n",
            "Epoch 115/500, Train Loss: 0.0050, Val Loss: 0.6235\n",
            "Epoch 116/500, Train Loss: 0.0041, Val Loss: 0.6530\n",
            "Epoch 117/500, Train Loss: 0.0046, Val Loss: 0.6847\n",
            "Epoch 118/500, Train Loss: 0.0054, Val Loss: 0.6553\n",
            "Epoch 119/500, Train Loss: 0.0062, Val Loss: 0.6193\n",
            "Epoch 120/500, Train Loss: 0.0062, Val Loss: 0.6340\n",
            "Epoch 121/500, Train Loss: 0.0059, Val Loss: 0.6348\n",
            "Epoch 122/500, Train Loss: 0.0043, Val Loss: 0.6273\n",
            "Epoch 123/500, Train Loss: 0.0053, Val Loss: 0.6231\n",
            "Early stopping triggered.\n"
          ]
        },
        {
          "output_type": "stream",
          "name": "stderr",
          "text": [
            "<ipython-input-39-d3c6610b0357>:89: FutureWarning: You are using `torch.load` with `weights_only=False` (the current default value), which uses the default pickle module implicitly. It is possible to construct malicious pickle data which will execute arbitrary code during unpickling (See https://github.com/pytorch/pytorch/blob/main/SECURITY.md#untrusted-models for more details). In a future release, the default value for `weights_only` will be flipped to `True`. This limits the functions that could be executed during unpickling. Arbitrary objects will no longer be allowed to be loaded via this mode unless they are explicitly allowlisted by the user via `torch.serialization.add_safe_globals`. We recommend you start setting `weights_only=True` for any use case where you don't have full control of the loaded file. Please open an issue on GitHub for any issues related to this experimental feature.\n",
            "  model.load_state_dict(torch.load(\"best_model.pth\"))\n"
          ]
        }
      ]
    },
    {
      "cell_type": "code",
      "source": [
        "y_pred_tensor = best_model(torch.tensor(X_test, dtype=torch.float32)).detach().numpy()\n",
        "rsr_values, avg_rsr = calculate_nrmse(Y_test, y_pred_tensor, response_names)\n",
        "print(rsr_values)\n",
        "print(avg_rsr)"
      ],
      "metadata": {
        "colab": {
          "base_uri": "https://localhost:8080/"
        },
        "id": "8ve6uuNEIn5h",
        "outputId": "fabb0b35-d1d0-4cbe-efce-3edcb8974e91"
      },
      "execution_count": null,
      "outputs": [
        {
          "output_type": "stream",
          "name": "stdout",
          "text": [
            "RSR for roe: 0.5940\n",
            "RSR for sustainability_score: 0.8331\n",
            "[0.59401075 0.83307324]\n",
            "0.7135419953127171\n"
          ]
        }
      ]
    },
    {
      "cell_type": "code",
      "source": [
        "pip install torchviz"
      ],
      "metadata": {
        "id": "0K3cDtdBJjKx",
        "outputId": "81a3c979-5fbc-4274-a41c-b08ff411521d",
        "colab": {
          "base_uri": "https://localhost:8080/"
        }
      },
      "execution_count": null,
      "outputs": [
        {
          "output_type": "stream",
          "name": "stdout",
          "text": [
            "Collecting torchviz\n",
            "  Downloading torchviz-0.0.3-py3-none-any.whl.metadata (2.1 kB)\n",
            "Requirement already satisfied: torch in /usr/local/lib/python3.10/dist-packages (from torchviz) (2.5.1+cu121)\n",
            "Requirement already satisfied: graphviz in /usr/local/lib/python3.10/dist-packages (from torchviz) (0.20.3)\n",
            "Requirement already satisfied: filelock in /usr/local/lib/python3.10/dist-packages (from torch->torchviz) (3.16.1)\n",
            "Requirement already satisfied: typing-extensions>=4.8.0 in /usr/local/lib/python3.10/dist-packages (from torch->torchviz) (4.12.2)\n",
            "Requirement already satisfied: networkx in /usr/local/lib/python3.10/dist-packages (from torch->torchviz) (3.4.2)\n",
            "Requirement already satisfied: jinja2 in /usr/local/lib/python3.10/dist-packages (from torch->torchviz) (3.1.4)\n",
            "Requirement already satisfied: fsspec in /usr/local/lib/python3.10/dist-packages (from torch->torchviz) (2024.10.0)\n",
            "Requirement already satisfied: sympy==1.13.1 in /usr/local/lib/python3.10/dist-packages (from torch->torchviz) (1.13.1)\n",
            "Requirement already satisfied: mpmath<1.4,>=1.1.0 in /usr/local/lib/python3.10/dist-packages (from sympy==1.13.1->torch->torchviz) (1.3.0)\n",
            "Requirement already satisfied: MarkupSafe>=2.0 in /usr/local/lib/python3.10/dist-packages (from jinja2->torch->torchviz) (3.0.2)\n",
            "Downloading torchviz-0.0.3-py3-none-any.whl (5.7 kB)\n",
            "Installing collected packages: torchviz\n",
            "Successfully installed torchviz-0.0.3\n"
          ]
        }
      ]
    },
    {
      "cell_type": "code",
      "source": [
        "from torchviz import make_dot\n",
        "import torch\n",
        "\n",
        "# Example input tensor\n",
        "x = torch.randn(1, n_predictors)\n",
        "\n",
        "# Forward pass\n",
        "y = best_model(x)\n",
        "\n",
        "# Plot the computation graph\n",
        "dot = make_dot(y, params=dict(best_model.named_parameters()))\n",
        "dot.render(\"neural_network\", format=\"png\")  # Save as PNG\n",
        "dot"
      ],
      "metadata": {
        "id": "oj8EadMCJl_c",
        "outputId": "c5fb3509-5b05-405f-ec67-103a5787d879",
        "colab": {
          "base_uri": "https://localhost:8080/",
          "height": 997
        }
      },
      "execution_count": null,
      "outputs": [
        {
          "output_type": "execute_result",
          "data": {
            "image/svg+xml": "<?xml version=\"1.0\" encoding=\"UTF-8\" standalone=\"no\"?>\n<!DOCTYPE svg PUBLIC \"-//W3C//DTD SVG 1.1//EN\"\n \"http://www.w3.org/Graphics/SVG/1.1/DTD/svg11.dtd\">\n<!-- Generated by graphviz version 2.43.0 (0)\n -->\n<!-- Title: %3 Pages: 1 -->\n<svg width=\"573pt\" height=\"732pt\"\n viewBox=\"0.00 0.00 573.00 732.00\" xmlns=\"http://www.w3.org/2000/svg\" xmlns:xlink=\"http://www.w3.org/1999/xlink\">\n<g id=\"graph0\" class=\"graph\" transform=\"scale(1 1) rotate(0) translate(4 728)\">\n<title>%3</title>\n<polygon fill=\"white\" stroke=\"transparent\" points=\"-4,4 -4,-728 569,-728 569,4 -4,4\"/>\n<!-- 134056925866288 -->\n<g id=\"node1\" class=\"node\">\n<title>134056925866288</title>\n<polygon fill=\"#caff70\" stroke=\"black\" points=\"358,-31 299,-31 299,0 358,0 358,-31\"/>\n<text text-anchor=\"middle\" x=\"328.5\" y=\"-7\" font-family=\"monospace\" font-size=\"10.00\"> (1, 2)</text>\n</g>\n<!-- 134056949917792 -->\n<g id=\"node2\" class=\"node\">\n<title>134056949917792</title>\n<polygon fill=\"lightgrey\" stroke=\"black\" points=\"379,-86 278,-86 278,-67 379,-67 379,-86\"/>\n<text text-anchor=\"middle\" x=\"328.5\" y=\"-74\" font-family=\"monospace\" font-size=\"10.00\">AddmmBackward0</text>\n</g>\n<!-- 134056949917792&#45;&gt;134056925866288 -->\n<g id=\"edge32\" class=\"edge\">\n<title>134056949917792&#45;&gt;134056925866288</title>\n<path fill=\"none\" stroke=\"black\" d=\"M328.5,-66.79C328.5,-60.07 328.5,-50.4 328.5,-41.34\"/>\n<polygon fill=\"black\" stroke=\"black\" points=\"332,-41.19 328.5,-31.19 325,-41.19 332,-41.19\"/>\n</g>\n<!-- 134056949918272 -->\n<g id=\"node3\" class=\"node\">\n<title>134056949918272</title>\n<polygon fill=\"lightgrey\" stroke=\"black\" points=\"263,-141 162,-141 162,-122 263,-122 263,-141\"/>\n<text text-anchor=\"middle\" x=\"212.5\" y=\"-129\" font-family=\"monospace\" font-size=\"10.00\">AccumulateGrad</text>\n</g>\n<!-- 134056949918272&#45;&gt;134056949917792 -->\n<g id=\"edge1\" class=\"edge\">\n<title>134056949918272&#45;&gt;134056949917792</title>\n<path fill=\"none\" stroke=\"black\" d=\"M231.14,-121.98C249.8,-113.46 278.75,-100.23 300.24,-90.41\"/>\n<polygon fill=\"black\" stroke=\"black\" points=\"301.88,-93.51 309.52,-86.17 298.97,-87.14 301.88,-93.51\"/>\n</g>\n<!-- 134056925856528 -->\n<g id=\"node4\" class=\"node\">\n<title>134056925856528</title>\n<polygon fill=\"lightblue\" stroke=\"black\" points=\"257,-207 168,-207 168,-177 257,-177 257,-207\"/>\n<text text-anchor=\"middle\" x=\"212.5\" y=\"-195\" font-family=\"monospace\" font-size=\"10.00\">model.8.bias</text>\n<text text-anchor=\"middle\" x=\"212.5\" y=\"-184\" font-family=\"monospace\" font-size=\"10.00\"> (2)</text>\n</g>\n<!-- 134056925856528&#45;&gt;134056949918272 -->\n<g id=\"edge2\" class=\"edge\">\n<title>134056925856528&#45;&gt;134056949918272</title>\n<path fill=\"none\" stroke=\"black\" d=\"M212.5,-176.84C212.5,-169.21 212.5,-159.7 212.5,-151.45\"/>\n<polygon fill=\"black\" stroke=\"black\" points=\"216,-151.27 212.5,-141.27 209,-151.27 216,-151.27\"/>\n</g>\n<!-- 134056949917696 -->\n<g id=\"node5\" class=\"node\">\n<title>134056949917696</title>\n<polygon fill=\"lightgrey\" stroke=\"black\" points=\"376,-141 281,-141 281,-122 376,-122 376,-141\"/>\n<text text-anchor=\"middle\" x=\"328.5\" y=\"-129\" font-family=\"monospace\" font-size=\"10.00\">ReluBackward0</text>\n</g>\n<!-- 134056949917696&#45;&gt;134056949917792 -->\n<g id=\"edge3\" class=\"edge\">\n<title>134056949917696&#45;&gt;134056949917792</title>\n<path fill=\"none\" stroke=\"black\" d=\"M328.5,-121.75C328.5,-114.8 328.5,-104.85 328.5,-96.13\"/>\n<polygon fill=\"black\" stroke=\"black\" points=\"332,-96.09 328.5,-86.09 325,-96.09 332,-96.09\"/>\n</g>\n<!-- 134056949917648 -->\n<g id=\"node6\" class=\"node\">\n<title>134056949917648</title>\n<polygon fill=\"lightgrey\" stroke=\"black\" points=\"377,-201.5 276,-201.5 276,-182.5 377,-182.5 377,-201.5\"/>\n<text text-anchor=\"middle\" x=\"326.5\" y=\"-189.5\" font-family=\"monospace\" font-size=\"10.00\">AddmmBackward0</text>\n</g>\n<!-- 134056949917648&#45;&gt;134056949917696 -->\n<g id=\"edge4\" class=\"edge\">\n<title>134056949917648&#45;&gt;134056949917696</title>\n<path fill=\"none\" stroke=\"black\" d=\"M326.8,-182.37C327.07,-174.25 327.5,-161.81 327.85,-151.39\"/>\n<polygon fill=\"black\" stroke=\"black\" points=\"331.36,-151.28 328.2,-141.17 324.36,-151.04 331.36,-151.28\"/>\n</g>\n<!-- 134056949921200 -->\n<g id=\"node7\" class=\"node\">\n<title>134056949921200</title>\n<polygon fill=\"lightgrey\" stroke=\"black\" points=\"238,-267.5 137,-267.5 137,-248.5 238,-248.5 238,-267.5\"/>\n<text text-anchor=\"middle\" x=\"187.5\" y=\"-255.5\" font-family=\"monospace\" font-size=\"10.00\">AccumulateGrad</text>\n</g>\n<!-- 134056949921200&#45;&gt;134056949917648 -->\n<g id=\"edge5\" class=\"edge\">\n<title>134056949921200&#45;&gt;134056949917648</title>\n<path fill=\"none\" stroke=\"black\" d=\"M206.25,-248.37C229.98,-237.44 271.07,-218.52 298.52,-205.88\"/>\n<polygon fill=\"black\" stroke=\"black\" points=\"299.99,-209.06 307.61,-201.7 297.06,-202.7 299.99,-209.06\"/>\n</g>\n<!-- 134056925862368 -->\n<g id=\"node8\" class=\"node\">\n<title>134056925862368</title>\n<polygon fill=\"lightblue\" stroke=\"black\" points=\"232,-339 143,-339 143,-309 232,-309 232,-339\"/>\n<text text-anchor=\"middle\" x=\"187.5\" y=\"-327\" font-family=\"monospace\" font-size=\"10.00\">model.6.bias</text>\n<text text-anchor=\"middle\" x=\"187.5\" y=\"-316\" font-family=\"monospace\" font-size=\"10.00\"> (32)</text>\n</g>\n<!-- 134056925862368&#45;&gt;134056949921200 -->\n<g id=\"edge6\" class=\"edge\">\n<title>134056925862368&#45;&gt;134056949921200</title>\n<path fill=\"none\" stroke=\"black\" d=\"M187.5,-308.8C187.5,-299.7 187.5,-287.79 187.5,-277.9\"/>\n<polygon fill=\"black\" stroke=\"black\" points=\"191,-277.84 187.5,-267.84 184,-277.84 191,-277.84\"/>\n</g>\n<!-- 134056949917552 -->\n<g id=\"node9\" class=\"node\">\n<title>134056949917552</title>\n<polygon fill=\"lightgrey\" stroke=\"black\" points=\"351,-267.5 256,-267.5 256,-248.5 351,-248.5 351,-267.5\"/>\n<text text-anchor=\"middle\" x=\"303.5\" y=\"-255.5\" font-family=\"monospace\" font-size=\"10.00\">ReluBackward0</text>\n</g>\n<!-- 134056949917552&#45;&gt;134056949917648 -->\n<g id=\"edge7\" class=\"edge\">\n<title>134056949917552&#45;&gt;134056949917648</title>\n<path fill=\"none\" stroke=\"black\" d=\"M306.6,-248.37C309.98,-238.97 315.48,-223.67 319.84,-211.53\"/>\n<polygon fill=\"black\" stroke=\"black\" points=\"323.21,-212.5 323.3,-201.91 316.62,-210.13 323.21,-212.5\"/>\n</g>\n<!-- 134056949922976 -->\n<g id=\"node10\" class=\"node\">\n<title>134056949922976</title>\n<polygon fill=\"lightgrey\" stroke=\"black\" points=\"352,-333.5 251,-333.5 251,-314.5 352,-314.5 352,-333.5\"/>\n<text text-anchor=\"middle\" x=\"301.5\" y=\"-321.5\" font-family=\"monospace\" font-size=\"10.00\">AddmmBackward0</text>\n</g>\n<!-- 134056949922976&#45;&gt;134056949917552 -->\n<g id=\"edge8\" class=\"edge\">\n<title>134056949922976&#45;&gt;134056949917552</title>\n<path fill=\"none\" stroke=\"black\" d=\"M301.77,-314.37C302.06,-305.16 302.52,-290.29 302.9,-278.27\"/>\n<polygon fill=\"black\" stroke=\"black\" points=\"306.41,-278.01 303.22,-267.91 299.41,-277.79 306.41,-278.01\"/>\n</g>\n<!-- 134056949916064 -->\n<g id=\"node11\" class=\"node\">\n<title>134056949916064</title>\n<polygon fill=\"lightgrey\" stroke=\"black\" points=\"133,-399.5 32,-399.5 32,-380.5 133,-380.5 133,-399.5\"/>\n<text text-anchor=\"middle\" x=\"82.5\" y=\"-387.5\" font-family=\"monospace\" font-size=\"10.00\">AccumulateGrad</text>\n</g>\n<!-- 134056949916064&#45;&gt;134056949922976 -->\n<g id=\"edge9\" class=\"edge\">\n<title>134056949916064&#45;&gt;134056949922976</title>\n<path fill=\"none\" stroke=\"black\" d=\"M112.04,-380.37C150.84,-369.03 219.1,-349.08 262.22,-336.48\"/>\n<polygon fill=\"black\" stroke=\"black\" points=\"263.47,-339.76 272.08,-333.6 261.5,-333.04 263.47,-339.76\"/>\n</g>\n<!-- 134056925870048 -->\n<g id=\"node12\" class=\"node\">\n<title>134056925870048</title>\n<polygon fill=\"lightblue\" stroke=\"black\" points=\"89,-471 0,-471 0,-441 89,-441 89,-471\"/>\n<text text-anchor=\"middle\" x=\"44.5\" y=\"-459\" font-family=\"monospace\" font-size=\"10.00\">model.4.bias</text>\n<text text-anchor=\"middle\" x=\"44.5\" y=\"-448\" font-family=\"monospace\" font-size=\"10.00\"> (82)</text>\n</g>\n<!-- 134056925870048&#45;&gt;134056949916064 -->\n<g id=\"edge10\" class=\"edge\">\n<title>134056925870048&#45;&gt;134056949916064</title>\n<path fill=\"none\" stroke=\"black\" d=\"M52.93,-440.8C58.57,-431.31 66.02,-418.76 72.03,-408.63\"/>\n<polygon fill=\"black\" stroke=\"black\" points=\"75.15,-410.23 77.25,-399.84 69.13,-406.66 75.15,-410.23\"/>\n</g>\n<!-- 134056949915872 -->\n<g id=\"node13\" class=\"node\">\n<title>134056949915872</title>\n<polygon fill=\"lightgrey\" stroke=\"black\" points=\"351,-399.5 190,-399.5 190,-380.5 351,-380.5 351,-399.5\"/>\n<text text-anchor=\"middle\" x=\"270.5\" y=\"-387.5\" font-family=\"monospace\" font-size=\"10.00\">NativeBatchNormBackward0</text>\n</g>\n<!-- 134056949915872&#45;&gt;134056949922976 -->\n<g id=\"edge11\" class=\"edge\">\n<title>134056949915872&#45;&gt;134056949922976</title>\n<path fill=\"none\" stroke=\"black\" d=\"M274.68,-380.37C279.28,-370.88 286.79,-355.36 292.7,-343.16\"/>\n<polygon fill=\"black\" stroke=\"black\" points=\"295.98,-344.43 297.19,-333.91 289.68,-341.38 295.98,-344.43\"/>\n</g>\n<!-- 134056949920672 -->\n<g id=\"node14\" class=\"node\">\n<title>134056949920672</title>\n<polygon fill=\"lightgrey\" stroke=\"black\" points=\"202,-465.5 107,-465.5 107,-446.5 202,-446.5 202,-465.5\"/>\n<text text-anchor=\"middle\" x=\"154.5\" y=\"-453.5\" font-family=\"monospace\" font-size=\"10.00\">ReluBackward0</text>\n</g>\n<!-- 134056949920672&#45;&gt;134056949915872 -->\n<g id=\"edge12\" class=\"edge\">\n<title>134056949920672&#45;&gt;134056949915872</title>\n<path fill=\"none\" stroke=\"black\" d=\"M170.14,-446.37C189.6,-435.63 223.05,-417.18 245.94,-404.55\"/>\n<polygon fill=\"black\" stroke=\"black\" points=\"247.67,-407.59 254.73,-399.7 244.29,-401.47 247.67,-407.59\"/>\n</g>\n<!-- 134056949919184 -->\n<g id=\"node15\" class=\"node\">\n<title>134056949919184</title>\n<polygon fill=\"lightgrey\" stroke=\"black\" points=\"203,-531.5 102,-531.5 102,-512.5 203,-512.5 203,-531.5\"/>\n<text text-anchor=\"middle\" x=\"152.5\" y=\"-519.5\" font-family=\"monospace\" font-size=\"10.00\">AddmmBackward0</text>\n</g>\n<!-- 134056949919184&#45;&gt;134056949920672 -->\n<g id=\"edge13\" class=\"edge\">\n<title>134056949919184&#45;&gt;134056949920672</title>\n<path fill=\"none\" stroke=\"black\" d=\"M152.77,-512.37C153.06,-503.16 153.52,-488.29 153.9,-476.27\"/>\n<polygon fill=\"black\" stroke=\"black\" points=\"157.41,-476.01 154.22,-465.91 150.41,-475.79 157.41,-476.01\"/>\n</g>\n<!-- 134056949919040 -->\n<g id=\"node16\" class=\"node\">\n<title>134056949919040</title>\n<polygon fill=\"lightgrey\" stroke=\"black\" points=\"150,-592 49,-592 49,-573 150,-573 150,-592\"/>\n<text text-anchor=\"middle\" x=\"99.5\" y=\"-580\" font-family=\"monospace\" font-size=\"10.00\">AccumulateGrad</text>\n</g>\n<!-- 134056949919040&#45;&gt;134056949919184 -->\n<g id=\"edge14\" class=\"edge\">\n<title>134056949919040&#45;&gt;134056949919184</title>\n<path fill=\"none\" stroke=\"black\" d=\"M107.32,-572.87C115.31,-564.05 127.89,-550.16 137.76,-539.27\"/>\n<polygon fill=\"black\" stroke=\"black\" points=\"140.53,-541.43 144.65,-531.67 135.34,-536.73 140.53,-541.43\"/>\n</g>\n<!-- 134056950355888 -->\n<g id=\"node17\" class=\"node\">\n<title>134056950355888</title>\n<polygon fill=\"lightblue\" stroke=\"black\" points=\"141,-658 52,-658 52,-628 141,-628 141,-658\"/>\n<text text-anchor=\"middle\" x=\"96.5\" y=\"-646\" font-family=\"monospace\" font-size=\"10.00\">model.0.bias</text>\n<text text-anchor=\"middle\" x=\"96.5\" y=\"-635\" font-family=\"monospace\" font-size=\"10.00\"> (253)</text>\n</g>\n<!-- 134056950355888&#45;&gt;134056949919040 -->\n<g id=\"edge15\" class=\"edge\">\n<title>134056950355888&#45;&gt;134056949919040</title>\n<path fill=\"none\" stroke=\"black\" d=\"M97.23,-627.84C97.62,-620.21 98.1,-610.7 98.53,-602.45\"/>\n<polygon fill=\"black\" stroke=\"black\" points=\"102.03,-602.43 99.05,-592.27 95.04,-602.07 102.03,-602.43\"/>\n</g>\n<!-- 134056949919088 -->\n<g id=\"node18\" class=\"node\">\n<title>134056949919088</title>\n<polygon fill=\"lightgrey\" stroke=\"black\" points=\"246,-592 169,-592 169,-573 246,-573 246,-592\"/>\n<text text-anchor=\"middle\" x=\"207.5\" y=\"-580\" font-family=\"monospace\" font-size=\"10.00\">TBackward0</text>\n</g>\n<!-- 134056949919088&#45;&gt;134056949919184 -->\n<g id=\"edge16\" class=\"edge\">\n<title>134056949919088&#45;&gt;134056949919184</title>\n<path fill=\"none\" stroke=\"black\" d=\"M199.38,-572.87C191.1,-564.05 178.03,-550.16 167.8,-539.27\"/>\n<polygon fill=\"black\" stroke=\"black\" points=\"170.05,-536.56 160.65,-531.67 164.95,-541.35 170.05,-536.56\"/>\n</g>\n<!-- 134056949915200 -->\n<g id=\"node19\" class=\"node\">\n<title>134056949915200</title>\n<polygon fill=\"lightgrey\" stroke=\"black\" points=\"260,-652.5 159,-652.5 159,-633.5 260,-633.5 260,-652.5\"/>\n<text text-anchor=\"middle\" x=\"209.5\" y=\"-640.5\" font-family=\"monospace\" font-size=\"10.00\">AccumulateGrad</text>\n</g>\n<!-- 134056949915200&#45;&gt;134056949919088 -->\n<g id=\"edge17\" class=\"edge\">\n<title>134056949915200&#45;&gt;134056949919088</title>\n<path fill=\"none\" stroke=\"black\" d=\"M209.2,-633.37C208.93,-625.25 208.5,-612.81 208.15,-602.39\"/>\n<polygon fill=\"black\" stroke=\"black\" points=\"211.64,-602.04 207.8,-592.17 204.64,-602.28 211.64,-602.04\"/>\n</g>\n<!-- 134056925817216 -->\n<g id=\"node20\" class=\"node\">\n<title>134056925817216</title>\n<polygon fill=\"lightblue\" stroke=\"black\" points=\"260,-724 159,-724 159,-694 260,-694 260,-724\"/>\n<text text-anchor=\"middle\" x=\"209.5\" y=\"-712\" font-family=\"monospace\" font-size=\"10.00\">model.0.weight</text>\n<text text-anchor=\"middle\" x=\"209.5\" y=\"-701\" font-family=\"monospace\" font-size=\"10.00\"> (253, 12)</text>\n</g>\n<!-- 134056925817216&#45;&gt;134056949915200 -->\n<g id=\"edge18\" class=\"edge\">\n<title>134056925817216&#45;&gt;134056949915200</title>\n<path fill=\"none\" stroke=\"black\" d=\"M209.5,-693.8C209.5,-684.7 209.5,-672.79 209.5,-662.9\"/>\n<polygon fill=\"black\" stroke=\"black\" points=\"213,-662.84 209.5,-652.84 206,-662.84 213,-662.84\"/>\n</g>\n<!-- 134056949920576 -->\n<g id=\"node21\" class=\"node\">\n<title>134056949920576</title>\n<polygon fill=\"lightgrey\" stroke=\"black\" points=\"321,-465.5 220,-465.5 220,-446.5 321,-446.5 321,-465.5\"/>\n<text text-anchor=\"middle\" x=\"270.5\" y=\"-453.5\" font-family=\"monospace\" font-size=\"10.00\">AccumulateGrad</text>\n</g>\n<!-- 134056949920576&#45;&gt;134056949915872 -->\n<g id=\"edge19\" class=\"edge\">\n<title>134056949920576&#45;&gt;134056949915872</title>\n<path fill=\"none\" stroke=\"black\" d=\"M270.5,-446.37C270.5,-437.16 270.5,-422.29 270.5,-410.27\"/>\n<polygon fill=\"black\" stroke=\"black\" points=\"274,-409.91 270.5,-399.91 267,-409.91 274,-409.91\"/>\n</g>\n<!-- 134056925859648 -->\n<g id=\"node22\" class=\"node\">\n<title>134056925859648</title>\n<polygon fill=\"lightblue\" stroke=\"black\" points=\"322,-537 221,-537 221,-507 322,-507 322,-537\"/>\n<text text-anchor=\"middle\" x=\"271.5\" y=\"-525\" font-family=\"monospace\" font-size=\"10.00\">model.2.weight</text>\n<text text-anchor=\"middle\" x=\"271.5\" y=\"-514\" font-family=\"monospace\" font-size=\"10.00\"> (253)</text>\n</g>\n<!-- 134056925859648&#45;&gt;134056949920576 -->\n<g id=\"edge20\" class=\"edge\">\n<title>134056925859648&#45;&gt;134056949920576</title>\n<path fill=\"none\" stroke=\"black\" d=\"M271.28,-506.8C271.14,-497.7 270.95,-485.79 270.8,-475.9\"/>\n<polygon fill=\"black\" stroke=\"black\" points=\"274.29,-475.79 270.64,-465.84 267.29,-475.9 274.29,-475.79\"/>\n</g>\n<!-- 134056949920432 -->\n<g id=\"node23\" class=\"node\">\n<title>134056949920432</title>\n<polygon fill=\"lightgrey\" stroke=\"black\" points=\"440,-465.5 339,-465.5 339,-446.5 440,-446.5 440,-465.5\"/>\n<text text-anchor=\"middle\" x=\"389.5\" y=\"-453.5\" font-family=\"monospace\" font-size=\"10.00\">AccumulateGrad</text>\n</g>\n<!-- 134056949920432&#45;&gt;134056949915872 -->\n<g id=\"edge21\" class=\"edge\">\n<title>134056949920432&#45;&gt;134056949915872</title>\n<path fill=\"none\" stroke=\"black\" d=\"M373.45,-446.37C353.49,-435.63 319.18,-417.18 295.7,-404.55\"/>\n<polygon fill=\"black\" stroke=\"black\" points=\"297.14,-401.35 286.67,-399.7 293.82,-407.52 297.14,-401.35\"/>\n</g>\n<!-- 134056925859488 -->\n<g id=\"node24\" class=\"node\">\n<title>134056925859488</title>\n<polygon fill=\"lightblue\" stroke=\"black\" points=\"434,-537 345,-537 345,-507 434,-507 434,-537\"/>\n<text text-anchor=\"middle\" x=\"389.5\" y=\"-525\" font-family=\"monospace\" font-size=\"10.00\">model.2.bias</text>\n<text text-anchor=\"middle\" x=\"389.5\" y=\"-514\" font-family=\"monospace\" font-size=\"10.00\"> (253)</text>\n</g>\n<!-- 134056925859488&#45;&gt;134056949920432 -->\n<g id=\"edge22\" class=\"edge\">\n<title>134056925859488&#45;&gt;134056949920432</title>\n<path fill=\"none\" stroke=\"black\" d=\"M389.5,-506.8C389.5,-497.7 389.5,-485.79 389.5,-475.9\"/>\n<polygon fill=\"black\" stroke=\"black\" points=\"393,-475.84 389.5,-465.84 386,-475.84 393,-475.84\"/>\n</g>\n<!-- 134056949914240 -->\n<g id=\"node25\" class=\"node\">\n<title>134056949914240</title>\n<polygon fill=\"lightgrey\" stroke=\"black\" points=\"446,-399.5 369,-399.5 369,-380.5 446,-380.5 446,-399.5\"/>\n<text text-anchor=\"middle\" x=\"407.5\" y=\"-387.5\" font-family=\"monospace\" font-size=\"10.00\">TBackward0</text>\n</g>\n<!-- 134056949914240&#45;&gt;134056949922976 -->\n<g id=\"edge23\" class=\"edge\">\n<title>134056949914240&#45;&gt;134056949922976</title>\n<path fill=\"none\" stroke=\"black\" d=\"M393.2,-380.37C375.58,-369.73 345.41,-351.51 324.51,-338.89\"/>\n<polygon fill=\"black\" stroke=\"black\" points=\"326.28,-335.87 315.91,-333.7 322.66,-341.86 326.28,-335.87\"/>\n</g>\n<!-- 134056949915632 -->\n<g id=\"node26\" class=\"node\">\n<title>134056949915632</title>\n<polygon fill=\"lightgrey\" stroke=\"black\" points=\"559,-465.5 458,-465.5 458,-446.5 559,-446.5 559,-465.5\"/>\n<text text-anchor=\"middle\" x=\"508.5\" y=\"-453.5\" font-family=\"monospace\" font-size=\"10.00\">AccumulateGrad</text>\n</g>\n<!-- 134056949915632&#45;&gt;134056949914240 -->\n<g id=\"edge24\" class=\"edge\">\n<title>134056949915632&#45;&gt;134056949914240</title>\n<path fill=\"none\" stroke=\"black\" d=\"M494.88,-446.37C478.16,-435.78 449.59,-417.67 429.69,-405.06\"/>\n<polygon fill=\"black\" stroke=\"black\" points=\"431.55,-402.1 421.23,-399.7 427.8,-408.01 431.55,-402.1\"/>\n</g>\n<!-- 134056925870768 -->\n<g id=\"node27\" class=\"node\">\n<title>134056925870768</title>\n<polygon fill=\"lightblue\" stroke=\"black\" points=\"559,-537 458,-537 458,-507 559,-507 559,-537\"/>\n<text text-anchor=\"middle\" x=\"508.5\" y=\"-525\" font-family=\"monospace\" font-size=\"10.00\">model.4.weight</text>\n<text text-anchor=\"middle\" x=\"508.5\" y=\"-514\" font-family=\"monospace\" font-size=\"10.00\"> (82, 253)</text>\n</g>\n<!-- 134056925870768&#45;&gt;134056949915632 -->\n<g id=\"edge25\" class=\"edge\">\n<title>134056925870768&#45;&gt;134056949915632</title>\n<path fill=\"none\" stroke=\"black\" d=\"M508.5,-506.8C508.5,-497.7 508.5,-485.79 508.5,-475.9\"/>\n<polygon fill=\"black\" stroke=\"black\" points=\"512,-475.84 508.5,-465.84 505,-475.84 512,-475.84\"/>\n</g>\n<!-- 134056949917600 -->\n<g id=\"node28\" class=\"node\">\n<title>134056949917600</title>\n<polygon fill=\"lightgrey\" stroke=\"black\" points=\"446,-267.5 369,-267.5 369,-248.5 446,-248.5 446,-267.5\"/>\n<text text-anchor=\"middle\" x=\"407.5\" y=\"-255.5\" font-family=\"monospace\" font-size=\"10.00\">TBackward0</text>\n</g>\n<!-- 134056949917600&#45;&gt;134056949917648 -->\n<g id=\"edge26\" class=\"edge\">\n<title>134056949917600&#45;&gt;134056949917648</title>\n<path fill=\"none\" stroke=\"black\" d=\"M396.58,-248.37C383.53,-238.06 361.49,-220.65 345.6,-208.09\"/>\n<polygon fill=\"black\" stroke=\"black\" points=\"347.53,-205.15 337.51,-201.7 343.19,-210.64 347.53,-205.15\"/>\n</g>\n<!-- 134056949915344 -->\n<g id=\"node29\" class=\"node\">\n<title>134056949915344</title>\n<polygon fill=\"lightgrey\" stroke=\"black\" points=\"533,-333.5 432,-333.5 432,-314.5 533,-314.5 533,-333.5\"/>\n<text text-anchor=\"middle\" x=\"482.5\" y=\"-321.5\" font-family=\"monospace\" font-size=\"10.00\">AccumulateGrad</text>\n</g>\n<!-- 134056949915344&#45;&gt;134056949917600 -->\n<g id=\"edge27\" class=\"edge\">\n<title>134056949915344&#45;&gt;134056949917600</title>\n<path fill=\"none\" stroke=\"black\" d=\"M472.39,-314.37C460.49,-304.21 440.5,-287.16 425.85,-274.65\"/>\n<polygon fill=\"black\" stroke=\"black\" points=\"427.81,-271.73 417.94,-267.91 423.27,-277.06 427.81,-271.73\"/>\n</g>\n<!-- 134056925867328 -->\n<g id=\"node30\" class=\"node\">\n<title>134056925867328</title>\n<polygon fill=\"lightblue\" stroke=\"black\" points=\"565,-405 464,-405 464,-375 565,-375 565,-405\"/>\n<text text-anchor=\"middle\" x=\"514.5\" y=\"-393\" font-family=\"monospace\" font-size=\"10.00\">model.6.weight</text>\n<text text-anchor=\"middle\" x=\"514.5\" y=\"-382\" font-family=\"monospace\" font-size=\"10.00\"> (32, 82)</text>\n</g>\n<!-- 134056925867328&#45;&gt;134056949915344 -->\n<g id=\"edge28\" class=\"edge\">\n<title>134056925867328&#45;&gt;134056949915344</title>\n<path fill=\"none\" stroke=\"black\" d=\"M507.4,-374.8C502.7,-365.41 496.51,-353.02 491.47,-342.95\"/>\n<polygon fill=\"black\" stroke=\"black\" points=\"494.52,-341.22 486.92,-333.84 488.26,-344.35 494.52,-341.22\"/>\n</g>\n<!-- 134056949917504 -->\n<g id=\"node31\" class=\"node\">\n<title>134056949917504</title>\n<polygon fill=\"lightgrey\" stroke=\"black\" points=\"500,-141 423,-141 423,-122 500,-122 500,-141\"/>\n<text text-anchor=\"middle\" x=\"461.5\" y=\"-129\" font-family=\"monospace\" font-size=\"10.00\">TBackward0</text>\n</g>\n<!-- 134056949917504&#45;&gt;134056949917792 -->\n<g id=\"edge29\" class=\"edge\">\n<title>134056949917504&#45;&gt;134056949917792</title>\n<path fill=\"none\" stroke=\"black\" d=\"M440.13,-121.98C418.35,-113.3 384.34,-99.75 359.58,-89.88\"/>\n<polygon fill=\"black\" stroke=\"black\" points=\"360.84,-86.62 350.26,-86.17 358.25,-93.12 360.84,-86.62\"/>\n</g>\n<!-- 134056949917024 -->\n<g id=\"node32\" class=\"node\">\n<title>134056949917024</title>\n<polygon fill=\"lightgrey\" stroke=\"black\" points=\"542,-201.5 441,-201.5 441,-182.5 542,-182.5 542,-201.5\"/>\n<text text-anchor=\"middle\" x=\"491.5\" y=\"-189.5\" font-family=\"monospace\" font-size=\"10.00\">AccumulateGrad</text>\n</g>\n<!-- 134056949917024&#45;&gt;134056949917504 -->\n<g id=\"edge30\" class=\"edge\">\n<title>134056949917024&#45;&gt;134056949917504</title>\n<path fill=\"none\" stroke=\"black\" d=\"M487.07,-182.37C482.73,-173.9 475.98,-160.74 470.51,-150.07\"/>\n<polygon fill=\"black\" stroke=\"black\" points=\"473.62,-148.47 465.94,-141.17 467.39,-151.66 473.62,-148.47\"/>\n</g>\n<!-- 134056925855888 -->\n<g id=\"node33\" class=\"node\">\n<title>134056925855888</title>\n<polygon fill=\"lightblue\" stroke=\"black\" points=\"565,-273 464,-273 464,-243 565,-243 565,-273\"/>\n<text text-anchor=\"middle\" x=\"514.5\" y=\"-261\" font-family=\"monospace\" font-size=\"10.00\">model.8.weight</text>\n<text text-anchor=\"middle\" x=\"514.5\" y=\"-250\" font-family=\"monospace\" font-size=\"10.00\"> (2, 32)</text>\n</g>\n<!-- 134056925855888&#45;&gt;134056949917024 -->\n<g id=\"edge31\" class=\"edge\">\n<title>134056925855888&#45;&gt;134056949917024</title>\n<path fill=\"none\" stroke=\"black\" d=\"M509.4,-242.8C506.06,-233.5 501.66,-221.27 498.06,-211.26\"/>\n<polygon fill=\"black\" stroke=\"black\" points=\"501.35,-210.07 494.68,-201.84 494.77,-212.44 501.35,-210.07\"/>\n</g>\n</g>\n</svg>\n",
            "text/plain": [
              "<graphviz.graphs.Digraph at 0x79ec90e125c0>"
            ]
          },
          "metadata": {},
          "execution_count": 103
        }
      ]
    }
  ]
}
