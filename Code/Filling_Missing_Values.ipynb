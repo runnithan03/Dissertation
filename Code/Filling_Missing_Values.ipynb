{
  "nbformat": 4,
  "nbformat_minor": 0,
  "metadata": {
    "colab": {
      "provenance": [],
      "authorship_tag": "ABX9TyMqkbkEUzrwLWrI8yrq7wPC",
      "include_colab_link": true
    },
    "kernelspec": {
      "name": "python3",
      "display_name": "Python 3"
    },
    "language_info": {
      "name": "python"
    }
  },
  "cells": [
    {
      "cell_type": "markdown",
      "metadata": {
        "id": "view-in-github",
        "colab_type": "text"
      },
      "source": [
        "<a href=\"https://colab.research.google.com/github/runnithan03/Dissertation/blob/main/Code/Filling_Missing_Values.ipynb\" target=\"_parent\"><img src=\"https://colab.research.google.com/assets/colab-badge.svg\" alt=\"Open In Colab\"/></a>"
      ]
    },
    {
      "cell_type": "code",
      "source": [
        "from google.colab import files\n",
        "import os\n",
        "\n",
        "uploaded = files.upload()\n",
        "\n",
        "uploaded_filename = list(uploaded.keys())[0]\n",
        "os.rename(uploaded_filename, 'Profit ESG dataset.csv')  # Rename it to 'Profit ESG dataset.csv'"
      ],
      "metadata": {
        "colab": {
          "base_uri": "https://localhost:8080/",
          "height": 73
        },
        "id": "i6l2bjsgSgoF",
        "outputId": "04a8fdcb-1bb6-4019-b9c5-17c4734b1967"
      },
      "execution_count": null,
      "outputs": [
        {
          "output_type": "display_data",
          "data": {
            "text/plain": [
              "<IPython.core.display.HTML object>"
            ],
            "text/html": [
              "\n",
              "     <input type=\"file\" id=\"files-d61af60c-66dc-4ab6-8bfb-72f0eafd90d1\" name=\"files[]\" multiple disabled\n",
              "        style=\"border:none\" />\n",
              "     <output id=\"result-d61af60c-66dc-4ab6-8bfb-72f0eafd90d1\">\n",
              "      Upload widget is only available when the cell has been executed in the\n",
              "      current browser session. Please rerun this cell to enable.\n",
              "      </output>\n",
              "      <script>// Copyright 2017 Google LLC\n",
              "//\n",
              "// Licensed under the Apache License, Version 2.0 (the \"License\");\n",
              "// you may not use this file except in compliance with the License.\n",
              "// You may obtain a copy of the License at\n",
              "//\n",
              "//      http://www.apache.org/licenses/LICENSE-2.0\n",
              "//\n",
              "// Unless required by applicable law or agreed to in writing, software\n",
              "// distributed under the License is distributed on an \"AS IS\" BASIS,\n",
              "// WITHOUT WARRANTIES OR CONDITIONS OF ANY KIND, either express or implied.\n",
              "// See the License for the specific language governing permissions and\n",
              "// limitations under the License.\n",
              "\n",
              "/**\n",
              " * @fileoverview Helpers for google.colab Python module.\n",
              " */\n",
              "(function(scope) {\n",
              "function span(text, styleAttributes = {}) {\n",
              "  const element = document.createElement('span');\n",
              "  element.textContent = text;\n",
              "  for (const key of Object.keys(styleAttributes)) {\n",
              "    element.style[key] = styleAttributes[key];\n",
              "  }\n",
              "  return element;\n",
              "}\n",
              "\n",
              "// Max number of bytes which will be uploaded at a time.\n",
              "const MAX_PAYLOAD_SIZE = 100 * 1024;\n",
              "\n",
              "function _uploadFiles(inputId, outputId) {\n",
              "  const steps = uploadFilesStep(inputId, outputId);\n",
              "  const outputElement = document.getElementById(outputId);\n",
              "  // Cache steps on the outputElement to make it available for the next call\n",
              "  // to uploadFilesContinue from Python.\n",
              "  outputElement.steps = steps;\n",
              "\n",
              "  return _uploadFilesContinue(outputId);\n",
              "}\n",
              "\n",
              "// This is roughly an async generator (not supported in the browser yet),\n",
              "// where there are multiple asynchronous steps and the Python side is going\n",
              "// to poll for completion of each step.\n",
              "// This uses a Promise to block the python side on completion of each step,\n",
              "// then passes the result of the previous step as the input to the next step.\n",
              "function _uploadFilesContinue(outputId) {\n",
              "  const outputElement = document.getElementById(outputId);\n",
              "  const steps = outputElement.steps;\n",
              "\n",
              "  const next = steps.next(outputElement.lastPromiseValue);\n",
              "  return Promise.resolve(next.value.promise).then((value) => {\n",
              "    // Cache the last promise value to make it available to the next\n",
              "    // step of the generator.\n",
              "    outputElement.lastPromiseValue = value;\n",
              "    return next.value.response;\n",
              "  });\n",
              "}\n",
              "\n",
              "/**\n",
              " * Generator function which is called between each async step of the upload\n",
              " * process.\n",
              " * @param {string} inputId Element ID of the input file picker element.\n",
              " * @param {string} outputId Element ID of the output display.\n",
              " * @return {!Iterable<!Object>} Iterable of next steps.\n",
              " */\n",
              "function* uploadFilesStep(inputId, outputId) {\n",
              "  const inputElement = document.getElementById(inputId);\n",
              "  inputElement.disabled = false;\n",
              "\n",
              "  const outputElement = document.getElementById(outputId);\n",
              "  outputElement.innerHTML = '';\n",
              "\n",
              "  const pickedPromise = new Promise((resolve) => {\n",
              "    inputElement.addEventListener('change', (e) => {\n",
              "      resolve(e.target.files);\n",
              "    });\n",
              "  });\n",
              "\n",
              "  const cancel = document.createElement('button');\n",
              "  inputElement.parentElement.appendChild(cancel);\n",
              "  cancel.textContent = 'Cancel upload';\n",
              "  const cancelPromise = new Promise((resolve) => {\n",
              "    cancel.onclick = () => {\n",
              "      resolve(null);\n",
              "    };\n",
              "  });\n",
              "\n",
              "  // Wait for the user to pick the files.\n",
              "  const files = yield {\n",
              "    promise: Promise.race([pickedPromise, cancelPromise]),\n",
              "    response: {\n",
              "      action: 'starting',\n",
              "    }\n",
              "  };\n",
              "\n",
              "  cancel.remove();\n",
              "\n",
              "  // Disable the input element since further picks are not allowed.\n",
              "  inputElement.disabled = true;\n",
              "\n",
              "  if (!files) {\n",
              "    return {\n",
              "      response: {\n",
              "        action: 'complete',\n",
              "      }\n",
              "    };\n",
              "  }\n",
              "\n",
              "  for (const file of files) {\n",
              "    const li = document.createElement('li');\n",
              "    li.append(span(file.name, {fontWeight: 'bold'}));\n",
              "    li.append(span(\n",
              "        `(${file.type || 'n/a'}) - ${file.size} bytes, ` +\n",
              "        `last modified: ${\n",
              "            file.lastModifiedDate ? file.lastModifiedDate.toLocaleDateString() :\n",
              "                                    'n/a'} - `));\n",
              "    const percent = span('0% done');\n",
              "    li.appendChild(percent);\n",
              "\n",
              "    outputElement.appendChild(li);\n",
              "\n",
              "    const fileDataPromise = new Promise((resolve) => {\n",
              "      const reader = new FileReader();\n",
              "      reader.onload = (e) => {\n",
              "        resolve(e.target.result);\n",
              "      };\n",
              "      reader.readAsArrayBuffer(file);\n",
              "    });\n",
              "    // Wait for the data to be ready.\n",
              "    let fileData = yield {\n",
              "      promise: fileDataPromise,\n",
              "      response: {\n",
              "        action: 'continue',\n",
              "      }\n",
              "    };\n",
              "\n",
              "    // Use a chunked sending to avoid message size limits. See b/62115660.\n",
              "    let position = 0;\n",
              "    do {\n",
              "      const length = Math.min(fileData.byteLength - position, MAX_PAYLOAD_SIZE);\n",
              "      const chunk = new Uint8Array(fileData, position, length);\n",
              "      position += length;\n",
              "\n",
              "      const base64 = btoa(String.fromCharCode.apply(null, chunk));\n",
              "      yield {\n",
              "        response: {\n",
              "          action: 'append',\n",
              "          file: file.name,\n",
              "          data: base64,\n",
              "        },\n",
              "      };\n",
              "\n",
              "      let percentDone = fileData.byteLength === 0 ?\n",
              "          100 :\n",
              "          Math.round((position / fileData.byteLength) * 100);\n",
              "      percent.textContent = `${percentDone}% done`;\n",
              "\n",
              "    } while (position < fileData.byteLength);\n",
              "  }\n",
              "\n",
              "  // All done.\n",
              "  yield {\n",
              "    response: {\n",
              "      action: 'complete',\n",
              "    }\n",
              "  };\n",
              "}\n",
              "\n",
              "scope.google = scope.google || {};\n",
              "scope.google.colab = scope.google.colab || {};\n",
              "scope.google.colab._files = {\n",
              "  _uploadFiles,\n",
              "  _uploadFilesContinue,\n",
              "};\n",
              "})(self);\n",
              "</script> "
            ]
          },
          "metadata": {}
        },
        {
          "output_type": "stream",
          "name": "stdout",
          "text": [
            "Saving Profit ESG dataset.csv to Profit ESG dataset (1).csv\n"
          ]
        }
      ]
    },
    {
      "cell_type": "code",
      "source": [
        "%reload_ext rpy2.ipython\n"
      ],
      "metadata": {
        "id": "3sQKkMVjTaqa"
      },
      "execution_count": null,
      "outputs": []
    },
    {
      "cell_type": "code",
      "source": [
        "%%R\n",
        "\n",
        "data <- read.csv('Profit ESG dataset.csv')\n",
        "data$equity_category <- as.factor(data$equity_category)\n",
        "data$rating <- as.factor(data$rating)\n",
        "data$risk_rating <- as.factor(data$risk_rating)\n",
        "\n",
        "head(data)"
      ],
      "metadata": {
        "colab": {
          "base_uri": "https://localhost:8080/"
        },
        "id": "CUbiSTQ1Strp",
        "outputId": "d62940af-bff7-4220-a361-1add4e851583"
      },
      "execution_count": null,
      "outputs": [
        {
          "output_type": "stream",
          "name": "stdout",
          "text": [
            "    roe sustainability_score                         equity_category rating\n",
            "1 22.69                22.44                      Switzerland Equity      3\n",
            "2 16.14                20.52                           Sweden Equity      2\n",
            "3 14.88                18.91 Sector Equity Consumer Goods & Services      3\n",
            "4 10.04                20.73               Eurozone Large-Cap Equity      4\n",
            "5  8.75                23.96                  Japan Large-Cap Equity      3\n",
            "6 31.07                22.84           Global Large-Cap Blend Equity      5\n",
            "  risk_rating equity_size_score price_cash_flow_ratio dividend_yield_factor\n",
            "1           3            328.15                 14.80                  3.23\n",
            "2           2            248.09                 10.26                  1.45\n",
            "3           3            308.52                 14.41                  2.59\n",
            "4           3            275.97                  7.89                  2.60\n",
            "5           2            286.08                  8.40                  2.75\n",
            "6           3            381.38                 14.70                  1.88\n",
            "  historical_earnings_growth sales_growth asset_cash holdings_n_stock\n",
            "1                       6.24         1.25       0.19               20\n",
            "2                       8.97         2.66       0.01               30\n",
            "3                     -10.14         5.86       0.54               34\n",
            "4                      -1.07         0.70       0.70              248\n",
            "5                      -3.99         3.52       0.37              320\n",
            "6                      10.91         7.50       0.00               NA\n",
            "  ongoing_cost   fund_size\n",
            "1         0.35 1.97664e+09\n",
            "2         0.10 7.93421e+09\n",
            "3         0.46 1.19030e+08\n",
            "4         0.20 3.89045e+09\n",
            "5         0.22 2.71000e+11\n",
            "6         0.40 9.66600e+07\n"
          ]
        }
      ]
    },
    {
      "cell_type": "code",
      "source": [
        "%%R\n",
        "\n",
        "table(rowSums(is.na(data)))"
      ],
      "metadata": {
        "colab": {
          "base_uri": "https://localhost:8080/"
        },
        "id": "_nz3hw_UXepk",
        "outputId": "f1357be3-7d05-4768-cabb-df14f0c98b08"
      },
      "execution_count": null,
      "outputs": [
        {
          "output_type": "stream",
          "name": "stdout",
          "text": [
            "\n",
            "   0    1    2    3    4    8    9   10   11 \n",
            "2886 1004 1377  287   16  268    5   74    4 \n"
          ]
        }
      ]
    },
    {
      "cell_type": "code",
      "source": [
        "%%R\n",
        "\n",
        "# Filter rows with less than 3 NA values\n",
        "clean_data <- data[rowSums(is.na(data)) < 3, ]\n",
        "str(clean_data)"
      ],
      "metadata": {
        "id": "jFvj1O_KchzI",
        "colab": {
          "base_uri": "https://localhost:8080/"
        },
        "outputId": "5796433c-e35d-4a64-b14f-de75a6b1721e"
      },
      "execution_count": null,
      "outputs": [
        {
          "output_type": "stream",
          "name": "stdout",
          "text": [
            "'data.frame':\t5267 obs. of  14 variables:\n",
            " $ roe                       : num  22.69 16.14 14.88 10.04 8.75 ...\n",
            " $ sustainability_score      : num  22.4 20.5 18.9 20.7 24 ...\n",
            " $ equity_category           : Factor w/ 101 levels \"Africa & Middle East Equity\",..: 86 84 68 27 52 40 96 93 86 72 ...\n",
            " $ rating                    : Factor w/ 5 levels \"1\",\"2\",\"3\",\"4\",..: 3 2 3 4 3 5 3 3 2 3 ...\n",
            " $ risk_rating               : Factor w/ 5 levels \"1\",\"2\",\"3\",\"4\",..: 3 2 3 3 2 3 2 2 4 2 ...\n",
            " $ equity_size_score         : num  328 248 309 276 286 ...\n",
            " $ price_cash_flow_ratio     : num  14.8 10.26 14.41 7.89 8.4 ...\n",
            " $ dividend_yield_factor     : num  3.23 1.45 2.59 2.6 2.75 1.88 2.46 4.08 3.34 2.65 ...\n",
            " $ historical_earnings_growth: num  6.24 8.97 -10.14 -1.07 -3.99 ...\n",
            " $ sales_growth              : num  1.25 2.66 5.86 0.7 3.52 7.5 6.41 1.81 1.4 3.95 ...\n",
            " $ asset_cash                : num  0.19 0.01 0.54 0.7 0.37 0 0 1.01 1.25 0.76 ...\n",
            " $ holdings_n_stock          : int  20 30 34 248 320 NA NA 99 30 57 ...\n",
            " $ ongoing_cost              : num  0.35 0.1 0.46 0.2 0.22 0.4 0.5 0.07 0.51 0.46 ...\n",
            " $ fund_size                 : num  1.98e+09 7.93e+09 1.19e+08 3.89e+09 2.71e+11 ...\n"
          ]
        }
      ]
    },
    {
      "cell_type": "code",
      "source": [
        "%%R\n",
        "install.packages(\"ranger\")\n",
        "library(ranger)\n",
        "library(dplyr)\n",
        "\n",
        "# Function to impute missing continuous variables using lm\n",
        "impute_continuous_lm <- function(data, column) {\n",
        "  # Train a linear model excluding rows with NA in the column\n",
        "  lm_model <- lm(as.formula(paste(column, \"~ .\")), data = data, na.action = na.exclude)\n",
        "\n",
        "  # Predict missing values\n",
        "  missing_indices <- which(is.na(data[[column]]))\n",
        "  if (length(missing_indices) > 0) {\n",
        "    predictions <- predict(lm_model, newdata = data[missing_indices, ])\n",
        "\n",
        "    # Replace NA values with predictions\n",
        "    data[[column]][missing_indices] <- predictions\n",
        "  }\n",
        "\n",
        "  return(data)\n",
        "}\n",
        "\n",
        "# Function to impute missing categorical variables using ranger\n",
        "impute_categorical_rf <- function(data, column) {\n",
        "  # Train a Random Forest classification model excluding rows with NA in the column\n",
        "  rf_model <- ranger(\n",
        "    formula = as.formula(paste(column, \"~ .\")),\n",
        "    data = data[!is.na(data[[column]]), ],\n",
        "    na.action = \"na.omit\",\n",
        "    classification = TRUE\n",
        "  )\n",
        "\n",
        "  # Predict missing values\n",
        "  missing_indices <- which(is.na(data[[column]]))\n",
        "  if (length(missing_indices) > 0) {\n",
        "    predictions <- predict(\n",
        "      rf_model,\n",
        "      data = data[missing_indices, ]\n",
        "    )$predictions\n",
        "\n",
        "    # Replace NA values with predictions\n",
        "    data[[column]][missing_indices] <- predictions\n",
        "  }\n",
        "\n",
        "  return(data)\n",
        "}\n",
        "\n",
        "# Identify numerical and categorical columns\n",
        "numerical_columns <- names(clean_data)[sapply(clean_data, is.numeric)]\n",
        "categorical_columns <- names(clean_data)[sapply(clean_data, is.factor)]\n",
        "\n",
        "# Impute missing values for numerical columns using lm\n",
        "for (col in numerical_columns) {\n",
        "  if (any(is.na(clean_data[[col]]))) {\n",
        "    clean_data <- impute_continuous_lm(clean_data, col)\n",
        "  }\n",
        "}\n",
        "\n",
        "# Impute missing values for categorical columns using ranger\n",
        "for (col in categorical_columns) {\n",
        "  if (any(is.na(clean_data[[col]]))) {\n",
        "    clean_data <- impute_categorical_rf(clean_data, col)\n",
        "  }\n",
        "}\n",
        "\n",
        "# Verify that no missing values remain\n",
        "if (any(is.na(clean_data))) {\n",
        "  stop(\"There are still NA values in the data!\")\n",
        "} else {\n",
        "  print(\"All missing values have been successfully imputed!\")\n",
        "}\n",
        "\n",
        "# Summary of the cleaned dataset\n",
        "summary(clean_data)\n",
        "\n",
        "# View the first few rows of the cleaned dataset\n",
        "# head(clean_data)\n",
        "\n",
        "any(is.na(clean_data)) # Should return FALSE"
      ],
      "metadata": {
        "colab": {
          "base_uri": "https://localhost:8080/"
        },
        "collapsed": true,
        "id": "IQrvOaS_YVUV",
        "outputId": "5897c76c-2fb1-4e73-8b4b-0adce37a3f48"
      },
      "execution_count": null,
      "outputs": [
        {
          "output_type": "stream",
          "name": "stderr",
          "text": [
            "WARNING:rpy2.rinterface_lib.callbacks:R[write to console]: Installing package into ‘/usr/local/lib/R/site-library’\n",
            "(as ‘lib’ is unspecified)\n",
            "\n",
            "WARNING:rpy2.rinterface_lib.callbacks:R[write to console]: trying URL 'https://cran.rstudio.com/src/contrib/ranger_0.17.0.tar.gz'\n",
            "\n",
            "WARNING:rpy2.rinterface_lib.callbacks:R[write to console]: Content type 'application/x-gzip'\n",
            "WARNING:rpy2.rinterface_lib.callbacks:R[write to console]:  length 178529 bytes (174 KB)\n",
            "\n",
            "WARNING:rpy2.rinterface_lib.callbacks:R[write to console]: =\n",
            "WARNING:rpy2.rinterface_lib.callbacks:R[write to console]: =\n",
            "WARNING:rpy2.rinterface_lib.callbacks:R[write to console]: =\n",
            "WARNING:rpy2.rinterface_lib.callbacks:R[write to console]: =\n",
            "WARNING:rpy2.rinterface_lib.callbacks:R[write to console]: =\n",
            "WARNING:rpy2.rinterface_lib.callbacks:R[write to console]: =\n",
            "WARNING:rpy2.rinterface_lib.callbacks:R[write to console]: =\n",
            "WARNING:rpy2.rinterface_lib.callbacks:R[write to console]: =\n",
            "WARNING:rpy2.rinterface_lib.callbacks:R[write to console]: =\n",
            "WARNING:rpy2.rinterface_lib.callbacks:R[write to console]: =\n",
            "WARNING:rpy2.rinterface_lib.callbacks:R[write to console]: =\n",
            "WARNING:rpy2.rinterface_lib.callbacks:R[write to console]: =\n",
            "WARNING:rpy2.rinterface_lib.callbacks:R[write to console]: =\n",
            "WARNING:rpy2.rinterface_lib.callbacks:R[write to console]: =\n",
            "WARNING:rpy2.rinterface_lib.callbacks:R[write to console]: =\n",
            "WARNING:rpy2.rinterface_lib.callbacks:R[write to console]: =\n",
            "WARNING:rpy2.rinterface_lib.callbacks:R[write to console]: =\n",
            "WARNING:rpy2.rinterface_lib.callbacks:R[write to console]: =\n",
            "WARNING:rpy2.rinterface_lib.callbacks:R[write to console]: =\n",
            "WARNING:rpy2.rinterface_lib.callbacks:R[write to console]: =\n",
            "WARNING:rpy2.rinterface_lib.callbacks:R[write to console]: =\n",
            "WARNING:rpy2.rinterface_lib.callbacks:R[write to console]: =\n",
            "WARNING:rpy2.rinterface_lib.callbacks:R[write to console]: =\n",
            "WARNING:rpy2.rinterface_lib.callbacks:R[write to console]: =\n",
            "WARNING:rpy2.rinterface_lib.callbacks:R[write to console]: =\n",
            "WARNING:rpy2.rinterface_lib.callbacks:R[write to console]: =\n",
            "WARNING:rpy2.rinterface_lib.callbacks:R[write to console]: =\n",
            "WARNING:rpy2.rinterface_lib.callbacks:R[write to console]: =\n",
            "WARNING:rpy2.rinterface_lib.callbacks:R[write to console]: =\n",
            "WARNING:rpy2.rinterface_lib.callbacks:R[write to console]: =\n",
            "WARNING:rpy2.rinterface_lib.callbacks:R[write to console]: =\n",
            "WARNING:rpy2.rinterface_lib.callbacks:R[write to console]: =\n",
            "WARNING:rpy2.rinterface_lib.callbacks:R[write to console]: =\n",
            "WARNING:rpy2.rinterface_lib.callbacks:R[write to console]: =\n",
            "WARNING:rpy2.rinterface_lib.callbacks:R[write to console]: =\n",
            "WARNING:rpy2.rinterface_lib.callbacks:R[write to console]: =\n",
            "WARNING:rpy2.rinterface_lib.callbacks:R[write to console]: =\n",
            "WARNING:rpy2.rinterface_lib.callbacks:R[write to console]: =\n",
            "WARNING:rpy2.rinterface_lib.callbacks:R[write to console]: =\n",
            "WARNING:rpy2.rinterface_lib.callbacks:R[write to console]: =\n",
            "WARNING:rpy2.rinterface_lib.callbacks:R[write to console]: =\n",
            "WARNING:rpy2.rinterface_lib.callbacks:R[write to console]: =\n",
            "WARNING:rpy2.rinterface_lib.callbacks:R[write to console]: =\n",
            "WARNING:rpy2.rinterface_lib.callbacks:R[write to console]: =\n",
            "WARNING:rpy2.rinterface_lib.callbacks:R[write to console]: =\n",
            "WARNING:rpy2.rinterface_lib.callbacks:R[write to console]: =\n",
            "WARNING:rpy2.rinterface_lib.callbacks:R[write to console]: =\n",
            "WARNING:rpy2.rinterface_lib.callbacks:R[write to console]: =\n",
            "WARNING:rpy2.rinterface_lib.callbacks:R[write to console]: =\n",
            "WARNING:rpy2.rinterface_lib.callbacks:R[write to console]: =\n",
            "WARNING:rpy2.rinterface_lib.callbacks:R[write to console]: \n",
            "\n",
            "WARNING:rpy2.rinterface_lib.callbacks:R[write to console]: downloaded 174 KB\n",
            "\n",
            "\n",
            "WARNING:rpy2.rinterface_lib.callbacks:R[write to console]: \n",
            "\n",
            "WARNING:rpy2.rinterface_lib.callbacks:R[write to console]: \n",
            "WARNING:rpy2.rinterface_lib.callbacks:R[write to console]: The downloaded source packages are in\n",
            "\t‘/tmp/RtmpNlqoYo/downloaded_packages’\n",
            "WARNING:rpy2.rinterface_lib.callbacks:R[write to console]: \n",
            "WARNING:rpy2.rinterface_lib.callbacks:R[write to console]: \n",
            "\n"
          ]
        },
        {
          "output_type": "stream",
          "name": "stdout",
          "text": [
            "[1] \"All missing values have been successfully imputed!\"\n",
            "[1] FALSE\n"
          ]
        }
      ]
    },
    {
      "cell_type": "code",
      "source": [
        "%%R\n",
        "clean_data$holdings_n_stock <- round(clean_data$holdings_n_stock) # holdings_n_stock is an integer value\n",
        "clean_data$price_cash_flow_ratio <- signif(clean_data$price_cash_flow_ratio, digits = 3)\n",
        "\n",
        "\n",
        "# Save the new dataset as a CSV file\n",
        "write.csv(clean_data, \"clean_data.csv\", row.names = FALSE)"
      ],
      "metadata": {
        "collapsed": true,
        "id": "cTDZInGQhCdu"
      },
      "execution_count": null,
      "outputs": []
    },
    {
      "cell_type": "code",
      "source": [
        "from google.colab import files\n",
        "files.download(\"clean_data.csv\")"
      ],
      "metadata": {
        "colab": {
          "base_uri": "https://localhost:8080/",
          "height": 17
        },
        "id": "OD_f8alZiNbR",
        "outputId": "6ea28274-1e5d-45a6-9af3-e8924a42841a"
      },
      "execution_count": null,
      "outputs": [
        {
          "output_type": "display_data",
          "data": {
            "text/plain": [
              "<IPython.core.display.Javascript object>"
            ],
            "application/javascript": [
              "\n",
              "    async function download(id, filename, size) {\n",
              "      if (!google.colab.kernel.accessAllowed) {\n",
              "        return;\n",
              "      }\n",
              "      const div = document.createElement('div');\n",
              "      const label = document.createElement('label');\n",
              "      label.textContent = `Downloading \"${filename}\": `;\n",
              "      div.appendChild(label);\n",
              "      const progress = document.createElement('progress');\n",
              "      progress.max = size;\n",
              "      div.appendChild(progress);\n",
              "      document.body.appendChild(div);\n",
              "\n",
              "      const buffers = [];\n",
              "      let downloaded = 0;\n",
              "\n",
              "      const channel = await google.colab.kernel.comms.open(id);\n",
              "      // Send a message to notify the kernel that we're ready.\n",
              "      channel.send({})\n",
              "\n",
              "      for await (const message of channel.messages) {\n",
              "        // Send a message to notify the kernel that we're ready.\n",
              "        channel.send({})\n",
              "        if (message.buffers) {\n",
              "          for (const buffer of message.buffers) {\n",
              "            buffers.push(buffer);\n",
              "            downloaded += buffer.byteLength;\n",
              "            progress.value = downloaded;\n",
              "          }\n",
              "        }\n",
              "      }\n",
              "      const blob = new Blob(buffers, {type: 'application/binary'});\n",
              "      const a = document.createElement('a');\n",
              "      a.href = window.URL.createObjectURL(blob);\n",
              "      a.download = filename;\n",
              "      div.appendChild(a);\n",
              "      a.click();\n",
              "      div.remove();\n",
              "    }\n",
              "  "
            ]
          },
          "metadata": {}
        },
        {
          "output_type": "display_data",
          "data": {
            "text/plain": [
              "<IPython.core.display.Javascript object>"
            ],
            "application/javascript": [
              "download(\"download_869344a8-c2e6-4b4b-bb60-8783e1938847\", \"clean_data.csv\", 502407)"
            ]
          },
          "metadata": {}
        }
      ]
    }
  ]
}