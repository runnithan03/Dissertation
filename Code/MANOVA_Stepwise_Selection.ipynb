{
  "nbformat": 4,
  "nbformat_minor": 0,
  "metadata": {
    "colab": {
      "provenance": []
    },
    "kernelspec": {
      "name": "python3",
      "display_name": "Python 3"
    },
    "language_info": {
      "name": "python"
    }
  },
  "cells": [
    {
      "cell_type": "markdown",
      "source": [
        "Import Files\n"
      ],
      "metadata": {
        "id": "D3WKgdSVGZCg"
      }
    },
    {
      "cell_type": "code",
      "execution_count": null,
      "metadata": {
        "colab": {
          "base_uri": "https://localhost:8080/",
          "height": 73
        },
        "id": "5KWHBwkrFI7-",
        "outputId": "7a4ae2e0-cbfa-4491-c032-ea9c01eafaf3"
      },
      "outputs": [
        {
          "output_type": "display_data",
          "data": {
            "text/plain": [
              "<IPython.core.display.HTML object>"
            ],
            "text/html": [
              "\n",
              "     <input type=\"file\" id=\"files-7fc776bf-23f8-462b-a873-39e157f49cc8\" name=\"files[]\" multiple disabled\n",
              "        style=\"border:none\" />\n",
              "     <output id=\"result-7fc776bf-23f8-462b-a873-39e157f49cc8\">\n",
              "      Upload widget is only available when the cell has been executed in the\n",
              "      current browser session. Please rerun this cell to enable.\n",
              "      </output>\n",
              "      <script>// Copyright 2017 Google LLC\n",
              "//\n",
              "// Licensed under the Apache License, Version 2.0 (the \"License\");\n",
              "// you may not use this file except in compliance with the License.\n",
              "// You may obtain a copy of the License at\n",
              "//\n",
              "//      http://www.apache.org/licenses/LICENSE-2.0\n",
              "//\n",
              "// Unless required by applicable law or agreed to in writing, software\n",
              "// distributed under the License is distributed on an \"AS IS\" BASIS,\n",
              "// WITHOUT WARRANTIES OR CONDITIONS OF ANY KIND, either express or implied.\n",
              "// See the License for the specific language governing permissions and\n",
              "// limitations under the License.\n",
              "\n",
              "/**\n",
              " * @fileoverview Helpers for google.colab Python module.\n",
              " */\n",
              "(function(scope) {\n",
              "function span(text, styleAttributes = {}) {\n",
              "  const element = document.createElement('span');\n",
              "  element.textContent = text;\n",
              "  for (const key of Object.keys(styleAttributes)) {\n",
              "    element.style[key] = styleAttributes[key];\n",
              "  }\n",
              "  return element;\n",
              "}\n",
              "\n",
              "// Max number of bytes which will be uploaded at a time.\n",
              "const MAX_PAYLOAD_SIZE = 100 * 1024;\n",
              "\n",
              "function _uploadFiles(inputId, outputId) {\n",
              "  const steps = uploadFilesStep(inputId, outputId);\n",
              "  const outputElement = document.getElementById(outputId);\n",
              "  // Cache steps on the outputElement to make it available for the next call\n",
              "  // to uploadFilesContinue from Python.\n",
              "  outputElement.steps = steps;\n",
              "\n",
              "  return _uploadFilesContinue(outputId);\n",
              "}\n",
              "\n",
              "// This is roughly an async generator (not supported in the browser yet),\n",
              "// where there are multiple asynchronous steps and the Python side is going\n",
              "// to poll for completion of each step.\n",
              "// This uses a Promise to block the python side on completion of each step,\n",
              "// then passes the result of the previous step as the input to the next step.\n",
              "function _uploadFilesContinue(outputId) {\n",
              "  const outputElement = document.getElementById(outputId);\n",
              "  const steps = outputElement.steps;\n",
              "\n",
              "  const next = steps.next(outputElement.lastPromiseValue);\n",
              "  return Promise.resolve(next.value.promise).then((value) => {\n",
              "    // Cache the last promise value to make it available to the next\n",
              "    // step of the generator.\n",
              "    outputElement.lastPromiseValue = value;\n",
              "    return next.value.response;\n",
              "  });\n",
              "}\n",
              "\n",
              "/**\n",
              " * Generator function which is called between each async step of the upload\n",
              " * process.\n",
              " * @param {string} inputId Element ID of the input file picker element.\n",
              " * @param {string} outputId Element ID of the output display.\n",
              " * @return {!Iterable<!Object>} Iterable of next steps.\n",
              " */\n",
              "function* uploadFilesStep(inputId, outputId) {\n",
              "  const inputElement = document.getElementById(inputId);\n",
              "  inputElement.disabled = false;\n",
              "\n",
              "  const outputElement = document.getElementById(outputId);\n",
              "  outputElement.innerHTML = '';\n",
              "\n",
              "  const pickedPromise = new Promise((resolve) => {\n",
              "    inputElement.addEventListener('change', (e) => {\n",
              "      resolve(e.target.files);\n",
              "    });\n",
              "  });\n",
              "\n",
              "  const cancel = document.createElement('button');\n",
              "  inputElement.parentElement.appendChild(cancel);\n",
              "  cancel.textContent = 'Cancel upload';\n",
              "  const cancelPromise = new Promise((resolve) => {\n",
              "    cancel.onclick = () => {\n",
              "      resolve(null);\n",
              "    };\n",
              "  });\n",
              "\n",
              "  // Wait for the user to pick the files.\n",
              "  const files = yield {\n",
              "    promise: Promise.race([pickedPromise, cancelPromise]),\n",
              "    response: {\n",
              "      action: 'starting',\n",
              "    }\n",
              "  };\n",
              "\n",
              "  cancel.remove();\n",
              "\n",
              "  // Disable the input element since further picks are not allowed.\n",
              "  inputElement.disabled = true;\n",
              "\n",
              "  if (!files) {\n",
              "    return {\n",
              "      response: {\n",
              "        action: 'complete',\n",
              "      }\n",
              "    };\n",
              "  }\n",
              "\n",
              "  for (const file of files) {\n",
              "    const li = document.createElement('li');\n",
              "    li.append(span(file.name, {fontWeight: 'bold'}));\n",
              "    li.append(span(\n",
              "        `(${file.type || 'n/a'}) - ${file.size} bytes, ` +\n",
              "        `last modified: ${\n",
              "            file.lastModifiedDate ? file.lastModifiedDate.toLocaleDateString() :\n",
              "                                    'n/a'} - `));\n",
              "    const percent = span('0% done');\n",
              "    li.appendChild(percent);\n",
              "\n",
              "    outputElement.appendChild(li);\n",
              "\n",
              "    const fileDataPromise = new Promise((resolve) => {\n",
              "      const reader = new FileReader();\n",
              "      reader.onload = (e) => {\n",
              "        resolve(e.target.result);\n",
              "      };\n",
              "      reader.readAsArrayBuffer(file);\n",
              "    });\n",
              "    // Wait for the data to be ready.\n",
              "    let fileData = yield {\n",
              "      promise: fileDataPromise,\n",
              "      response: {\n",
              "        action: 'continue',\n",
              "      }\n",
              "    };\n",
              "\n",
              "    // Use a chunked sending to avoid message size limits. See b/62115660.\n",
              "    let position = 0;\n",
              "    do {\n",
              "      const length = Math.min(fileData.byteLength - position, MAX_PAYLOAD_SIZE);\n",
              "      const chunk = new Uint8Array(fileData, position, length);\n",
              "      position += length;\n",
              "\n",
              "      const base64 = btoa(String.fromCharCode.apply(null, chunk));\n",
              "      yield {\n",
              "        response: {\n",
              "          action: 'append',\n",
              "          file: file.name,\n",
              "          data: base64,\n",
              "        },\n",
              "      };\n",
              "\n",
              "      let percentDone = fileData.byteLength === 0 ?\n",
              "          100 :\n",
              "          Math.round((position / fileData.byteLength) * 100);\n",
              "      percent.textContent = `${percentDone}% done`;\n",
              "\n",
              "    } while (position < fileData.byteLength);\n",
              "  }\n",
              "\n",
              "  // All done.\n",
              "  yield {\n",
              "    response: {\n",
              "      action: 'complete',\n",
              "    }\n",
              "  };\n",
              "}\n",
              "\n",
              "scope.google = scope.google || {};\n",
              "scope.google.colab = scope.google.colab || {};\n",
              "scope.google.colab._files = {\n",
              "  _uploadFiles,\n",
              "  _uploadFilesContinue,\n",
              "};\n",
              "})(self);\n",
              "</script> "
            ]
          },
          "metadata": {}
        },
        {
          "output_type": "stream",
          "name": "stdout",
          "text": [
            "Saving clean.csv to clean.csv\n"
          ]
        }
      ],
      "source": [
        "from google.colab import files\n",
        "import os\n",
        "\n",
        "uploaded = files.upload()\n",
        "\n",
        "uploaded_filename = list(uploaded.keys())[0]\n",
        "os.rename(uploaded_filename, 'clean.csv')"
      ]
    },
    {
      "cell_type": "code",
      "source": [
        "%reload_ext rpy2.ipython"
      ],
      "metadata": {
        "id": "9JaRJ1TBFMm5"
      },
      "execution_count": null,
      "outputs": []
    },
    {
      "cell_type": "code",
      "source": [
        "%%R\n",
        "\n",
        "install.packages(\"caret\")\n",
        "install.packages(\"MASS\")\n",
        "\n",
        "library(MASS)\n",
        "library(caret)"
      ],
      "metadata": {
        "colab": {
          "base_uri": "https://localhost:8080/",
          "height": 1000
        },
        "id": "WVKJNZqjT11Z",
        "outputId": "64e45871-45a1-4969-eb38-cfc645b543bf"
      },
      "execution_count": null,
      "outputs": [
        {
          "output_type": "display_data",
          "data": {
            "text/plain": [
              "Installing package into ‘/usr/local/lib/R/site-library’\n",
              "(as ‘lib’ is unspecified)\n",
              "also installing the dependencies ‘listenv’, ‘parallelly’, ‘future’, ‘globals’, ‘shape’, ‘future.apply’, ‘numDeriv’, ‘progressr’, ‘SQUAREM’, ‘diagram’, ‘lava’, ‘prodlim’, ‘proxy’, ‘iterators’, ‘clock’, ‘gower’, ‘hardhat’, ‘ipred’, ‘sparsevctrs’, ‘timeDate’, ‘e1071’, ‘foreach’, ‘ModelMetrics’, ‘plyr’, ‘pROC’, ‘recipes’, ‘reshape2’\n",
              "\n",
              "trying URL 'https://cran.rstudio.com/src/contrib/listenv_0.9.1.tar.gz'\n",
              "Content type 'application/x-gzip' length 36600 bytes (35 KB)\n",
              "==================================================\n",
              "downloaded 35 KB\n",
              "\n",
              "trying URL 'https://cran.rstudio.com/src/contrib/parallelly_1.43.0.tar.gz'\n",
              "Content type 'application/x-gzip' length 310739 bytes (303 KB)\n",
              "==================================================\n",
              "downloaded 303 KB\n",
              "\n",
              "trying URL 'https://cran.rstudio.com/src/contrib/future_1.34.0.tar.gz'\n",
              "Content type 'application/x-gzip' length 359503 bytes (351 KB)\n",
              "==================================================\n",
              "downloaded 351 KB\n",
              "\n",
              "trying URL 'https://cran.rstudio.com/src/contrib/globals_0.16.3.tar.gz'\n",
              "Content type 'application/x-gzip' length 37475 bytes (36 KB)\n",
              "==================================================\n",
              "downloaded 36 KB\n",
              "\n",
              "trying URL 'https://cran.rstudio.com/src/contrib/shape_1.4.6.1.tar.gz'\n",
              "Content type 'application/x-gzip' length 646412 bytes (631 KB)\n",
              "==================================================\n",
              "downloaded 631 KB\n",
              "\n",
              "trying URL 'https://cran.rstudio.com/src/contrib/future.apply_1.11.3.tar.gz'\n",
              "Content type 'application/x-gzip' length 60355 bytes (58 KB)\n",
              "==================================================\n",
              "downloaded 58 KB\n",
              "\n",
              "trying URL 'https://cran.rstudio.com/src/contrib/numDeriv_2016.8-1.1.tar.gz'\n",
              "Content type 'application/x-gzip' length 76053 bytes (74 KB)\n",
              "==================================================\n",
              "downloaded 74 KB\n",
              "\n",
              "trying URL 'https://cran.rstudio.com/src/contrib/progressr_0.15.1.tar.gz'\n",
              "Content type 'application/x-gzip' length 216552 bytes (211 KB)\n",
              "==================================================\n",
              "downloaded 211 KB\n",
              "\n",
              "trying URL 'https://cran.rstudio.com/src/contrib/SQUAREM_2021.1.tar.gz'\n",
              "Content type 'application/x-gzip' length 241534 bytes (235 KB)\n",
              "==================================================\n",
              "downloaded 235 KB\n",
              "\n",
              "trying URL 'https://cran.rstudio.com/src/contrib/diagram_1.6.5.tar.gz'\n",
              "Content type 'application/x-gzip' length 536872 bytes (524 KB)\n",
              "==================================================\n",
              "downloaded 524 KB\n",
              "\n",
              "trying URL 'https://cran.rstudio.com/src/contrib/lava_1.8.1.tar.gz'\n",
              "Content type 'application/x-gzip' length 1170679 bytes (1.1 MB)\n",
              "==================================================\n",
              "downloaded 1.1 MB\n",
              "\n",
              "trying URL 'https://cran.rstudio.com/src/contrib/prodlim_2024.06.25.tar.gz'\n",
              "Content type 'application/x-gzip' length 129011 bytes (125 KB)\n",
              "==================================================\n",
              "downloaded 125 KB\n",
              "\n",
              "trying URL 'https://cran.rstudio.com/src/contrib/proxy_0.4-27.tar.gz'\n",
              "Content type 'application/x-gzip' length 74622 bytes (72 KB)\n",
              "==================================================\n",
              "downloaded 72 KB\n",
              "\n",
              "trying URL 'https://cran.rstudio.com/src/contrib/iterators_1.0.14.tar.gz'\n",
              "Content type 'application/x-gzip' length 300266 bytes (293 KB)\n",
              "==================================================\n",
              "downloaded 293 KB\n",
              "\n",
              "trying URL 'https://cran.rstudio.com/src/contrib/clock_0.7.3.tar.gz'\n",
              "Content type 'application/x-gzip' length 559846 bytes (546 KB)\n",
              "==================================================\n",
              "downloaded 546 KB\n",
              "\n",
              "trying URL 'https://cran.rstudio.com/src/contrib/gower_1.0.2.tar.gz'\n",
              "Content type 'application/x-gzip' length 187966 bytes (183 KB)\n",
              "==================================================\n",
              "downloaded 183 KB\n",
              "\n",
              "trying URL 'https://cran.rstudio.com/src/contrib/hardhat_1.4.1.tar.gz'\n",
              "Content type 'application/x-gzip' length 619016 bytes (604 KB)\n",
              "==================================================\n",
              "downloaded 604 KB\n",
              "\n",
              "trying URL 'https://cran.rstudio.com/src/contrib/ipred_0.9-15.tar.gz'\n",
              "Content type 'application/x-gzip' length 174094 bytes (170 KB)\n",
              "==================================================\n",
              "downloaded 170 KB\n",
              "\n",
              "trying URL 'https://cran.rstudio.com/src/contrib/sparsevctrs_0.3.2.tar.gz'\n",
              "Content type 'application/x-gzip' length 93614 bytes (91 KB)\n",
              "==================================================\n",
              "downloaded 91 KB\n",
              "\n",
              "trying URL 'https://cran.rstudio.com/src/contrib/timeDate_4041.110.tar.gz'\n",
              "Content type 'application/x-gzip' length 353292 bytes (345 KB)\n",
              "==================================================\n",
              "downloaded 345 KB\n",
              "\n",
              "trying URL 'https://cran.rstudio.com/src/contrib/e1071_1.7-16.tar.gz'\n",
              "Content type 'application/x-gzip' length 326734 bytes (319 KB)\n",
              "==================================================\n",
              "downloaded 319 KB\n",
              "\n",
              "trying URL 'https://cran.rstudio.com/src/contrib/foreach_1.5.2.tar.gz'\n",
              "Content type 'application/x-gzip' length 89758 bytes (87 KB)\n",
              "==================================================\n",
              "downloaded 87 KB\n",
              "\n",
              "trying URL 'https://cran.rstudio.com/src/contrib/ModelMetrics_1.2.2.2.tar.gz'\n",
              "Content type 'application/x-gzip' length 17078 bytes (16 KB)\n",
              "==================================================\n",
              "downloaded 16 KB\n",
              "\n",
              "trying URL 'https://cran.rstudio.com/src/contrib/plyr_1.8.9.tar.gz'\n",
              "Content type 'application/x-gzip' length 401488 bytes (392 KB)\n",
              "==================================================\n",
              "downloaded 392 KB\n",
              "\n",
              "trying URL 'https://cran.rstudio.com/src/contrib/pROC_1.18.5.tar.gz'\n",
              "Content type 'application/x-gzip' length 696162 bytes (679 KB)\n",
              "==================================================\n",
              "downloaded 679 KB\n",
              "\n",
              "trying URL 'https://cran.rstudio.com/src/contrib/recipes_1.2.1.tar.gz'\n",
              "Content type 'application/x-gzip' length 872346 bytes (851 KB)\n",
              "==================================================\n",
              "downloaded 851 KB\n",
              "\n",
              "trying URL 'https://cran.rstudio.com/src/contrib/reshape2_1.4.4.tar.gz'\n",
              "Content type 'application/x-gzip' length 37307 bytes (36 KB)\n",
              "==================================================\n",
              "downloaded 36 KB\n",
              "\n",
              "trying URL 'https://cran.rstudio.com/src/contrib/caret_7.0-1.tar.gz'\n",
              "Content type 'application/x-gzip' length 2273919 bytes (2.2 MB)\n",
              "==================================================\n",
              "downloaded 2.2 MB\n",
              "\n",
              "\n",
              "The downloaded source packages are in\n",
              "\t‘/tmp/Rtmp3tWpKv/downloaded_packages’\n",
              "Installing package into ‘/usr/local/lib/R/site-library’\n",
              "(as ‘lib’ is unspecified)\n",
              "trying URL 'https://cran.rstudio.com/src/contrib/MASS_7.3-65.tar.gz'\n",
              "Content type 'application/x-gzip' length 510322 bytes (498 KB)\n",
              "==================================================\n",
              "downloaded 498 KB\n",
              "\n",
              "\n",
              "The downloaded source packages are in\n",
              "\t‘/tmp/Rtmp3tWpKv/downloaded_packages’\n",
              "Loading required package: ggplot2\n",
              "Loading required package: lattice\n"
            ]
          },
          "metadata": {}
        }
      ]
    },
    {
      "cell_type": "markdown",
      "source": [
        "Deal with Categorical Variables\n"
      ],
      "metadata": {
        "id": "qZJwcpnsGa27"
      }
    },
    {
      "cell_type": "code",
      "source": [
        "%%R\n",
        "\n",
        "data <- read.csv('clean.csv')\n",
        "\n",
        "# Frequency encode categorical variables\n",
        "rating_counts <- table(data$rating)\n",
        "data$rating_encoded <- as.numeric(rating_counts[data$rating])\n",
        "\n",
        "risk_rating_counts <- table(data$risk_rating)\n",
        "data$risk_rating_encoded <- as.numeric(risk_rating_counts[data$risk_rating])\n",
        "\n",
        "equity_category_counts <- table(data$category)\n",
        "data$equity_category_encoded <- as.numeric(equity_category_counts[data$category])\n",
        "\n",
        "data <- data[, setdiff(names(data), c(\"rating\", \"risk_rating\", \"category\"))]\n",
        "dim(data)"
      ],
      "metadata": {
        "colab": {
          "base_uri": "https://localhost:8080/"
        },
        "id": "oYhxrUR9FN91",
        "outputId": "7061aa9c-15f6-450c-a479-5c5f1ece2ccc"
      },
      "execution_count": null,
      "outputs": [
        {
          "output_type": "stream",
          "name": "stdout",
          "text": [
            "[1] 1248   14\n"
          ]
        }
      ]
    },
    {
      "cell_type": "markdown",
      "source": [
        "Mean and SD for Response Variables"
      ],
      "metadata": {
        "id": "mEC55J6Fuadg"
      }
    },
    {
      "cell_type": "code",
      "source": [
        "%%R\n",
        "\n",
        "mean_roe <- mean(data$roe, na.rm = TRUE)\n",
        "sd_roe <- sd(data$roe, na.rm = TRUE)\n",
        "\n",
        "mean_sustainability <- mean(data$sustainability_score, na.rm = TRUE)\n",
        "sd_sustainability <- sd(data$sustainability_score, na.rm = TRUE)\n",
        "\n",
        "cat(\"Mean ROE:\", mean_roe, \"\\n\")\n",
        "cat(\"SD ROE:\", sd_roe, \"\\n\")\n",
        "cat(\"Mean Sustainability Score:\", mean_sustainability, \"\\n\")\n",
        "cat(\"SD Sustainability Score:\", sd_sustainability, \"\\n\")"
      ],
      "metadata": {
        "colab": {
          "base_uri": "https://localhost:8080/"
        },
        "id": "TUEhNJyluaLc",
        "outputId": "d3341378-1dae-4f5d-f352-1f9b5e967da8"
      },
      "execution_count": null,
      "outputs": [
        {
          "output_type": "stream",
          "name": "stdout",
          "text": [
            "Mean ROE: 15.09017 \n",
            "SD ROE: 7.874945 \n",
            "Mean Sustainability Score: 23.60682 \n",
            "SD Sustainability Score: 3.570292 \n"
          ]
        }
      ]
    },
    {
      "cell_type": "markdown",
      "source": [
        "Checking Matrix Rank"
      ],
      "metadata": {
        "id": "MfdyIJusli7C"
      }
    },
    {
      "cell_type": "code",
      "source": [
        "%%R\n",
        "\n",
        "X <- data[, setdiff(names(data), c(\"roe\", \"sustainability_score\"))]\n",
        "qr(X)$rank == ncol(X)"
      ],
      "metadata": {
        "colab": {
          "base_uri": "https://localhost:8080/"
        },
        "id": "Ba647w5rliYZ",
        "outputId": "9725b702-09dc-4ce8-d49f-90f636d7439d"
      },
      "execution_count": null,
      "outputs": [
        {
          "output_type": "stream",
          "name": "stdout",
          "text": [
            "[1] TRUE\n"
          ]
        }
      ]
    },
    {
      "cell_type": "markdown",
      "source": [
        "Function to evaluate model fit using Normalized RMSE (nRMSE)"
      ],
      "metadata": {
        "id": "3SyWkvbQGfsd"
      }
    },
    {
      "cell_type": "code",
      "source": [
        "%%R\n",
        "\n",
        "calculate_nrmse <- function(model, data) {\n",
        "\n",
        "  response_vars <- c(\"roe\", \"sustainability_score\")\n",
        "  residuals_matrix <- as.matrix(residuals(model))\n",
        "\n",
        "  # na.rm = TRUE handles missing values\n",
        "  rmse_per_response <- apply(residuals_matrix, 2, function(residuals) {\n",
        "    sqrt(mean(residuals^2, na.rm = TRUE))\n",
        "  })\n",
        "\n",
        "  # Calculate standard deviation of each response variable\n",
        "  std_devs <- apply(data[, response_vars, drop = FALSE], 2, function(column) {\n",
        "    sd(column, na.rm = TRUE)\n",
        "  })\n",
        "\n",
        "  # Handle cases where standard deviation is zero (avoid division by zero)\n",
        "  if (any(std_devs == 0)) {\n",
        "    warning(\"One or more response variables have zero standard deviation. Returning NA.\")\n",
        "    return(NA)\n",
        "  }\n",
        "\n",
        "  # Compute Normalised RMSE (nRMSE) by averaging across responses\n",
        "  nrmse <- mean(rmse_per_response / std_devs, na.rm = TRUE)\n",
        "\n",
        "  return(nrmse)\n",
        "}\n",
        "\n",
        "multi_model <- lm(cbind(roe, sustainability_score)~., data = data)\n",
        "print(calculate_nrmse(multi_model, data))"
      ],
      "metadata": {
        "colab": {
          "base_uri": "https://localhost:8080/"
        },
        "id": "YQUYWxuKFQlB",
        "outputId": "5ed3a185-b10e-4d95-86a6-accb654475da"
      },
      "execution_count": null,
      "outputs": [
        {
          "output_type": "stream",
          "name": "stdout",
          "text": [
            "[1] 0.7606132\n"
          ]
        }
      ]
    },
    {
      "cell_type": "markdown",
      "source": [
        "Add Predictors Function"
      ],
      "metadata": {
        "id": "NWSfsuCNGkz1"
      }
    },
    {
      "cell_type": "code",
      "source": [
        "%%R\n",
        "add_predictors <- function(data, response_vars, selected_predictors, remaining_predictors) {\n",
        "\n",
        "  # Stores MANOVA p values for each predictor and its corresponding regression model\n",
        "  manova_p_values <- c()\n",
        "  candidate_models <- list()\n",
        "\n",
        "  for (predictor in remaining_predictors) {\n",
        "    # Multivariate regression formula\n",
        "    formula <- as.formula(\n",
        "      paste0(\"cbind(\", paste(response_vars, collapse = \", \"), \") ~ \",\n",
        "             paste(c(selected_predictors, predictor), collapse = \" + \"))\n",
        "    )\n",
        "\n",
        "    # Fit the multivariate regression model and perform MANOVA using the Wilks' Lambda Test\n",
        "    model <- lm(formula, data = data)\n",
        "    manova_model <- manova(model)\n",
        "    manova_test <- summary(manova_model, test = \"Wilks\")\n",
        "\n",
        "    p_value <- manova_test$stats[1, \"Pr(>F)\"]\n",
        "\n",
        "    manova_p_values <- c(manova_p_values, p_value)\n",
        "    candidate_models[[predictor]] <- list(model = model, p_value = p_value)\n",
        "  }\n",
        "\n",
        "  return(list(manova_p_values = manova_p_values, candidate_models = candidate_models))\n",
        "}"
      ],
      "metadata": {
        "id": "fuWI2alkFWe_"
      },
      "execution_count": null,
      "outputs": []
    },
    {
      "cell_type": "markdown",
      "source": [
        "Remove Predictors Function - similar logic to the above\n"
      ],
      "metadata": {
        "id": "1BA4vEIoGuaY"
      }
    },
    {
      "cell_type": "code",
      "source": [
        "%%R\n",
        "\n",
        "remove_predictors <- function(data, response_vars, selected_predictors) {\n",
        "  manova_p_values <- c()\n",
        "  candidate_models <- list()\n",
        "\n",
        "  for (predictor in selected_predictors) {\n",
        "    remaining_predictors <- setdiff(selected_predictors, predictor)\n",
        "\n",
        "    if (length(remaining_predictors) > 0) {\n",
        "      # Construct the formula for multivariate regression\n",
        "      formula <- as.formula(\n",
        "        paste0(\"cbind(\", paste(response_vars, collapse = \", \"), \") ~ \",\n",
        "               paste(remaining_predictors, collapse = \" + \"))\n",
        "      )\n",
        "\n",
        "      # Fit the multivariate regression model\n",
        "      model <- lm(formula, data = data)\n",
        "\n",
        "      # Perform MANOVA\n",
        "      manova_model <- manova(model)\n",
        "      manova_test <- summary(manova_model, test = \"Wilks\")\n",
        "\n",
        "      # Extract Wilks' Lambda p-value\n",
        "      p_value <- manova_test$stats[1, \"Pr(>F)\"]\n",
        "\n",
        "      # Store results\n",
        "      manova_p_values <- c(manova_p_values, p_value)\n",
        "      candidate_models[[predictor]] <- list(model = model, p_value = p_value)\n",
        "    }\n",
        "  }\n",
        "\n",
        "  return(list(manova_p_values = manova_p_values, candidate_models = candidate_models))\n",
        "}\n"
      ],
      "metadata": {
        "id": "7g_PlKGuFYWr"
      },
      "execution_count": null,
      "outputs": []
    },
    {
      "cell_type": "markdown",
      "source": [
        "Previous Stepwise Multivariate"
      ],
      "metadata": {
        "id": "mHWsLES8p2WW"
      }
    },
    {
      "cell_type": "code",
      "source": [
        "%%R\n",
        "\n",
        "stepwise_multivariate <- function(data, method = \"bidirectional\", k_folds = 5) {\n",
        "  # Define response variables and predictors\n",
        "  response_vars <- c(\"roe\", \"sustainability_score\")\n",
        "  predictors <- setdiff(names(data), response_vars)\n",
        "\n",
        "  # Validate inputs\n",
        "  if (!method %in% c(\"forward\", \"backward\", \"bidirectional\")) {\n",
        "    stop(\"Method must be 'forward', 'backward', or 'bidirectional'\")\n",
        "  }\n",
        "  if (!all(response_vars %in% names(data))) {\n",
        "    stop(\"Response variables not found in data\")\n",
        "  }\n",
        "  if (length(predictors) == 0) {\n",
        "    stop(\"No predictors available in the data\")\n",
        "  }\n",
        "\n",
        "  # Initialize predictor sets based on method\n",
        "  selected_predictors <- if (method == \"forward\") character(0) else predictors\n",
        "  remaining_predictors <- if (method == \"forward\") predictors else character(0)\n",
        "\n",
        "  best_model <- NULL\n",
        "  best_metric <- Inf\n",
        "  no_change_counter <- 0\n",
        "\n",
        "  # Initialize history tracking\n",
        "  stepwise_history <- data.frame(\n",
        "    Step = integer(),\n",
        "    NumPredictors = integer(),\n",
        "    WilksLambda = numeric(),\n",
        "    nRMSE = numeric()\n",
        "  )\n",
        "\n",
        "  repeat {\n",
        "    candidate_models <- list()\n",
        "    manova_p_values <- numeric()\n",
        "    predictors_added <- FALSE\n",
        "    predictors_removed <- FALSE\n",
        "\n",
        "    # Forward step\n",
        "    if (method %in% c(\"forward\", \"bidirectional\") && length(remaining_predictors) > 0) {\n",
        "      forward_results <- add_predictors(data, response_vars, selected_predictors, remaining_predictors)\n",
        "      candidate_models <- forward_results$candidate_models\n",
        "      manova_p_values <- forward_results$manova_p_values\n",
        "\n",
        "      valid_indices <- which(!is.na(manova_p_values) & is.finite(manova_p_values))\n",
        "      if (length(valid_indices) > 0) {\n",
        "        best_index <- valid_indices[which.min(manova_p_values[valid_indices])]\n",
        "        best_predictor <- names(candidate_models)[best_index]\n",
        "        best_candidate_model <- candidate_models[[best_predictor]]$model\n",
        "        best_candidate_metric <- calculate_nrmse(best_candidate_model, data)\n",
        "\n",
        "        if (best_candidate_metric < best_metric) {\n",
        "          best_model <- best_candidate_model\n",
        "          best_metric <- best_candidate_metric\n",
        "          selected_predictors <- c(selected_predictors, best_predictor)\n",
        "          remaining_predictors <- setdiff(remaining_predictors, best_predictor)\n",
        "          predictors_added <- TRUE\n",
        "          message(\"Added Predictor: \", best_predictor)\n",
        "        }\n",
        "      }\n",
        "    }\n",
        "\n",
        "    # Backward step\n",
        "    if (method %in% c(\"backward\", \"bidirectional\") && length(selected_predictors) > 1) {\n",
        "      backward_results <- remove_predictors(data, response_vars, selected_predictors)\n",
        "      candidate_models <- backward_results$candidate_models\n",
        "      manova_p_values <- backward_results$manova_p_values\n",
        "\n",
        "      valid_indices <- which(!is.na(manova_p_values) & is.finite(manova_p_values))\n",
        "      if (length(valid_indices) > 0) {\n",
        "        worst_index <- valid_indices[which.max(manova_p_values[valid_indices])]\n",
        "        worst_predictor <- names(candidate_models)[worst_index]\n",
        "        best_candidate_model <- candidate_models[[worst_predictor]]$model\n",
        "        best_candidate_metric <- calculate_nrmse(best_candidate_model, data)\n",
        "\n",
        "        if (best_candidate_metric < best_metric) {\n",
        "          best_model <- best_candidate_model\n",
        "          best_metric <- best_candidate_metric\n",
        "          selected_predictors <- setdiff(selected_predictors, worst_predictor)\n",
        "          remaining_predictors <- c(remaining_predictors, worst_predictor)\n",
        "          predictors_removed <- TRUE\n",
        "          message(\"Removed Predictor: \", worst_predictor)\n",
        "        }\n",
        "      }\n",
        "    }\n",
        "\n",
        "    # Update stepwise history\n",
        "    stepwise_history <- rbind(stepwise_history, data.frame(\n",
        "      Step = if (nrow(stepwise_history) == 0) 1 else max(stepwise_history$Step) + 1,\n",
        "      NumPredictors = length(selected_predictors),\n",
        "      WilksLambda = if (length(manova_p_values) > 0) min(manova_p_values, na.rm = TRUE) else NA,\n",
        "      nRMSE = best_metric\n",
        "    ))\n",
        "\n",
        "    # Check stopping criteria\n",
        "    if (!predictors_added && !predictors_removed) {\n",
        "      no_change_counter <- no_change_counter + 1\n",
        "      message(\"No significant changes in step \", no_change_counter)\n",
        "    } else {\n",
        "      no_change_counter <- 0\n",
        "    }\n",
        "\n",
        "    if (no_change_counter >= 2) {\n",
        "      message(\"Stopping selection after two consecutive failed modifications.\")\n",
        "      break\n",
        "    }\n",
        "\n",
        "    # Progress update\n",
        "    message(\"Selected Predictors: \", paste(selected_predictors, collapse = \", \"))\n",
        "    message(\"Current nRMSE: \", best_metric)\n",
        "  }\n",
        "\n",
        "  # Return results\n",
        "  list(\n",
        "    model = best_model,\n",
        "    selected_predictors = selected_predictors,\n",
        "    stepwise_history = stepwise_history\n",
        "  )\n",
        "}"
      ],
      "metadata": {
        "id": "LvcG9WXyFb4I"
      },
      "execution_count": null,
      "outputs": []
    },
    {
      "cell_type": "markdown",
      "source": [
        "New Stepwise Multivariate"
      ],
      "metadata": {
        "id": "tuZmOE_-p5i1"
      }
    },
    {
      "cell_type": "code",
      "source": [
        "%%R\n",
        "\n",
        "stepwise_multivariate <- function(data, method = \"bidirectional\", k_folds = 5) {\n",
        "  response_vars <- c(\"roe\", \"sustainability_score\")\n",
        "  predictors <- setdiff(names(data), response_vars)\n",
        "\n",
        "  selected_predictors <- if (method == \"forward\") character(0) else predictors\n",
        "  remaining_predictors <- if (method == \"forward\") predictors else character(0)\n",
        "\n",
        "  best_model <- NULL\n",
        "  best_metric <- Inf\n",
        "  no_change_counter <- 0\n",
        "\n",
        "  # Initialize storage for stepwise process tracking\n",
        "  stepwise_history <- data.frame(Step = integer(), NumPredictors = integer(), WilksLambda = numeric(), nRMSE = numeric())\n",
        "\n",
        "  repeat {\n",
        "    # Collect all candidate models and actions\n",
        "    candidate_models <- list()\n",
        "    manova_p_values <- c()\n",
        "    actions <- c()  # Track whether it's an add or remove\n",
        "    predictors_added <- FALSE\n",
        "    predictors_removed <- FALSE\n",
        "\n",
        "    # Forward Step candidates\n",
        "    if (method %in% c(\"forward\", \"bidirectional\") && length(remaining_predictors) > 0) {\n",
        "      forward_results <- add_predictors(data, response_vars, selected_predictors, remaining_predictors)\n",
        "      candidate_models <- c(candidate_models, forward_results$candidate_models)\n",
        "      manova_p_values <- c(manova_p_values, forward_results$manova_p_values)\n",
        "      actions <- c(actions, paste0(\"add_\", names(forward_results$candidate_models)))\n",
        "    }\n",
        "\n",
        "    # Backward Step candidates\n",
        "    if (method %in% c(\"backward\", \"bidirectional\") && length(selected_predictors) > 1) {\n",
        "      backward_results <- remove_predictors(data, response_vars, selected_predictors)\n",
        "      candidate_models <- c(candidate_models, backward_results$candidate_models)\n",
        "      manova_p_values <- c(manova_p_values, backward_results$manova_p_values)\n",
        "      actions <- c(actions, paste0(\"remove_\", names(backward_results$candidate_models)))\n",
        "    }\n",
        "\n",
        "    # Evaluate all candidates together\n",
        "    valid_indices <- which(!is.na(manova_p_values) & is.finite(manova_p_values))\n",
        "    if (length(valid_indices) > 0) {\n",
        "      best_index <- valid_indices[which.min(manova_p_values[valid_indices])]  # Smallest p-value = biggest MANOVA impact\n",
        "      best_action <- actions[best_index]\n",
        "      best_predictor <- sub(\"^(add|remove)_\", \"\", best_action)\n",
        "      best_candidate_model <- candidate_models[[best_index]]$model\n",
        "      best_candidate_metric <- calculate_nrmse(best_candidate_model, data)\n",
        "\n",
        "      if (best_candidate_metric < best_metric) {\n",
        "        best_model <- best_candidate_model\n",
        "        best_metric <- best_candidate_metric\n",
        "        if (grepl(\"^add_\", best_action)) {\n",
        "          selected_predictors <- c(selected_predictors, best_predictor)\n",
        "          remaining_predictors <- setdiff(remaining_predictors, best_predictor)\n",
        "          predictors_added <- TRUE\n",
        "          message(\"Added Predictor: \", best_predictor)\n",
        "        } else {\n",
        "          selected_predictors <- setdiff(selected_predictors, best_predictor)\n",
        "          remaining_predictors <- c(remaining_predictors, best_predictor)\n",
        "          predictors_removed <- TRUE\n",
        "          message(\"Removed Predictor: \", best_predictor)\n",
        "        }\n",
        "      }\n",
        "    }\n",
        "\n",
        "    # Store stepwise process tracking\n",
        "    stepwise_history <- rbind(stepwise_history, data.frame(\n",
        "      Step = ifelse(nrow(stepwise_history) == 0, 1, max(stepwise_history$Step) + 1),\n",
        "      NumPredictors = length(selected_predictors),\n",
        "      WilksLambda = ifelse(length(manova_p_values) > 0, min(manova_p_values, na.rm = TRUE), NA),\n",
        "      nRMSE = best_metric\n",
        "    ))\n",
        "\n",
        "    # Stopping Criteria\n",
        "    if (!predictors_added && !predictors_removed) {\n",
        "      no_change_counter <- no_change_counter + 1\n",
        "      message(\"No significant changes in step \", no_change_counter)\n",
        "    } else {\n",
        "      no_change_counter <- 0\n",
        "    }\n",
        "\n",
        "    if (no_change_counter >= 2) {\n",
        "      message(\"Stopping selection after two consecutive failed modifications.\")\n",
        "      break\n",
        "    }\n",
        "\n",
        "    message(\"Selected Predictors: \", paste(selected_predictors, collapse = \", \"))\n",
        "    message(\"Current nRMSE: \", best_metric)\n",
        "  }\n",
        "\n",
        "  # Return model and stepwise tracking data\n",
        "  return(list(\n",
        "    model = best_model,\n",
        "    selected_predictors = selected_predictors,\n",
        "    stepwise_history = stepwise_history\n",
        "  ))\n",
        "}"
      ],
      "metadata": {
        "id": "2WsAavfPoucx"
      },
      "execution_count": null,
      "outputs": []
    },
    {
      "cell_type": "code",
      "source": [
        "%%R\n",
        "\n",
        "# Updated calculate_nrmse with k-fold cross-validation\n",
        "calculate_nrmse <- function(model, data, k_folds=5) {\n",
        "  response_vars <- c(\"roe\", \"sustainability_score\")\n",
        "\n",
        "  # Extract predictors from the model\n",
        "  predictor_vars <- all.vars(formula(model))[-c(1:2)]  # Exclude response vars (roe, sustainability_score)\n",
        "\n",
        "  # Shuffle data for random folds\n",
        "  n <- nrow(data)\n",
        "  indices <- sample(1:n)\n",
        "  fold_size <- n %/% k_folds\n",
        "  nrmse_folds <- numeric(k_folds)\n",
        "\n",
        "  for (i in 1:k_folds) {\n",
        "    # Define test and train indices\n",
        "    test_start <- (i - 1) * fold_size + 1\n",
        "    test_end <- if (i == k_folds) n else i * fold_size\n",
        "    test_idx <- indices[test_start:test_end]\n",
        "    train_idx <- setdiff(indices, test_idx)\n",
        "\n",
        "    # Split data\n",
        "    train_data <- data[train_idx, ]\n",
        "    test_data <- data[test_idx, ]\n",
        "\n",
        "    # Refit the model on training data\n",
        "    formula_str <- paste0(\"cbind(\", paste(response_vars, collapse = \", \"), \") ~ \",\n",
        "                         paste(predictor_vars, collapse = \" + \"))\n",
        "    train_model <- lm(as.formula(formula_str), data = train_data)\n",
        "\n",
        "    # Predict on test data and compute residuals\n",
        "    predictions <- predict(train_model, newdata = test_data)\n",
        "    actuals <- as.matrix(test_data[, response_vars])\n",
        "    residuals_matrix <- actuals - predictions\n",
        "\n",
        "    # Compute RMSE per response\n",
        "    rmse_per_response <- apply(residuals_matrix, 2, function(residuals) {\n",
        "      sqrt(mean(residuals^2, na.rm = TRUE))\n",
        "    })\n",
        "\n",
        "    # Calculate standard deviation of each response variable (from full data, consistent with original)\n",
        "    std_devs <- apply(data[, response_vars, drop = FALSE], 2, function(column) {\n",
        "      sd(column, na.rm = TRUE)\n",
        "    })\n",
        "\n",
        "    # Handle zero standard deviation\n",
        "    if (any(std_devs == 0)) {\n",
        "      warning(\"One or more response variables have zero standard deviation in fold \", i, \". Using NA for this fold.\")\n",
        "      nrmse_folds[i] <- NA\n",
        "    } else {\n",
        "      nrmse_folds[i] <- mean(rmse_per_response / std_devs, na.rm = TRUE)\n",
        "    }\n",
        "  }\n",
        "\n",
        "  # Return mean nRMSE across folds\n",
        "  mean(nrmse_folds, na.rm = TRUE)\n",
        "}"
      ],
      "metadata": {
        "id": "PBrE6hSPrEkt"
      },
      "execution_count": null,
      "outputs": []
    },
    {
      "cell_type": "markdown",
      "source": [
        "Cross-Validated Stepwise Multivariate"
      ],
      "metadata": {
        "id": "lRZbDRxlp7l4"
      }
    },
    {
      "cell_type": "code",
      "source": [
        "%%R\n",
        "\n",
        "stepwise_multivariate <- function(data, method = \"bidirectional\", k_folds = 5) {\n",
        "  response_vars <- c(\"roe\", \"sustainability_score\")\n",
        "  predictors <- setdiff(names(data), response_vars)\n",
        "\n",
        "  selected_predictors <- if (method == \"forward\") character(0) else predictors\n",
        "  remaining_predictors <- if (method == \"forward\") predictors else character(0)\n",
        "\n",
        "  best_model <- NULL\n",
        "  best_metric <- Inf\n",
        "  no_change_counter <- 0\n",
        "\n",
        "  # Initialize storage for stepwise process tracking\n",
        "  stepwise_history <- data.frame(Step = integer(), NumPredictors = integer(), WilksLambda = numeric(), nRMSE = numeric())\n",
        "\n",
        "  repeat {\n",
        "    # Collect all candidate models and actions\n",
        "    candidate_models <- list()\n",
        "    manova_p_values <- c()\n",
        "    actions <- c()  # Track whether it's an add or remove\n",
        "    predictors_added <- FALSE\n",
        "    predictors_removed <- FALSE\n",
        "\n",
        "    # Forward Step candidates\n",
        "    if (method %in% c(\"forward\", \"bidirectional\") && length(remaining_predictors) > 0) {\n",
        "      forward_results <- add_predictors(data, response_vars, selected_predictors, remaining_predictors)\n",
        "      candidate_models <- c(candidate_models, forward_results$candidate_models)\n",
        "      manova_p_values <- c(manova_p_values, forward_results$manova_p_values)\n",
        "      actions <- c(actions, paste0(\"add_\", names(forward_results$candidate_models)))\n",
        "    }\n",
        "\n",
        "    # Backward Step candidates\n",
        "    if (method %in% c(\"backward\", \"bidirectional\") && length(selected_predictors) > 1) {\n",
        "      backward_results <- remove_predictors(data, response_vars, selected_predictors)\n",
        "      candidate_models <- c(candidate_models, backward_results$candidate_models)\n",
        "      manova_p_values <- c(manova_p_values, backward_results$manova_p_values)\n",
        "      actions <- c(actions, paste0(\"remove_\", names(backward_results$candidate_models)))\n",
        "    }\n",
        "\n",
        "    # Evaluate all candidates together\n",
        "    valid_indices <- which(!is.na(manova_p_values) & is.finite(manova_p_values))\n",
        "    if (length(valid_indices) > 0) {\n",
        "      best_index <- valid_indices[which.min(manova_p_values[valid_indices])]  # Smallest p-value = biggest MANOVA impact\n",
        "      best_action <- actions[best_index]\n",
        "      best_predictor <- sub(\"^(add|remove)_\", \"\", best_action)\n",
        "      best_candidate_model <- candidate_models[[best_index]]$model\n",
        "      best_candidate_metric <- calculate_nrmse(best_candidate_model, data, k_folds)  # Pass k_folds\n",
        "\n",
        "      if (best_candidate_metric < best_metric) {\n",
        "        best_model <- best_candidate_model\n",
        "        best_metric <- best_candidate_metric\n",
        "        if (grepl(\"^add_\", best_action)) {\n",
        "          selected_predictors <- c(selected_predictors, best_predictor)\n",
        "          remaining_predictors <- setdiff(remaining_predictors, best_predictor)\n",
        "          predictors_added <- TRUE\n",
        "          message(\"Added Predictor: \", best_predictor)\n",
        "        } else {\n",
        "          selected_predictors <- setdiff(selected_predictors, best_predictor)\n",
        "          remaining_predictors <- c(remaining_predictors, best_predictor)\n",
        "          predictors_removed <- TRUE\n",
        "          message(\"Removed Predictor: \", best_predictor)\n",
        "        }\n",
        "      }\n",
        "    }\n",
        "\n",
        "    # Store stepwise process tracking\n",
        "    stepwise_history <- rbind(stepwise_history, data.frame(\n",
        "      Step = ifelse(nrow(stepwise_history) == 0, 1, max(stepwise_history$Step) + 1),\n",
        "      NumPredictors = length(selected_predictors),\n",
        "      WilksLambda = ifelse(length(manova_p_values) > 0, min(manova_p_values, na.rm = TRUE), NA),\n",
        "      nRMSE = best_metric\n",
        "    ))\n",
        "\n",
        "    # Stopping Criteria\n",
        "    if (!predictors_added && !predictors_removed) {\n",
        "      no_change_counter <- no_change_counter + 1\n",
        "      message(\"No significant changes in step \", no_change_counter)\n",
        "    } else {\n",
        "      no_change_counter <- 0\n",
        "    }\n",
        "\n",
        "    if (no_change_counter >= 2) {\n",
        "      message(\"Stopping selection after two consecutive failed modifications.\")\n",
        "      break\n",
        "    }\n",
        "\n",
        "    message(\"Selected Predictors: \", paste(selected_predictors, collapse = \", \"))\n",
        "    message(\"Current nRMSE: \", best_metric)\n",
        "  }\n",
        "\n",
        "  # Return model and stepwise tracking data\n",
        "  return(list(\n",
        "    model = best_model,\n",
        "    selected_predictors = selected_predictors,\n",
        "    stepwise_history = stepwise_history\n",
        "  ))\n",
        "}"
      ],
      "metadata": {
        "id": "KoWHdWU5p92_"
      },
      "execution_count": null,
      "outputs": []
    },
    {
      "cell_type": "markdown",
      "source": [
        "## Preliminary Results"
      ],
      "metadata": {
        "id": "0kwWNiCmJF9A"
      }
    },
    {
      "cell_type": "code",
      "source": [
        "%%R\n",
        "\n",
        "multi_model <- lm(cbind(roe, sustainability_score)~., data = data)\n",
        "print(calculate_nrmse(multi_model, data))"
      ],
      "metadata": {
        "colab": {
          "base_uri": "https://localhost:8080/"
        },
        "id": "InuWNPW-JHYJ",
        "outputId": "810bc4be-a7ac-4d7e-d123-cc3c79179f85"
      },
      "execution_count": null,
      "outputs": [
        {
          "output_type": "stream",
          "name": "stdout",
          "text": [
            "[1] 0.7719498\n"
          ]
        }
      ]
    },
    {
      "cell_type": "code",
      "source": [
        "%%R\n",
        "\n",
        "backward_result <- stepwise_multivariate(data, method = \"backward\")\n",
        "nrmse_values <- calculate_nrmse(backward_result$model, data)"
      ],
      "metadata": {
        "colab": {
          "base_uri": "https://localhost:8080/",
          "height": 339
        },
        "id": "HezJIApTJEx0",
        "outputId": "f57095b2-a3e9-4ad7-97f5-bded9d2830c8"
      },
      "execution_count": null,
      "outputs": [
        {
          "output_type": "display_data",
          "data": {
            "text/plain": [
              "Removed Predictor: equity_size_score\n",
              "Selected Predictors: price_cash_flow_ratio, dividend_yield_factor, historical_earnings_growth, sales_growth, asset_cash, holdings_n_stock, ongoing_cost, fund_size, rating_encoded, risk_rating_encoded, equity_category_encoded\n",
              "Current nRMSE: 0.787214334762151\n",
              "No significant changes in step 1\n",
              "Selected Predictors: price_cash_flow_ratio, dividend_yield_factor, historical_earnings_growth, sales_growth, asset_cash, holdings_n_stock, ongoing_cost, fund_size, rating_encoded, risk_rating_encoded, equity_category_encoded\n",
              "Current nRMSE: 0.787214334762151\n",
              "Removed Predictor: asset_cash\n",
              "Selected Predictors: price_cash_flow_ratio, dividend_yield_factor, historical_earnings_growth, sales_growth, holdings_n_stock, ongoing_cost, fund_size, rating_encoded, risk_rating_encoded, equity_category_encoded\n",
              "Current nRMSE: 0.784924564922118\n",
              "No significant changes in step 1\n",
              "Selected Predictors: price_cash_flow_ratio, dividend_yield_factor, historical_earnings_growth, sales_growth, holdings_n_stock, ongoing_cost, fund_size, rating_encoded, risk_rating_encoded, equity_category_encoded\n",
              "Current nRMSE: 0.784924564922118\n",
              "No significant changes in step 2\n",
              "Stopping selection after two consecutive failed modifications.\n"
            ]
          },
          "metadata": {}
        }
      ]
    },
    {
      "cell_type": "code",
      "source": [
        "%%R\n",
        "\n",
        "forward_result <- stepwise_multivariate(data, method = \"forward\")\n",
        "nrmse_values <- calculate_nrmse(forward_result$model, data)"
      ],
      "metadata": {
        "colab": {
          "base_uri": "https://localhost:8080/",
          "height": 482
        },
        "id": "hpHfcnCTJDgd",
        "outputId": "4c1a5814-1219-435a-cb93-cb025f78e867"
      },
      "execution_count": null,
      "outputs": [
        {
          "output_type": "display_data",
          "data": {
            "text/plain": [
              "Added Predictor: equity_category_encoded\n",
              "Selected Predictors: equity_category_encoded\n",
              "Current nRMSE: 0.907553488246398\n",
              "Added Predictor: price_cash_flow_ratio\n",
              "Selected Predictors: equity_category_encoded, price_cash_flow_ratio\n",
              "Current nRMSE: 0.863395017496657\n",
              "Added Predictor: equity_size_score\n",
              "Selected Predictors: equity_category_encoded, price_cash_flow_ratio, equity_size_score\n",
              "Current nRMSE: 0.853863477734408\n",
              "Added Predictor: rating_encoded\n",
              "Selected Predictors: equity_category_encoded, price_cash_flow_ratio, equity_size_score, rating_encoded\n",
              "Current nRMSE: 0.848136053000085\n",
              "Added Predictor: sales_growth\n",
              "Selected Predictors: equity_category_encoded, price_cash_flow_ratio, equity_size_score, rating_encoded, sales_growth\n",
              "Current nRMSE: 0.812352067408239\n",
              "Added Predictor: dividend_yield_factor\n",
              "Selected Predictors: equity_category_encoded, price_cash_flow_ratio, equity_size_score, rating_encoded, sales_growth, dividend_yield_factor\n",
              "Current nRMSE: 0.804332199608071\n",
              "Added Predictor: ongoing_cost\n",
              "Selected Predictors: equity_category_encoded, price_cash_flow_ratio, equity_size_score, rating_encoded, sales_growth, dividend_yield_factor, ongoing_cost\n",
              "Current nRMSE: 0.798729273174997\n",
              "No significant changes in step 1\n",
              "Selected Predictors: equity_category_encoded, price_cash_flow_ratio, equity_size_score, rating_encoded, sales_growth, dividend_yield_factor, ongoing_cost\n",
              "Current nRMSE: 0.798729273174997\n",
              "No significant changes in step 2\n",
              "Stopping selection after two consecutive failed modifications.\n"
            ]
          },
          "metadata": {}
        }
      ]
    },
    {
      "cell_type": "code",
      "source": [
        "%%R\n",
        "\n",
        "bidirectional_result <- stepwise_multivariate(data, method = \"bidirectional\")\n",
        "nrmse_values <- calculate_nrmse(bidirectional_result$model, data)"
      ],
      "metadata": {
        "colab": {
          "base_uri": "https://localhost:8080/",
          "height": 267
        },
        "id": "muaSPTAmo6ee",
        "outputId": "d3a9da8c-bb88-49c5-e401-4875b3278898"
      },
      "execution_count": null,
      "outputs": [
        {
          "output_type": "display_data",
          "data": {
            "text/plain": [
              "Removed Predictor: equity_size_score\n",
              "Selected Predictors: price_cash_flow_ratio, dividend_yield_factor, historical_earnings_growth, sales_growth, asset_cash, holdings_n_stock, ongoing_cost, fund_size, rating_encoded, risk_rating_encoded, equity_category_encoded\n",
              "Current nRMSE: 0.792888502578361\n",
              "Added Predictor: equity_size_score\n",
              "Selected Predictors: price_cash_flow_ratio, dividend_yield_factor, historical_earnings_growth, sales_growth, asset_cash, holdings_n_stock, ongoing_cost, fund_size, rating_encoded, risk_rating_encoded, equity_category_encoded, equity_size_score\n",
              "Current nRMSE: 0.768488179331076\n",
              "No significant changes in step 1\n",
              "Selected Predictors: price_cash_flow_ratio, dividend_yield_factor, historical_earnings_growth, sales_growth, asset_cash, holdings_n_stock, ongoing_cost, fund_size, rating_encoded, risk_rating_encoded, equity_category_encoded, equity_size_score\n",
              "Current nRMSE: 0.768488179331076\n",
              "No significant changes in step 2\n",
              "Stopping selection after two consecutive failed modifications.\n"
            ]
          },
          "metadata": {}
        }
      ]
    },
    {
      "cell_type": "code",
      "source": [
        "%%R\n",
        "\n",
        "# Load ggplot2\n",
        "library(ggplot2)\n",
        "\n",
        "# Assume 'result' is the output from stepwise_multivariate\n",
        "result <- stepwise_multivariate(data, method = \"forward\", k_folds = 5)\n",
        "\n",
        "# Extract stepwise history\n",
        "stepwise_history <- result$stepwise_history\n",
        "\n",
        "# Plot nRMSE over steps\n",
        "ggplot(stepwise_history, aes(x = Step, y = nRMSE)) +\n",
        "  geom_line(color = \"blue\", size = 1) +  # Line showing progression\n",
        "  geom_point(color = \"red\", size = 3) +  # Highlighting each step\n",
        "  theme_minimal() +\n",
        "  labs(title = \"Stepwise Selection: nRMSE vs. Steps\",\n",
        "       x = \"Step Number\",\n",
        "       y = \"Normalized RMSE (nRMSE)\") +\n",
        "  theme(plot.title = element_text(hjust = 0.5))"
      ],
      "metadata": {
        "colab": {
          "base_uri": "https://localhost:8080/",
          "height": 1000
        },
        "id": "hKAow8N_TyOZ",
        "outputId": "ebf81a98-7d90-4845-ff63-86895e729c99"
      },
      "execution_count": null,
      "outputs": [
        {
          "output_type": "display_data",
          "data": {
            "text/plain": [
              "Added Predictor: equity_category_encoded\n",
              "Selected Predictors: equity_category_encoded\n",
              "Current nRMSE: 0.909250857709025\n",
              "Added Predictor: price_cash_flow_ratio\n",
              "Selected Predictors: equity_category_encoded, price_cash_flow_ratio\n",
              "Current nRMSE: 0.864497746350222\n",
              "Added Predictor: equity_size_score\n",
              "Selected Predictors: equity_category_encoded, price_cash_flow_ratio, equity_size_score\n",
              "Current nRMSE: 0.849931597961575\n",
              "Added Predictor: rating_encoded\n",
              "Selected Predictors: equity_category_encoded, price_cash_flow_ratio, equity_size_score, rating_encoded\n",
              "Current nRMSE: 0.844450980557375\n",
              "Added Predictor: sales_growth\n",
              "Selected Predictors: equity_category_encoded, price_cash_flow_ratio, equity_size_score, rating_encoded, sales_growth\n",
              "Current nRMSE: 0.808117406860128\n",
              "Added Predictor: dividend_yield_factor\n",
              "Selected Predictors: equity_category_encoded, price_cash_flow_ratio, equity_size_score, rating_encoded, sales_growth, dividend_yield_factor\n",
              "Current nRMSE: 0.800174614080561\n",
              "Added Predictor: ongoing_cost\n",
              "Selected Predictors: equity_category_encoded, price_cash_flow_ratio, equity_size_score, rating_encoded, sales_growth, dividend_yield_factor, ongoing_cost\n",
              "Current nRMSE: 0.794568535696272\n",
              "Added Predictor: fund_size\n",
              "Selected Predictors: equity_category_encoded, price_cash_flow_ratio, equity_size_score, rating_encoded, sales_growth, dividend_yield_factor, ongoing_cost, fund_size\n",
              "Current nRMSE: 0.793053834249552\n",
              "Added Predictor: holdings_n_stock\n",
              "Selected Predictors: equity_category_encoded, price_cash_flow_ratio, equity_size_score, rating_encoded, sales_growth, dividend_yield_factor, ongoing_cost, fund_size, holdings_n_stock\n",
              "Current nRMSE: 0.778546614063831\n",
              "Added Predictor: historical_earnings_growth\n",
              "Selected Predictors: equity_category_encoded, price_cash_flow_ratio, equity_size_score, rating_encoded, sales_growth, dividend_yield_factor, ongoing_cost, fund_size, holdings_n_stock, historical_earnings_growth\n",
              "Current nRMSE: 0.761136096912228\n",
              "Added Predictor: asset_cash\n",
              "Selected Predictors: equity_category_encoded, price_cash_flow_ratio, equity_size_score, rating_encoded, sales_growth, dividend_yield_factor, ongoing_cost, fund_size, holdings_n_stock, historical_earnings_growth, asset_cash\n",
              "Current nRMSE: 0.760869335746631\n",
              "Added Predictor: risk_rating_encoded\n",
              "Selected Predictors: equity_category_encoded, price_cash_flow_ratio, equity_size_score, rating_encoded, sales_growth, dividend_yield_factor, ongoing_cost, fund_size, holdings_n_stock, historical_earnings_growth, asset_cash, risk_rating_encoded\n",
              "Current nRMSE: 0.760613207981728\n",
              "No significant changes in step 1\n",
              "Selected Predictors: equity_category_encoded, price_cash_flow_ratio, equity_size_score, rating_encoded, sales_growth, dividend_yield_factor, ongoing_cost, fund_size, holdings_n_stock, historical_earnings_growth, asset_cash, risk_rating_encoded\n",
              "Current nRMSE: 0.760613207981728\n",
              "No significant changes in step 2\n",
              "Stopping selection after two consecutive failed modifications.\n",
              "In addition: Warning message:\n",
              "Using `size` aesthetic for lines was deprecated in ggplot2 3.4.0.\n",
              "ℹ Please use `linewidth` instead.\n",
              "This warning is displayed once every 8 hours.\n",
              "Call `lifecycle::last_lifecycle_warnings()` to see where this warning was\n",
              "generated. \n"
            ]
          },
          "metadata": {}
        },
        {
          "output_type": "display_data",
          "data": {
            "image/png": "[encoded data removed]",
            "text/plain": [
              "<IPython.core.display.Image object>"
            ]
          },
          "metadata": {}
        }
      ]
    },
    {
      "cell_type": "code",
      "source": [
        "%%R\n",
        "\n",
        "ggplot(stepwise_history, aes(x = Step, y = nRMSE)) +\n",
        "  geom_point(color = \"black\", size = 3) +  # Highlighting each step\n",
        "  geom_smooth(method = \"loess\", color = \"purple\", size = 1.2, se = FALSE) +  # Smooth curve\n",
        "  theme_minimal() +\n",
        "  labs(title = \"Forward Stepwise Selection with an ANRMSE Curve\",\n",
        "       x = \"Step Number\",\n",
        "       y = \"Average Normalised Root Mean Square Error (ANRMSE)\") +\n",
        "  theme(plot.title = element_text(hjust = 0.5))\n"
      ],
      "metadata": {
        "colab": {
          "base_uri": "https://localhost:8080/",
          "height": 515
        },
        "id": "SCYSmiqyU5bL",
        "outputId": "21490da4-41c5-4558-d509-124c3bb3656f"
      },
      "execution_count": null,
      "outputs": [
        {
          "output_type": "stream",
          "name": "stdout",
          "text": [
            "`geom_smooth()` using formula = 'y ~ x'\n"
          ]
        },
        {
          "output_type": "display_data",
          "data": {
            "image/png": "[encoded data removed]",
            "text/plain": [
              "<IPython.core.display.Image object>"
            ]
          },
          "metadata": {}
        }
      ]
    },
    {
      "cell_type": "code",
      "source": [
        "%%R\n",
        "\n",
        "print(forward_result$stepwise_history)"
      ],
      "metadata": {
        "colab": {
          "base_uri": "https://localhost:8080/"
        },
        "id": "jT5cO9SOrWE-",
        "outputId": "d417026f-604b-4919-e96c-7d429801aff7"
      },
      "execution_count": null,
      "outputs": [
        {
          "output_type": "stream",
          "name": "stdout",
          "text": [
            "   Step NumPredictors   WilksLambda     nRMSE\n",
            "1     1             1  9.488794e-86 0.9092509\n",
            "2     2             2 3.253668e-100 0.8644977\n",
            "3     3             3 9.104184e-105 0.8499316\n",
            "4     4             4 3.151409e-106 0.8444510\n",
            "5     5             5 8.056533e-108 0.8081174\n",
            "6     6             6 4.618381e-109 0.8001746\n",
            "7     7             7 9.342444e-110 0.7945685\n",
            "8     8             8 2.875871e-110 0.7930538\n",
            "9     9             9 1.174305e-110 0.7785466\n",
            "10   10            10 8.675821e-111 0.7611361\n",
            "11   11            11 8.303051e-111 0.7608693\n",
            "12   12            12 9.225964e-111 0.7606132\n",
            "13   13            12            NA 0.7606132\n",
            "14   14            12            NA 0.7606132\n"
          ]
        }
      ]
    },
    {
      "cell_type": "code",
      "source": [
        "%%R\n",
        "\n",
        "library(ggplot2)\n",
        "\n",
        "# Stepwise Selection Process Plot\n",
        "ggplot(forward_result$stepwise_history, aes(x = Step, y = NumPredictors)) +\n",
        "  geom_line(color = \"blue\", size = 1) +\n",
        "  geom_point(color = \"blue\", size = 2) +\n",
        "  labs(title = \"Stepwise Selection Process\", x = \"Step\", y = \"Number of Predictors\")\n"
      ],
      "metadata": {
        "colab": {
          "base_uri": "https://localhost:8080/",
          "height": 497
        },
        "id": "_BYOMdGwsKvy",
        "outputId": "b71b5710-4358-4366-d61a-8497ba5cc76f"
      },
      "execution_count": null,
      "outputs": [
        {
          "output_type": "display_data",
          "data": {
            "image/png": "[encoded data removed]",
            "text/plain": [
              "<IPython.core.display.Image object>"
            ]
          },
          "metadata": {}
        }
      ]
    },
    {
      "cell_type": "code",
      "source": [
        "%%R\n",
        "\n",
        "# Wilks' Lambda vs. Step Plot\n",
        "ggplot(forward_result$stepwise_history, aes(x = Step, y = WilksLambda)) +\n",
        "  geom_line(color = \"red\", size = 1) +\n",
        "  geom_point(color = \"red\", size = 2) +\n",
        "  labs(title = \"Wilks' Lambda vs. Step\", x = \"Step\", y = \"Wilks' Lambda\")"
      ],
      "metadata": {
        "colab": {
          "base_uri": "https://localhost:8080/",
          "height": 658
        },
        "id": "9eNYteIcsNen",
        "outputId": "0f35ae88-7fc7-468d-fd16-0e3d341d5dfa"
      },
      "execution_count": null,
      "outputs": [
        {
          "output_type": "stream",
          "name": "stderr",
          "text": [
            "WARNING:rpy2.rinterface_lib.callbacks:R[write to console]: In addition: \n",
            "WARNING:rpy2.rinterface_lib.callbacks:R[write to console]: Warning messages:\n",
            "\n",
            "WARNING:rpy2.rinterface_lib.callbacks:R[write to console]: 1: Removed 2 rows containing missing values or values outside the scale range\n",
            "(`geom_line()`). \n",
            "\n",
            "WARNING:rpy2.rinterface_lib.callbacks:R[write to console]: 2: Removed 2 rows containing missing values or values outside the scale range\n",
            "(`geom_point()`). \n",
            "\n"
          ]
        },
        {
          "output_type": "display_data",
          "data": {
            "image/png": "[encoded data removed]",
            "text/plain": [
              "<IPython.core.display.Image object>"
            ]
          },
          "metadata": {}
        }
      ]
    },
    {
      "cell_type": "code",
      "source": [
        "%%R\n",
        "library(ggplot2)\n",
        "\n",
        "# Convert Wilks' Lambda to log scale\n",
        "forward_result$stepwise_history$LogWilksLambda <- log10(forward_result$stepwise_history$WilksLambda)\n",
        "\n",
        "# Plot with log-transformed Wilks' Lambda\n",
        "ggplot(forward_result$stepwise_history, aes(x = Step, y = LogWilksLambda)) +\n",
        "  geom_line(color = \"purple\", size = 1) +\n",
        "  geom_point(color = \"black\", size = 2) +\n",
        "  labs(x = \"Step\", y = \"Log (Base 10) of Wilks' Lambda)\") +\n",
        "  theme_minimal()\n"
      ],
      "metadata": {
        "colab": {
          "base_uri": "https://localhost:8080/",
          "height": 658
        },
        "id": "v1SpfrAks6Qm",
        "outputId": "dded80d8-7a6c-499a-e139-8beb22b8b57c"
      },
      "execution_count": null,
      "outputs": [
        {
          "output_type": "stream",
          "name": "stderr",
          "text": [
            "WARNING:rpy2.rinterface_lib.callbacks:R[write to console]: In addition: \n",
            "WARNING:rpy2.rinterface_lib.callbacks:R[write to console]: Warning messages:\n",
            "\n",
            "WARNING:rpy2.rinterface_lib.callbacks:R[write to console]: 1: Removed 2 rows containing missing values or values outside the scale range\n",
            "(`geom_line()`). \n",
            "\n",
            "WARNING:rpy2.rinterface_lib.callbacks:R[write to console]: 2: Removed 2 rows containing missing values or values outside the scale range\n",
            "(`geom_point()`). \n",
            "\n"
          ]
        },
        {
          "output_type": "display_data",
          "data": {
            "image/png": "[encoded data removed]",
            "text/plain": [
              "<IPython.core.display.Image object>"
            ]
          },
          "metadata": {}
        }
      ]
    },
    {
      "cell_type": "code",
      "source": [
        "%%R\n",
        "\n",
        "bidirectional_result <- stepwise_multivariate(data, method = \"bidirectional\")\n",
        "nrmse_values <- calculate_nrmse(forward_result$model, data)"
      ],
      "metadata": {
        "colab": {
          "base_uri": "https://localhost:8080/",
          "height": 267
        },
        "id": "rsqSZC1cJBnL",
        "outputId": "88c4d99e-9cb5-4e0c-9882-e562bcbd2628"
      },
      "execution_count": null,
      "outputs": [
        {
          "output_type": "display_data",
          "data": {
            "text/plain": [
              "Removed Predictor: equity_size_score\n",
              "Selected Predictors: price_cash_flow_ratio, dividend_yield_factor, historical_earnings_growth, sales_growth, asset_cash, holdings_n_stock, ongoing_cost, fund_size, rating_encoded, risk_rating_encoded, equity_category_encoded\n",
              "Current nRMSE: 0.77610466431023\n",
              "Added Predictor: equity_size_score\n",
              "Selected Predictors: price_cash_flow_ratio, dividend_yield_factor, historical_earnings_growth, sales_growth, asset_cash, holdings_n_stock, ongoing_cost, fund_size, rating_encoded, risk_rating_encoded, equity_category_encoded, equity_size_score\n",
              "Current nRMSE: 0.760613207981728\n",
              "No significant changes in step 1\n",
              "Selected Predictors: price_cash_flow_ratio, dividend_yield_factor, historical_earnings_growth, sales_growth, asset_cash, holdings_n_stock, ongoing_cost, fund_size, rating_encoded, risk_rating_encoded, equity_category_encoded, equity_size_score\n",
              "Current nRMSE: 0.760613207981728\n",
              "No significant changes in step 2\n",
              "Stopping selection after two consecutive failed modifications.\n"
            ]
          },
          "metadata": {}
        }
      ]
    },
    {
      "cell_type": "markdown",
      "source": [
        "## Extra Results"
      ],
      "metadata": {
        "id": "Fj39Oq3pKDKe"
      }
    },
    {
      "cell_type": "markdown",
      "source": [
        "Including Interaction Terms"
      ],
      "metadata": {
        "id": "M6oDN82sLqkI"
      }
    },
    {
      "cell_type": "code",
      "source": [
        "%%R\n",
        "\n",
        "generate_interaction_terms <- function(data, predictors) {\n",
        "  for (i in 1:(length(predictors) - 1)) {\n",
        "    for (j in (i + 1):length(predictors)) {\n",
        "      interaction_name <- paste0(predictors[i], \"_x_\", predictors[j])\n",
        "      data[[interaction_name]] <- data[[predictors[i]]] * data[[predictors[j]]]\n",
        "    }\n",
        "  }\n",
        "  return(data)\n",
        "}\n",
        "\n",
        "# Add interaction terms to the dataset\n",
        "predictors <- setdiff(names(data), c(\"roe\", \"sustainability_score\"))\n",
        "data_interaction <- generate_interaction_terms(data, predictors)\n",
        "\n",
        "bidirectional_result <- stepwise_multivariate(data_interaction, method = \"bidirectional\")\n",
        "nrmse_values <- calculate_nrmse(bidirectional_result$model, data_interaction)\n",
        "\n",
        "print(nrmse_values)"
      ],
      "metadata": {
        "colab": {
          "base_uri": "https://localhost:8080/",
          "height": 751
        },
        "id": "1skrdQo_Lifs",
        "outputId": "26d1c2f6-8b6b-467c-f084-625dc3b3f509"
      },
      "execution_count": null,
      "outputs": [
        {
          "output_type": "stream",
          "name": "stdout",
          "text": [
            "[1] 0.5620216\n"
          ]
        },
        {
          "output_type": "display_data",
          "data": {
            "text/plain": [
              "Removed Predictor: equity_size_score\n",
              "Selected Predictors: price_cash_flow_ratio, dividend_yield_factor, historical_earnings_growth, sales_growth, asset_cash, holdings_n_stock, ongoing_cost, fund_size, rating_encoded, risk_rating_encoded, equity_category_encoded, equity_size_score_x_price_cash_flow_ratio, equity_size_score_x_dividend_yield_factor, equity_size_score_x_historical_earnings_growth, equity_size_score_x_sales_growth, equity_size_score_x_asset_cash, equity_size_score_x_holdings_n_stock, equity_size_score_x_ongoing_cost, equity_size_score_x_fund_size, equity_size_score_x_rating_encoded, equity_size_score_x_risk_rating_encoded, equity_size_score_x_equity_category_encoded, price_cash_flow_ratio_x_dividend_yield_factor, price_cash_flow_ratio_x_historical_earnings_growth, price_cash_flow_ratio_x_sales_growth, price_cash_flow_ratio_x_asset_cash, price_cash_flow_ratio_x_holdings_n_stock, price_cash_flow_ratio_x_ongoing_cost, price_cash_flow_ratio_x_fund_size, price_cash_flow_ratio_x_rating_encoded, price_cash_flow_ratio_x_risk_rating_encoded, price_cash_flow_ratio_x_equity_category_encoded, dividend_yield_factor_x_historical_earnings_growth, dividend_yield_factor_x_sales_growth, dividend_yield_factor_x_asset_cash, dividend_yield_factor_x_holdings_n_stock, dividend_yield_factor_x_ongoing_cost, dividend_yield_factor_x_fund_size, dividend_yield_factor_x_rating_encoded, dividend_yield_factor_x_risk_rating_encoded, dividend_yield_factor_x_equity_category_encoded, historical_earnings_growth_x_sales_growth, historical_earnings_growth_x_asset_cash, historical_earnings_growth_x_holdings_n_stock, historical_earnings_growth_x_ongoing_cost, historical_earnings_growth_x_fund_size, historical_earnings_growth_x_rating_encoded, historical_earnings_growth_x_risk_rating_encoded, historical_earnings_growth_x_equity_category_encoded, sales_growth_x_asset_cash, sales_growth_x_holdings_n_stock, sales_growth_x_ongoing_cost, sales_growth_x_fund_size, sales_growth_x_rating_encoded, sales_growth_x_risk_rating_encoded, sales_growth_x_equity_category_encoded, asset_cash_x_holdings_n_stock, asset_cash_x_ongoing_cost, asset_cash_x_fund_size, asset_cash_x_rating_encoded, asset_cash_x_risk_rating_encoded, asset_cash_x_equity_category_encoded, holdings_n_stock_x_ongoing_cost, holdings_n_stock_x_fund_size, holdings_n_stock_x_rating_encoded, holdings_n_stock_x_risk_rating_encoded, holdings_n_stock_x_equity_category_encoded, ongoing_cost_x_fund_size, ongoing_cost_x_rating_encoded, ongoing_cost_x_risk_rating_encoded, ongoing_cost_x_equity_category_encoded, fund_size_x_rating_encoded, fund_size_x_risk_rating_encoded, fund_size_x_equity_category_encoded, rating_encoded_x_risk_rating_encoded, rating_encoded_x_equity_category_encoded, risk_rating_encoded_x_equity_category_encoded\n",
              "Current nRMSE: 0.562021580445976\n",
              "No significant changes in step 1\n",
              "Selected Predictors: price_cash_flow_ratio, dividend_yield_factor, historical_earnings_growth, sales_growth, asset_cash, holdings_n_stock, ongoing_cost, fund_size, rating_encoded, risk_rating_encoded, equity_category_encoded, equity_size_score_x_price_cash_flow_ratio, equity_size_score_x_dividend_yield_factor, equity_size_score_x_historical_earnings_growth, equity_size_score_x_sales_growth, equity_size_score_x_asset_cash, equity_size_score_x_holdings_n_stock, equity_size_score_x_ongoing_cost, equity_size_score_x_fund_size, equity_size_score_x_rating_encoded, equity_size_score_x_risk_rating_encoded, equity_size_score_x_equity_category_encoded, price_cash_flow_ratio_x_dividend_yield_factor, price_cash_flow_ratio_x_historical_earnings_growth, price_cash_flow_ratio_x_sales_growth, price_cash_flow_ratio_x_asset_cash, price_cash_flow_ratio_x_holdings_n_stock, price_cash_flow_ratio_x_ongoing_cost, price_cash_flow_ratio_x_fund_size, price_cash_flow_ratio_x_rating_encoded, price_cash_flow_ratio_x_risk_rating_encoded, price_cash_flow_ratio_x_equity_category_encoded, dividend_yield_factor_x_historical_earnings_growth, dividend_yield_factor_x_sales_growth, dividend_yield_factor_x_asset_cash, dividend_yield_factor_x_holdings_n_stock, dividend_yield_factor_x_ongoing_cost, dividend_yield_factor_x_fund_size, dividend_yield_factor_x_rating_encoded, dividend_yield_factor_x_risk_rating_encoded, dividend_yield_factor_x_equity_category_encoded, historical_earnings_growth_x_sales_growth, historical_earnings_growth_x_asset_cash, historical_earnings_growth_x_holdings_n_stock, historical_earnings_growth_x_ongoing_cost, historical_earnings_growth_x_fund_size, historical_earnings_growth_x_rating_encoded, historical_earnings_growth_x_risk_rating_encoded, historical_earnings_growth_x_equity_category_encoded, sales_growth_x_asset_cash, sales_growth_x_holdings_n_stock, sales_growth_x_ongoing_cost, sales_growth_x_fund_size, sales_growth_x_rating_encoded, sales_growth_x_risk_rating_encoded, sales_growth_x_equity_category_encoded, asset_cash_x_holdings_n_stock, asset_cash_x_ongoing_cost, asset_cash_x_fund_size, asset_cash_x_rating_encoded, asset_cash_x_risk_rating_encoded, asset_cash_x_equity_category_encoded, holdings_n_stock_x_ongoing_cost, holdings_n_stock_x_fund_size, holdings_n_stock_x_rating_encoded, holdings_n_stock_x_risk_rating_encoded, holdings_n_stock_x_equity_category_encoded, ongoing_cost_x_fund_size, ongoing_cost_x_rating_encoded, ongoing_cost_x_risk_rating_encoded, ongoing_cost_x_equity_category_encoded, fund_size_x_rating_encoded, fund_size_x_risk_rating_encoded, fund_size_x_equity_category_encoded, rating_encoded_x_risk_rating_encoded, rating_encoded_x_equity_category_encoded, risk_rating_encoded_x_equity_category_encoded\n",
              "Current nRMSE: 0.562021580445976\n",
              "No significant changes in step 2\n",
              "Stopping selection after two consecutive failed modifications.\n"
            ]
          },
          "metadata": {}
        }
      ]
    },
    {
      "cell_type": "markdown",
      "source": [
        "Including Non-Linear Terms"
      ],
      "metadata": {
        "id": "3LndBNKFL1GT"
      }
    },
    {
      "cell_type": "code",
      "source": [
        "%%R\n",
        "\n",
        "generate_polynomial_terms <- function(data, predictors, degree = 2) {\n",
        "  for (predictor in predictors) {\n",
        "    for (d in 2:degree) {\n",
        "      term_name <- paste0(predictor, \"_degree_\", d)\n",
        "      data[[term_name]] <- data[[predictor]]^d\n",
        "    }\n",
        "  }\n",
        "  return(data)\n",
        "}\n",
        "\n",
        "# Add the Polynomial Terms to the dataset\n",
        "predictors <- setdiff(names(data), c(\"roe\", \"sustainability_score\"))\n",
        "data_nonlinear <- generate_polynomial_terms(data, predictors, degree = 2)\n",
        "\n",
        "# Perform Stepwise Selection\n",
        "result <- stepwise_multivariate(data_nonlinear, method = \"bidirectional\")\n",
        "nrmse_values <- calculate_nrmse(result$model, data_nonlinear)\n",
        "print(nrmse_values)"
      ],
      "metadata": {
        "colab": {
          "base_uri": "https://localhost:8080/",
          "height": 393
        },
        "id": "IeCGvygVKEu9",
        "outputId": "16b94676-8cd3-446b-c3a0-01c7c959edee"
      },
      "execution_count": null,
      "outputs": [
        {
          "output_type": "stream",
          "name": "stdout",
          "text": [
            "[1] 0.6893188\n"
          ]
        },
        {
          "output_type": "display_data",
          "data": {
            "text/plain": [
              "Removed Predictor: equity_size_score\n",
              "Selected Predictors: price_cash_flow_ratio, dividend_yield_factor, historical_earnings_growth, sales_growth, asset_cash, holdings_n_stock, ongoing_cost, fund_size, rating_encoded, risk_rating_encoded, equity_category_encoded, equity_size_score_degree_2, price_cash_flow_ratio_degree_2, dividend_yield_factor_degree_2, historical_earnings_growth_degree_2, sales_growth_degree_2, asset_cash_degree_2, holdings_n_stock_degree_2, ongoing_cost_degree_2, fund_size_degree_2, rating_encoded_degree_2, risk_rating_encoded_degree_2, equity_category_encoded_degree_2\n",
              "Current nRMSE: 0.692207060350216\n",
              "Added Predictor: equity_size_score\n",
              "Selected Predictors: price_cash_flow_ratio, dividend_yield_factor, historical_earnings_growth, sales_growth, asset_cash, holdings_n_stock, ongoing_cost, fund_size, rating_encoded, risk_rating_encoded, equity_category_encoded, equity_size_score_degree_2, price_cash_flow_ratio_degree_2, dividend_yield_factor_degree_2, historical_earnings_growth_degree_2, sales_growth_degree_2, asset_cash_degree_2, holdings_n_stock_degree_2, ongoing_cost_degree_2, fund_size_degree_2, rating_encoded_degree_2, risk_rating_encoded_degree_2, equity_category_encoded_degree_2, equity_size_score\n",
              "Current nRMSE: 0.689318830470946\n",
              "No significant changes in step 1\n",
              "Selected Predictors: price_cash_flow_ratio, dividend_yield_factor, historical_earnings_growth, sales_growth, asset_cash, holdings_n_stock, ongoing_cost, fund_size, rating_encoded, risk_rating_encoded, equity_category_encoded, equity_size_score_degree_2, price_cash_flow_ratio_degree_2, dividend_yield_factor_degree_2, historical_earnings_growth_degree_2, sales_growth_degree_2, asset_cash_degree_2, holdings_n_stock_degree_2, ongoing_cost_degree_2, fund_size_degree_2, rating_encoded_degree_2, risk_rating_encoded_degree_2, equity_category_encoded_degree_2, equity_size_score\n",
              "Current nRMSE: 0.689318830470946\n",
              "No significant changes in step 2\n",
              "Stopping selection after two consecutive failed modifications.\n"
            ]
          },
          "metadata": {}
        }
      ]
    },
    {
      "cell_type": "markdown",
      "source": [
        "Extra Plots\n"
      ],
      "metadata": {
        "id": "tqSzRvtwif4v"
      }
    }
  ]
}