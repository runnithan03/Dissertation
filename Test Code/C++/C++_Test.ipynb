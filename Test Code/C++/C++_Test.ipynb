{
  "nbformat": 4,
  "nbformat_minor": 0,
  "metadata": {
    "colab": {
      "provenance": [],
      "authorship_tag": "ABX9TyOXXbSHeLQnLEbD6wu5XWqm",
      "include_colab_link": true
    },
    "kernelspec": {
      "name": "python3",
      "display_name": "Python 3"
    },
    "language_info": {
      "name": "python"
    }
  },
  "cells": [
    {
      "cell_type": "markdown",
      "metadata": {
        "id": "view-in-github",
        "colab_type": "text"
      },
      "source": [
        "<a href=\"https://colab.research.google.com/github/runnithan03/Dissertation/blob/main/Test%20Code/C%2B%2B/C%2B%2B_Test.ipynb\" target=\"_parent\"><img src=\"https://colab.research.google.com/assets/colab-badge.svg\" alt=\"Open In Colab\"/></a>"
      ]
    },
    {
      "cell_type": "code",
      "execution_count": 4,
      "metadata": {
        "colab": {
          "base_uri": "https://localhost:8080/"
        },
        "collapsed": true,
        "id": "ts0wGXjnzymx",
        "outputId": "69c5b9c4-40be-4871-8de4-518f96b01f2a"
      },
      "outputs": [
        {
          "output_type": "stream",
          "name": "stdout",
          "text": [
            "Overwriting test.cpp\n"
          ]
        }
      ],
      "source": [
        "# Step 1: Write the C++ code to a file\n",
        "%%writefile test.cpp\n",
        "#include <iostream>\n",
        "using namespace std;\n",
        "\n",
        "// Function to calculate the sum of two numbers\n",
        "int sum(int a, int b) {\n",
        "    return a + b;\n",
        "}\n",
        "\n",
        "int main() {\n",
        "    int num1, num2;\n",
        "\n",
        "    // Taking user input\n",
        "    cout << \"Enter the first number: \";\n",
        "    cin >> num1;\n",
        "\n",
        "    cout << \"Enter the second number: \";\n",
        "    cin >> num2;\n",
        "\n",
        "    // Calculating the sum\n",
        "    int result = sum(num1, num2);\n",
        "\n",
        "    // Output the result\n",
        "    cout << \"The sum of \" << num1 << \" and \" << num2 << \" is \" << result << endl;\n",
        "\n",
        "    return 0;\n",
        "}"
      ]
    },
    {
      "cell_type": "code",
      "source": [
        "# Step 2: Compile the C++ code\n",
        "!g++ test.cpp -o test"
      ],
      "metadata": {
        "id": "yvW3z3Yv1CWO"
      },
      "execution_count": 5,
      "outputs": []
    },
    {
      "cell_type": "code",
      "source": [
        "# Step 3: Run the compiled program\n",
        "!./test"
      ],
      "metadata": {
        "colab": {
          "base_uri": "https://localhost:8080/"
        },
        "id": "DB1WhI3z1EPu",
        "outputId": "0d6c7bd2-74fd-4413-c6a1-e231c29a0733"
      },
      "execution_count": 6,
      "outputs": [
        {
          "output_type": "stream",
          "name": "stdout",
          "text": [
            "Enter the first number: 5\n",
            "Enter the second number: 3\n",
            "The sum of 5 and 3 is 8\n"
          ]
        }
      ]
    }
  ]
}