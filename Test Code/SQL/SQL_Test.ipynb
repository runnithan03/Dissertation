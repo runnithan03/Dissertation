{
  "nbformat": 4,
  "nbformat_minor": 0,
  "metadata": {
    "colab": {
      "provenance": [],
      "authorship_tag": "ABX9TyPjaaNxlL77fhOX9HpK5Lst",
      "include_colab_link": true
    },
    "kernelspec": {
      "name": "python3",
      "display_name": "Python 3"
    },
    "language_info": {
      "name": "python"
    }
  },
  "cells": [
    {
      "cell_type": "markdown",
      "metadata": {
        "id": "view-in-github",
        "colab_type": "text"
      },
      "source": [
        "<a href=\"https://colab.research.google.com/github/runnithan03/Dissertation/blob/main/Test%20Code/SQL/SQL_Test.ipynb\" target=\"_parent\"><img src=\"https://colab.research.google.com/assets/colab-badge.svg\" alt=\"Open In Colab\"/></a>"
      ]
    },
    {
      "cell_type": "code",
      "execution_count": 1,
      "metadata": {
        "colab": {
          "base_uri": "https://localhost:8080/"
        },
        "id": "NSv9f4HY3Xi3",
        "outputId": "3e4d548d-368e-4bec-acef-2fc88ca17386"
      },
      "outputs": [
        {
          "output_type": "stream",
          "name": "stdout",
          "text": [
            "(1, 'Alice', 90.5)\n",
            "(2, 'Bob', 85.0)\n"
          ]
        }
      ],
      "source": [
        "# Step 1: Import the SQLite3 library\n",
        "import sqlite3\n",
        "\n",
        "# Step 2: Create a connection to the in-memory SQLite database\n",
        "conn = sqlite3.connect(':memory:')\n",
        "cursor = conn.cursor()\n",
        "\n",
        "# Step 3: Create a sample table\n",
        "cursor.execute('''\n",
        "CREATE TABLE students (\n",
        "    id INTEGER PRIMARY KEY,\n",
        "    name TEXT,\n",
        "    grade REAL\n",
        ")\n",
        "''')\n",
        "\n",
        "# Step 4: Insert some data into the table\n",
        "cursor.execute('INSERT INTO students (name, grade) VALUES (\"Alice\", 90.5)')\n",
        "cursor.execute('INSERT INTO students (name, grade) VALUES (\"Bob\", 85.0)')\n",
        "conn.commit()\n",
        "\n",
        "# Step 5: Query the data\n",
        "cursor.execute('SELECT * FROM students')\n",
        "rows = cursor.fetchall()\n",
        "\n",
        "# Step 6: Print the result\n",
        "for row in rows:\n",
        "    print(row)\n",
        "\n",
        "# Step 7: Close the connection\n",
        "conn.close()\n"
      ]
    }
  ]
}