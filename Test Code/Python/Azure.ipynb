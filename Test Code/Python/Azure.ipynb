{
  "nbformat": 4,
  "nbformat_minor": 0,
  "metadata": {
    "colab": {
      "provenance": [],
      "authorship_tag": "ABX9TyNtExXU2kuaFH1F+JByTqNn",
      "include_colab_link": true
    },
    "kernelspec": {
      "name": "python3",
      "display_name": "Python 3"
    },
    "language_info": {
      "name": "python"
    }
  },
  "cells": [
    {
      "cell_type": "markdown",
      "metadata": {
        "id": "view-in-github",
        "colab_type": "text"
      },
      "source": [
        "<a href=\"https://colab.research.google.com/github/runnithan03/Dissertation/blob/main/Azure.ipynb\" target=\"_parent\"><img src=\"https://colab.research.google.com/assets/colab-badge.svg\" alt=\"Open In Colab\"/></a>"
      ]
    },
    {
      "cell_type": "code",
      "execution_count": 3,
      "metadata": {
        "colab": {
          "base_uri": "https://localhost:8080/"
        },
        "id": "TwlTZr4SUdcM",
        "outputId": "e63f790c-a272-4ed7-8662-0f96aea24b74"
      },
      "outputs": [
        {
          "output_type": "stream",
          "name": "stdout",
          "text": [
            "Simulating upload of 'mock_path_to_file.txt' to Azure Blob Storage: Container 'mock_container', Blob 'mock_blob.txt'.\n",
            "Simulating training on Azure with data 'mock_data' and parameters '{'learning_rate': 0.01, 'epochs': 5}'.\n",
            "Simulating prediction on Azure with data 'mock_prediction_data'.\n",
            "Mocked Predictions: ['mock_prediction_1', 'mock_prediction_2']\n"
          ]
        }
      ],
      "source": [
        "from unittest.mock import patch\n",
        "\n",
        "# Mock function for uploading to Azure Blob Storage\n",
        "def upload_to_blob_storage(blob_connection_string, container_name, blob_name, file_path):\n",
        "    print(f\"Simulating upload of '{file_path}' to Azure Blob Storage: Container '{container_name}', Blob '{blob_name}'.\")\n",
        "\n",
        "# Mock function for training a model using Azure Machine Learning\n",
        "def train_model_on_azure(data, model_params):\n",
        "    print(f\"Simulating training on Azure with data '{data}' and parameters '{model_params}'.\")\n",
        "\n",
        "# Mock function for retrieving predictions (simulating Azure ML model inference)\n",
        "def get_model_predictions(data):\n",
        "    print(f\"Simulating prediction on Azure with data '{data}'.\")\n",
        "    return [\"mock_prediction_1\", \"mock_prediction_2\"]\n",
        "\n",
        "# Apply patches using decorators\n",
        "@patch('__main__.upload_to_blob_storage', side_effect=upload_to_blob_storage)\n",
        "@patch('__main__.train_model_on_azure', side_effect=train_model_on_azure)\n",
        "@patch('__main__.get_model_predictions', side_effect=get_model_predictions)\n",
        "def main(mock_upload, mock_train, mock_predict):\n",
        "    # Simulate Azure Blob Storage upload\n",
        "    blob_connection_string = \"mock_connection_string\"\n",
        "    container_name = \"mock_container\"\n",
        "    blob_name = \"mock_blob.txt\"\n",
        "    file_path = \"mock_path_to_file.txt\"\n",
        "\n",
        "    # Call the mock upload function\n",
        "    upload_to_blob_storage(blob_connection_string, container_name, blob_name, file_path)\n",
        "\n",
        "    # Simulate Azure Machine Learning model training\n",
        "    data = \"mock_data\"\n",
        "    model_params = {\"learning_rate\": 0.01, \"epochs\": 5}\n",
        "\n",
        "    # Call the mock training function\n",
        "    train_model_on_azure(data, model_params)\n",
        "\n",
        "    # Simulate Azure Machine Learning model inference\n",
        "    prediction_data = \"mock_prediction_data\"\n",
        "\n",
        "    # Call the mock prediction function\n",
        "    predictions = get_model_predictions(prediction_data)\n",
        "    print(f\"Mocked Predictions: {predictions}\")\n",
        "\n",
        "if __name__ == \"__main__\":\n",
        "    main()\n"
      ]
    }
  ]
}
