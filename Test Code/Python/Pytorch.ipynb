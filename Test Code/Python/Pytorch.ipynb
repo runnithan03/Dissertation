{
  "nbformat": 4,
  "nbformat_minor": 0,
  "metadata": {
    "colab": {
      "provenance": [],
      "authorship_tag": "ABX9TyMjVirjC1ljuc4hI+T5BCe8",
      "include_colab_link": true
    },
    "kernelspec": {
      "name": "python3",
      "display_name": "Python 3"
    },
    "language_info": {
      "name": "python"
    }
  },
  "cells": [
    {
      "cell_type": "markdown",
      "metadata": {
        "id": "view-in-github",
        "colab_type": "text"
      },
      "source": [
        "<a href=\"https://colab.research.google.com/github/runnithan03/Dissertation/blob/main/Pytorch.ipynb\" target=\"_parent\"><img src=\"https://colab.research.google.com/assets/colab-badge.svg\" alt=\"Open In Colab\"/></a>"
      ]
    },
    {
      "cell_type": "markdown",
      "source": [
        "Pytorch + Plot"
      ],
      "metadata": {
        "id": "vhVU-yheA-lK"
      }
    },
    {
      "cell_type": "code",
      "source": [
        "from fastai.callback.core import Callback\n",
        "\n",
        "# Custom callback to convert target tensor to float\n",
        "class ConvertTargetToFloat(Callback):\n",
        "    def before_batch(self):\n",
        "        self.learn.yb = (self.learn.yb[0].float(),)\n",
        "\n",
        "# Sample dataset setup using `fastai`\n",
        "path = untar_data(URLs.ADULT_SAMPLE)\n",
        "dls = TabularDataLoaders.from_csv(\n",
        "    path/'adult.csv',\n",
        "    y_names=\"salary\",\n",
        "    cat_names=['workclass', 'education'],\n",
        "    cont_names=['age', 'fnlwgt'],\n",
        "    procs=[Categorify, FillMissing, Normalize],\n",
        "    batch_size=64  # Adjust batch size as needed\n",
        ")\n",
        "\n",
        "# Extracting categorical sizes for the embedding layers\n",
        "cat_sizes = [len(dls.train_ds.classes[c]) for c in dls.cat_names]\n",
        "n_cont_features = len(dls.cont_names)\n",
        "\n",
        "# Instantiate the model and move to device (CPU/GPU)\n",
        "model = GLMWithEmbeddings(n_cont_features, cat_sizes).to(device)\n",
        "\n",
        "# Define optimizer and loss function\n",
        "optimizer = optim.Adam(model.parameters(), lr=0.001, weight_decay=1e-5)  # L2 regularization\n",
        "loss_func = nn.BCEWithLogitsLoss()  # For binary classification\n",
        "\n",
        "# Training using PyTorch with flexible unpacking of xb\n",
        "epochs = 5  # Set a few epochs for quick demonstration\n",
        "\n",
        "for epoch in range(epochs):\n",
        "    model.train()\n",
        "    running_loss = 0.0\n",
        "    for batch in dls.train:\n",
        "        # Unpack the relevant elements from the batch\n",
        "        x_cat, x_cont, yb = batch[0].to(device), batch[1].to(device), batch[2].to(device)\n",
        "\n",
        "        # Convert target to float and flatten\n",
        "        yb = yb.float().view(-1)  # Flatten target to [batch_size]\n",
        "\n",
        "        # Zero the parameter gradients\n",
        "        optimizer.zero_grad()\n",
        "\n",
        "        # Forward pass\n",
        "        outputs = model(x_cat, x_cont)  # Keep the output shape as [batch_size, 1]\n",
        "        outputs = outputs.view(-1)  # Flatten output to [batch_size] for compatibility with yb\n",
        "\n",
        "        # Compute loss\n",
        "        loss = loss_func(outputs, yb)\n",
        "\n",
        "        # Backward pass and optimization\n",
        "        loss.backward()\n",
        "        optimizer.step()\n",
        "\n",
        "        running_loss += loss.item()\n",
        "\n",
        "    print(f\"Epoch {epoch + 1}, Loss: {running_loss / len(dls.train)}\")\n",
        "\n",
        "print(\"Training complete.\")\n",
        "\n",
        "# Fit the model using fastai's one-cycle policy with the custom callback\n",
        "learn = Learner(dls, model, loss_func=loss_func, metrics=accuracy, cbs=ConvertTargetToFloat())\n",
        "learn.fit_one_cycle(5, 1e-2)\n",
        "\n",
        "# Evaluate the model and plot predictions vs. true values\n",
        "preds, targs = learn.get_preds()\n",
        "preds = torch.sigmoid(preds)  # Apply sigmoid to get probabilities for binary classification\n",
        "\n",
        "# Convert target values to float\n",
        "targs = targs.float()\n",
        "\n",
        "# Plotting the predictions vs. true values\n",
        "plt.scatter(targs, preds)\n",
        "plt.xlabel('True Values')\n",
        "plt.ylabel('Predicted Probabilities')\n",
        "plt.title('Model Predictions vs. True Values')\n",
        "plt.show()"
      ],
      "metadata": {
        "colab": {
          "base_uri": "https://localhost:8080/",
          "height": 765
        },
        "id": "eQjYm7ZJBA9d",
        "outputId": "8569877f-5e27-4a17-a00b-3401af18a5d2"
      },
      "execution_count": 38,
      "outputs": [
        {
          "output_type": "stream",
          "name": "stdout",
          "text": [
            "Epoch 1, Loss: 0.5691846613509063\n",
            "Epoch 2, Loss: 0.4777439154629625\n",
            "Epoch 3, Loss: 0.4511604699367973\n",
            "Epoch 4, Loss: 0.43751878498227353\n",
            "Epoch 5, Loss: 0.43484505747401453\n",
            "Training complete.\n"
          ]
        },
        {
          "output_type": "display_data",
          "data": {
            "text/plain": [
              "<IPython.core.display.HTML object>"
            ],
            "text/html": [
              "\n",
              "<style>\n",
              "    /* Turns off some styling */\n",
              "    progress {\n",
              "        /* gets rid of default border in Firefox and Opera. */\n",
              "        border: none;\n",
              "        /* Needs to be in here for Safari polyfill so background images work as expected. */\n",
              "        background-size: auto;\n",
              "    }\n",
              "    progress:not([value]), progress:not([value])::-webkit-progress-bar {\n",
              "        background: repeating-linear-gradient(45deg, #7e7e7e, #7e7e7e 10px, #5c5c5c 10px, #5c5c5c 20px);\n",
              "    }\n",
              "    .progress-bar-interrupted, .progress-bar-interrupted::-webkit-progress-bar {\n",
              "        background: #F44336;\n",
              "    }\n",
              "</style>\n"
            ]
          },
          "metadata": {}
        },
        {
          "output_type": "display_data",
          "data": {
            "text/plain": [
              "<IPython.core.display.HTML object>"
            ],
            "text/html": [
              "<table border=\"1\" class=\"dataframe\">\n",
              "  <thead>\n",
              "    <tr style=\"text-align: left;\">\n",
              "      <th>epoch</th>\n",
              "      <th>train_loss</th>\n",
              "      <th>valid_loss</th>\n",
              "      <th>accuracy</th>\n",
              "      <th>time</th>\n",
              "    </tr>\n",
              "  </thead>\n",
              "  <tbody>\n",
              "    <tr>\n",
              "      <td>0</td>\n",
              "      <td>0.443773</td>\n",
              "      <td>0.430028</td>\n",
              "      <td>0.760442</td>\n",
              "      <td>00:05</td>\n",
              "    </tr>\n",
              "    <tr>\n",
              "      <td>1</td>\n",
              "      <td>0.430061</td>\n",
              "      <td>0.430449</td>\n",
              "      <td>0.760442</td>\n",
              "      <td>00:04</td>\n",
              "    </tr>\n",
              "    <tr>\n",
              "      <td>2</td>\n",
              "      <td>0.439267</td>\n",
              "      <td>0.429950</td>\n",
              "      <td>0.760442</td>\n",
              "      <td>00:04</td>\n",
              "    </tr>\n",
              "    <tr>\n",
              "      <td>3</td>\n",
              "      <td>0.430191</td>\n",
              "      <td>0.427858</td>\n",
              "      <td>0.760442</td>\n",
              "      <td>00:04</td>\n",
              "    </tr>\n",
              "    <tr>\n",
              "      <td>4</td>\n",
              "      <td>0.431139</td>\n",
              "      <td>0.426776</td>\n",
              "      <td>0.760442</td>\n",
              "      <td>00:04</td>\n",
              "    </tr>\n",
              "  </tbody>\n",
              "</table>"
            ]
          },
          "metadata": {}
        },
        {
          "output_type": "display_data",
          "data": {
            "text/plain": [
              "<IPython.core.display.HTML object>"
            ],
            "text/html": [
              "\n",
              "<style>\n",
              "    /* Turns off some styling */\n",
              "    progress {\n",
              "        /* gets rid of default border in Firefox and Opera. */\n",
              "        border: none;\n",
              "        /* Needs to be in here for Safari polyfill so background images work as expected. */\n",
              "        background-size: auto;\n",
              "    }\n",
              "    progress:not([value]), progress:not([value])::-webkit-progress-bar {\n",
              "        background: repeating-linear-gradient(45deg, #7e7e7e, #7e7e7e 10px, #5c5c5c 10px, #5c5c5c 20px);\n",
              "    }\n",
              "    .progress-bar-interrupted, .progress-bar-interrupted::-webkit-progress-bar {\n",
              "        background: #F44336;\n",
              "    }\n",
              "</style>\n"
            ]
          },
          "metadata": {}
        },
        {
          "output_type": "display_data",
          "data": {
            "text/plain": [
              "<IPython.core.display.HTML object>"
            ],
            "text/html": []
          },
          "metadata": {}
        },
        {
          "output_type": "display_data",
          "data": {
            "text/plain": [
              "<Figure size 640x480 with 1 Axes>"
            ],
            "image/png": "[encoded data removed]"
          },
          "metadata": {}
        }
      ]
    }
  ]
}
