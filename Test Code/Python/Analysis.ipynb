{
  "nbformat": 4,
  "nbformat_minor": 0,
  "metadata": {
    "colab": {
      "provenance": [],
      "authorship_tag": "ABX9TyN5QgRhbXNs4xHW+rEU1nqm",
      "include_colab_link": true
    },
    "kernelspec": {
      "name": "python3",
      "display_name": "Python 3"
    },
    "language_info": {
      "name": "python"
    }
  },
  "cells": [
    {
      "cell_type": "markdown",
      "metadata": {
        "id": "view-in-github",
        "colab_type": "text"
      },
      "source": [
        "<a href=\"https://colab.research.google.com/github/runnithan03/Dissertation/blob/main/Analysis.ipynb\" target=\"_parent\"><img src=\"https://colab.research.google.com/assets/colab-badge.svg\" alt=\"Open In Colab\"/></a>"
      ]
    },
    {
      "cell_type": "code",
      "source": [
        "#complete pipeline to predict rugby match outcomes and point margins using historical data and machine learning techniques."
      ],
      "metadata": {
        "id": "wxABAjmaovop"
      },
      "execution_count": null,
      "outputs": []
    },
    {
      "cell_type": "markdown",
      "source": [
        "Data Collection\n"
      ],
      "metadata": {
        "id": "XZWJYFsmlSuL"
      }
    },
    {
      "cell_type": "code",
      "source": [
        "import pandas as pd\n",
        "\n",
        "# Load dataset (replace with the actual dataset path)\n",
        "df = pd.read_csv('rugby_dataset.csv')\n",
        "\n",
        "# Display first few rows to understand the data structure\n",
        "print(df.head())"
      ],
      "metadata": {
        "id": "mZYOAVzppJfC"
      },
      "execution_count": null,
      "outputs": []
    },
    {
      "cell_type": "markdown",
      "source": [
        "Data Preprocessing and Coding Section"
      ],
      "metadata": {
        "id": "AdGhCM14lbYt"
      }
    },
    {
      "cell_type": "markdown",
      "source": [
        "Feature Engineering and Data Splitting"
      ],
      "metadata": {
        "id": "4X2deXWylfA8"
      }
    },
    {
      "cell_type": "code",
      "source": [
        "# Consider games from 1996 onwards so the rankings have had time to calibrate\n",
        "data = df.copy()\n",
        "data = data[data['date'] > '1996-01-01']\n",
        "\n",
        "# Encode the 'neutral' and 'world_cup' columns as binary indicator variables\n",
        "data['neutral'] = data['neutral'].astype(int)\n",
        "data['world_cup'] = data['world_cup'].astype(int)\n",
        "\n",
        "# Split into train and test datasets, using 01/01/2017 as the cut-off point\n",
        "train_data = data[data['date'] < '2017-01-01']\n",
        "test_data = data[data['date'] >= '2017-01-01']\n",
        "\n",
        "# Define features and target variables for training and testing\n",
        "X_train = train_data[['neutral', 'world_cup', 'ranking_points_home', 'ranking_points_away', 'home_form', 'away_form']]\n",
        "y_train = train_data['margin']\n",
        "X_test = test_data[['neutral', 'world_cup', 'ranking_points_home', 'ranking_points_away', 'home_form', 'away_form']]\n",
        "y_test = test_data['margin']\n"
      ],
      "metadata": {
        "id": "KobDNdJplhGD"
      },
      "execution_count": null,
      "outputs": []
    },
    {
      "cell_type": "markdown",
      "source": [
        "Data Scaling"
      ],
      "metadata": {
        "id": "6dyRAvIQlliT"
      }
    },
    {
      "cell_type": "code",
      "source": [
        "from sklearn.preprocessing import StandardScaler\n",
        "\n",
        "# Initialize the StandardScaler\n",
        "scaler = StandardScaler()\n",
        "\n",
        "# Fit the scaler on the training data and transform both training and test data\n",
        "X_train_scaled = scaler.fit_transform(X_train)\n",
        "X_test_scaled = scaler.transform(X_test)\n"
      ],
      "metadata": {
        "id": "AC8x2U20lmt8"
      },
      "execution_count": null,
      "outputs": []
    },
    {
      "cell_type": "markdown",
      "source": [
        "Model Building and Evaluation"
      ],
      "metadata": {
        "id": "fdRgO3GPloOw"
      }
    },
    {
      "cell_type": "code",
      "source": [
        "from sklearn.linear_model import LinearRegression\n",
        "from sklearn.ensemble import RandomForestRegressor\n",
        "from sklearn.svm import SVR\n",
        "from sklearn.metrics import mean_squared_error, r2_score\n",
        "\n",
        "# Initialize models\n",
        "models = {\n",
        "    'Linear Regression': LinearRegression(),\n",
        "    'Random Forest Regressor': RandomForestRegressor(),\n",
        "    'Support Vector Regressor': SVR()\n",
        "}\n",
        "\n",
        "# Iterate over models to train, predict, and evaluate\n",
        "for model_name, model in models.items():\n",
        "    # Fit the model to the training data\n",
        "    model.fit(X_train_scaled, y_train)\n",
        "\n",
        "    # Predict on the test data\n",
        "    y_pred = model.predict(X_test_scaled)\n",
        "\n",
        "    # Calculate evaluation metrics\n",
        "    mse = mean_squared_error(y_test, y_pred)\n",
        "    r2 = r2_score(y_test, y_pred)\n",
        "\n",
        "    # Print results\n",
        "    print(f\"Model: {model_name}\")\n",
        "    print(f\"Mean Squared Error (MSE): {mse:.2f}\")\n",
        "    print(f\"R-squared (R2): {r2:.2f}\")\n",
        "    print(\"=\"*50)\n"
      ],
      "metadata": {
        "id": "Q7yqeHl2lq9L"
      },
      "execution_count": null,
      "outputs": []
    },
    {
      "cell_type": "markdown",
      "source": [
        "Predicting Match Winner using Classification Models"
      ],
      "metadata": {
        "id": "TzSZIaIMlxSS"
      }
    },
    {
      "cell_type": "code",
      "source": [
        "from sklearn.ensemble import RandomForestClassifier\n",
        "from sklearn.metrics import accuracy_score, classification_report\n",
        "\n",
        "# Redefine the target variables for classification (match result)\n",
        "y_train_class = train_data['result']\n",
        "y_test_class = test_data['result']\n",
        "\n",
        "# Initialize and fit the RandomForestClassifier\n",
        "clf = RandomForestClassifier(random_state=42)\n",
        "clf.fit(X_train_scaled, y_train_class)\n",
        "\n",
        "# Predict on the test data\n",
        "y_pred_class = clf.predict(X_test_scaled)\n",
        "\n",
        "# Evaluate the model\n",
        "accuracy = accuracy_score(y_test_class, y_pred_class)\n",
        "classification_rep = classification_report(y_test_class, y_pred_class)\n",
        "\n",
        "# Print results\n",
        "print('Random Forest Results')\n",
        "print(f\"Accuracy: {accuracy:.2f}\")\n",
        "print(\"Classification Report:\")\n",
        "print(classification_rep)\n",
        "print(\"=\"*50)\n"
      ],
      "metadata": {
        "id": "8zljc_a_lyuU"
      },
      "execution_count": null,
      "outputs": []
    },
    {
      "cell_type": "markdown",
      "source": [
        "Logistic Regression Classifier"
      ],
      "metadata": {
        "id": "YM_NLv8PoZlN"
      }
    },
    {
      "cell_type": "code",
      "source": [
        "from sklearn.linear_model import LogisticRegression\n",
        "\n",
        "# Initialize and fit the Logistic Regression classifier\n",
        "logreg = LogisticRegression(random_state=42)\n",
        "logreg.fit(X_train_scaled, y_train_class)\n",
        "\n",
        "# Predict on the test data\n",
        "y_pred_logreg = logreg.predict(X_test_scaled)\n",
        "\n",
        "# Evaluate the Logistic Regression model\n",
        "accuracy_logreg = accuracy_score(y_test_class, y_pred_logreg)\n",
        "classification_rep_logreg = classification_report(y_test_class, y_pred_logreg)\n",
        "\n",
        "# Print results for Logistic Regression\n",
        "print(\"Logistic Regression Results:\")\n",
        "print(f\"Accuracy: {accuracy_logreg:.2f}\")\n",
        "print(\"Classification Report:\")\n",
        "print(classification_rep_logreg)\n",
        "print(\"=\"*50)\n"
      ],
      "metadata": {
        "id": "65-0eYydobNb"
      },
      "execution_count": null,
      "outputs": []
    },
    {
      "cell_type": "markdown",
      "source": [
        "Decision Tree Classifier"
      ],
      "metadata": {
        "id": "iMCTI0zPofQG"
      }
    },
    {
      "cell_type": "code",
      "source": [
        "from sklearn.tree import DecisionTreeClassifier\n",
        "\n",
        "# Initialize and fit a Decision Tree classifier\n",
        "decision_tree = DecisionTreeClassifier(random_state=42)\n",
        "decision_tree.fit(X_train_scaled, y_train_class)\n",
        "\n",
        "# Predict on the test data\n",
        "y_pred_decision_tree = decision_tree.predict(X_test_scaled)\n",
        "\n",
        "# Evaluate the Decision Tree model\n",
        "accuracy_decision_tree = accuracy_score(y_test_class, y_pred_decision_tree)\n",
        "classification_rep_decision_tree = classification_report(y_test_class, y_pred_decision_tree)\n",
        "\n",
        "# Print results for Decision Tree\n",
        "print(\"Decision Tree Results:\")\n",
        "print(f\"Accuracy: {accuracy_decision_tree:.2f}\")\n",
        "print(\"Classification Report:\")\n",
        "print(classification_rep_decision_tree)\n",
        "print(\"=\"*50)\n"
      ],
      "metadata": {
        "id": "eVtp6iymogxx"
      },
      "execution_count": null,
      "outputs": []
    },
    {
      "cell_type": "markdown",
      "source": [
        "Predicting Matches"
      ],
      "metadata": {
        "id": "kOUt1YAMohlY"
      }
    },
    {
      "cell_type": "code",
      "source": [
        "# Train on all data pre-RWC 2023 and test on the RWC games\n",
        "X_train_wc = data[['neutral', 'world_cup', 'ranking_points_home', 'ranking_points_away', 'home_form', 'away_form']]\n",
        "y_train_wc = data['result']\n",
        "X_test_wc = wc_games[['neutral', 'world_cup', 'ranking_points_home', 'ranking_points_away', 'home_form', 'away_form']]\n",
        "y_test_wc = wc_games['result']\n",
        "\n",
        "# Scale the data\n",
        "X_train_wc_scaled = scaler.fit_transform(X_train_wc)\n",
        "X_test_wc_scaled = scaler.transform(X_test_wc)\n",
        "\n",
        "# Initialize and fit a Logistic Regression classifier\n",
        "logreg_wc = LogisticRegression(random_state=42)\n",
        "logreg_wc.fit(X_train_wc_scaled, y_train_wc)\n",
        "\n",
        "# Predict on the World Cup test data\n",
        "y_pred_wc = logreg_wc.predict(X_test_wc_scaled)\n",
        "\n",
        "# Evaluate the Logistic Regression model on World Cup games\n",
        "accuracy_wc = accuracy_score(y_test_wc, y_pred_wc)\n",
        "classification_rep_wc = classification_report(y_test_wc, y_pred_wc)\n",
        "\n",
        "# Print results for World Cup prediction\n",
        "print(\"Logistic Regression Results on World Cup Games:\")\n",
        "print(f\"Accuracy: {accuracy_wc:.2f}\")\n",
        "print(\"Classification Report:\")\n",
        "print(classification_rep_wc)\n",
        "print(\"=\"*50)\n"
      ],
      "metadata": {
        "id": "TVQHwTv-oqT1"
      },
      "execution_count": null,
      "outputs": []
    }
  ]
}
